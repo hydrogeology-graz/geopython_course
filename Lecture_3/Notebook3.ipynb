{
 "cells": [
  {
   "cell_type": "markdown",
   "metadata": {},
   "source": [
    "<img src=\"https://static.uni-graz.at/fileadmin/nawi-institute/Erdwissenschaften/NawiGrazGeozentrum_Small.png\" align=\"right\" width=200>\n",
    "\n",
    "# Notebook 3: For-loops and conditional statements\n",
    "\n",
    "*Developed by Raoul Collenteur, Institute of Earth Sciences, NAWI Graz Geocenter, University of Graz.*\n",
    "\n",
    "This lecture will cover for-loops and conditional statements. For-loops are the code constructs to automate repetitive tasks and conditional statements enable different outcomes of code, depending on the input. \n",
    "\n",
    "\n",
    "**Some tips/reminders for working in a notebook:**\n",
    "\n",
    "- shift-enter to run a code-block\n",
    "- shift-tab to get quick information on a function\n",
    "- tab after a dot (`.`) to find methods\n",
    "\n",
    "## Lecture content\n",
    "\n",
    "1. [Working with loops](#2-Introducing-For-loops)\n",
    "2. [Conditional statements](#3-Conditional-statements)"
   ]
  },
  {
   "cell_type": "code",
   "execution_count": null,
   "metadata": {},
   "outputs": [],
   "source": [
    "# Import the python packages needed in this session\n",
    "import numpy as np\n",
    "import matplotlib.pyplot as plt"
   ]
  },
  {
   "cell_type": "markdown",
   "metadata": {},
   "source": [
    "# 1 Introducing For-loops\n",
    "Often you have to perform repetitive tasks in programming. \n",
    "Let's say we want to print each number in a list:"
   ]
  },
  {
   "cell_type": "code",
   "execution_count": null,
   "metadata": {},
   "outputs": [],
   "source": [
    "numbers = [1,2,3,4,5]\n",
    "\n",
    "print(\"the number is\", numbers[0])\n",
    "print(\"the number is\", numbers[1])\n",
    "print(\"the number is\", numbers[2])\n",
    "print(\"the number is\", numbers[3])\n",
    "print(\"the number is\", numbers[4])"
   ]
  },
  {
   "cell_type": "markdown",
   "metadata": {},
   "source": [
    "The above command required 5 lines of code to perform a simple operation of printing different numbers in a list. This is clearly a repetetive task, where we repeat the print statements n number of times. But how can we do this for a longer list?"
   ]
  },
  {
   "cell_type": "code",
   "execution_count": null,
   "metadata": {},
   "outputs": [],
   "source": [
    "numbers = np.arange(7)\n",
    "print(\"The length of the array numbers is:\", len(numbers))  # Note the use of the len(x) function"
   ]
  },
  {
   "cell_type": "markdown",
   "metadata": {},
   "source": [
    "The smart way to do this is in Python by using for-loops. Loops allow us to repeat a certain task (code) for a number of times. The `for` loop is one of the most common loops in the Python environment and is used for iterating over a sequence (list, tuple, string, etc.). Let's look at the following example."
   ]
  },
  {
   "cell_type": "code",
   "execution_count": null,
   "metadata": {},
   "outputs": [],
   "source": [
    "for item in numbers:\n",
    "    # Execute this code in the for-loop\n",
    "    print(\"the number is\", item)\n",
    "    \n",
    "print(\"Done!\")  # This is outside the loop!"
   ]
  },
  {
   "cell_type": "markdown",
   "metadata": {},
   "source": [
    "So what happened here? For each item in the list `numbers`, the indented code is executed (the print statement). That is, the lines after the semi-colon (`:`) that are indented by 4 spaces. Python will continue after it has looped through all values (0 to 6) and, after going through all the items in the list, continue down the lines.\n",
    "\n",
    "Often, we want to loop over a range of numbers, and use those number to select an item in a list. To generate a list of number to loop through  Python has the built-in method `range`, which will return a iterable of `n` integers. The resulting for-loop then looks as follows:"
   ]
  },
  {
   "cell_type": "code",
   "execution_count": null,
   "metadata": {},
   "outputs": [],
   "source": [
    "numbers = np.arange(5)\n",
    "\n",
    "for i in range(len(numbers)):\n",
    "    print(i)"
   ]
  },
  {
   "cell_type": "markdown",
   "metadata": {},
   "source": [
    "### Exercise 1a: looping through a list of names"
   ]
  },
  {
   "cell_type": "code",
   "execution_count": null,
   "metadata": {},
   "outputs": [],
   "source": [
    "names = [\"piet\", \"jan\", \"anna\", \"pim\", \"esther\", \"julia\"] # Let's try some common Dutch names \n",
    "\n",
    "# Type your answer here"
   ]
  },
  {
   "cell_type": "markdown",
   "metadata": {},
   "source": [
    "[Answer](#Answers-to-the-Exercises)"
   ]
  },
  {
   "cell_type": "markdown",
   "metadata": {},
   "source": [
    "## Enumerate a for-loop\n",
    "Often we want to loop over a list or numpy array (or some other iterable), perform some calculation, and store the result in another array. The store the result in an array, we need to select an index where to store it. For this purpose, we can use `enumerate` as follows:"
   ]
  },
  {
   "cell_type": "code",
   "execution_count": null,
   "metadata": {},
   "outputs": [],
   "source": [
    "for i, name in enumerate(names):\n",
    "    print(i, name)"
   ]
  },
  {
   "cell_type": "markdown",
   "metadata": {},
   "source": [
    "In the above for-loop a index (integer-number) is assigned to each item (name) in the list `names`. Now consider the following example, where we compute $y=\\sqrt x$ for different values of $x$, and store the result in the variable $y$."
   ]
  },
  {
   "cell_type": "code",
   "execution_count": null,
   "metadata": {},
   "outputs": [],
   "source": [
    "x = np.arange(0, 11, 0.1) # remember, the [stop] number is not included!\n",
    "y = np.empty_like(x)\n",
    "\n",
    "for i, n in enumerate(x):\n",
    "    y[i] = np.sqrt(n)\n",
    "\n",
    "plt.plot(x, y)\n",
    "plt.xlabel(\"x\")\n",
    "plt.ylabel(\"y\")"
   ]
  },
  {
   "cell_type": "markdown",
   "metadata": {},
   "source": [
    "### Calculate the sum with a for loop\n",
    "The code that is executed each time in the for-loop can be as complicated and long as you want. We can also perform calculations in this code, for example to calculate the sum of the numbers in a list. The formula for the mean $\\mu$ of $x$ is pretty simple:\n",
    "\n",
    "$\\mu(x) = \\frac{\\sum(x)}{N}$\n",
    "\n",
    "where $N$ is the number of elements in x. Let's see how we can program this formula in Python using the for-loop we just learned."
   ]
  },
  {
   "cell_type": "code",
   "execution_count": null,
   "metadata": {},
   "outputs": [],
   "source": [
    "x = np.arange(0, 10)\n",
    "\n",
    "sum_x = 0\n",
    "\n",
    "for i in x:\n",
    "    sum_x = sum_x + i\n",
    "    # print(sum_x)\n",
    "\n",
    "print(\"The sum we calculated is:\", sum_x)\n",
    "print(\"The actual sum is\", np.sum(x)) # numpy has a built-in function\n",
    "\n",
    "print(\"The mean we calculated is\", sum_x / len(x))\n",
    "print(\"The actual mean is\", np.mean(x)) # again, there's an inbuilt function for this"
   ]
  },
  {
   "cell_type": "markdown",
   "metadata": {},
   "source": [
    "### Exercise 1b. Calculate the standard deviation with a for loop\n",
    "In this exercise we are going calculate the sum and the mean of some numbers in a list using a simple formula. \n",
    "\n",
    "We will programm the following formula for the calculation of the standard deviation $\\sigma$:\n",
    "\n",
    "$\\sigma = \\sqrt\\frac{\\sum(x_i-\\mu)^2}{N}$\n",
    "\n",
    "where $x_i$ are the individual values in the series $x$, $\\mu$ is the mean value of $x$, and $N$ is the number of values in $x$. perform the following steps:\n",
    "\n",
    "- Create a Numpy array with random numbers (`np.random.rand`) and subtract 0.5 from each value;\n",
    "- Use a for-loop to calculate the mean of x;\n",
    "- Then, use a second for-loop (not nested) to implement the above formula;\n",
    "- Check your answer by calling NumPy's `std` method."
   ]
  },
  {
   "cell_type": "code",
   "execution_count": null,
   "metadata": {},
   "outputs": [],
   "source": [
    "# Type your code here\n"
   ]
  },
  {
   "cell_type": "markdown",
   "metadata": {},
   "source": [
    "[Answer](#Answers-to-the-Exercises)"
   ]
  },
  {
   "cell_type": "markdown",
   "metadata": {},
   "source": [
    "## Extra: Nested for-loops\n",
    "\n",
    "It is also possible to use a for-loop inside another for-loop, these are called 'nested-loops'. This can for example for helpfull when iterating over a two-dimensional array. "
   ]
  },
  {
   "cell_type": "code",
   "execution_count": null,
   "metadata": {},
   "outputs": [],
   "source": [
    "z = np.random.randn(5,5) # lets construct a 5x5 field of random numbers first\n",
    "\n",
    "for i in range(z.shape[0]):\n",
    "    for j in range(z.shape[1]):\n",
    "        # print each value and its position\n",
    "        print(z[i,j])"
   ]
  },
  {
   "cell_type": "markdown",
   "metadata": {},
   "source": [
    "Loops are a very powerfull tool in our toolbox and can be used for many things. For more information on the use of loops please have a look at [this website](https://www.tutorialspoint.com/python/python_loops.htm)."
   ]
  },
  {
   "cell_type": "markdown",
   "metadata": {},
   "source": [
    "## 2. Comparison operators & Conditional statements \n",
    "It is a common operation to check if a value is equal to, larger or smaller than another value. For example, if a certain condition is True, you want to execute a piece of code. These type of statements are called \"conditional statements\", as it depends on the the condition being `True` or `False` for some code to be executed or not. Let's start with a simple example:"
   ]
  },
  {
   "cell_type": "code",
   "execution_count": null,
   "metadata": {},
   "outputs": [],
   "source": [
    "a = 1\n",
    "\n",
    "# Conditional statement\n",
    "a == 1"
   ]
  },
  {
   "cell_type": "code",
   "execution_count": null,
   "metadata": {},
   "outputs": [],
   "source": [
    "a == 2"
   ]
  },
  {
   "cell_type": "markdown",
   "metadata": {},
   "source": [
    "In the above code we defined the variable `a=1`, and then checked whether or not the variable `a` was equal to some number. The result is `True` or `False`. What data type is that?"
   ]
  },
  {
   "cell_type": "code",
   "execution_count": null,
   "metadata": {},
   "outputs": [],
   "source": [
    "cond = a == 2\n",
    "type(cond)  # Remember?"
   ]
  },
  {
   "cell_type": "markdown",
   "metadata": {},
   "source": [
    "In the code above, the operator `==` is the comparison operator, is this case a 'equals' b. Such comparison operators can be combined with if/else statements as follows:"
   ]
  },
  {
   "cell_type": "code",
   "execution_count": null,
   "metadata": {},
   "outputs": [],
   "source": [
    "a = \"a\"\n",
    "b = \"b\"\n",
    "\n",
    "if a == b:\n",
    "    # Code to execute if statement is True\n",
    "    print(\"a is equal to b\")\n",
    "else:\n",
    "    # Code to execute if statement is False\n",
    "    print(\"a is not equal to b\")"
   ]
  },
  {
   "cell_type": "markdown",
   "metadata": {},
   "source": [
    "The code above is a type example of checking a condition statement (a equals b) and executing different types of code depending on the outcome. When the statement `a == b` returns `True`, the code following the semi-colon (`:`) is executed (indeed, again indented by four spaces or a tab). If `False`, Python continues down the lines and, in this case, finds an `else:` statement. This means that if the above condition is `False`, the indented code after the else statement is executed.\n",
    "\n",
    "### Comparison Operators\n",
    "\n",
    "So far we saw the use of the `==` or \"equals' comparison operator. Other comparison operators are:\n",
    "\n",
    "- equals: `==`\n",
    "- not equal: `!=`\n",
    "- larger than: `>`\n",
    "- smaller than: `>`\n",
    "- greater than or equal to: `>=`\n",
    "- smaller than or equal to: `<=`\n"
   ]
  },
  {
   "cell_type": "code",
   "execution_count": null,
   "metadata": {},
   "outputs": [],
   "source": [
    "x = 3\n",
    "y = 10\n",
    "z = 1\n",
    "\n",
    "#x == y\n",
    "y >= x"
   ]
  },
  {
   "cell_type": "markdown",
   "metadata": {},
   "source": [
    "### Exercise 2a: check if number is larger\n",
    "Create a for-loop to iterate over each item in the array `numbers`, and use a conditional statement to check if the item is larger or smaller than the `limit`.\n",
    "\n",
    "- If smaller, print the word \"smaller\".\n",
    "- If equal or larger, print the number."
   ]
  },
  {
   "cell_type": "code",
   "execution_count": null,
   "metadata": {},
   "outputs": [],
   "source": [
    "numbers = np.arange(10)\n",
    "limit = 4\n",
    "\n",
    "# Type answer here"
   ]
  },
  {
   "cell_type": "markdown",
   "metadata": {},
   "source": [
    "[Answer](#Answers-to-the-Exercises)"
   ]
  },
  {
   "cell_type": "markdown",
   "metadata": {},
   "source": [
    "### if/elif/else statements\n",
    "A slightly more complicated form of the if/else statement is the if/elif/else statement. In the code-block below an example of such a statement is given. You can put in as many elif-statements as you want, for example to compare a value to multiple values one-by one. "
   ]
  },
  {
   "cell_type": "code",
   "execution_count": null,
   "metadata": {},
   "outputs": [],
   "source": [
    "x = 3\n",
    "y = 10\n",
    "z = 1\n",
    "\n",
    "if x == y:\n",
    "    print(\"x is equal to y\")\n",
    "# We can check multiple conditions using an if/elif/else statement\n",
    "elif x < z:\n",
    "    print(\"x is smaller than z\")\n",
    "else:\n",
    "    print(\"x is between y and z\")"
   ]
  },
  {
   "cell_type": "markdown",
   "metadata": {},
   "source": [
    "### Combining statements\n",
    "It is also possible to combine conditional statements, as is shown below. The statement are put in between round brackets (e.g., `(a == b)`) and are combined with the `&` sign. Other combinations are possible (e.g., `or`, `and`, `and not`) but are outside the scope of this lecture. [Here](https://www.tutorialspoint.com/python/python_basic_operators.htm) you can find an overview of the basic operators and what you can do with them."
   ]
  },
  {
   "cell_type": "code",
   "execution_count": null,
   "metadata": {},
   "outputs": [],
   "source": [
    "if (x < y) & (x > z):\n",
    "    print(\"x is between y and z\")"
   ]
  },
  {
   "cell_type": "code",
   "execution_count": null,
   "metadata": {},
   "outputs": [],
   "source": [
    "(x < y) & (x > y)"
   ]
  },
  {
   "cell_type": "markdown",
   "metadata": {},
   "source": [
    "## Combining loops and if/else statements\n",
    "\n",
    "For-loops and if-else statements are often combined. For example, we may want to loop over a list of data, and select certain values based on a certain condition. Let's look at some data from the eHYD Mur gauging station in Graz, close to the Keplerbrücke, stored in `data.txt`, a simple text-file. The file contains the average monthly water temperature for 132 months from january 2006 to december 2016 (11 years). To load this data, we may use the function `loadtxt` from Numpy: https://numpy.org/doc/stable/reference/generated/numpy.loadtxt.html"
   ]
  },
  {
   "cell_type": "code",
   "execution_count": null,
   "metadata": {},
   "outputs": [],
   "source": [
    "data = np.loadtxt(\"data.txt\", delimiter=\",\")\n",
    "data[:5]  # Let's look at the data"
   ]
  },
  {
   "cell_type": "markdown",
   "metadata": {},
   "source": [
    "Imagine we want to print all the indices where a temperature below 5 degree Celcius was recorded. We can iterate over the data and use a conditional statement to check the condition and print the index and temperature. "
   ]
  },
  {
   "cell_type": "code",
   "execution_count": null,
   "metadata": {},
   "outputs": [],
   "source": [
    "for i in range(len(data)):\n",
    "    index, temp = data[i]\n",
    "    if temp < 5:\n",
    "        print('at Month', int(index), 'the Mur had a temperature of', temp, 'degrees.')"
   ]
  },
  {
   "cell_type": "markdown",
   "metadata": {},
   "source": [
    "### Exercise 2b. Find all dates in 2008 that hat a Mur temperature above 10 and below 15 degrees\n",
    "\n",
    "Write a loop using the data and dates for the Mur gauge above that checks at which indices in the year 2008 the temperature of the river was between 14 degrees and 15 degrees."
   ]
  },
  {
   "cell_type": "code",
   "execution_count": null,
   "metadata": {},
   "outputs": [],
   "source": [
    "# Type your code here"
   ]
  },
  {
   "cell_type": "markdown",
   "metadata": {},
   "source": [
    "\n",
    "[Answer](#Answers-to-the-Exercises)"
   ]
  },
  {
   "cell_type": "markdown",
   "metadata": {},
   "source": [
    "### Exercise 2c. Plot the water temperature and mark high values\n",
    "\n",
    "1. Create an empty list named `high` to store indices \n",
    "2. loop through the temperature data and append (e.g., `high.append(index)`) indices to the list `high` for which the tempera is above 15 degree Celcius.\n",
    "3. Plot all water temperatures against the all time indices.\n",
    "4. Plot the high water temperatures as red dots.\n",
    "5. Draw a horizontal line using plt.axhline at T=14\n",
    "6. Dress up the plot (x-label, y-label)."
   ]
  },
  {
   "cell_type": "code",
   "execution_count": null,
   "metadata": {},
   "outputs": [],
   "source": [
    "# Type your code here\n"
   ]
  },
  {
   "cell_type": "markdown",
   "metadata": {},
   "source": [
    "[Answer](#Answers-to-the-Exercises)"
   ]
  },
  {
   "cell_type": "markdown",
   "metadata": {},
   "source": [
    "### Exercise 2d. Count the number of letters\n",
    "In this exercise we are going to do some data mining on a piece of text. The goal is to count the number of letters \"a\", \"k\" and \"y\" in the piece of text shown below. It is your task to write a for loop that counts the number of time the letters a, k, and y are present in the text below. Print the answer to the screen for each of the three letters.\n",
    "\n",
    "*Hint: you will have to use three conditional statements and a if/elif/elif format to check if a letter is one of the three letters we are interested in.*"
   ]
  },
  {
   "cell_type": "code",
   "execution_count": null,
   "metadata": {},
   "outputs": [],
   "source": [
    "# multiline string, copied from https://en.wikipedia.org/wiki/Python_(programming_language)\n",
    "\n",
    "text = \"\"\"Python is an interpreted, high-level, general-purpose programming language. Created by Guido van Rossum\n",
    "and first released in 1991, Python has a design philosophy that emphasizes code readability, notably using \n",
    "significant whitespace. It provides constructs that enable clear programming on both small and large scales.\n",
    "[26] Van Rossum led the language community until stepping down as leader in July 2018.[27][28] Python features \n",
    "a dynamic type system and automatic memory management. It supports multiple programming paradigms, including \n",
    "object-oriented, imperative, functional and procedural. It also has a comprehensive standard library.[29]\n",
    "Python interpreters are available for many operating systems. CPython, the reference implementation of Python, \n",
    "is open source software[30] and has a community-based development model, as do nearly all of Python's other \n",
    "implementations. Python and CPython are managed by the non-profit Python Software Foundation.\"\"\" "
   ]
  },
  {
   "cell_type": "code",
   "execution_count": null,
   "metadata": {},
   "outputs": [],
   "source": [
    "# Type your code here"
   ]
  },
  {
   "cell_type": "markdown",
   "metadata": {},
   "source": [
    "[Answer](#Answers-to-the-Exercises)"
   ]
  },
  {
   "cell_type": "markdown",
   "metadata": {},
   "source": [
    "## Answers to the Exercises\n",
    "### Exercise 1a"
   ]
  },
  {
   "cell_type": "code",
   "execution_count": null,
   "metadata": {},
   "outputs": [],
   "source": [
    "names = [\"piet\", \"jan\", \"anna\", \"pim\", \"esther\", \"julia\"] # Let's try some common Dutch names\n",
    "\n",
    "for i in range(len(names)):\n",
    "    print(\"the item\", i, \"is name\", names[i])"
   ]
  },
  {
   "cell_type": "markdown",
   "metadata": {},
   "source": [
    "### Exercise 1b"
   ]
  },
  {
   "cell_type": "code",
   "execution_count": null,
   "metadata": {},
   "outputs": [],
   "source": [
    "x = np.random.rand(10) - 0.5\n",
    "\n",
    "err = 0\n",
    "sum_x = 0\n",
    "\n",
    "# Calculate the sum of x, that we need to calculate the mean\n",
    "for i in x:\n",
    "    sum_x += i\n",
    "    \n",
    "# Calculate the actual mean    \n",
    "mean = sum_x / len(x)    \n",
    "\n",
    "for i in x:\n",
    "    err += (i - mean) ** 2\n",
    "\n",
    "std = np.sqrt(err / (len(x)))\n",
    "    \n",
    "print(\"The calculated standard deviation is:\", std.round(4))\n",
    "print(\"The actual standard deviation is:\", np.std(x).round(4))"
   ]
  },
  {
   "cell_type": "markdown",
   "metadata": {},
   "source": [
    "### Exercise 2a"
   ]
  },
  {
   "cell_type": "code",
   "execution_count": null,
   "metadata": {},
   "outputs": [],
   "source": [
    "numbers = np.arange(10)\n",
    "limit = 4\n",
    "\n",
    "# Type answer here\n",
    "for num in numbers:\n",
    "    if num < limit:\n",
    "        print(\"smaller\")\n",
    "    else:\n",
    "        print(num)"
   ]
  },
  {
   "cell_type": "markdown",
   "metadata": {},
   "source": [
    "### Exercise 2b"
   ]
  },
  {
   "cell_type": "code",
   "execution_count": null,
   "metadata": {},
   "outputs": [],
   "source": [
    "# Type your code here\n",
    "for i in range(len(data)):\n",
    "    index, temp = data[i]\n",
    "    if (temp > 14) and (temp < 15):\n",
    "        print('at Month', int(index), 'the Mur had a temperature of', temp, 'degrees.')"
   ]
  },
  {
   "cell_type": "markdown",
   "metadata": {},
   "source": [
    "### Exercise 2c"
   ]
  },
  {
   "cell_type": "code",
   "execution_count": null,
   "metadata": {},
   "outputs": [],
   "source": [
    "data = np.loadtxt(\"data.txt\", delimiter=\",\")\n",
    "\n",
    "high = []\n",
    "\n",
    "for i in range(len(data)):\n",
    "    index, temp = data[i]\n",
    "    if temp > 15:\n",
    "        high.append(int(index))\n",
    "\n",
    "# Plot the data\n",
    "plt.plot(data[:, 0], data[:, 1])\n",
    "plt.plot(data[high, 0], data[high, 1], marker=\".\", color=\"r\", linestyle=\" \")\n",
    "plt.axhline(15, color=\"k\", linestyle=\"--\")\n",
    "plt.xlabel(\"Time since January 2016 [Months]\")\n",
    "plt.ylabel(\"Temp [Degree Celcius]\")\n",
    "plt.legend([\"all data\", \"highs\"], ncol=2, loc=4)\n",
    "\n",
    "plt.savefig(\"exercise2c.png\")"
   ]
  },
  {
   "cell_type": "markdown",
   "metadata": {},
   "source": [
    "### Exercise 2d"
   ]
  },
  {
   "cell_type": "code",
   "execution_count": null,
   "metadata": {},
   "outputs": [],
   "source": [
    "# multiline string, copied from https://en.wikipedia.org/wiki/Python_(programming_language)\n",
    "\n",
    "text = \"\"\"Python is an interpreted, high-level, general-purpose programming language. Created by Guido van Rossum\n",
    "and first released in 1991, Python has a design philosophy that emphasizes code readability, notably using \n",
    "significant whitespace. It provides constructs that enable clear programming on both small and large scales.\n",
    "[26] Van Rossum led the language community until stepping down as leader in July 2018.[27][28] Python features \n",
    "a dynamic type system and automatic memory management. It supports multiple programming paradigms, including \n",
    "object-oriented, imperative, functional and procedural. It also has a comprehensive standard library.[29]\n",
    "Python interpreters are available for many operating systems. CPython, the reference implementation of Python, \n",
    "is open source software[30] and has a community-based development model, as do nearly all of Python's other \n",
    "implementations. Python and CPython are managed by the non-profit Python Software Foundation.\"\"\" "
   ]
  },
  {
   "cell_type": "code",
   "execution_count": null,
   "metadata": {},
   "outputs": [],
   "source": [
    "sum_a = 0\n",
    "sum_k = 0\n",
    "sum_y = 0\n",
    "\n",
    "for l in text:\n",
    "    if l == \"a\":\n",
    "        sum_a += 1\n",
    "    elif l == \"k\":\n",
    "        sum_k += 1\n",
    "    elif l == \"y\":\n",
    "        sum_y += 1\n",
    "        \n",
    "print(\"The letter a is in the string for\", sum_a, \"times.\")\n",
    "print(\"The letter k is in the string for\", sum_k, \"times.\") \n",
    "print(\"The letter y is in the string for\", sum_y, \"times.\")"
   ]
  }
 ],
 "metadata": {
  "kernelspec": {
   "display_name": "Python 3",
   "language": "python",
   "name": "python3"
  },
  "language_info": {
   "codemirror_mode": {
    "name": "ipython",
    "version": 3
   },
   "file_extension": ".py",
   "mimetype": "text/x-python",
   "name": "python",
   "nbconvert_exporter": "python",
   "pygments_lexer": "ipython3",
   "version": "3.8.8"
  }
 },
 "nbformat": 4,
 "nbformat_minor": 4
}
