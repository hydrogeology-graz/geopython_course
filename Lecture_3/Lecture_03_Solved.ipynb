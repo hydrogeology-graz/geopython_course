{
 "cells": [
  {
   "cell_type": "markdown",
   "metadata": {},
   "source": [
    "<img src=\"../NAWI_Graz_Logo.png\" align=\"right\" width=150>\n",
    "\n",
    "# Notebook 2: For-loops and conditional statements\n",
    "\n",
    "*Developed by Raoul Collenteur and Johannes Haas, Institute of Earth Sciences, NAWI Graz Geocenter, University of Graz.*\n",
    "\n",
    "### Content of this lecture\n",
    "- repetition of previous lecture\n",
    "- basics of accessing and slicing data\n",
    "- working with for loops\n",
    "- conditional statements\n",
    "- three exercises\n",
    "\n",
    "**Some tips/reminders for working in a notebook:**\n",
    "\n",
    "- shift-enter to run a code-block\n",
    "- shift-tab to get quick information on a function\n",
    "- tab after a dot (`.`) to find methods"
   ]
  },
  {
   "cell_type": "code",
   "execution_count": 1,
   "metadata": {},
   "outputs": [],
   "source": [
    "# Import the python packages needed in this session\n",
    "import numpy as np\n",
    "import pandas as pd"
   ]
  },
  {
   "cell_type": "markdown",
   "metadata": {},
   "source": [
    "# 1. Repeating last week\n",
    "\n",
    "### 1a. Data types"
   ]
  },
  {
   "cell_type": "code",
   "execution_count": 2,
   "metadata": {},
   "outputs": [
    {
     "data": {
      "text/plain": [
       "tuple"
      ]
     },
     "execution_count": 2,
     "metadata": {},
     "output_type": "execute_result"
    }
   ],
   "source": [
    "a = 1\n",
    "b = 2.1\n",
    "c = 'Hello'\n",
    "d = [1, 2, 3, 4, 5]\n",
    "e = {'var1':0.111, 'var2':0.222, 'var3':0.333}\n",
    "f = (1, 2, 3) # What is this?\n",
    "type(f)"
   ]
  },
  {
   "cell_type": "code",
   "execution_count": 3,
   "metadata": {},
   "outputs": [
    {
     "data": {
      "text/plain": [
       "0.111"
      ]
     },
     "execution_count": 3,
     "metadata": {},
     "output_type": "execute_result"
    }
   ],
   "source": [
    "# Accessing data in a dictionary\n",
    "e[\"var1\"]"
   ]
  },
  {
   "cell_type": "code",
   "execution_count": 4,
   "metadata": {},
   "outputs": [
    {
     "data": {
      "text/plain": [
       "1"
      ]
     },
     "execution_count": 4,
     "metadata": {},
     "output_type": "execute_result"
    }
   ],
   "source": [
    "# Accessing data in a list\n",
    "d[0]"
   ]
  },
  {
   "cell_type": "markdown",
   "metadata": {},
   "source": [
    "### 1b. Basic Mathematical operators\n",
    "\n",
    "- addition: `+`\n",
    "- subtraction: `-`\n",
    "- division: `/`\n",
    "- multiplication: `*`\n",
    "- power: `**`\n",
    "\n",
    "Some other usefull functions enclosed in the Numpy package:\n",
    "- root: `np.sqrt`\n",
    "- sine: `np.sine`\n",
    "- cosine: `np.cos`\n",
    "- pi: `np.pi`"
   ]
  },
  {
   "cell_type": "code",
   "execution_count": 5,
   "metadata": {},
   "outputs": [
    {
     "data": {
      "text/plain": [
       "27"
      ]
     },
     "execution_count": 5,
     "metadata": {},
     "output_type": "execute_result"
    }
   ],
   "source": [
    "# Play around with some mathematical operators\n",
    "3**3"
   ]
  },
  {
   "cell_type": "markdown",
   "metadata": {},
   "source": [
    "### 1c. Plotting your data\n",
    "One of the most important things to do in Python is to visualize the results of your analysis. `Matplotlib` is the standard plotting package for Python,and most of the methods we will use are in the sub-package `pyplot`. Have look at the website of Matplotlib to see what you can do with this package: [Matplotlib website](https://matplotlib.org).\n",
    "\n",
    "Let's import the package and give it the alias `plt`. "
   ]
  },
  {
   "cell_type": "code",
   "execution_count": 6,
   "metadata": {},
   "outputs": [],
   "source": [
    "import matplotlib.pyplot as plt\n",
    "%matplotlib inline"
   ]
  },
  {
   "cell_type": "markdown",
   "metadata": {},
   "source": [
    "### Creating a simple plot\n",
    "Let's make a plot of the growth of bacteria over time. We assume that the growth occurs exponentially with the formula $y = b + exp(a*t)$ where $b$ is the initial number of bacteria, $a$ a parameter and $t$ the time."
   ]
  },
  {
   "cell_type": "code",
   "execution_count": 7,
   "metadata": {},
   "outputs": [
    {
     "data": {
      "image/png": "[encoded data removed]",
      "text/plain": [
       "<Figure size 432x288 with 1 Axes>"
      ]
     },
     "metadata": {
      "needs_background": "light"
     },
     "output_type": "display_data"
    }
   ],
   "source": [
    "x = np.arange(0, 10)\n",
    "a = 0.5\n",
    "b = 2\n",
    "y = b + np.exp(a*x)\n",
    "\n",
    "plt.plot(x, y)\n",
    "plt.plot(x, y, marker='o', color=\"r\", linestyle=\" \")\n",
    "\n",
    "plt.xlabel(\"time [days]\")\n",
    "plt.ylabel('No. of Bacteria [-]')\n",
    "plt.legend([\"Model\"])\n",
    "plt.xlim(0,9)\n",
    "plt.title(\"Plot of bacteria growth over time\");\n",
    "plt.savefig(\"figure.png\")"
   ]
  },
  {
   "cell_type": "markdown",
   "metadata": {},
   "source": [
    "# 2. Accessing and slicing data in lists and 1-D numpy arrays\n",
    "Often we want to store individual values in variables that contain a collection of these values, e.g., a list or dictionary. These variables with multiple data points are also called `iterables` in Python, as we can iterate over them. We will do that in a bit, but let us first understand how we can access the data in lists and dictionaries.\n",
    "\n",
    "The common method to select a single value in an iterable is by typing the variables name, followed by square brackets with a number (e.g., `thisisalist[0]`). The Python language is zero based. That means that to get the first item in a list or array, a zero is used (e.g., `thisisalist[0]` will return the first item in the list)."
   ]
  },
  {
   "cell_type": "code",
   "execution_count": 8,
   "metadata": {},
   "outputs": [
    {
     "name": "stdout",
     "output_type": "stream",
     "text": [
      "The length of the list numbers is: 5\n",
      "The first item in the numbers list is:  1\n"
     ]
    }
   ],
   "source": [
    "numbers =  [1,2,3,4,5]\n",
    "print(\"The length of the list numbers is:\", len(numbers))\n",
    "print(\"The first item in the numbers list is: \", numbers[0])"
   ]
  },
  {
   "cell_type": "code",
   "execution_count": 9,
   "metadata": {},
   "outputs": [
    {
     "data": {
      "text/plain": [
       "[1, 2, 3]"
      ]
     },
     "execution_count": 9,
     "metadata": {},
     "output_type": "execute_result"
    }
   ],
   "source": [
    "# Select the first three values in the list\n",
    "numbers[0:3]"
   ]
  },
  {
   "cell_type": "code",
   "execution_count": 10,
   "metadata": {},
   "outputs": [
    {
     "data": {
      "text/plain": [
       "5"
      ]
     },
     "execution_count": 10,
     "metadata": {},
     "output_type": "execute_result"
    }
   ],
   "source": [
    "# Select the last item in the list\n",
    "numbers[-1]"
   ]
  },
  {
   "cell_type": "markdown",
   "metadata": {},
   "source": [
    "The above statements showed different statements to select data. The statement `number[0:3]` tells Python to select the items 0 to 3 (but not including 3). The statement -1 will return the last item of the last, as -2 will for example return the second last item of the list. The basic pattern to access a single value or a slice of the data is: `thisisalist[first:last:step]`. Can you figure out what the next code-block returns without running it?"
   ]
  },
  {
   "cell_type": "code",
   "execution_count": 11,
   "metadata": {},
   "outputs": [
    {
     "data": {
      "text/plain": [
       "[5, 4]"
      ]
     },
     "execution_count": 11,
     "metadata": {},
     "output_type": "execute_result"
    }
   ],
   "source": [
    "numbers[-1:2:-1]"
   ]
  },
  {
   "cell_type": "markdown",
   "metadata": {},
   "source": [
    "### 1-D Numpy arrays\n",
    "Accessing data in one dimensional Numpy arrays is completely similar to accessing data in a list. The difference is, is that it will return a Numpy array."
   ]
  },
  {
   "cell_type": "code",
   "execution_count": 12,
   "metadata": {},
   "outputs": [
    {
     "data": {
      "text/plain": [
       "array([5, 4])"
      ]
     },
     "execution_count": 12,
     "metadata": {},
     "output_type": "execute_result"
    }
   ],
   "source": [
    "x = np.array([1,2,3,4,5])\n",
    "x[-1:2:-1]"
   ]
  },
  {
   "cell_type": "markdown",
   "metadata": {},
   "source": [
    "# 2. Introducing For-loops\n",
    "Often you have to perform repetitive tasks in programming. For example, you want to repeate a piece of code printing a number in a list."
   ]
  },
  {
   "cell_type": "code",
   "execution_count": 13,
   "metadata": {},
   "outputs": [
    {
     "name": "stdout",
     "output_type": "stream",
     "text": [
      "1\n",
      "2\n",
      "3\n",
      "4\n",
      "5\n",
      "We are done!\n"
     ]
    }
   ],
   "source": [
    "numbers =  [1,2,3,4,5]\n",
    "\n",
    "for item in numbers: \n",
    "    # Execute this code in the for-loop\n",
    "    print(item)\n",
    "\n",
    "# We are done\n",
    "print(\"We are done!\")"
   ]
  },
  {
   "cell_type": "markdown",
   "metadata": {},
   "source": [
    "So what happened here? We first defined a variable named numbers with the values 1 through 5 in it. Then, the for-loop is started. Python will loop through all items in the list `numbers`, and execute the code in the indented part. That is, the lines after the semi-colon (`:`) that are indented by 4 spaces. Python will continue after it has looped through all values (1 to 5) and continue down the lines. No stop statement is needed, just stop indentating.\n",
    "\n",
    "Often, we want to loop over a range of numbers, and use those number to select an item in a list. To generate a list of number to loop through  Python has the built-in method `range`, which will return a iterable of `n` integers. \n"
   ]
  },
  {
   "cell_type": "code",
   "execution_count": 14,
   "metadata": {},
   "outputs": [
    {
     "name": "stdout",
     "output_type": "stream",
     "text": [
      "the item 0 is name piet\n",
      "the item 1 is name jan\n",
      "the item 2 is name anna\n",
      "the item 3 is name pim\n",
      "the item 4 is name esther\n"
     ]
    }
   ],
   "source": [
    "names = [\"piet\", \"jan\", \"anna\", \"pim\", \"esther\"] # Let's try some common Dutch names\n",
    "for i in range(5):\n",
    "    print(\"the item\", i, \"is name\", names[i])"
   ]
  },
  {
   "cell_type": "markdown",
   "metadata": {},
   "source": [
    "### Calculate the sum with a for loop\n",
    "The code that is executed each time in the for-loop can be as complicated and long as you want. We can also perform calculations in this code, for example to calculate the sum of the numbers in a list. The formula for the mean $\\mu$ of $x$ is pretty simple:\n",
    "\n",
    "$\\mu(x) = \\frac{\\sum(x)}{N}$\n",
    "\n",
    "where $N$ is the number of elements in x. Let's see how we can program this formula in Python using the for-loop we just learned."
   ]
  },
  {
   "cell_type": "code",
   "execution_count": 15,
   "metadata": {},
   "outputs": [
    {
     "name": "stdout",
     "output_type": "stream",
     "text": [
      "The sum we calculated is: 45\n",
      "The actual sum is 45\n",
      "The mean we calculated is 4.5\n",
      "The actual mean is 4.5\n"
     ]
    }
   ],
   "source": [
    "x = np.arange(0, 10)\n",
    "sum_x = 0\n",
    "for i in x:\n",
    "    sum_x = sum_x + i\n",
    "    \n",
    "print(\"The sum we calculated is:\", sum_x)\n",
    "print(\"The actual sum is\", sum(x)) # Python has a built-in some function\n",
    "\n",
    "print(\"The mean we calculated is\", sum_x / len(x))\n",
    "print(\"The actual mean is\", np.mean(x))"
   ]
  },
  {
   "cell_type": "markdown",
   "metadata": {},
   "source": [
    "Loops are a very powerfull tool in our toolbox and can be used for many things. For more information on the use of loops please have a look at [this website](https://www.tutorialspoint.com/python/python_loops.htm).\n",
    "\n",
    "# 3. Conditional statements\n",
    "It is a common operation to check if a value is equal to, larger or smaller than another value. For example, if a certain condition is True, you want to execute a piece of code. These type of statements are called \"conditional\" statements, as it depends on the the condition being `True` or `False` for some code to be executed or not. Let's start with a simple example:"
   ]
  },
  {
   "cell_type": "code",
   "execution_count": 16,
   "metadata": {},
   "outputs": [
    {
     "name": "stdout",
     "output_type": "stream",
     "text": [
      "a is indeed equal to a\n"
     ]
    }
   ],
   "source": [
    "a = \"a\"\n",
    "\n",
    "if a == \"a\":\n",
    "    print(\"a is indeed equal to a\")"
   ]
  },
  {
   "cell_type": "code",
   "execution_count": 17,
   "metadata": {},
   "outputs": [
    {
     "name": "stdout",
     "output_type": "stream",
     "text": [
      "a is not equal to b\n"
     ]
    }
   ],
   "source": [
    "a = \"a\"\n",
    "b = \"b\"\n",
    "\n",
    "if a == b:\n",
    "    # Code to execute if statement is True\n",
    "    print(\"a is indeed equal to a\")\n",
    "else:\n",
    "    # Code to execute if statement is False\n",
    "    print(\"a is not equal to b\")"
   ]
  },
  {
   "cell_type": "markdown",
   "metadata": {},
   "source": [
    "The code above is a type example of checking a condition statement (a equals b) and executing different types of code depending on the outcome. When the statement `a == b` returns `True`, the code following the semi-colon (`:`) is executed (indeed, again indented by four spaces or a tab). If `False`, Python continues down the lines and, in this case, finds an `else:` statement. This means that if the above condition is `False`, the indented code after the else statement is executed.\n",
    "\n",
    "Other comparison operators are:\n",
    "\n",
    "- equals: `==`\n",
    "- not equal: `!=`\n",
    "- larger than: `>`\n",
    "- smaller than: `>`\n",
    "- greater than or equal to: `>=`\n",
    "- smaller than or equal to: `<=`\n"
   ]
  },
  {
   "cell_type": "code",
   "execution_count": 18,
   "metadata": {},
   "outputs": [
    {
     "data": {
      "text/plain": [
       "False"
      ]
     },
     "execution_count": 18,
     "metadata": {},
     "output_type": "execute_result"
    }
   ],
   "source": [
    "x = 3\n",
    "y = 10\n",
    "z = 1\n",
    "\n",
    "x == y"
   ]
  },
  {
   "cell_type": "code",
   "execution_count": 19,
   "metadata": {},
   "outputs": [
    {
     "data": {
      "text/plain": [
       "False"
      ]
     },
     "execution_count": 19,
     "metadata": {},
     "output_type": "execute_result"
    }
   ],
   "source": [
    "x > y"
   ]
  },
  {
   "cell_type": "code",
   "execution_count": 20,
   "metadata": {},
   "outputs": [
    {
     "name": "stdout",
     "output_type": "stream",
     "text": [
      "x is between y and z\n"
     ]
    }
   ],
   "source": [
    "if x == y:\n",
    "    print(\"x is equal to y\")\n",
    "# We can check multiple conditions using an if/elif/else statement\n",
    "elif x < z:\n",
    "    print(\" is smaller than z\")\n",
    "else:\n",
    "    print(\"x is between y and z\")"
   ]
  },
  {
   "cell_type": "markdown",
   "metadata": {},
   "source": [
    "### if/elif/else\n",
    "In the above code block you can see how you can check multiple conditional statements using the if/elif/else format. You can put in as many elif-statements as you want, for example to compare a value to multiple values one-by one. \n",
    "\n",
    "### Combining statements\n",
    "It is also possible to combine conditional statements, as is shown below. The statement are put in between round brackets (e.g., `(a == b)`) and are combined with the `&` sign. Other combinations are possible (e.g., `or`, `and`, `and not`) but are outside the scope of this lecture. [Here](https://www.tutorialspoint.com/python/python_basic_operators.htm) you can find an overview of the basic operators and what you can do with them."
   ]
  },
  {
   "cell_type": "code",
   "execution_count": 21,
   "metadata": {},
   "outputs": [
    {
     "name": "stdout",
     "output_type": "stream",
     "text": [
      "x is between y and z\n"
     ]
    }
   ],
   "source": [
    "if (x < y) & (x > z):\n",
    "    print(\"x is between y and z\")"
   ]
  },
  {
   "cell_type": "markdown",
   "metadata": {},
   "source": [
    "# Exercise 1. Calculate the standard deviation with a for loop\n",
    "In this exercise we are going calculate the sum and the mean of some numbers in a list using a simple formula. \n",
    "\n",
    "We will programm the following formula for the calculation of the standard deviation $\\sigma$:\n",
    "\n",
    "$\\sigma = \\sqrt\\frac{\\sum(x_i-\\mu)^2}{N}$\n",
    "\n",
    "where $x_i$ are the individual values in the series $x$, $\\mu$ is the mean value of $x$, and &\\$N$ is the number of values in $x$. perform the following steps:\n",
    "\n",
    "- Create a array with random numbers (`np.random.rand`) and subtract 0.5 from each value;\n",
    "- Use a for-loop to calculate the mean of x;\n",
    "- Then, use a for-loop to implement the above formula;\n",
    "- Check your answer by calling NumPy's `std` method."
   ]
  },
  {
   "cell_type": "code",
   "execution_count": 22,
   "metadata": {},
   "outputs": [
    {
     "name": "stdout",
     "output_type": "stream",
     "text": [
      "The calculated standard deviation is: 0.23941330147020043\n",
      "The actual standard deviation is: 0.23941330147020043\n"
     ]
    }
   ],
   "source": [
    "# Solution 1\n",
    "x = np.random.rand(10) - 0.5\n",
    "\n",
    "err = 0\n",
    "sum_x = 0\n",
    "\n",
    "# Calculate the sum of x, that we need to calculate the mean\n",
    "for i in x:\n",
    "    sum_x += i\n",
    "    \n",
    "# Calculate the actual mean    \n",
    "mean = sum_x / len(x)    \n",
    "\n",
    "for i in x:\n",
    "    err += (i - mean) ** 2\n",
    "\n",
    "std = np.sqrt(err / (len(x)))\n",
    "    \n",
    "print(\"The calculated standard deviation is:\", std)\n",
    "print(\"The actual standard deviation is:\", np.std(x))"
   ]
  },
  {
   "cell_type": "markdown",
   "metadata": {},
   "source": [
    "## Exercise 2. Count the number of letters\n",
    "In this exercise we are going to do some data mining on a piece of text. The goal is to count the number of letters \"a\", \"k\" and \"y\" in the piece of text shown below. It is your task to write a for loop that counts the number of time the letters a, k, and y are present in the text below. Print the answer to the screen for each of the three letters.\n",
    "\n",
    "**Hint**: you will have to use three conditional statements and a if/elif/elif format to check if a letter is one of the three letters we are interested in."
   ]
  },
  {
   "cell_type": "code",
   "execution_count": 23,
   "metadata": {},
   "outputs": [],
   "source": [
    "# multiline string, copied from https://en.wikipedia.org/wiki/Python_(programming_language)\n",
    "\n",
    "text = \"\"\"Python is an interpreted, high-level, general-purpose programming language. Created by Guido van Rossum\n",
    "and first released in 1991, Python has a design philosophy that emphasizes code readability, notably using \n",
    "significant whitespace. It provides constructs that enable clear programming on both small and large scales.\n",
    "[26] Van Rossum led the language community until stepping down as leader in July 2018.[27][28] Python features \n",
    "a dynamic type system and automatic memory management. It supports multiple programming paradigms, including \n",
    "object-oriented, imperative, functional and procedural. It also has a comprehensive standard library.[29]\n",
    "Python interpreters are available for many operating systems. CPython, the reference implementation of Python, \n",
    "is open source software[30] and has a community-based development model, as do nearly all of Python's other \n",
    "implementations. Python and CPython are managed by the non-profit Python Software Foundation.\"\"\" "
   ]
  },
  {
   "cell_type": "code",
   "execution_count": 25,
   "metadata": {},
   "outputs": [
    {
     "name": "stdout",
     "output_type": "stream",
     "text": [
      "The letter a is in the string for 74 times.\n",
      "The letter k is in the string for 0 times.\n",
      "The letter y is in the string for 26 times.\n"
     ]
    }
   ],
   "source": [
    "sum_a = 0\n",
    "sum_k = 0\n",
    "sum_y = 0\n",
    "\n",
    "for l in text:\n",
    "    if l == \"a\":\n",
    "        sum_a += 1\n",
    "    elif l == \"k\":\n",
    "        sum_k += 1\n",
    "    elif l == \"y\":\n",
    "        sum_y += 1\n",
    "        \n",
    "print(\"The letter a is in the string for\", sum_a, \"times.\")\n",
    "print(\"The letter k is in the string for\", sum_k, \"times.\") \n",
    "print(\"The letter y is in the string for\", sum_y, \"times.\") "
   ]
  },
  {
   "cell_type": "markdown",
   "metadata": {},
   "source": [
    "## Exercise 3. Make a plot of the sine and cosine curves\n",
    "In this exercise we will plot a sine and a cosine curve. The following formulas are to be plotted:\n",
    "\n",
    "$y1 (x) = 2 * \\sin(x)$\n",
    "\n",
    "$y2 (x) = \\cos (2.5x) $\n",
    "\n",
    "Perform the following tasks:\n",
    "\n",
    "1. Calculate y values for x in the range of 0 to $6\\pi$ with steps of 0.1;\n",
    "2. Plot the two curves in one graph;\n",
    "3. Put all the elements (e.g., the x label) in the graph to make it publication ready.\n",
    "\n",
    "### Bonus: Find the intersections between two lines and plot them\n",
    "Use a for-loop to find the approximate intersections between the two curves and use red markers to plot these points. Use a different of 0.1 between the values of y1 and y2 to find the points. You can use if/else statements to plot the marker right in the for-loop!"
   ]
  },
  {
   "cell_type": "code",
   "execution_count": 35,
   "metadata": {},
   "outputs": [
    {
     "data": {
      "text/plain": [
       "Text(0.5, 1.0, 'A sine and cosine wave')"
      ]
     },
     "execution_count": 35,
     "metadata": {},
     "output_type": "execute_result"
    },
    {
     "data": {
      "image/png": "[encoded data removed]",
      "text/plain": [
       "<Figure size 432x288 with 1 Axes>"
      ]
     },
     "metadata": {
      "needs_background": "light"
     },
     "output_type": "display_data"
    }
   ],
   "source": [
    "x = np.arange(0, 6*np.pi,0.1)\n",
    "y1 = 2 * np.sin(x)\n",
    "y2 = np.cos(2.5 * x)\n",
    "\n",
    "plt.plot(x, y1)\n",
    "plt.plot(x, y2)\n",
    "plt.xlim(0)\n",
    "plt.xlabel(\"x\")\n",
    "plt.ylabel(\"y1/y2\")\n",
    "plt.legend([\"sine\", \"cosine\"])\n",
    "plt.title(\"A sine and cosine wave\")"
   ]
  }
 ],
 "metadata": {
  "kernelspec": {
   "display_name": "Python 3",
   "language": "python",
   "name": "python3"
  },
  "language_info": {
   "codemirror_mode": {
    "name": "ipython",
    "version": 3
   },
   "file_extension": ".py",
   "mimetype": "text/x-python",
   "name": "python",
   "nbconvert_exporter": "python",
   "pygments_lexer": "ipython3",
   "version": "3.6.0"
  }
 },
 "nbformat": 4,
 "nbformat_minor": 2
}
