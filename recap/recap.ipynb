{
 "cells": [
  {
   "cell_type": "markdown",
   "metadata": {},
   "source": [
    "<img src=\"https://static.uni-graz.at/fileadmin/nawi-institute/Erdwissenschaften/NawiGrazGeozentrum_Small.png\" align=\"right\" width=200>\n",
    "\n",
    "# Recap notebook - Some additional notes on the lecture\n",
    "\n",
    "*Developed by Johannes Haas and Matevz Vremec University of Graz, 2022.*\n",
    "\n",
    "In this notebook we will be revisiting a few things where some people seemed to struggle and introduce a few more points on producing nice plots and reading and producing Excel files.\n",
    "\n",
    "### Lecture content\n",
    "\n",
    "1. Syntax, Functions and Errors\n",
    "2. Some more Details on plotting\n",
    "3. Tips for programming\n",
    "4. Retrieving information from Websites\n",
    "5. Python Hacks for Everyday Life\n",
    "6. Working with pandas and Excel sheets"
   ]
  },
  {
   "cell_type": "code",
   "execution_count": null,
   "metadata": {},
   "outputs": [],
   "source": [
    "# Imports first\n",
    "import numpy as np\n",
    "import matplotlib.pyplot as plt\n",
    "import pandas as pd"
   ]
  },
  {
   "cell_type": "markdown",
   "metadata": {
    "tags": []
   },
   "source": [
    "## 1. Syntax, Functions and Errors\n",
    "\n",
    "Remember, while python aims to be very close to a human language (try to remember the assembly example from the intro presentation for comparison!), it still differs by quite a bit and is very strict on its grammar!\n",
    "\n",
    "Us humans are very good at just ignoring or \"correcting\" errors or weird grammar. If I tell you to\n",
    "\n",
    "> You should pay attention, this is important!\n",
    "\n",
    "you will all understand it, even if I'd get the grammar wrong, like\n",
    "\n",
    "> Attention you should pay, important this is!\n",
    "\n",
    "or \n",
    "\n",
    ">This Important! Pay attention!\n",
    "\n",
    "With programming languages, we do not have this luxury! If the syntax doesn't fit, it fails.\n",
    "\n",
    "Let's say we want to define a variable `a` as `1`. Obviously, this is\n",
    "\n"
   ]
  },
  {
   "cell_type": "code",
   "execution_count": null,
   "metadata": {},
   "outputs": [],
   "source": [
    "a = 1"
   ]
  },
  {
   "cell_type": "markdown",
   "metadata": {},
   "source": [
    "But you could also try to do it the other way round. For us humans, it's pretty clear how it's meant, but for the computer, it isn't!"
   ]
  },
  {
   "cell_type": "code",
   "execution_count": null,
   "metadata": {},
   "outputs": [],
   "source": [
    "1 = a"
   ]
  },
  {
   "cell_type": "markdown",
   "metadata": {},
   "source": [
    "Same with a function, for us"
   ]
  },
  {
   "cell_type": "code",
   "execution_count": null,
   "metadata": {},
   "outputs": [],
   "source": [
    "def doublestring(string):\n",
    "    # Takes a string and returns it twice\n",
    "    S2 = string * 2\n",
    "    return S2"
   ]
  },
  {
   "cell_type": "markdown",
   "metadata": {},
   "source": [
    "and"
   ]
  },
  {
   "cell_type": "code",
   "execution_count": null,
   "metadata": {},
   "outputs": [],
   "source": [
    "def doublestring(string):\n",
    "# Takes a string and returns it twice\n",
    "    S2 = string * 2\n",
    "    return S2"
   ]
  },
  {
   "cell_type": "markdown",
   "metadata": {},
   "source": [
    "are similar enough to understand it, but for the computer, they are not!\n",
    "However, it can figure out what kind of error it is, and where it occurs.\n",
    "Note the **last** line of the errors: `SyntaxError:` in the first example and `IndentationError:` in the last one. \n",
    "This already tells you what kind of error it is with more details after the `:` `cannot assign to literal` and `expected an indented block`.\n",
    "The first one is indeed a bit enigmatic, but the second one should be self explanatory, telling you that python expected an indentation.\n",
    "Note the `^` Character: It tries to give the position of the error.\n",
    "But be careful: It gives the position where the error occurs, not necessarily what causes it! In these two cases, they are the same."
   ]
  },
  {
   "cell_type": "code",
   "execution_count": null,
   "metadata": {},
   "outputs": [],
   "source": [
    "n = 10\n",
    "x_data = np.linspace(1, 10, n)\n",
    "n = 10\n",
    "y_data = np.random.rand(n)\n",
    "plt.plot(x_data, y_data)"
   ]
  },
  {
   "cell_type": "markdown",
   "metadata": {},
   "source": [
    "In the example above however, you have to go one step back. If you look at the first lines, it tells you\n",
    "\n",
    "    ValueError                                Traceback (most recent call last)\n",
    "    d:\\Lectures\\Computer_Methods\\2022\\recap.ipynb Cell 12' in <cell line: 5>()\n",
    "          3 n=11\n",
    "          4 y_data = np.random.rand(n)\n",
    "    ----> 5 plt.plot(x_data, y_data)\n",
    "\n",
    "Giving you the type of error (`ValueError`) and where it occurs (Full path to your file, different on your PC than the example in this box) and an arrow (`---->`) pointing at the line of code where the error occurs in.\n",
    "\n",
    "Everything below is tracing the error throughout the whole of python, each new block telling you what went wrong. **Unless the error occured in a function you have written yourself (in this case, the second block is the most important, as this tells you what went wrong in your function), you can ignore all these lines, except for the last one again!**\n",
    "Here, python again tries to be helpful, telling you `x and y must have same first dimension, but have shapes (10,) and (11,)`.\n",
    "In this case, this means that you're trying to plot an `x` of length 10, against an `y` of length 11, which obviously doesn't work.\n",
    "\n",
    "However, `----> 5 plt.plot(x_data, y_data)` isn't where we made the mistake, it's line `3 n=11`, where we accidentally overwrote our `n = 10` with `11`, thus causing `y_data` to have a different length from `x_data`.\n",
    "\n",
    "The nice thing about jupyter notebooks is, that you can jump back and forth, changing things and trying out new stuff, but if you're (re-)using variables that you defined in some other code cell, unexpected things can happen! In the example above, it's hopefully pretty clear, with both `n` being so close, but with large notebooks, it can become difficult quite fast, and python can **not** point out which cell is causing trouble.\n",
    "\n",
    "## 2. Some more Details on plotting\n",
    "\n",
    "So far, we have been doing mostly very simple plots, not taking into account that\n",
    "\n",
    " - a) you sometimes have to plot more in one figure than one or two lines, and\n",
    " - b) you want your plots to be nice to look at, and more important: Publication ready.\n",
    "\n",
    "If you just want to plot many things, quickly, just pick your desired combination of `color=`, `linestyle=` and/or `marker=`, e.g.:\n",
    "\n"
   ]
  },
  {
   "cell_type": "code",
   "execution_count": null,
   "metadata": {},
   "outputs": [],
   "source": [
    "n = 100\n",
    "x_data = np.linspace(0, 10, 100)\n",
    "y_true = 0.5 * x_data + 10\n",
    "y_data = y_true + np.random.rand(n) - 0.5  # Add some random noise\n",
    "plt.plot(x_data, y_true, color='red')\n",
    "plt.plot(x_data, y_data, marker=\"*\", linestyle=\"-.\", color='#2ca02c')"
   ]
  },
  {
   "cell_type": "code",
   "execution_count": null,
   "metadata": {},
   "outputs": [],
   "source": [
    "y_data.var()"
   ]
  },
  {
   "cell_type": "markdown",
   "metadata": {},
   "source": [
    "As you can see, there's various options. `color='blue'` and `marker='*'` are probably very obvious, but `linestyle=(0, (3, 1, 1, 1))` and `color='#2ca02c'` probably aren't.\n",
    "As with almost everything in python, there's multiple ways to get your result. Take `color`: If you [look at the documentation](https://matplotlib.org/stable/tutorials/colors/colors.html) you see many ways to represent a color. You can get the most basic ones with single letters, e.g. `b` is blue and `k` is black and most *obvious* colors can simply also be adressed by their name (`blue`, `black`), but if you want something very specific, you have to either give the hex RGB string (`#0003ff`, `#000000`) or go wild with [XKCD](https://xkcd.com/color/rgb/)"
   ]
  },
  {
   "cell_type": "code",
   "execution_count": null,
   "metadata": {},
   "outputs": [],
   "source": [
    "plt.figure(figsize=(5, 5), dpi=300)\n",
    "plt.text(0, 0.8, 'blue', color='b', fontsize=25)\n",
    "plt.text(0, 0.4, 'also blue', color='blue', fontsize=25)\n",
    "plt.text(0, 0, 'still blue', color='#0003ff', fontsize=25)\n",
    "plt.text(4.5, 0.8, 'blue, but lighter', color='lightblue', fontsize=25)\n",
    "plt.text(4.5, 0.4, 'another blue', color='#1c1d5a', fontsize=25)\n",
    "plt.text(4.5, 0, 'baby blue', color='xkcd:baby blue', fontsize=10)\n",
    "plt.xlim(0, 1)\n",
    "plt.ylim(0, 1)"
   ]
  },
  {
   "cell_type": "markdown",
   "metadata": {},
   "source": [
    "We'll spare you playing around with `markers` and `linestyle`, but we're certain you will find something you like in the documentation:\n",
    "\n",
    "https://matplotlib.org/stable/api/markers_api.html and  [this here for basic](https://matplotlib.org/stable/api/_as_gen/matplotlib.lines.Line2D.html#matplotlib.lines.Line2D.set_linestyle) and [here for custom linestyles](https://matplotlib.org/stable/gallery/lines_bars_and_markers/linestyles.html).\n",
    "\n",
    "Great! Now you have everything you need for a nice plot!\n",
    "\n",
    "However, we have not yet discussed the most important things: Readability and aesthetics.\n",
    "\n",
    "If we're going back to our example:\n"
   ]
  },
  {
   "cell_type": "code",
   "execution_count": null,
   "metadata": {},
   "outputs": [],
   "source": [
    "plt.plot(x_data, y_true, color='red')\n",
    "plt.plot(x_data, y_data, marker=\"*\", linestyle=(0, (3, 1, 1, 1)), color='#2ca02c')"
   ]
  },
  {
   "cell_type": "markdown",
   "metadata": {},
   "source": [
    "Probably looks good enough, but it'll be hard to read for someone who's red-green blind and it probably won't be distinguishable when printing it in black and white, so you have to be careful to pick colors that are OK for red-green blind people (and there's a few more such things, not only the well known red and green) and that prints well, maybe also good to take into account that the colors must be different enough to be distinguishable, yet similar enough to allow for easily visible groups, maybe they should also have a hue, to be mapped to another feature, be visually pleasing and so on...\n",
    "\n",
    "You can now start googling for all of those, or, this being python, just import something!"
   ]
  },
  {
   "cell_type": "code",
   "execution_count": null,
   "metadata": {},
   "outputs": [],
   "source": [
    "import seaborn as sns"
   ]
  },
  {
   "cell_type": "markdown",
   "metadata": {},
   "source": [
    "[seaborn](https://seaborn.pydata.org/index.html) is a plotting package working on top of matplotlib, which has many, typical statiscal plots readily available. Apart from this, a lot of work went into making all kinds of plots good looking, with [color schemes](https://seaborn.pydata.org/tutorial/color_palettes.html) that don't exclude people or printers.\n",
    "\n",
    "When using seaborn, it makes sense to simply not define colors for most plots, and just let seaborn use its defaults."
   ]
  },
  {
   "cell_type": "code",
   "execution_count": null,
   "metadata": {},
   "outputs": [],
   "source": [
    "sns.lineplot(x_data, y_true,)"
   ]
  },
  {
   "cell_type": "code",
   "execution_count": null,
   "metadata": {},
   "outputs": [],
   "source": [
    "plt.plot(x_data, y_true)\n",
    "plt.plot(x_data, y_data, marker='x', linestyle='')"
   ]
  },
  {
   "cell_type": "markdown",
   "metadata": {},
   "source": [
    "## 3. Tips for programming\n",
    "\n",
    "* dir()\n",
    "* help()\n",
    "* run shell commands (create new folder)\n",
    "* string formatting\n",
    "\n",
    "Learn what operations can be performed on an element by using dir(). The elements returned from dir() are all of the methods that you can apply to the element."
   ]
  },
  {
   "cell_type": "code",
   "execution_count": null,
   "metadata": {},
   "outputs": [],
   "source": [
    "a = [2, 4, 5, 6]\n",
    "b = np.array(a)\n",
    "c = \"Geo Python\""
   ]
  },
  {
   "cell_type": "markdown",
   "metadata": {},
   "source": [
    "Use the built-in help system to get full documentation about an element or function:"
   ]
  },
  {
   "cell_type": "code",
   "execution_count": null,
   "metadata": {},
   "outputs": [],
   "source": [
    "help(c.split)"
   ]
  },
  {
   "cell_type": "markdown",
   "metadata": {},
   "source": [
    "Run shell commands. Create a new folder."
   ]
  },
  {
   "cell_type": "code",
   "execution_count": null,
   "metadata": {},
   "outputs": [],
   "source": [
    "import os\n",
    "\n",
    "# Create a folder called \"Data\"\n",
    "os.mkdir(\"Data\")"
   ]
  },
  {
   "cell_type": "code",
   "execution_count": null,
   "metadata": {},
   "outputs": [],
   "source": [
    "os.getcwd()"
   ]
  },
  {
   "cell_type": "markdown",
   "metadata": {},
   "source": [
    "Python 3.6 added a new string formatting approach called “f-strings” (formatted string literals). \n",
    "This new way of formatting strings lets you use embedded Python expressions inside string constants. \n",
    "Here’s a simple example to give you a feel for the feature:"
   ]
  },
  {
   "cell_type": "code",
   "execution_count": null,
   "metadata": {},
   "outputs": [],
   "source": [
    "name = \"Matt\"\n",
    "age = [2, 4, 65]\n",
    "sentence = f\"Hi, I'm {name} and I'm {age[-1]} years old\"\n",
    "print(sentence)"
   ]
  },
  {
   "cell_type": "markdown",
   "metadata": {},
   "source": [
    "### Exercise 3a. Save a .txt file in a newly created folder.\n",
    "\n",
    "Create a folder called \"Dataset\" with Python.\n",
    "\n",
    "Write the following sentence in a file named \"Information.txt\" and save it in the folder \"Dataset\":\n",
    "\n",
    "*My name is A. I am B years old and my favorite number is: C*"
   ]
  },
  {
   "cell_type": "code",
   "execution_count": null,
   "metadata": {},
   "outputs": [],
   "source": [
    "# Type your answer here\n",
    "np.savetxt()"
   ]
  },
  {
   "cell_type": "markdown",
   "metadata": {},
   "source": [
    "### Exercise 3b. Python f-string loop\n",
    "Create a *welcome()* function that contains an f-string and prints out:\n",
    "    \n",
    "*My name is A. I am B years old and my favorite number is: C*\n",
    "\n",
    "Note:  Function arguments must contain A, B and C."
   ]
  },
  {
   "cell_type": "code",
   "execution_count": null,
   "metadata": {},
   "outputs": [],
   "source": [
    "# Type your answer here\n"
   ]
  },
  {
   "cell_type": "markdown",
   "metadata": {
    "tags": []
   },
   "source": [
    "## 4. Retrieving information from Websites\n",
    "\n",
    "Let's learn how to pull information from websites using Python (Web Scraping).\n",
    "\n",
    "**But first, lets check how to install Python packages.**\n",
    "\n",
    "**Requests** is a widely used library to send HTTP requests. Learning to send requests in Python is a part of any budding developer’s journey (https://requests.readthedocs.io/en/latest/). \n",
    "\n",
    "**BeautifulSoup** Beautiful Soup is a Python library for pulling data out of HTML and XML files. It works with your favorite parser to provide idiomatic ways of navigating, searching, and modifying the parse tree. It commonly saves programmers hours or days of work (https://www.crummy.com/software/BeautifulSoup/bs4/doc/)."
   ]
  },
  {
   "cell_type": "code",
   "execution_count": null,
   "metadata": {},
   "outputs": [],
   "source": [
    "import requests\n",
    "from bs4 import BeautifulSoup"
   ]
  },
  {
   "cell_type": "code",
   "execution_count": null,
   "metadata": {},
   "outputs": [],
   "source": [
    "# Define the website from which the data is to be extracted\n",
    "website = \"https://wetter.orf.at/steiermark/grazuniversitaet/\"\n",
    "\n",
    "# \n",
    "html = requests.get(website).content"
   ]
  },
  {
   "cell_type": "markdown",
   "metadata": {},
   "source": [
    "*get()*, as the name indicates, is an attempt to acquire data from a specified source (usually, a website). In order to send a GET request, invoke requests.get().\n",
    "\n",
    "Due to its simple ways of navigating, searching and modifying the parse tree, **Beautiful Soup** is ideal even for beginners and usually saves developers hours of work. "
   ]
  },
  {
   "cell_type": "code",
   "execution_count": null,
   "metadata": {},
   "outputs": [],
   "source": [
    "soup = BeautifulSoup(html, \"html.parser\")\n",
    "temp = soup.select_one('span:-soup-contains(\"Temperatur\")').find_next_sibling(text=True).split()[0].replace(\",\", \".\")\n",
    "#temp = float(soup.select_one('span:-soup-contains(\"Temperatur\")').find_next_sibling(text=True).split()[0].replace(\",\", \".\"))\n",
    "print(f\"The temperature in Graz is {temp} °C\")"
   ]
  },
  {
   "cell_type": "markdown",
   "metadata": {},
   "source": [
    "### Exercise 4a. Retrieve information about the Bitcoin price\n",
    "\n",
    "Extract the price of Bitcoin (A) at the current time (B), and print out:\n",
    "    \n",
    "*The price of Bitcoin at A,  is B:\"\n",
    "\n",
    "Note: add *.json()* after calling the function *.get()*, since the Binance API returns a JSON response. We can convert it to a Python object by calling the .json()"
   ]
  },
  {
   "cell_type": "code",
   "execution_count": null,
   "metadata": {},
   "outputs": [],
   "source": [
    "# Bitcoin price\n",
    "bitcoin_api_url = \"https://api.binance.com/api/v3/ticker/price?symbol=BTCUSDT\"\n",
    "A = requests.get(bitcoin_api_url).json()[\"price\"]\n",
    "\n",
    "# Current time\n",
    "from datetime import datetime\n",
    "now = datetime.now()\n",
    "B = now.strftime(\"%H:%M:%S %Y-%m-%d\")\n",
    "# Print\n",
    "print(f\"The price of Bitcoin at {A}, is {B}:\")"
   ]
  },
  {
   "cell_type": "markdown",
   "metadata": {},
   "source": [
    "## 5. Python Hacks for Everyday Life"
   ]
  },
  {
   "cell_type": "markdown",
   "metadata": {},
   "source": [
    "Create a special heads or tails coin flip simulator. "
   ]
  },
  {
   "cell_type": "code",
   "execution_count": null,
   "metadata": {},
   "outputs": [],
   "source": [
    "import random\n",
    "random.choice(['Head',\"Tail\"])"
   ]
  },
  {
   "cell_type": "code",
   "execution_count": 1,
   "metadata": {},
   "outputs": [],
   "source": [
    "from pdf2docx import Converter"
   ]
  },
  {
   "cell_type": "markdown",
   "metadata": {},
   "source": [
    "Convert .pdf files to .docx files using *pdf2docx*:"
   ]
  },
  {
   "cell_type": "code",
   "execution_count": null,
   "metadata": {},
   "outputs": [],
   "source": [
    "pdf_file = \"C:\\Users\\Matevz\\Documents\\Python_course\\lecture_7//EGU21-15008-print.pdf\"\n",
    "docx_file = \"EGU21-15008-print.docx\"\n",
    "\n",
    "# convert pdf to docx\n",
    "cv = Converter(pdf_file)\n",
    "cv.convert(docx_file)      # all pages by default\n",
    "cv.close()"
   ]
  },
  {
   "cell_type": "markdown",
   "metadata": {},
   "source": [
    "## 6. Working with eHYD data\n",
    "\n",
    "As you've probably noticed, we much prefer `csv` files over Excel, as they're working perfectly fine since dozens of years and for many more years to come, no matter if you're opening them on notepad on windows, emacs on a linux machine or sublime text on a mac (and hundreds more editors...), whereas you might be strugling to open a 10 year old `xls` file on a modern Excel, or worse, LibreOffice on Linux or numbers on a Mac.\n",
    "\n",
    "However, there are many benefits to Excel (and its smaller brothers), so it sometimes makes sense to work with Excel and python. Thus pandas can also read and write Excel files, by default.\n",
    "\n",
    "Let's look at some stuff from the first Excel exercise, in python:"
   ]
  },
  {
   "cell_type": "code",
   "execution_count": null,
   "metadata": {},
   "outputs": [],
   "source": [
    "# read in some preprocessed Excel file for the Hammerbach\n",
    "Hammerbach = pd.read_excel('Quellschüttung-Tagesmittel-395855.xlsx', header=[0], index_col=0, parse_dates=True, decimal=\",\", na_values=\"Lücke\")"
   ]
  },
  {
   "cell_type": "code",
   "execution_count": null,
   "metadata": {},
   "outputs": [],
   "source": [
    "print(Hammerbach.index)"
   ]
  },
  {
   "cell_type": "markdown",
   "metadata": {},
   "source": [
    "Similar, to `read_csv`, we have define a few things and immidiately got a dataframe, with working datetime index and all.\n",
    "\n",
    "However, if you look at the original csv file from Ehyd, more work would be required in python, to get that one to work. If you just need to read one or two files, just prepare the file in notepad or similar, but if you want to plot *all* of ehyd (a few thousand files...), it's probably worth it to figure out how to do that in python, automatically."
   ]
  },
  {
   "cell_type": "code",
   "execution_count": null,
   "metadata": {},
   "outputs": [],
   "source": [
    "# Plot it, with labels\n",
    "Hammerbach.plot(xlabel='Time', ylabel='Schüttung [l/s]')"
   ]
  },
  {
   "cell_type": "code",
   "execution_count": null,
   "metadata": {},
   "outputs": [],
   "source": [
    "# Get the basic statistics\n",
    "Hammerbach.describe()"
   ]
  },
  {
   "cell_type": "code",
   "execution_count": null,
   "metadata": {},
   "outputs": [],
   "source": [
    "# Get the data from 2014 on\n",
    "Hammerbach_2014 = Hammerbach['2014':]"
   ]
  },
  {
   "cell_type": "code",
   "execution_count": null,
   "metadata": {},
   "outputs": [],
   "source": [
    "Hammerbach_2014.plot(xlabel='Time', ylabel='Schüttung [l/s]', )"
   ]
  },
  {
   "cell_type": "code",
   "execution_count": null,
   "metadata": {},
   "outputs": [],
   "source": [
    "# And save the 2014 data in an Excel file again:\n",
    "#Hammerbach_2014.to_excel('Hammerbach_2014.xlsx')"
   ]
  }
 ],
 "metadata": {
  "kernelspec": {
   "display_name": "Python 3 (ipykernel)",
   "language": "python",
   "name": "python3"
  },
  "language_info": {
   "codemirror_mode": {
    "name": "ipython",
    "version": 3
   },
   "file_extension": ".py",
   "mimetype": "text/x-python",
   "name": "python",
   "nbconvert_exporter": "python",
   "pygments_lexer": "ipython3",
   "version": "3.9.12"
  },
  "vscode": {
   "interpreter": {
    "hash": "86c8f3c210eb8d6f40e2b649d32f08da6665e2243840fcb2b1ddc4f6cc908f42"
   }
  }
 },
 "nbformat": 4,
 "nbformat_minor": 4
}
