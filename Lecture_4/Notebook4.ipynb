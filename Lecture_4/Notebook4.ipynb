{
 "cells": [
  {
   "cell_type": "markdown",
   "metadata": {},
   "source": [
    "<img src=\"https://static.uni-graz.at/fileadmin/nawi-institute/Erdwissenschaften/NawiGrazGeozentrum_Small.png\" align=\"right\" width=200>\n",
    "\n",
    "# Notebook 4: Python Functions \n",
    "\n",
    "*Developed by Raoul Collenteur and Matevž Vremec, Institute of Earth Sciences, NAWI Graz Geocenter, University of Graz*\n",
    "\n",
    "## Lecture content\n",
    "1. [Reusable code: Python functions](#1-Python-functions)\n",
    "2. [Saving and loading functions](#2-Saving-and-loading-functions)\n",
    "3. [Reading data with Numpy](#3-Reading-data-with-Numpy)\n",
    "4. [Additional readings](#4-Additional-Readings)\n",
    "\n",
    "In this notebook we will learn how to write reusable pieces of Python code: functions. Python functions are extremely useful when we need to perform a certain operation or calculation multiple times. Together with the for-loops and conditional statements from the last lecture Python functions form some of the core functionality that makes programming so usefull."
   ]
  },
  {
   "cell_type": "code",
   "execution_count": 1,
   "metadata": {},
   "outputs": [],
   "source": [
    "# Import the python packages needed in this session\n",
    "import numpy as np\n",
    "import matplotlib.pyplot as plt"
   ]
  },
  {
   "cell_type": "markdown",
   "metadata": {},
   "source": [
    "# 1 Python functions\n",
    "Functions are fundamental building blocks in most programming languages and are used to store repetitive sequences of code to perform a certain (single) task.\n",
    "\n",
    "As you may have noticed, we have already used quite a few functions throughout our Python programming course. Remember for example `np.sin`, `plt.plot`, or `type`? All of these were in fact functions that defined a piece of code to perform a certain task. Python packages can also be seen as a collection of functions for tasks we have to perform more often, such as calculating the sine, plot a time series or discover the type of a variable.\n",
    "\n",
    "A function is 'called' by typing in the function name, followed by an opening bracket (`(`), the functions' input arguments, and a closing round bracket (`)`). For example:"
   ]
  },
  {
   "cell_type": "code",
   "execution_count": 2,
   "metadata": {},
   "outputs": [
    {
     "data": {
      "text/plain": [
       "0.9092974268256817"
      ]
     },
     "execution_count": 2,
     "metadata": {},
     "output_type": "execute_result"
    }
   ],
   "source": [
    "np.sin(2)"
   ]
  },
  {
   "cell_type": "markdown",
   "metadata": {},
   "source": [
    "In the above code-block we use the function `sin` within the numpy package to calculate the $\\sin$ of 2. The number 2 is the input argument, and `sin` is the function. Let's look how we can define a function ourselves.\n",
    "\n",
    "## Function definition\n",
    "To define a function we start with writing `def` followed a space and then the name of the new function we want to create. The name can be anything but it is common practice to stick to letters, underscores (`_`) and sometimes numbers. It is also good practice to give the function a name that makes clear what the function does (as `multiply` above for example). There are a few function names that are already in use by the Python Standard Library, see additional readings for a list.\n",
    "\n",
    "The name of the function is followed by an opening bracket `(`, some input arguments, and a closing bracket `)` and a colon `:`. After the opening and closing brackets with the arguments in between, the actual operation begins in the code block starting on the next line, indented by four spaces or a tab. This is quite similar to how for-loops are written. Let's look at a working example:"
   ]
  },
  {
   "cell_type": "code",
   "execution_count": 3,
   "metadata": {},
   "outputs": [],
   "source": [
    "def print_something(something):\n",
    "    print(something)  # Note the four spaces at the beginning of this line"
   ]
  },
  {
   "cell_type": "markdown",
   "metadata": {},
   "source": [
    "Now that we have defined the function, we can call it:"
   ]
  },
  {
   "cell_type": "code",
   "execution_count": 4,
   "metadata": {},
   "outputs": [
    {
     "name": "stdout",
     "output_type": "stream",
     "text": [
      "This is my second function\n"
     ]
    }
   ],
   "source": [
    "arg = \"This is my second function\"\n",
    "print_something(arg)"
   ]
  },
  {
   "cell_type": "markdown",
   "metadata": {},
   "source": [
    "The above function takes one input argument (`something`) and prints that values to the screen. Often we want a function to do something, and return a value. This can be achieved by adding a `return` statement at the end of a method. For example, consider the following function that multiplies to values, and returns the result."
   ]
  },
  {
   "cell_type": "code",
   "execution_count": 5,
   "metadata": {},
   "outputs": [],
   "source": [
    "def multiply(a, b):\n",
    "    return a * b"
   ]
  },
  {
   "cell_type": "code",
   "execution_count": 6,
   "metadata": {},
   "outputs": [
    {
     "name": "stdout",
     "output_type": "stream",
     "text": [
      "2 times 3 is : 6\n"
     ]
    }
   ],
   "source": [
    "# Let's use our multiply function\n",
    "print(\"2 times 3 is :\", multiply(2,3))"
   ]
  },
  {
   "cell_type": "markdown",
   "metadata": {},
   "source": [
    "### Exercise 1a: write a function\n",
    "Write the following python function :\n",
    "- named `create_matrix`\n",
    "- with two input arguments: `n` and `m`\n",
    "- that creates and returns a NxM numpy array with values 6.0\n",
    "\n",
    "To test your function, call the method and print the result."
   ]
  },
  {
   "cell_type": "code",
   "execution_count": 7,
   "metadata": {},
   "outputs": [
    {
     "ename": "NameError",
     "evalue": "name 'create_matrix' is not defined",
     "output_type": "error",
     "traceback": [
      "\u001b[1;31m---------------------------------------------------------------------------\u001b[0m",
      "\u001b[1;31mNameError\u001b[0m                                 Traceback (most recent call last)",
      "\u001b[1;32m<ipython-input-7-833cd76de559>\u001b[0m in \u001b[0;36m<module>\u001b[1;34m\u001b[0m\n\u001b[0;32m      2\u001b[0m \u001b[1;33m\u001b[0m\u001b[0m\n\u001b[0;32m      3\u001b[0m \u001b[1;31m# Test you method\u001b[0m\u001b[1;33m\u001b[0m\u001b[1;33m\u001b[0m\u001b[1;33m\u001b[0m\u001b[0m\n\u001b[1;32m----> 4\u001b[1;33m \u001b[0mA\u001b[0m \u001b[1;33m=\u001b[0m \u001b[0mcreate_matrix\u001b[0m\u001b[1;33m(\u001b[0m\u001b[1;36m2\u001b[0m\u001b[1;33m,\u001b[0m\u001b[1;36m2\u001b[0m\u001b[1;33m)\u001b[0m\u001b[1;33m\u001b[0m\u001b[1;33m\u001b[0m\u001b[0m\n\u001b[0m",
      "\u001b[1;31mNameError\u001b[0m: name 'create_matrix' is not defined"
     ]
    }
   ],
   "source": [
    "# Define your function here\n",
    "\n",
    "# Test you method\n",
    "A = create_matrix(2,2)"
   ]
  },
  {
   "cell_type": "markdown",
   "metadata": {},
   "source": [
    "[Answer](#Exercise-1a)"
   ]
  },
  {
   "cell_type": "markdown",
   "metadata": {},
   "source": [
    "### Arguments and keyword arguments\n",
    "A function can take one or more input arguments, as for example `a` and `b` in the `multiply` function. In many cases, these arguments have some kind of default value. If this is the case, you can provide the default value in the function definition to make your function easier to use. Have a look at this example:"
   ]
  },
  {
   "cell_type": "code",
   "execution_count": 8,
   "metadata": {},
   "outputs": [],
   "source": [
    "def multiply2(a, b=2):\n",
    "    val = a * b\n",
    "    return val"
   ]
  },
  {
   "cell_type": "code",
   "execution_count": 9,
   "metadata": {},
   "outputs": [
    {
     "name": "stdout",
     "output_type": "stream",
     "text": [
      "10\n"
     ]
    }
   ],
   "source": [
    "print(multiply2(5)) # No need to fill in the value b\n",
    "#print(multiply2(5, 3)) # But we still can"
   ]
  },
  {
   "cell_type": "markdown",
   "metadata": {},
   "source": [
    "### Local vs. Global variables\n",
    "One more thing we want to know about functions is about local versus global variables. local variables are variables that are defined within the function definition. These are not available outside the function. Global variables are defined outside the function, but are available for use within the function. \n",
    "\n",
    "It is good practice however, to not use any global variables in a python function. This ensures that we can use the function in other places. Python first checks for local variables and, if it cannot find any, will go to global variables."
   ]
  },
  {
   "cell_type": "code",
   "execution_count": null,
   "metadata": {},
   "outputs": [],
   "source": [
    "b = 2 # Global variable\n",
    "\n",
    "def add(a, b=2):\n",
    "    c = 4 # Local variable\n",
    "    #d = a + b + c\n",
    "    #return d\n",
    "    return a + b + c\n",
    "\n",
    "add(3)\n",
    "#print(c) # Will give an error"
   ]
  },
  {
   "cell_type": "markdown",
   "metadata": {},
   "source": [
    "### Exercise 1b: calculate and plot the cumulative sum\n",
    "In this exercise we will calculate the cumulative sum of a list of numbers. Write a function named `cumsum` that calculates the cumulative sum for a list of numbers. For example, the cumsum of the list [1,2,3] is [1, 4, 7]. Make a plot of the result."
   ]
  },
  {
   "cell_type": "code",
   "execution_count": null,
   "metadata": {},
   "outputs": [],
   "source": [
    "numbers = [0, 1, 2, 3, 4, 5, 6, 7, 8, 9, 10]\n",
    "\n",
    "# Write your function here\n",
    "\n",
    "cumsum(numbers) # => should return [0, 1, 3, 6, 10, 15, 21, 28, 36, 45, 55]\n",
    "# np.cumsum(numbers)  # Check your answer using the Numpy function\n",
    "\n",
    "plt.plot(cumsum(numbers))"
   ]
  },
  {
   "cell_type": "markdown",
   "metadata": {},
   "source": [
    "[Answer](#Exercise-1b)"
   ]
  },
  {
   "cell_type": "markdown",
   "metadata": {},
   "source": [
    "## Function Documentation\n",
    "Remember you can use shift-tab to find out about the input arguments of the function. This will also tell you about the default values. You may have noticed how there is no documentation string (docstring) available for this function. This is because we have not defined it yet. It is good practice to add a docstring to a method. The first line briefly explains what the functions does, and can be followed by more detailed information. In the additional reading list you will find a link with more information about docstrings."
   ]
  },
  {
   "cell_type": "code",
   "execution_count": null,
   "metadata": {},
   "outputs": [],
   "source": [
    "def multiply(a, b):\n",
    "    \"\"\"Function that multiplies two values and returns the result.\n",
    "    \n",
    "    Parameters\n",
    "    ----------\n",
    "    a: int or float\n",
    "    b: int or float\n",
    "    \n",
    "    Returns\n",
    "    -------\n",
    "    result: float\n",
    "        Multplication of a and b.\n",
    "    \n",
    "    \"\"\"\n",
    "    result = a * b\n",
    "    return result\n",
    "\n",
    "multiply?"
   ]
  },
  {
   "cell_type": "markdown",
   "metadata": {},
   "source": [
    "### Exercise 1c. Write a Larger than function\n",
    "Write a function named `is_larger_than` that returns `True` if `x` is larger than `y`, and `False` otherwise. Use a for-loop to test the method by comparing the numbers in the following list to `y=2`: "
   ]
  },
  {
   "cell_type": "code",
   "execution_count": null,
   "metadata": {},
   "outputs": [],
   "source": [
    "values = [1, 2, 7, 0, -1, 4, 3, 1.5]\n",
    "y = 2\n",
    "\n",
    "# Your function goes here\n",
    "\n",
    "for x in values:\n",
    "    print(is_larger_than(x, y))"
   ]
  },
  {
   "cell_type": "markdown",
   "metadata": {},
   "source": [
    "[Answer](#Exercise-1c)"
   ]
  },
  {
   "cell_type": "markdown",
   "metadata": {},
   "source": [
    "# 2 Saving and loading functions\n",
    "Functions such as the ones we just creater can also be saved and used in multiple Jupyter Notebooks. This can be done by saving functions in a single `.py` file from which we can then import and use them whenever needed. \n",
    "## General concepts of a .py script file\n",
    "At this point we have been writing our Python code and Markdown comments in single Jupyter notebook documents. In some cases we may want to store part of our code (functions) in a separate document making our Juypter Notebook easier to read and use. \n",
    "\n",
    "Alternatevely, we can write and run all of our commands in a Python script file. A Python script file is simply a text file, containing a list of the commands we would like to run. The Python command are formatted the same way as in Jupyter Notebook code cells. Python script files traditionally use the `.py` file extension in their names."
   ]
  },
  {
   "cell_type": "markdown",
   "metadata": {},
   "source": [
    "### Exercise 2. Saving and calling Python functions from a script file \n",
    "Write a function named `celsius_to_kelvins` that converts temperatures from Celsius to Kelvins, and store it in a script file named `utils.py`. The file should be stored in the same folder as the Jupyter Notebook. \n",
    "\n",
    "Convert 28 °C to Kelvin, by calling and using the `celsius_to_kelvins` function from `utils.py`."
   ]
  },
  {
   "cell_type": "code",
   "execution_count": null,
   "metadata": {},
   "outputs": [],
   "source": [
    "# Importing our script functions\n",
    "from utils import celsius_to_kelvins  \n",
    "\n",
    "print(celsius_to_kelvins(28))"
   ]
  },
  {
   "cell_type": "markdown",
   "metadata": {},
   "source": [
    "# 3 Reading data with Numpy\n",
    "In the last lecture, we already used the Numpy `loadtxt` method to load data from a text file. In real life, we often need to import some data that has been stored in different types of files. A common format is CSV, or comma separated variables, files. These files can be recognized by the file extension .csv (e.g., `myfile.csv`).\n",
    "\n",
    "Here you can find more about this method: https://docs.scipy.org/doc/numpy-1.13.0/reference/generated/numpy.loadtxt.html\n",
    "\n",
    "Let's have a look at the docstring of this method:"
   ]
  },
  {
   "cell_type": "code",
   "execution_count": null,
   "metadata": {},
   "outputs": [],
   "source": [
    "np.loadtxt # Use shift_tab to get more information"
   ]
  },
  {
   "cell_type": "markdown",
   "metadata": {},
   "source": [
    "### Numpy loadtxt\n",
    "\n",
    "Let's look at some read data this time. In this lecture we will look at some data of the slope of the beach-face and the sediment size. Bujan et al (2018) created a dataset collected from 78 peer-reviewed articles. This dataset is available on Zenodo:\n",
    "\n",
    "*Bujan, Nans, Cox, Ronadh, & Masselink, Gerd. (2018). From fine sand to boulders: examining the relationship between beach-face slope and sediment size. Dataset and references. [Data set]. Zenodo. http://doi.org/10.5281/zenodo.3241984*\n",
    "\n",
    "The file contains information contained in different columns. We want to use this dataset to explore the relationship between the size of the sediments and the slope of the beach face. What could be our hypothesis of this relationship?"
   ]
  },
  {
   "cell_type": "code",
   "execution_count": 10,
   "metadata": {},
   "outputs": [
    {
     "name": "stdout",
     "output_type": "stream",
     "text": [
      "[[ 1.600e+01  1.000e-01 -4.000e+00  5.710e+00]\n",
      " [ 2.600e+00  9.500e-02 -1.379e+00  5.430e+00]\n",
      " [ 2.000e+00  5.500e-02 -1.000e+00  3.150e+00]\n",
      " ...\n",
      " [ 1.700e-01  1.100e-02  2.556e+00  6.400e-01]\n",
      " [ 1.400e+02  2.700e-01 -7.129e+00  1.511e+01]\n",
      " [ 7.000e+01  1.230e-01 -6.129e+00  7.010e+00]]\n"
     ]
    }
   ],
   "source": [
    "# Make sure this file is in the same folder as this notebook\n",
    "fname = \"Size-Slope-Data-Points.csv\"\n",
    "\n",
    "# Go through all of the (keyword) arguments to see what they do\n",
    "data = np.loadtxt(fname, delimiter=\";\", usecols=[2,3,4,5], skiprows=1)\n",
    "print(data)"
   ]
  },
  {
   "cell_type": "code",
   "execution_count": 11,
   "metadata": {},
   "outputs": [
    {
     "data": {
      "text/plain": [
       "Text(0, 0.5, 'Slope (deg)')"
      ]
     },
     "execution_count": 11,
     "metadata": {},
     "output_type": "execute_result"
    },
    {
     "data": {
      "image/png": "[encoded data removed]",
      "text/plain": [
       "<Figure size 432x288 with 1 Axes>"
      ]
     },
     "metadata": {
      "needs_background": "light"
     },
     "output_type": "display_data"
    }
   ],
   "source": [
    "plt.plot(data[:,0], data[:,3], linestyle=\" \", marker=\".\")\n",
    "\n",
    "# Clast size (mm), Slope (tan), Clast size (), Slope (deg)\n",
    "plt.xlabel(\"Clast size (mm)\")\n",
    "plt.ylabel(\"Slope (deg)\")"
   ]
  },
  {
   "cell_type": "markdown",
   "metadata": {},
   "source": [
    "### Exercise 3\n",
    "Write a function that loads data from a file and plots two columns. The function has the following description:\n",
    "\n",
    "- named `plot_data`\n",
    "- three input arguments: `fname`, `x` and `y`. Where fname is a string with the file path and x and y are integers to select the columns.\n",
    "- create a plot of the data with correct x-y labels. You need to store the names of the columns within the function and select the correct a and y labels to do this.\n",
    "- no return statement is needed, but you may return the Matplotlib Axes that are returned by the plot method.\n"
   ]
  },
  {
   "cell_type": "code",
   "execution_count": null,
   "metadata": {},
   "outputs": [],
   "source": [
    "# Type your answer here\n",
    "\n",
    "# Test the function\n",
    "fname = \"Size-Slope-Data-Points.csv\"\n",
    "\n",
    "plot_data(fname, x=0, y=3)"
   ]
  },
  {
   "cell_type": "markdown",
   "metadata": {},
   "source": [
    "[Answer](Exercise-3)"
   ]
  },
  {
   "cell_type": "markdown",
   "metadata": {},
   "source": [
    "# 4 Additional Readings\n",
    "\n",
    "Below is a list of recommended additional readings on the topics of this Notebook:\n",
    "- More info on documentation strings (Docstrings) https://numpydoc.readthedocs.io/en/latest/format.html\n",
    "- Reserved python function names: https://docs.python.org/2/library/functions.html\n",
    "- More information on Python functions: https://www.python-course.eu/python3_functions.php\n",
    "\n",
    "# Answers to the exercises\n",
    "\n",
    "## Exercise 1a"
   ]
  },
  {
   "cell_type": "code",
   "execution_count": null,
   "metadata": {},
   "outputs": [],
   "source": [
    "# Define your function here\n",
    "def create_matrix(n, m):\n",
    "    res = np.full((n, m), 6.0)\n",
    "    return res\n",
    "# Test you method\n",
    "A = create_matrix(2,2)\n",
    "print(A)"
   ]
  },
  {
   "cell_type": "markdown",
   "metadata": {},
   "source": [
    "## Exercise 1b"
   ]
  },
  {
   "cell_type": "code",
   "execution_count": null,
   "metadata": {},
   "outputs": [],
   "source": [
    "# Possible solutions\n",
    "numbers = [0, 1, 2, 3, 4, 5, 6, 7, 8, 9, 10]\n",
    "\n",
    "def cumsum(numbers):\n",
    "    cs = [numbers[0]]\n",
    "    for num in numbers[1:]:\n",
    "        cs.append(cs[-1] + num)\n",
    "    return cs\n",
    "\n",
    "print(cumsum(numbers))"
   ]
  },
  {
   "cell_type": "markdown",
   "metadata": {},
   "source": [
    "## Exercise 1c"
   ]
  },
  {
   "cell_type": "code",
   "execution_count": null,
   "metadata": {},
   "outputs": [],
   "source": [
    "values = [1, 2, 7, 0, -1, 4, 3, 1.5]\n",
    "y = 2\n",
    "\n",
    "# Your function goes here\n",
    "\n",
    "for x in values:\n",
    "    print(is_larger_than(x, y))"
   ]
  },
  {
   "cell_type": "markdown",
   "metadata": {},
   "source": [
    "## Exercice 2"
   ]
  },
  {
   "cell_type": "code",
   "execution_count": null,
   "metadata": {},
   "outputs": [],
   "source": [
    "# Save this function in utils.py\n",
    "def celsius_to_kelvins(temp_celsius):\n",
    "    return temp_celsius + 273.15"
   ]
  },
  {
   "cell_type": "markdown",
   "metadata": {},
   "source": [
    "## Exercise 3"
   ]
  },
  {
   "cell_type": "code",
   "execution_count": null,
   "metadata": {},
   "outputs": [],
   "source": [
    "# Type your answer here\n",
    "def plot_data(fname, x, y):\n",
    "    columns = [\"Clast size (mm)\", \"Slope (tan)\", \"Clast size ()\", \"Slope (deg)\"]\n",
    "    data = data = np.loadtxt(fname, delimiter=\";\", usecols=[2,3,4,5], skiprows=1)\n",
    "    ax = plt.plot(data[:,x], data[:,y], linestyle=\" \", marker=\".\")\n",
    "    plt.xlabel(columns[x])\n",
    "    plt.ylabel(columns[y])\n",
    "    return ax  # Return the Matplotlib Axes\n",
    "    \n",
    "# Test the function\n",
    "fname = \"Size-Slope-Data-Points.csv\"\n",
    "\n",
    "plot_data(fname, 0, 2)"
   ]
  },
  {
   "cell_type": "code",
   "execution_count": null,
   "metadata": {},
   "outputs": [],
   "source": []
  }
 ],
 "metadata": {
  "kernelspec": {
   "display_name": "Python 3",
   "language": "python",
   "name": "python3"
  },
  "language_info": {
   "codemirror_mode": {
    "name": "ipython",
    "version": 3
   },
   "file_extension": ".py",
   "mimetype": "text/x-python",
   "name": "python",
   "nbconvert_exporter": "python",
   "pygments_lexer": "ipython3",
   "version": "3.8.3"
  }
 },
 "nbformat": 4,
 "nbformat_minor": 4
}
