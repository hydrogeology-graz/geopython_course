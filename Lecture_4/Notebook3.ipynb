{
 "cells": [
  {
   "cell_type": "markdown",
   "metadata": {},
   "source": [
    "<img src=\"../NAWI_Graz_Logo.png\" align=\"right\" width=150>\n",
    "\n",
    "# Notebook 3: Python Functions and reading files\n",
    "\n",
    "*Developed by Raoul Collenteur, University of Graz*\n",
    "\n",
    "In this notebook we will learn how to write reusable piece of Python code: functions. Python functions are usefull when we need to perform a certain operation or calculation multiple times. We will also learn how to read csv (comma separated variables) files, a common format to store data.\n"
   ]
  },
  {
   "cell_type": "code",
   "execution_count": null,
   "metadata": {},
   "outputs": [],
   "source": [
    "# Import the python packages needed in this session\n",
    "import numpy as np\n",
    "import pandas as pd\n",
    "\n",
    "import matplotlib.pyplot as plt\n",
    "\n",
    "%matplotlib inline"
   ]
  },
  {
   "cell_type": "markdown",
   "metadata": {},
   "source": [
    "## 1. Previous lecture\n",
    "\n",
    "Before we start with the new concepts we will learn in this lecture, let us have a look at the core concepts we learned in the previous notebook.\n",
    "\n",
    "\n",
    "### 1a. Refreshing for-loops"
   ]
  },
  {
   "cell_type": "code",
   "execution_count": null,
   "metadata": {},
   "outputs": [],
   "source": [
    "numbers =  [1,2,3,4,5]\n",
    "\n",
    "for item in numbers:\n",
    "    # Execute this code in the for-loop\n",
    "    print(\"the number is\", item)\n",
    "    \n",
    "# We are done\n",
    "print(\"We are done!\")"
   ]
  },
  {
   "cell_type": "markdown",
   "metadata": {},
   "source": [
    "### 1b. If/else statements and comparison operators\n",
    "- equals: `==`\n",
    "- not equal: `!=`\n",
    "- larger than: `>`\n",
    "- smaller than: `>`\n",
    "- greater than or equal to: `>=`\n",
    "- smaller than or equal to: `<=`"
   ]
  },
  {
   "cell_type": "code",
   "execution_count": null,
   "metadata": {},
   "outputs": [],
   "source": [
    "x = 3\n",
    "y = 10\n",
    "z = 1\n",
    "\n",
    "if x == y:\n",
    "    print(\"x is equal to y\")\n",
    "# We can check multiple conditions using an if/elif/else statement\n",
    "elif x < z:\n",
    "    print(\" is smaller than z\")\n",
    "else:\n",
    "    print(\"x is between y and z\")"
   ]
  },
  {
   "cell_type": "markdown",
   "metadata": {},
   "source": [
    "## 2. Python functions\n",
    "In this lecture we will learn about Python functions. Functions are fundamental building blocks in most programming languages and are used to store repetitive sequences of code to perform a certain (single) task.\n",
    "\n",
    "As you might have noticed, we have already used quite a few functions throughout our Python programming course. Remember for example `np.sin`, `plt.plot`, or `type`? All of these were in fact functions that defined a piece of code to perform a certain task. Python packages can also be seen as a collection of functions for tasks we have to perform more often, such as calculating the sine, plot a variable or discover the type of a variable.\n",
    "\n",
    "A function is 'called' by typing in the function name, followed by an opening bracket (`(`), the functions' input arguments, and a closing round bracket (`)`). For example:"
   ]
  },
  {
   "cell_type": "code",
   "execution_count": null,
   "metadata": {},
   "outputs": [],
   "source": [
    "np.sin(2)"
   ]
  },
  {
   "cell_type": "markdown",
   "metadata": {},
   "source": [
    "In the above code-block we use the function `sin` within the numpy package to calculate the $\\sin$ of 2. The number 2 is the input argument, and `sin` is the function. Let's look how we can define a function ourselves.\n",
    "\n",
    "The following code block defines a function named `multiply` that can be used to multiply `a` by `b`."
   ]
  },
  {
   "cell_type": "code",
   "execution_count": null,
   "metadata": {},
   "outputs": [],
   "source": [
    "def multiply(a, b):\n",
    "    val = a * b\n",
    "    return val"
   ]
  },
  {
   "cell_type": "code",
   "execution_count": null,
   "metadata": {},
   "outputs": [],
   "source": [
    "# Let's use our multiply function\n",
    "print(\"2 times 3 is :\", multiply(2,3))"
   ]
  },
  {
   "cell_type": "markdown",
   "metadata": {},
   "source": [
    "To define a function we start with writing `def` followed a space and then the name of the new function. This can be anything but it is common practice to stick to letters, underscores (`_`) and sometimes numbers. It is also good practice to give the function a name that makes clear what the function does (as `multiply` above for example).\n",
    "\n",
    "After the opening and closing brackets with the arguments in between, the actual operation begins in the code block starting on the next line. This is quite similar to how for-loops are written. At the end of this block (indented by four spaces or a tab), there is always the return value or values. This is the values that will be returned when the function is called.\n",
    "\n",
    "### Arguments and keyword arguments\n",
    "A function can take one or more input arguments, as for example `a` and `b` in the `multiply` function. In many cases, these arguments have some kind of default value. If this is the case, you can provide the default value in the function definition to make your function easier to use. Have a look at this example:"
   ]
  },
  {
   "cell_type": "code",
   "execution_count": null,
   "metadata": {},
   "outputs": [],
   "source": [
    "def multiply2(a, b=2):\n",
    "    val = a * b\n",
    "    return val"
   ]
  },
  {
   "cell_type": "code",
   "execution_count": null,
   "metadata": {},
   "outputs": [],
   "source": [
    "print(multiply2(5)) # No need to fill in the value b\n",
    "print(multiply2(5, 3)) # But we still can"
   ]
  },
  {
   "cell_type": "markdown",
   "metadata": {},
   "source": [
    "Remeber you can use shift-tab to find out about the input arguments of the function. This will also tell you about the default values.\n",
    "\n",
    "### Local vs. Global variables\n",
    "The last thing we want to know about functions (for now at least) is about local versus global variables. local variables are variables that are defined within the function definition. These are not available outside the function. Global variables are defined outside the function, but are available for use within the function. \n",
    "\n",
    "It is good practice however, to not use any global variables in a python function. This ensures that we can use to function in other places. Python first checks for local variables and, if it cannot find any, will go to global variables."
   ]
  },
  {
   "cell_type": "code",
   "execution_count": null,
   "metadata": {},
   "outputs": [],
   "source": [
    "b = 2 # Global variable\n",
    "\n",
    "def add(a, b=4):\n",
    "    c = 4 # Local variable\n",
    "    #d = a + b + c\n",
    "    #return d\n",
    "    return a + b + c\n",
    "\n",
    "add(3)\n",
    "#print(c) # Will give an error"
   ]
  },
  {
   "cell_type": "markdown",
   "metadata": {},
   "source": [
    "### In-class exercise: calculate and plot the cumulative sum\n",
    "In this exercise we will calculate the cumulative sum of a list of numbers. Write a function named `cumsum` that calculate the cumulative sum for a list of numbers. For example, the cumsum of the list [1,2,3] is [1, 4, 7]. Make a plot of the result."
   ]
  },
  {
   "cell_type": "code",
   "execution_count": null,
   "metadata": {},
   "outputs": [],
   "source": [
    "numbers = [0, 1, 2, 3, 4, 5, 6, 7, 8, 9, 10]\n",
    "\n",
    "# Write your function here\n",
    "\n",
    "cumsum(numbers) # => should return [0, 1, 3, 6, 10, 15, 21, 28, 36, 45, 55]\n",
    "# np.cumsum(numbers)\n",
    "\n",
    "plt.plot(cumsum(numbers))"
   ]
  },
  {
   "cell_type": "code",
   "execution_count": null,
   "metadata": {},
   "outputs": [],
   "source": [
    "# Possible solutions\n",
    "\n",
    "def cumsum(numbers):\n",
    "    cs = [numbers[0]]\n",
    "    for num in numbers[1:]:\n",
    "        cs.append(cs[-1] + num)\n",
    "    return cs\n",
    "\n",
    "cumsum(numbers)"
   ]
  },
  {
   "cell_type": "markdown",
   "metadata": {},
   "source": [
    "## 3. Read CSV-files\n",
    "So far, we have only worked with data that was directly defined in our Jupyter Notebook (see e.g., the list with numbers in the above code blocks). In real life however, we often need to import some data that has been stored in different types of files. A common format is CSV, or comma separated variables, files. These files can be recognized by the file extension .csv (e.g., `myfile.csv`).\n",
    "\n",
    "There are many function available through different python packages to import csv-files. A common one is numpy's `loadtxt` method. Here you can find more about this method: https://docs.scipy.org/doc/numpy-1.13.0/reference/generated/numpy.loadtxt.html\n",
    "\n",
    "Another option is available through the Pandas package, Python's go-to package for data analysis. This method is called `read_csv` and contains many options for importing different forms of CSV-files. More information on this method can be found here: https://pandas.pydata.org/pandas-docs/stable/reference/api/pandas.read_csv.html \n",
    "\n",
    "Let's import pandas and have a look at this powerfull method:"
   ]
  },
  {
   "cell_type": "code",
   "execution_count": null,
   "metadata": {},
   "outputs": [],
   "source": [
    "import pandas as pd\n",
    "pd.read_csv # Use shift_tab or ? to get more information"
   ]
  },
  {
   "cell_type": "markdown",
   "metadata": {},
   "source": [
    "### Pandas read_csv \n",
    "Let's look at some real data now! To access hydrological data, the Austrian government has created a web portal named EHYD: http://ehyd.gv.at/. Through this website you can download a variety of hydrological data ranging from water levels to groundwater temperature and rainfall time series. \n",
    "\n",
    "Although the datawe can download from EHYD are CSV-files, we need to provide some arguments to Pandas read_csv method to be able to import it. This is mostly because German formatting is used for the files. You can use the file provided for this lecture or download a file from the website yourselves.\n",
    "\n",
    "NB. (If you have downloaded a file yourselves, please replace all words \"Lücke\" in the csv-file by -999)"
   ]
  },
  {
   "cell_type": "code",
   "execution_count": null,
   "metadata": {},
   "outputs": [],
   "source": [
    "# Make sure this file is in the same folder as this notebook\n",
    "fname = \"Grundwasserstand-Monatsmittel-310532.csv\"\n",
    "\n",
    "# Go through all of the (keyword) arguments to see what they do\n",
    "data = pd.read_csv(fname, sep=\";\", decimal=\",\", dayfirst=True, index_col=0, \n",
    "                   parse_dates=True, usecols=[0,1], skiprows=50, squeeze=True, na_values=[-999])"
   ]
  },
  {
   "cell_type": "markdown",
   "metadata": {},
   "source": [
    "### Pandas datatypes\n",
    "Pandas has two new data types that are are used a lot and are very powerfull: `Series` and `DataFrame`. A `Series` is a 1D-matrix and a `DataFrame` is a 2D-matrix, comparable with a table in Excel. Both of these matrices have an index, which can be really helpfull when indexing data. In this example above, we index has a DateTime format, as the data we are looking at is a time series of the groundwater level. Pandas converted the index to a datetime format automatically for us, by using the argument `parse_dates=True` in the function `read_csv`. In the final lecture we will learn more about Pandas and these data types."
   ]
  },
  {
   "cell_type": "code",
   "execution_count": null,
   "metadata": {},
   "outputs": [],
   "source": [
    "print(\"The data type os the variable data is: \", type(data))\n",
    "\n",
    "# Print the first five rows of data to see what is inside\n",
    "data.head(5)"
   ]
  },
  {
   "cell_type": "code",
   "execution_count": null,
   "metadata": {},
   "outputs": [],
   "source": [
    "# Pandas Series and DataFrames have some pretty cool \n",
    "data.plot()"
   ]
  },
  {
   "cell_type": "markdown",
   "metadata": {},
   "source": [
    "### Exercise 1. Larger than function\n",
    "\n",
    "This exercise you can do at home if you want to practice a little more. Write a function named `is_larger_than` that returns `True` if `x` is larger than `y`, and `False` otherwise. Use a for-loop to test the method by comparing the numbers in the following list to `y=2`:"
   ]
  },
  {
   "cell_type": "code",
   "execution_count": null,
   "metadata": {},
   "outputs": [],
   "source": [
    "values = [1, 2, 7, 0, -1, 4, 3, 1.5]\n",
    "y = 2\n",
    "\n",
    "# Your function goes here\n",
    "\n",
    "for x in values:\n",
    "    print(is_larger_than(x, y))"
   ]
  },
  {
   "cell_type": "code",
   "execution_count": null,
   "metadata": {},
   "outputs": [],
   "source": []
  }
 ],
 "metadata": {
  "kernelspec": {
   "display_name": "Python 3",
   "language": "python",
   "name": "python3"
  },
  "language_info": {
   "codemirror_mode": {
    "name": "ipython",
    "version": 3
   },
   "file_extension": ".py",
   "mimetype": "text/x-python",
   "name": "python",
   "nbconvert_exporter": "python",
   "pygments_lexer": "ipython3",
   "version": "3.6.0"
  }
 },
 "nbformat": 4,
 "nbformat_minor": 2
}
