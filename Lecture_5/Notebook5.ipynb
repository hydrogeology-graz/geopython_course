{
 "cells": [
  {
   "cell_type": "markdown",
   "metadata": {},
   "source": [
    "<img src=\"https://static.uni-graz.at/fileadmin/nawi-institute/Erdwissenschaften/NawiGrazGeozentrum_Small.png\" align=\"right\" width=200>\n",
    "\n",
    "# Notebook 5: Analyzing data with pandas\n",
    "\n",
    "*Developed by Raoul Collenteur and Johannes Haas, Institute of Earth Sciences, NAWI Graz Geocenter, University of Graz.*\n",
    "\n",
    "In this Notebook we will look into Pandas. Pandas (http://pandas.pydata.org) is the Python data analysis package that can be used for many different tasks you might have in Python. \n",
    "In the last lectures we already read and used data in various forms.\n",
    "In this lecture we will look a little closer at Pandas, the most common data types and its powerfull capabilities.\n",
    "\n",
    "\n",
    "\n",
    "\n",
    "## Lecture content\n",
    "\n",
    "1. [Repeating last week](#1-Repeating-last-week)\n",
    "2. [Some pointers on file types](#2-Some-pointers-on-file-types)\n",
    "3. [Reading data with pandas](#3-Reading-data-with-pandas)\n",
    "4. [Basic statistics and accessing data](#4-Basic-statistics-and-accessing-data)\n",
    "5. [Plotting data](#5-Plotting-data)\n",
    "6. [Working with real time series data](#6-Working-with-real-time-series-data)\n",
    "7. [Writing data with pandas](#7-Writing-data-with-pandas)\n",
    "\n"
   ]
  },
  {
   "cell_type": "code",
   "execution_count": 2,
   "metadata": {},
   "outputs": [],
   "source": [
    "# Import the python packages needed in this session\n",
    "import numpy as np\n",
    "import pandas as pd\n",
    "\n",
    "import matplotlib.pyplot as plt"
   ]
  },
  {
   "cell_type": "markdown",
   "metadata": {},
   "source": [
    "# 1 Repeating last week\n",
    "\n",
    "### Functions\n",
    "Last week we looked into functions, reusable sequences of Python code that can be used to perform a certain task multiple times. Let's look at these once again."
   ]
  },
  {
   "cell_type": "code",
   "execution_count": null,
   "metadata": {},
   "outputs": [],
   "source": [
    "def multiply2(a, b=2):\n",
    "    val = a * b\n",
    "    return val\n",
    "\n",
    "print(multiply2(5)) # No need to fill in the value b\n",
    "print(multiply2(5, 3)) # But we still can"
   ]
  },
  {
   "cell_type": "markdown",
   "metadata": {},
   "source": [
    "### Reading CSV files\n",
    "\n",
    "There are many ways to read CSV files.\n",
    "Last lecture we used `loadtxt` from numpy which while quite straightforward still leaves lots to be desired with more complicated data.\n",
    "Thus the most widely used and most important one for our purposes is `read_csv()` from the [pandas](http://pandas.pydata.org/) package which will be introduced in this lecture.\n",
    "When we read the clast size chart in the last lecture, we passed a certain number of columns to the reader, to only get the data:"
   ]
  },
  {
   "cell_type": "code",
   "execution_count": 8,
   "metadata": {},
   "outputs": [
    {
     "name": "stdout",
     "output_type": "stream",
     "text": [
      "[[ 1.600e+01  1.000e-01 -4.000e+00  5.710e+00]\n",
      " [ 2.600e+00  9.500e-02 -1.379e+00  5.430e+00]\n",
      " [ 2.000e+00  5.500e-02 -1.000e+00  3.150e+00]\n",
      " ...\n",
      " [ 1.700e-01  1.100e-02  2.556e+00  6.400e-01]\n",
      " [ 1.400e+02  2.700e-01 -7.129e+00  1.511e+01]\n",
      " [ 7.000e+01  1.230e-01 -6.129e+00  7.010e+00]]\n"
     ]
    }
   ],
   "source": [
    "fname = \"Size-Slope-Data-Points.csv\"\n",
    "\n",
    "# Go through all of the (keyword) arguments to see what they do\n",
    "data = np.loadtxt(fname, delimiter=\";\", usecols=[2,3,4,5], skiprows=1)\n",
    "print(data)"
   ]
  },
  {
   "attachments": {},
   "cell_type": "markdown",
   "metadata": {},
   "source": [
    "However, if we look at the original spreadsheet, we lost quite a bit of information now, like the row headers and references\n",
    "\n",
    "    Reference    Type  Clast size (mm) Slope (tan β)\tClast size (Φ)\tSlope (°)\n",
    "    Bradbury1992 Beach 16.00           0.100\t        -4.000\t        5.71\n",
    "    Mason1989    Beach 2.60            0.095\t        -1.379\t        5.43\n",
    "    Mason1989    Beach 2.00            0.055\t        -1.000\t        3.15\n",
    "    and so on…\n",
    "\n",
    "If we want to have those in python, it seems simple to just leave away `usecols` and `skiprows` to get all of the file:"
   ]
  },
  {
   "cell_type": "code",
   "execution_count": 9,
   "metadata": {},
   "outputs": [
    {
     "ename": "ValueError",
     "evalue": "could not convert string to float: 'Reference'",
     "output_type": "error",
     "traceback": [
      "\u001b[0;31m---------------------------------------------------------------------------\u001b[0m",
      "\u001b[0;31mValueError\u001b[0m                                Traceback (most recent call last)",
      "\u001b[0;32m<ipython-input-9-435d646060c7>\u001b[0m in \u001b[0;36m<module>\u001b[0;34m\u001b[0m\n\u001b[0;32m----> 1\u001b[0;31m \u001b[0mdata\u001b[0m \u001b[0;34m=\u001b[0m \u001b[0mnp\u001b[0m\u001b[0;34m.\u001b[0m\u001b[0mloadtxt\u001b[0m\u001b[0;34m(\u001b[0m\u001b[0mfname\u001b[0m\u001b[0;34m,\u001b[0m \u001b[0mdelimiter\u001b[0m\u001b[0;34m=\u001b[0m\u001b[0;34m\";\"\u001b[0m\u001b[0;34m)\u001b[0m\u001b[0;34m\u001b[0m\u001b[0;34m\u001b[0m\u001b[0m\n\u001b[0m\u001b[1;32m      2\u001b[0m \u001b[0mprint\u001b[0m\u001b[0;34m(\u001b[0m\u001b[0mdata\u001b[0m\u001b[0;34m)\u001b[0m\u001b[0;34m\u001b[0m\u001b[0;34m\u001b[0m\u001b[0m\n",
      "\u001b[0;32m~/bin/anaconda3/lib/python3.7/site-packages/numpy/lib/npyio.py\u001b[0m in \u001b[0;36mloadtxt\u001b[0;34m(fname, dtype, comments, delimiter, converters, skiprows, usecols, unpack, ndmin, encoding, max_rows)\u001b[0m\n\u001b[1;32m   1157\u001b[0m         \u001b[0;31m# converting the data\u001b[0m\u001b[0;34m\u001b[0m\u001b[0;34m\u001b[0m\u001b[0;34m\u001b[0m\u001b[0m\n\u001b[1;32m   1158\u001b[0m         \u001b[0mX\u001b[0m \u001b[0;34m=\u001b[0m \u001b[0;32mNone\u001b[0m\u001b[0;34m\u001b[0m\u001b[0;34m\u001b[0m\u001b[0m\n\u001b[0;32m-> 1159\u001b[0;31m         \u001b[0;32mfor\u001b[0m \u001b[0mx\u001b[0m \u001b[0;32min\u001b[0m \u001b[0mread_data\u001b[0m\u001b[0;34m(\u001b[0m\u001b[0m_loadtxt_chunksize\u001b[0m\u001b[0;34m)\u001b[0m\u001b[0;34m:\u001b[0m\u001b[0;34m\u001b[0m\u001b[0;34m\u001b[0m\u001b[0m\n\u001b[0m\u001b[1;32m   1160\u001b[0m             \u001b[0;32mif\u001b[0m \u001b[0mX\u001b[0m \u001b[0;32mis\u001b[0m \u001b[0;32mNone\u001b[0m\u001b[0;34m:\u001b[0m\u001b[0;34m\u001b[0m\u001b[0;34m\u001b[0m\u001b[0m\n\u001b[1;32m   1161\u001b[0m                 \u001b[0mX\u001b[0m \u001b[0;34m=\u001b[0m \u001b[0mnp\u001b[0m\u001b[0;34m.\u001b[0m\u001b[0marray\u001b[0m\u001b[0;34m(\u001b[0m\u001b[0mx\u001b[0m\u001b[0;34m,\u001b[0m \u001b[0mdtype\u001b[0m\u001b[0;34m)\u001b[0m\u001b[0;34m\u001b[0m\u001b[0;34m\u001b[0m\u001b[0m\n",
      "\u001b[0;32m~/bin/anaconda3/lib/python3.7/site-packages/numpy/lib/npyio.py\u001b[0m in \u001b[0;36mread_data\u001b[0;34m(chunk_size)\u001b[0m\n\u001b[1;32m   1085\u001b[0m \u001b[0;34m\u001b[0m\u001b[0m\n\u001b[1;32m   1086\u001b[0m             \u001b[0;31m# Convert each value according to its column and store\u001b[0m\u001b[0;34m\u001b[0m\u001b[0;34m\u001b[0m\u001b[0;34m\u001b[0m\u001b[0m\n\u001b[0;32m-> 1087\u001b[0;31m             \u001b[0mitems\u001b[0m \u001b[0;34m=\u001b[0m \u001b[0;34m[\u001b[0m\u001b[0mconv\u001b[0m\u001b[0;34m(\u001b[0m\u001b[0mval\u001b[0m\u001b[0;34m)\u001b[0m \u001b[0;32mfor\u001b[0m \u001b[0;34m(\u001b[0m\u001b[0mconv\u001b[0m\u001b[0;34m,\u001b[0m \u001b[0mval\u001b[0m\u001b[0;34m)\u001b[0m \u001b[0;32min\u001b[0m \u001b[0mzip\u001b[0m\u001b[0;34m(\u001b[0m\u001b[0mconverters\u001b[0m\u001b[0;34m,\u001b[0m \u001b[0mvals\u001b[0m\u001b[0;34m)\u001b[0m\u001b[0;34m]\u001b[0m\u001b[0;34m\u001b[0m\u001b[0;34m\u001b[0m\u001b[0m\n\u001b[0m\u001b[1;32m   1088\u001b[0m \u001b[0;34m\u001b[0m\u001b[0m\n\u001b[1;32m   1089\u001b[0m             \u001b[0;31m# Then pack it according to the dtype's nesting\u001b[0m\u001b[0;34m\u001b[0m\u001b[0;34m\u001b[0m\u001b[0;34m\u001b[0m\u001b[0m\n",
      "\u001b[0;32m~/bin/anaconda3/lib/python3.7/site-packages/numpy/lib/npyio.py\u001b[0m in \u001b[0;36m<listcomp>\u001b[0;34m(.0)\u001b[0m\n\u001b[1;32m   1085\u001b[0m \u001b[0;34m\u001b[0m\u001b[0m\n\u001b[1;32m   1086\u001b[0m             \u001b[0;31m# Convert each value according to its column and store\u001b[0m\u001b[0;34m\u001b[0m\u001b[0;34m\u001b[0m\u001b[0;34m\u001b[0m\u001b[0m\n\u001b[0;32m-> 1087\u001b[0;31m             \u001b[0mitems\u001b[0m \u001b[0;34m=\u001b[0m \u001b[0;34m[\u001b[0m\u001b[0mconv\u001b[0m\u001b[0;34m(\u001b[0m\u001b[0mval\u001b[0m\u001b[0;34m)\u001b[0m \u001b[0;32mfor\u001b[0m \u001b[0;34m(\u001b[0m\u001b[0mconv\u001b[0m\u001b[0;34m,\u001b[0m \u001b[0mval\u001b[0m\u001b[0;34m)\u001b[0m \u001b[0;32min\u001b[0m \u001b[0mzip\u001b[0m\u001b[0;34m(\u001b[0m\u001b[0mconverters\u001b[0m\u001b[0;34m,\u001b[0m \u001b[0mvals\u001b[0m\u001b[0;34m)\u001b[0m\u001b[0;34m]\u001b[0m\u001b[0;34m\u001b[0m\u001b[0;34m\u001b[0m\u001b[0m\n\u001b[0m\u001b[1;32m   1088\u001b[0m \u001b[0;34m\u001b[0m\u001b[0m\n\u001b[1;32m   1089\u001b[0m             \u001b[0;31m# Then pack it according to the dtype's nesting\u001b[0m\u001b[0;34m\u001b[0m\u001b[0;34m\u001b[0m\u001b[0;34m\u001b[0m\u001b[0m\n",
      "\u001b[0;32m~/bin/anaconda3/lib/python3.7/site-packages/numpy/lib/npyio.py\u001b[0m in \u001b[0;36mfloatconv\u001b[0;34m(x)\u001b[0m\n\u001b[1;32m    792\u001b[0m         \u001b[0;32mif\u001b[0m \u001b[0;34m'0x'\u001b[0m \u001b[0;32min\u001b[0m \u001b[0mx\u001b[0m\u001b[0;34m:\u001b[0m\u001b[0;34m\u001b[0m\u001b[0;34m\u001b[0m\u001b[0m\n\u001b[1;32m    793\u001b[0m             \u001b[0;32mreturn\u001b[0m \u001b[0mfloat\u001b[0m\u001b[0;34m.\u001b[0m\u001b[0mfromhex\u001b[0m\u001b[0;34m(\u001b[0m\u001b[0mx\u001b[0m\u001b[0;34m)\u001b[0m\u001b[0;34m\u001b[0m\u001b[0;34m\u001b[0m\u001b[0m\n\u001b[0;32m--> 794\u001b[0;31m         \u001b[0;32mreturn\u001b[0m \u001b[0mfloat\u001b[0m\u001b[0;34m(\u001b[0m\u001b[0mx\u001b[0m\u001b[0;34m)\u001b[0m\u001b[0;34m\u001b[0m\u001b[0;34m\u001b[0m\u001b[0m\n\u001b[0m\u001b[1;32m    795\u001b[0m \u001b[0;34m\u001b[0m\u001b[0m\n\u001b[1;32m    796\u001b[0m     \u001b[0mtyp\u001b[0m \u001b[0;34m=\u001b[0m \u001b[0mdtype\u001b[0m\u001b[0;34m.\u001b[0m\u001b[0mtype\u001b[0m\u001b[0;34m\u001b[0m\u001b[0;34m\u001b[0m\u001b[0m\n",
      "\u001b[0;31mValueError\u001b[0m: could not convert string to float: 'Reference'"
     ]
    }
   ],
   "source": [
    "data = np.loadtxt(fname, delimiter=\";\")\n",
    "print(data)"
   ]
  },
  {
   "cell_type": "markdown",
   "metadata": {},
   "source": [
    "As you can clearly see, this does not work, as `loadtxt` simply assumes we're feeding it numbers, but obviously `'Reference'` can't be turned into a floating point number.\n",
    "There are of course ways to handle *complicated* data with `loadtxt`, but we'll work with pandas from nowon, which also has other benefits."
   ]
  },
  {
   "cell_type": "markdown",
   "metadata": {},
   "source": [
    "# 2 Some pointers on file types\n",
    "\n",
    "\n",
    "## Common file types\n",
    "\n",
    "If you look around on your computer, you'll find various files, generally marked by a symbol/icon and their file extension. E.g a page of paper with a \"W\" and the ending `.doc` or `.docx` is a word file, if that \"W\" is an \"X\" and it ends with `.xls` or `.xlsx`, it's an excel file, and so on.\n",
    "\n",
    "So normally, you just doubleclick a file, and windows (or OSX or Linux...) knows what to do with it, and thanks to the icon, you know what's likely going to happen (\"W\" indicates that word will start...). However, this system has some limitations:\n",
    "When you change the file ending, you don't necessarily change the file. And icons that point to specific applications can hide the fact that there's also other applications that can open said files.\n",
    "And as you probably have already realized, windows sometimes gets confused when saving files from the internet or when opening files it does not know. E.g. when your browser tries to save our notebooks as `.htm` or when you try to open our `.ipynb` files with a simple doubleclick.\n",
    "So this simple principle offers some pitfalls, when you venture away from the small bunch of standard MS-Office files or when you are working with files that can be opened with many different applications.\n",
    "\n",
    "There are various ways to improve this situation such as \"[magic numbers](https://en.wikipedia.org/wiki/Magic_number_(programming))\" and the use of metadata. However, for our use case, the file extension and a bit of thinking will work.\n",
    "\n",
    "## Text files\n",
    "\n",
    "Most of the files we are using are just simple text files.\n",
    "E.g., the jupyter notebook is also just a simple text file, but with the ending `.ipynb` and certain rules that govern its structure.\n",
    "If you've tried opening a notebook with a doubleclick, you probably got a text editor showing you something like this:"
   ]
  },
  {
   "cell_type": "markdown",
   "metadata": {},
   "source": [
    "    {\n",
    "     \"cells\": [\n",
    "      {\n",
    "       \"cell_type\": \"markdown\",\n",
    "       \"metadata\": {},\n",
    "       \"source\": [\n",
    "        \"<img src=\\\"https://static.uni-graz.at/fileadmin/nawi-institute/Erdwissenschaften/NawiGrazGeozentrum_Small.png\\\" align=\\\"right\\\" width=200>\\n\",\n",
    "        \"\\n\",\n",
    "        \"# Notebook 5: Analyzing data with pandas\\n\",\n",
    "        \"\\n\",\n",
    "        \"*Developed by Raoul Collenteur and Johannes Haas, Institute of Earth Sciences, NAWI Graz Geocenter, University of Graz.*\\n\",\n",
    "        \"\\n\",\n",
    "        \"In this Notebook we will look into Pandas. Pandas (http://pandas.pydata.org) is the Python data analysis package that can be used for many different tasks you might have in Python. \\n\",\n",
    "        \"In the last lectures we already read and used data in various forms.\\n\",\n",
    "        \"In this lecture we will look a little closer at Pandas, the most common data types and its powerfull capabilities.\\n\",\n",
    "        \"\\n\",\n",
    "        \"\\n\",\n",
    "        \"\\n\",\n",
    "        \"\\n\",\n",
    "        \"## Lecture content\\n\",\n",
    "        \"\\n\",\n",
    "        \"1. [Repeating last week](#1-Repeating-last-week)\\n\",\n",
    "        \"2. [Some pointers on file types](#2-Some-pointers-on-file-types)\\n\",\n",
    "        \"2. [Working with loops](#2-Introducing-For-loops)\\n\",\n",
    "        \"3. [Conditional statements](#3-Conditional-statements)\"\n",
    "       ]\n",
    "      },"
   ]
  },
  {
   "cell_type": "markdown",
   "metadata": {},
   "source": [
    "You can probably already read quite a bit of this code, applying what you have learned so far, even though you probably don't know the *language* it is written in.\n",
    "\n",
    "For just editing the notebook, a text editor would work just as well as our browser, but we have to deal with much more formatting commands and we can not work with the python parts interactively.\n",
    "\n",
    "Similarly, the CSV files from the previous lecture, are also nothing more than a text file (`.txt`) with a different file extension (`.csv`) and a few rules for its formatting.\n",
    "\n",
    "\n",
    "`CSV` stands for *comma separated value(s)*, meaning that your csv file is just a text file (`.txt`) with a comma separating the values. E.g.:\n",
    "\n",
    "    apples,  USD, 5.99\n",
    "    oranges, USD, 7.99\n",
    "    bananas, USD, 3.99\n",
    "\n",
    "However, keep in mind that this, like most things in IT, follows US standards!\n",
    "For Austria, where we are using the `,` as a decimal point, using the comma also as a separator would cause confusion:\n",
    "\n",
    "    Äpfel,   EUR, 5,48\n",
    "    Orangen, EUR, 7,31\n",
    "    Bananen, EUR, 3,65\n",
    "    \n",
    "   \n",
    "So in Austria, the semicolon `;` tends to get used as the separator.\n",
    "Since the csv file is just a text file, this does not really matter, however, you have to remember that you have to specify these things, using the `sep=` and `decimal=` options later on."
   ]
  },
  {
   "cell_type": "markdown",
   "metadata": {},
   "source": [
    "# 3 Reading data with pandas\n",
    "\n",
    "To start with, we're reusing the data from *Bujan, Nans, Cox, Ronadh, & Masselink, Gerd. (2018). From fine sand to boulders: examining the relationship between beach-face slope and sediment size* that we already used last lecture.\n",
    "Please make sure that the `Size-Slope-Data-Points.csv` file from last week is in the same folder as this notebook!\n",
    "\n",
    "As we have seen above, simply trying to read all of the file with `np.loadtxt` fails, so let's switch over to `pd.read_csv`.\n",
    "\n",
    "## Read the data using Pandas read_csv method\n",
    "\n",
    "If we just try to read it without any arguments, we're likely already getting quite a bit further than with `np.loadtxt`:"
   ]
  },
  {
   "cell_type": "code",
   "execution_count": 13,
   "metadata": {},
   "outputs": [
    {
     "data": {
      "text/html": [
       "<div>\n",
       "<style scoped>\n",
       "    .dataframe tbody tr th:only-of-type {\n",
       "        vertical-align: middle;\n",
       "    }\n",
       "\n",
       "    .dataframe tbody tr th {\n",
       "        vertical-align: top;\n",
       "    }\n",
       "\n",
       "    .dataframe thead th {\n",
       "        text-align: right;\n",
       "    }\n",
       "</style>\n",
       "<table border=\"1\" class=\"dataframe\">\n",
       "  <thead>\n",
       "    <tr style=\"text-align: right;\">\n",
       "      <th></th>\n",
       "      <th>Reference;Type;Clast size (mm);Slope (tan β);Clast size (Φ);Slope (°);</th>\n",
       "    </tr>\n",
       "  </thead>\n",
       "  <tbody>\n",
       "    <tr>\n",
       "      <th>0</th>\n",
       "      <td>Bradbury1992;Beach;16.00;0.100;-4.000;5.71;</td>\n",
       "    </tr>\n",
       "    <tr>\n",
       "      <th>1</th>\n",
       "      <td>Mason1989;Beach;2.60;0.095;-1.379;5.43;</td>\n",
       "    </tr>\n",
       "    <tr>\n",
       "      <th>2</th>\n",
       "      <td>Mason1989;Beach;2.00;0.055;-1.000;3.15;</td>\n",
       "    </tr>\n",
       "    <tr>\n",
       "      <th>3</th>\n",
       "      <td>Sherman1993;Beach;32.00;0.240;-5.000;13.50;</td>\n",
       "    </tr>\n",
       "    <tr>\n",
       "      <th>4</th>\n",
       "      <td>Jennings2002;Beach;3.53;0.140;-1.820;7.97;</td>\n",
       "    </tr>\n",
       "    <tr>\n",
       "      <th>...</th>\n",
       "      <td>...</td>\n",
       "    </tr>\n",
       "    <tr>\n",
       "      <th>2139</th>\n",
       "      <td>Komar1998;Beach;0.21;0.012;2.243;0.69;</td>\n",
       "    </tr>\n",
       "    <tr>\n",
       "      <th>2140</th>\n",
       "      <td>Komar1998;Beach;0.19;0.011;2.395;0.63;</td>\n",
       "    </tr>\n",
       "    <tr>\n",
       "      <th>2141</th>\n",
       "      <td>Komar1998;Beach;0.17;0.011;2.556;0.64;</td>\n",
       "    </tr>\n",
       "    <tr>\n",
       "      <th>2142</th>\n",
       "      <td>Brayne2015;Beach;140.00;0.270;-7.129;15.11;</td>\n",
       "    </tr>\n",
       "    <tr>\n",
       "      <th>2143</th>\n",
       "      <td>Brayne2015;Beach;70.00;0.123;-6.129;7.01;</td>\n",
       "    </tr>\n",
       "  </tbody>\n",
       "</table>\n",
       "<p>2144 rows × 1 columns</p>\n",
       "</div>"
      ],
      "text/plain": [
       "     Reference;Type;Clast size (mm);Slope (tan β);Clast size (Φ);Slope (°);\n",
       "0           Bradbury1992;Beach;16.00;0.100;-4.000;5.71;                    \n",
       "1               Mason1989;Beach;2.60;0.095;-1.379;5.43;                    \n",
       "2               Mason1989;Beach;2.00;0.055;-1.000;3.15;                    \n",
       "3           Sherman1993;Beach;32.00;0.240;-5.000;13.50;                    \n",
       "4            Jennings2002;Beach;3.53;0.140;-1.820;7.97;                    \n",
       "...                                                 ...                    \n",
       "2139             Komar1998;Beach;0.21;0.012;2.243;0.69;                    \n",
       "2140             Komar1998;Beach;0.19;0.011;2.395;0.63;                    \n",
       "2141             Komar1998;Beach;0.17;0.011;2.556;0.64;                    \n",
       "2142        Brayne2015;Beach;140.00;0.270;-7.129;15.11;                    \n",
       "2143          Brayne2015;Beach;70.00;0.123;-6.129;7.01;                    \n",
       "\n",
       "[2144 rows x 1 columns]"
      ]
     },
     "execution_count": 13,
     "metadata": {},
     "output_type": "execute_result"
    }
   ],
   "source": [
    "pd.read_csv('Size-Slope-Data-Points.csv')"
   ]
  },
  {
   "cell_type": "markdown",
   "metadata": {},
   "source": [
    "No error, but in the example above, we clearly don't have useable data, thanks to using `;` as separator (if you have saved it in a different way, your result might look different).\n",
    "\n",
    "## Exercise 1: Read data\n",
    "\n",
    "Have a look at the csv file in a text editor and check out the documentation for `pd.read_csv` to figure out how to properly read in the data"
   ]
  },
  {
   "cell_type": "code",
   "execution_count": null,
   "metadata": {},
   "outputs": [],
   "source": [
    "# Type your answer here"
   ]
  },
  {
   "cell_type": "markdown",
   "metadata": {},
   "source": [
    "[Answer](#Exercise-1)"
   ]
  },
  {
   "cell_type": "markdown",
   "metadata": {},
   "source": [
    "# 4 Basic statistics and accessing data\n",
    "\n",
    "So what can we do with this `data` now?\n",
    "\n",
    "What type of data is it actually?\n",
    "\n",
    "What's in it?\n",
    "\n",
    "Let's have a look at some basic things we can do with pandas:\n",
    "\n",
    "First we'll figure out the type of the data and have a look at it's top end:"
   ]
  },
  {
   "cell_type": "code",
   "execution_count": 18,
   "metadata": {},
   "outputs": [
    {
     "data": {
      "text/plain": [
       "pandas.core.frame.DataFrame"
      ]
     },
     "execution_count": 18,
     "metadata": {},
     "output_type": "execute_result"
    }
   ],
   "source": [
    "type(data) # the type function we already used quite often also works here"
   ]
  },
  {
   "cell_type": "code",
   "execution_count": 24,
   "metadata": {},
   "outputs": [
    {
     "data": {
      "text/html": [
       "<div>\n",
       "<style scoped>\n",
       "    .dataframe tbody tr th:only-of-type {\n",
       "        vertical-align: middle;\n",
       "    }\n",
       "\n",
       "    .dataframe tbody tr th {\n",
       "        vertical-align: top;\n",
       "    }\n",
       "\n",
       "    .dataframe thead th {\n",
       "        text-align: right;\n",
       "    }\n",
       "</style>\n",
       "<table border=\"1\" class=\"dataframe\">\n",
       "  <thead>\n",
       "    <tr style=\"text-align: right;\">\n",
       "      <th></th>\n",
       "      <th>Type</th>\n",
       "      <th>Clast size (mm)</th>\n",
       "      <th>Slope (tan)</th>\n",
       "      <th>Clast size ()</th>\n",
       "      <th>Slope (deg)</th>\n",
       "    </tr>\n",
       "    <tr>\n",
       "      <th>Reference</th>\n",
       "      <th></th>\n",
       "      <th></th>\n",
       "      <th></th>\n",
       "      <th></th>\n",
       "      <th></th>\n",
       "    </tr>\n",
       "  </thead>\n",
       "  <tbody>\n",
       "    <tr>\n",
       "      <th>Bradbury1992</th>\n",
       "      <td>Beach</td>\n",
       "      <td>16.00</td>\n",
       "      <td>0.100</td>\n",
       "      <td>-4.000</td>\n",
       "      <td>5.71</td>\n",
       "    </tr>\n",
       "    <tr>\n",
       "      <th>Mason1989</th>\n",
       "      <td>Beach</td>\n",
       "      <td>2.60</td>\n",
       "      <td>0.095</td>\n",
       "      <td>-1.379</td>\n",
       "      <td>5.43</td>\n",
       "    </tr>\n",
       "    <tr>\n",
       "      <th>Mason1989</th>\n",
       "      <td>Beach</td>\n",
       "      <td>2.00</td>\n",
       "      <td>0.055</td>\n",
       "      <td>-1.000</td>\n",
       "      <td>3.15</td>\n",
       "    </tr>\n",
       "    <tr>\n",
       "      <th>Sherman1993</th>\n",
       "      <td>Beach</td>\n",
       "      <td>32.00</td>\n",
       "      <td>0.240</td>\n",
       "      <td>-5.000</td>\n",
       "      <td>13.50</td>\n",
       "    </tr>\n",
       "    <tr>\n",
       "      <th>Jennings2002</th>\n",
       "      <td>Beach</td>\n",
       "      <td>3.53</td>\n",
       "      <td>0.140</td>\n",
       "      <td>-1.820</td>\n",
       "      <td>7.97</td>\n",
       "    </tr>\n",
       "  </tbody>\n",
       "</table>\n",
       "</div>"
      ],
      "text/plain": [
       "               Type  Clast size (mm)  Slope (tan)  Clast size ()  Slope (deg)\n",
       "Reference                                                                    \n",
       "Bradbury1992  Beach            16.00        0.100         -4.000         5.71\n",
       "Mason1989     Beach             2.60        0.095         -1.379         5.43\n",
       "Mason1989     Beach             2.00        0.055         -1.000         3.15\n",
       "Sherman1993   Beach            32.00        0.240         -5.000        13.50\n",
       "Jennings2002  Beach             3.53        0.140         -1.820         7.97"
      ]
     },
     "execution_count": 24,
     "metadata": {},
     "output_type": "execute_result"
    }
   ],
   "source": [
    "data.head() # head gives us the top of the dataframe. We can pass how many lines we want to see as an argument"
   ]
  },
  {
   "cell_type": "markdown",
   "metadata": {},
   "source": [
    "As you can clearly see, we get a much nicer output than the array we produced with `np.loadtxt`.\n",
    "We could also look at the bottom 10 rows of the dataframe with `data.tail(10)`.\n",
    "\n",
    "Besides this quick look at the data, pandas also had loads of functions built in, that let us find a lot of info about our dataset very quickly and easily."
   ]
  },
  {
   "cell_type": "code",
   "execution_count": 32,
   "metadata": {},
   "outputs": [
    {
     "data": {
      "text/html": [
       "<div>\n",
       "<style scoped>\n",
       "    .dataframe tbody tr th:only-of-type {\n",
       "        vertical-align: middle;\n",
       "    }\n",
       "\n",
       "    .dataframe tbody tr th {\n",
       "        vertical-align: top;\n",
       "    }\n",
       "\n",
       "    .dataframe thead th {\n",
       "        text-align: right;\n",
       "    }\n",
       "</style>\n",
       "<table border=\"1\" class=\"dataframe\">\n",
       "  <thead>\n",
       "    <tr style=\"text-align: right;\">\n",
       "      <th></th>\n",
       "      <th>Clast size (mm)</th>\n",
       "      <th>Slope (tan)</th>\n",
       "      <th>Clast size ()</th>\n",
       "      <th>Slope (deg)</th>\n",
       "    </tr>\n",
       "  </thead>\n",
       "  <tbody>\n",
       "    <tr>\n",
       "      <th>count</th>\n",
       "      <td>2144.000000</td>\n",
       "      <td>2144.000000</td>\n",
       "      <td>2144.000000</td>\n",
       "      <td>2144.000000</td>\n",
       "    </tr>\n",
       "    <tr>\n",
       "      <th>mean</th>\n",
       "      <td>15.696101</td>\n",
       "      <td>0.102103</td>\n",
       "      <td>0.165686</td>\n",
       "      <td>5.786889</td>\n",
       "    </tr>\n",
       "    <tr>\n",
       "      <th>std</th>\n",
       "      <td>66.560902</td>\n",
       "      <td>0.073443</td>\n",
       "      <td>2.724730</td>\n",
       "      <td>4.032175</td>\n",
       "    </tr>\n",
       "    <tr>\n",
       "      <th>min</th>\n",
       "      <td>0.070000</td>\n",
       "      <td>0.008000</td>\n",
       "      <td>-9.589000</td>\n",
       "      <td>0.460000</td>\n",
       "    </tr>\n",
       "    <tr>\n",
       "      <th>25%</th>\n",
       "      <td>0.270000</td>\n",
       "      <td>0.049750</td>\n",
       "      <td>-0.284000</td>\n",
       "      <td>2.830000</td>\n",
       "    </tr>\n",
       "    <tr>\n",
       "      <th>50%</th>\n",
       "      <td>0.430000</td>\n",
       "      <td>0.090000</td>\n",
       "      <td>1.228000</td>\n",
       "      <td>5.140000</td>\n",
       "    </tr>\n",
       "    <tr>\n",
       "      <th>75%</th>\n",
       "      <td>1.220000</td>\n",
       "      <td>0.135000</td>\n",
       "      <td>1.869250</td>\n",
       "      <td>7.672500</td>\n",
       "    </tr>\n",
       "    <tr>\n",
       "      <th>max</th>\n",
       "      <td>770.150000</td>\n",
       "      <td>0.830000</td>\n",
       "      <td>3.855000</td>\n",
       "      <td>39.690000</td>\n",
       "    </tr>\n",
       "  </tbody>\n",
       "</table>\n",
       "</div>"
      ],
      "text/plain": [
       "       Clast size (mm)  Slope (tan)  Clast size ()  Slope (deg)\n",
       "count      2144.000000  2144.000000    2144.000000  2144.000000\n",
       "mean         15.696101     0.102103       0.165686     5.786889\n",
       "std          66.560902     0.073443       2.724730     4.032175\n",
       "min           0.070000     0.008000      -9.589000     0.460000\n",
       "25%           0.270000     0.049750      -0.284000     2.830000\n",
       "50%           0.430000     0.090000       1.228000     5.140000\n",
       "75%           1.220000     0.135000       1.869250     7.672500\n",
       "max         770.150000     0.830000       3.855000    39.690000"
      ]
     },
     "execution_count": 32,
     "metadata": {},
     "output_type": "execute_result"
    }
   ],
   "source": [
    "data.describe() "
   ]
  },
  {
   "cell_type": "markdown",
   "metadata": {},
   "source": [
    "`describe` already gives us a lot of info in one neat table.\n",
    "However, if we need, say the mean, for other calculations, we of course need some `data_mean = float` variable.\n",
    "We can simply access things like `count`, `mean` and so on"
   ]
  },
  {
   "cell_type": "code",
   "execution_count": 54,
   "metadata": {},
   "outputs": [
    {
     "data": {
      "text/plain": [
       "Clast size (mm)    15.696101\n",
       "Slope (tan)         0.102103\n",
       "Clast size ()       0.165686\n",
       "Slope (deg)         5.786889\n",
       "dtype: float64"
      ]
     },
     "execution_count": 54,
     "metadata": {},
     "output_type": "execute_result"
    }
   ],
   "source": [
    "#data.min() # Minimum\n",
    "#data.max() # Maximum\n",
    "#data.std() # Standard deviation\n",
    "data.mean()"
   ]
  },
  {
   "cell_type": "markdown",
   "metadata": {},
   "source": [
    "but this still does not give us the single value we want.\n",
    "\n",
    "So wee need to be able to select data to produce a single mean for example for the Clast size.\n",
    "As always, there are many different ways to get to this result.\n",
    "\n",
    "The first and most useful, is to select only the Clast size data from the original dataframe, and then to calculate the mean for that.\n",
    "Since we have set our first row as the header, we can simply use this as a key to select the data:\n"
   ]
  },
  {
   "cell_type": "code",
   "execution_count": 57,
   "metadata": {},
   "outputs": [
    {
     "data": {
      "text/plain": [
       "15.696100746268655"
      ]
     },
     "execution_count": 57,
     "metadata": {},
     "output_type": "execute_result"
    }
   ],
   "source": [
    "data['Clast size (mm)'].mean() # make sure to pass the key as a string and take care of the spaces!"
   ]
  },
  {
   "cell_type": "code",
   "execution_count": 81,
   "metadata": {},
   "outputs": [],
   "source": [
    "# or\n",
    "data_mean = data['Clast size (mm)'].mean() # if we want to set it as a variable to use later."
   ]
  },
  {
   "cell_type": "markdown",
   "metadata": {},
   "source": [
    "We can also pass the `loc` argument with our header, but then we also must specify that we want the whole row:"
   ]
  },
  {
   "cell_type": "code",
   "execution_count": 112,
   "metadata": {},
   "outputs": [
    {
     "data": {
      "text/plain": [
       "15.696100746268655"
      ]
     },
     "execution_count": 112,
     "metadata": {},
     "output_type": "execute_result"
    }
   ],
   "source": [
    "data.loc[:,'Clast size (mm)'].mean()"
   ]
  },
  {
   "cell_type": "markdown",
   "metadata": {},
   "source": [
    "\n",
    "If you have data without headers, or if you want to iterate over a dataframe, you can also [select by postion](https://pandas.pydata.org/pandas-docs/stable/user_guide/indexing.html#selection-by-position), using [iloc](https://pandas.pydata.org/docs/reference/api/pandas.DataFrame.iloc.html?highlight=iloc#pandas.DataFrame.iloc):"
   ]
  },
  {
   "cell_type": "code",
   "execution_count": 65,
   "metadata": {},
   "outputs": [
    {
     "data": {
      "text/plain": [
       "15.696100746268655"
      ]
     },
     "execution_count": 65,
     "metadata": {},
     "output_type": "execute_result"
    }
   ],
   "source": [
    "data.iloc[:,1].mean() # select all (:) of the second row (1, remember zero based indexing!)"
   ]
  },
  {
   "cell_type": "markdown",
   "metadata": {},
   "source": [
    "We could also use this on `describe`, which also outputs a dataframe, or a the series, which is the output of mean:"
   ]
  },
  {
   "cell_type": "code",
   "execution_count": 66,
   "metadata": {},
   "outputs": [
    {
     "name": "stdout",
     "output_type": "stream",
     "text": [
      "<class 'pandas.core.frame.DataFrame'>\n"
     ]
    }
   ],
   "source": [
    "data_desc = data.describe() \n",
    "print(type(data_desc))"
   ]
  },
  {
   "cell_type": "code",
   "execution_count": 73,
   "metadata": {},
   "outputs": [
    {
     "data": {
      "text/plain": [
       "15.696100746268655"
      ]
     },
     "execution_count": 73,
     "metadata": {},
     "output_type": "execute_result"
    }
   ],
   "source": [
    "data_desc['Clast size (mm)'][1] # second row of the 'Clast size (mm)' column"
   ]
  },
  {
   "cell_type": "code",
   "execution_count": 113,
   "metadata": {},
   "outputs": [
    {
     "data": {
      "text/plain": [
       "15.696100746268655"
      ]
     },
     "execution_count": 113,
     "metadata": {},
     "output_type": "execute_result"
    }
   ],
   "source": [
    "data_desc.loc['mean', 'Clast size (mm)'] # Column with the index 'mean' and row with 'Clast size (mm)'"
   ]
  },
  {
   "cell_type": "code",
   "execution_count": 77,
   "metadata": {},
   "outputs": [
    {
     "data": {
      "text/plain": [
       "15.696100746268655"
      ]
     },
     "execution_count": 77,
     "metadata": {},
     "output_type": "execute_result"
    }
   ],
   "source": [
    "data_desc.iloc[1,0] # here we do not need to select the whole colum and then do the mean, but just one cell!"
   ]
  },
  {
   "cell_type": "code",
   "execution_count": 78,
   "metadata": {},
   "outputs": [
    {
     "name": "stdout",
     "output_type": "stream",
     "text": [
      "<class 'pandas.core.series.Series'>\n"
     ]
    }
   ],
   "source": [
    "data_mean = data.mean()\n",
    "print(type(data_mean))"
   ]
  },
  {
   "cell_type": "code",
   "execution_count": 80,
   "metadata": {},
   "outputs": [
    {
     "data": {
      "text/plain": [
       "15.696100746268655"
      ]
     },
     "execution_count": 80,
     "metadata": {},
     "output_type": "execute_result"
    }
   ],
   "source": [
    "data_mean[0] # a series has just one dimension, so we only need to pass one argument to select its first entry"
   ]
  },
  {
   "cell_type": "markdown",
   "metadata": {},
   "source": [
    "Which method you want to use probably depends on how you are working with your data.\n",
    "**Just remember:**\n",
    "\n",
    "The beauty of a python script or jupyter notebook is the ability to reuse it yourself or to share it with others. \n",
    "So make sure to use a method that is understandable by others and yourself a few weeks later!\n",
    "So it's probably best to prefer the more obvious method (`data_mean = data['Clast size (mm)'].mean()`) or to use comments explaining what is what, if you must work with `iloc`.\n",
    "\n",
    "There is of course also a way to select from a dataframe with conditional statements. Let's pick all data from a ridge with a grain size larger than 300 mm:"
   ]
  },
  {
   "cell_type": "code",
   "execution_count": 140,
   "metadata": {},
   "outputs": [
    {
     "data": {
      "text/html": [
       "<div>\n",
       "<style scoped>\n",
       "    .dataframe tbody tr th:only-of-type {\n",
       "        vertical-align: middle;\n",
       "    }\n",
       "\n",
       "    .dataframe tbody tr th {\n",
       "        vertical-align: top;\n",
       "    }\n",
       "\n",
       "    .dataframe thead th {\n",
       "        text-align: right;\n",
       "    }\n",
       "</style>\n",
       "<table border=\"1\" class=\"dataframe\">\n",
       "  <thead>\n",
       "    <tr style=\"text-align: right;\">\n",
       "      <th></th>\n",
       "      <th>Type</th>\n",
       "      <th>Clast size (mm)</th>\n",
       "      <th>Slope (tan)</th>\n",
       "      <th>Clast size ()</th>\n",
       "      <th>Slope (deg)</th>\n",
       "    </tr>\n",
       "    <tr>\n",
       "      <th>Reference</th>\n",
       "      <th></th>\n",
       "      <th></th>\n",
       "      <th></th>\n",
       "      <th></th>\n",
       "      <th></th>\n",
       "    </tr>\n",
       "  </thead>\n",
       "  <tbody>\n",
       "    <tr>\n",
       "      <th>Zentner2009</th>\n",
       "      <td>Ridge</td>\n",
       "      <td>307.0</td>\n",
       "      <td>0.47</td>\n",
       "      <td>-8.262</td>\n",
       "      <td>25.17</td>\n",
       "    </tr>\n",
       "    <tr>\n",
       "      <th>Jahn2014</th>\n",
       "      <td>Ridge</td>\n",
       "      <td>307.0</td>\n",
       "      <td>0.45</td>\n",
       "      <td>-8.262</td>\n",
       "      <td>24.23</td>\n",
       "    </tr>\n",
       "    <tr>\n",
       "      <th>Jahn2014</th>\n",
       "      <td>Ridge</td>\n",
       "      <td>305.0</td>\n",
       "      <td>0.33</td>\n",
       "      <td>-8.253</td>\n",
       "      <td>18.26</td>\n",
       "    </tr>\n",
       "  </tbody>\n",
       "</table>\n",
       "</div>"
      ],
      "text/plain": [
       "              Type  Clast size (mm)  Slope (tan)  Clast size ()  Slope (deg)\n",
       "Reference                                                                   \n",
       "Zentner2009  Ridge            307.0         0.47         -8.262        25.17\n",
       "Jahn2014     Ridge            307.0         0.45         -8.262        24.23\n",
       "Jahn2014     Ridge            305.0         0.33         -8.253        18.26"
      ]
     },
     "execution_count": 140,
     "metadata": {},
     "output_type": "execute_result"
    }
   ],
   "source": [
    "data.loc[(data['Type'] == 'Ridge') & (data['Clast size (mm)'] > 300)]"
   ]
  },
  {
   "cell_type": "markdown",
   "metadata": {},
   "source": [
    "These selection tools are quite powerful and we can use them to gain very detailed insights into our data.\n",
    "However, it can quickly become very complicated to read and figure out what's happening, so it often makes sense to select with multiple intermediate steps.\n",
    "\n",
    "## Exercise 2: Disentange the selection\n",
    "\n",
    "Split the line below into a suitable number of steps and figure out what question this line tries to answer:"
   ]
  },
  {
   "cell_type": "code",
   "execution_count": 150,
   "metadata": {},
   "outputs": [
    {
     "data": {
      "text/plain": [
       "0.5794117647058823"
      ]
     },
     "execution_count": 150,
     "metadata": {},
     "output_type": "execute_result"
    }
   ],
   "source": [
    "data.loc[(data['Type'] == 'Beach') & (data['Clast size (mm)'] < 1) & (data['Slope (deg)'] > 8)].loc['Komar1998'].iloc[:,1].mean()"
   ]
  },
  {
   "cell_type": "code",
   "execution_count": 245,
   "metadata": {},
   "outputs": [],
   "source": [
    "# Type your code here"
   ]
  },
  {
   "cell_type": "markdown",
   "metadata": {},
   "source": [
    "[Answer](#Exercise-2)"
   ]
  },
  {
   "cell_type": "markdown",
   "metadata": {},
   "source": [
    "### More options read and to access data\n",
    "\n",
    "Pandas can read much more than just csv files.\n",
    "You can also read Excel files with [read_excel](https://pandas.pydata.org/docs/reference/api/pandas.read_excel.html), read large, binary HDF5 files that can get much larger than what Excel allows or interface with an SQL database.\n",
    "If you need to venture beyond what we tried here, the [IO documentation](https://pandas.pydata.org/docs/user_guide/io.html) is a good starting point.\n",
    "\n",
    "Similarly, there is [many more options to select data](https://pandas.pydata.org/pandas-docs/stable/user_guide/indexing.html) than just `loc` and `iloc` we have introduced here. \n",
    "Combined with a [MultiIndex](https://pandas.pydata.org/pandas-docs/stable/user_guide/advanced.html) you can construct very advanced ways to store and to select data."
   ]
  },
  {
   "cell_type": "markdown",
   "metadata": {},
   "source": [
    "# 5 Plotting data\n",
    "\n",
    "So far, we have been using `matplotlib.pyplot` imported as `plt` for our plotting needs.\n",
    "This also works with pandas, so we can easily recreate the plot from the last lecture:"
   ]
  },
  {
   "cell_type": "code",
   "execution_count": 168,
   "metadata": {},
   "outputs": [
    {
     "data": {
      "text/plain": [
       "Text(0, 0.5, 'Slope (deg)')"
      ]
     },
     "execution_count": 168,
     "metadata": {},
     "output_type": "execute_result"
    },
    {
     "data": {
      "image/png": "[encoded data removed]",
      "text/plain": [
       "<Figure size 432x288 with 1 Axes>"
      ]
     },
     "metadata": {
      "needs_background": "light"
     },
     "output_type": "display_data"
    }
   ],
   "source": [
    "plt.plot(data.loc[:,], data.loc[:,'Slope (deg)'], linestyle=\" \", marker=\".\")\n",
    "plt.xlabel(\"Clast size (mm)\")\n",
    "plt.ylabel(\"Slope (deg)\")"
   ]
  },
  {
   "cell_type": "markdown",
   "metadata": {},
   "source": [
    "However, pandas dataframes also have a `plot` atribute, that can make many operations simpler and quicker."
   ]
  },
  {
   "cell_type": "code",
   "execution_count": 178,
   "metadata": {},
   "outputs": [
    {
     "data": {
      "text/plain": [
       "Text(0, 0.5, 'Slope (deg)')"
      ]
     },
     "execution_count": 178,
     "metadata": {},
     "output_type": "execute_result"
    },
    {
     "data": {
      "image/png": "[encoded data removed]",
      "text/plain": [
       "<Figure size 432x288 with 1 Axes>"
      ]
     },
     "metadata": {
      "needs_background": "light"
     },
     "output_type": "display_data"
    }
   ],
   "source": [
    "data.plot(x='Clast size (mm)', y='Slope (deg)', linestyle=\" \", marker=\".\")\n",
    "plt.xlabel(\"Clast size (mm)\")\n",
    "plt.ylabel(\"Slope (deg)\")"
   ]
  },
  {
   "cell_type": "markdown",
   "metadata": {},
   "source": [
    "For this simple example it doesn't make a difference, but for many other situations, it can be an advantage to use the pandas plotting functions.\n",
    "E.g. lets take a look at the data above in another way:"
   ]
  },
  {
   "cell_type": "code",
   "execution_count": 181,
   "metadata": {},
   "outputs": [
    {
     "data": {
      "text/plain": [
       "<matplotlib.axes._subplots.AxesSubplot at 0x7f1ad9510e90>"
      ]
     },
     "execution_count": 181,
     "metadata": {},
     "output_type": "execute_result"
    },
    {
     "data": {
      "image/png": "[encoded data removed]",
      "text/plain": [
       "<Figure size 432x288 with 2 Axes>"
      ]
     },
     "metadata": {
      "needs_background": "light"
     },
     "output_type": "display_data"
    }
   ],
   "source": [
    "data.loc[:,'Clast size (mm)'].plot(color='c')\n",
    "data.loc[:,'Slope (deg)'].plot(secondary_y = True, color='k')"
   ]
  },
  {
   "cell_type": "markdown",
   "metadata": {},
   "source": [
    "We now can immidiately see that most of the clast sizes are below 100mm, while the slopes found by the different authors do vary quite a bit.\n",
    "\n",
    "## Pandas time series functionality\n",
    "\n",
    "One of the coolest features of Pandas are its time series capabilities. When the index is a collection of datetimes, we can look at the data as time series and use the built-in functionality for this. First, let's create some random data to play with."
   ]
  },
  {
   "cell_type": "code",
   "execution_count": 182,
   "metadata": {},
   "outputs": [
    {
     "name": "stdout",
     "output_type": "stream",
     "text": [
      "The type of variable ts is: <class 'pandas.core.series.Series'>\n"
     ]
    },
    {
     "data": {
      "text/plain": [
       "2000-01-01    1.267876\n",
       "2000-01-02    1.226014\n",
       "2000-01-03    1.403046\n",
       "2000-01-04    1.965252\n",
       "2000-01-05    1.444765\n",
       "Freq: D, dtype: float64"
      ]
     },
     "execution_count": 182,
     "metadata": {},
     "output_type": "execute_result"
    }
   ],
   "source": [
    "# Let's create some random data to play with\n",
    "index = pd.date_range(start=\"2000-01-01\", end=\"2009-12-31\")\n",
    "values = 1 + np.sqrt(0.01 * np.arange(len(index))) + np.random.rand(len(index))\n",
    "ts = pd.Series(values, index)\n",
    "\n",
    "print(\"The type of variable ts is:\", type(ts))\n",
    "\n",
    "ts.head()"
   ]
  },
  {
   "cell_type": "code",
   "execution_count": 183,
   "metadata": {},
   "outputs": [
    {
     "data": {
      "text/plain": [
       "DatetimeIndex(['2000-01-01', '2000-01-02', '2000-01-03', '2000-01-04',\n",
       "               '2000-01-05', '2000-01-06', '2000-01-07', '2000-01-08',\n",
       "               '2000-01-09', '2000-01-10',\n",
       "               ...\n",
       "               '2009-12-22', '2009-12-23', '2009-12-24', '2009-12-25',\n",
       "               '2009-12-26', '2009-12-27', '2009-12-28', '2009-12-29',\n",
       "               '2009-12-30', '2009-12-31'],\n",
       "              dtype='datetime64[ns]', length=3653, freq='D')"
      ]
     },
     "execution_count": 183,
     "metadata": {},
     "output_type": "execute_result"
    }
   ],
   "source": [
    "# Let's look at the index, which is a DateTimeIndex\n",
    "ts.index"
   ]
  },
  {
   "cell_type": "markdown",
   "metadata": {},
   "source": [
    "### Time series\n",
    "Pandas will recognize the fact that `ts` is a time series. When you plot the time series, date time indices will be used as axis labels.\n",
    "Inn this case, using the pandas plot function instead of matplotlib makes this quite a bit more convinient."
   ]
  },
  {
   "cell_type": "code",
   "execution_count": 184,
   "metadata": {},
   "outputs": [
    {
     "data": {
      "text/plain": [
       "<matplotlib.axes._subplots.AxesSubplot at 0x7f1ad9333350>"
      ]
     },
     "execution_count": 184,
     "metadata": {},
     "output_type": "execute_result"
    },
    {
     "data": {
      "image/png": "[encoded data removed]",
      "text/plain": [
       "<Figure size 432x288 with 1 Axes>"
      ]
     },
     "metadata": {
      "needs_background": "light"
     },
     "output_type": "display_data"
    }
   ],
   "source": [
    "ts.plot()"
   ]
  },
  {
   "cell_type": "markdown",
   "metadata": {},
   "source": [
    "## Exercise 3: Resample data\n",
    "\n",
    "Use [`resample`](https://pandas.pydata.org/docs/reference/api/pandas.DataFrame.resample.html?highlight=resample#pandas.DataFrame.resample) to calculate the average values for each year and plot it as red dots on top of the actual data."
   ]
  },
  {
   "cell_type": "code",
   "execution_count": null,
   "metadata": {},
   "outputs": [],
   "source": [
    "# Type your answer here"
   ]
  },
  {
   "cell_type": "markdown",
   "metadata": {},
   "source": [
    "[Answer](#Exercise-3)"
   ]
  },
  {
   "cell_type": "markdown",
   "metadata": {},
   "source": [
    "# 6 Working with real time series data\n",
    "\n",
    "Please download the groundwater levels (*Grundwasserstand-Monatsmittel*) for well `314922` and the water levels (*W-Tagesmittel*) for river gauge `211136` from [ehyd.gv.at](https://ehyd.gv.at) and save them as `well.csv` and `river.csv`.\n",
    "Let's read them in:"
   ]
  },
  {
   "cell_type": "code",
   "execution_count": 187,
   "metadata": {},
   "outputs": [],
   "source": [
    "# Since ehyd data has some very questionable format decisions, we have to give read_csv quite a lot of help to get started\n",
    "wellData = pd.read_csv('well.csv', sep = ';', skiprows=34, skipfooter=1, usecols=[0,1], index_col=0, parse_dates=True, dayfirst=True, names=['','level'], decimal = ',', engine='python')\n",
    "riverData = pd.read_csv('river.csv', sep = ';', skiprows=23, skipfooter=1, index_col=0, parse_dates=True, dayfirst=True, names=['level'], decimal = ',', engine='python')"
   ]
  },
  {
   "cell_type": "code",
   "execution_count": 188,
   "metadata": {},
   "outputs": [
    {
     "data": {
      "text/html": [
       "<div>\n",
       "<style scoped>\n",
       "    .dataframe tbody tr th:only-of-type {\n",
       "        vertical-align: middle;\n",
       "    }\n",
       "\n",
       "    .dataframe tbody tr th {\n",
       "        vertical-align: top;\n",
       "    }\n",
       "\n",
       "    .dataframe thead th {\n",
       "        text-align: right;\n",
       "    }\n",
       "</style>\n",
       "<table border=\"1\" class=\"dataframe\">\n",
       "  <thead>\n",
       "    <tr style=\"text-align: right;\">\n",
       "      <th></th>\n",
       "      <th>level</th>\n",
       "    </tr>\n",
       "  </thead>\n",
       "  <tbody>\n",
       "    <tr>\n",
       "      <th>1976-01-02</th>\n",
       "      <td>204</td>\n",
       "    </tr>\n",
       "    <tr>\n",
       "      <th>1976-01-03</th>\n",
       "      <td>204</td>\n",
       "    </tr>\n",
       "    <tr>\n",
       "      <th>1976-01-04</th>\n",
       "      <td>204</td>\n",
       "    </tr>\n",
       "    <tr>\n",
       "      <th>1976-01-05</th>\n",
       "      <td>201</td>\n",
       "    </tr>\n",
       "    <tr>\n",
       "      <th>1976-01-06</th>\n",
       "      <td>203</td>\n",
       "    </tr>\n",
       "  </tbody>\n",
       "</table>\n",
       "</div>"
      ],
      "text/plain": [
       "            level\n",
       "1976-01-02    204\n",
       "1976-01-03    204\n",
       "1976-01-04    204\n",
       "1976-01-05    201\n",
       "1976-01-06    203"
      ]
     },
     "execution_count": 188,
     "metadata": {},
     "output_type": "execute_result"
    }
   ],
   "source": [
    "riverData.head()"
   ]
  },
  {
   "cell_type": "code",
   "execution_count": 190,
   "metadata": {},
   "outputs": [
    {
     "data": {
      "text/plain": [
       "DatetimeIndex(['1976-01-02', '1976-01-03', '1976-01-04', '1976-01-05',\n",
       "               '1976-01-06', '1976-01-07', '1976-01-08', '1976-01-09',\n",
       "               '1976-01-10', '1976-01-11',\n",
       "               ...\n",
       "               '2016-12-22', '2016-12-23', '2016-12-24', '2016-12-25',\n",
       "               '2016-12-26', '2016-12-27', '2016-12-28', '2016-12-29',\n",
       "               '2016-12-30', '2016-12-31'],\n",
       "              dtype='datetime64[ns]', length=14975, freq=None)"
      ]
     },
     "execution_count": 190,
     "metadata": {},
     "output_type": "execute_result"
    }
   ],
   "source": [
    "riverData.index"
   ]
  },
  {
   "cell_type": "markdown",
   "metadata": {},
   "source": [
    "Since we have specified `index_col=0, parse_dates=True, dayfirst=True` in reading the file, to make pandas aware of the fact that\n",
    "\n",
    " - the first column is our index\n",
    " - this index is time data\n",
    " - it is formated in the european way\n",
    "\n",
    "we now have the data available with a DatetimeIndex, so we could immidately start selecting data with time information.\n",
    "\n",
    "Remember *Exercise 2* from *Lecture 3* where you had to find certain values in the year 2008 in another ehyd timeseries?\n",
    "\n",
    "It was a rather convoluted loop to grab the year 2008:\n",
    "\n",
    "    counter = range(len(data))\n",
    "    for i in counter:\n",
    "        date = dates[i]\n",
    "        year = date[6:11] # the year is positions 6 to 11 of the string\n",
    "        year = int(year) # in order to be able to work with it, we need to turn it into a number\n",
    "\n",
    "Now we simply can grab the year with `riverData['2008']`.\n",
    "Also, we don't need to loop over the data to select it, we can simply adress the level data with a selection criteria: `twothousandeight.level > 240`.\n",
    "So if we wanted to know at which days the water level was between 240 and 250 cm, it is now a simple two liner."
   ]
  },
  {
   "cell_type": "code",
   "execution_count": 208,
   "metadata": {},
   "outputs": [
    {
     "data": {
      "text/html": [
       "<div>\n",
       "<style scoped>\n",
       "    .dataframe tbody tr th:only-of-type {\n",
       "        vertical-align: middle;\n",
       "    }\n",
       "\n",
       "    .dataframe tbody tr th {\n",
       "        vertical-align: top;\n",
       "    }\n",
       "\n",
       "    .dataframe thead th {\n",
       "        text-align: right;\n",
       "    }\n",
       "</style>\n",
       "<table border=\"1\" class=\"dataframe\">\n",
       "  <thead>\n",
       "    <tr style=\"text-align: right;\">\n",
       "      <th></th>\n",
       "      <th>level</th>\n",
       "    </tr>\n",
       "  </thead>\n",
       "  <tbody>\n",
       "    <tr>\n",
       "      <th>2008-05-16</th>\n",
       "      <td>241</td>\n",
       "    </tr>\n",
       "    <tr>\n",
       "      <th>2008-05-17</th>\n",
       "      <td>245</td>\n",
       "    </tr>\n",
       "    <tr>\n",
       "      <th>2008-06-04</th>\n",
       "      <td>248</td>\n",
       "    </tr>\n",
       "    <tr>\n",
       "      <th>2008-06-05</th>\n",
       "      <td>244</td>\n",
       "    </tr>\n",
       "    <tr>\n",
       "      <th>2008-06-07</th>\n",
       "      <td>247</td>\n",
       "    </tr>\n",
       "    <tr>\n",
       "      <th>2008-06-08</th>\n",
       "      <td>242</td>\n",
       "    </tr>\n",
       "    <tr>\n",
       "      <th>2008-08-18</th>\n",
       "      <td>246</td>\n",
       "    </tr>\n",
       "    <tr>\n",
       "      <th>2008-10-30</th>\n",
       "      <td>242</td>\n",
       "    </tr>\n",
       "  </tbody>\n",
       "</table>\n",
       "</div>"
      ],
      "text/plain": [
       "            level\n",
       "2008-05-16    241\n",
       "2008-05-17    245\n",
       "2008-06-04    248\n",
       "2008-06-05    244\n",
       "2008-06-07    247\n",
       "2008-06-08    242\n",
       "2008-08-18    246\n",
       "2008-10-30    242"
      ]
     },
     "execution_count": 208,
     "metadata": {},
     "output_type": "execute_result"
    }
   ],
   "source": [
    "twothousandeight = riverData['2008']\n",
    "twothousandeight[(twothousandeight.level > 240) & (twothousandeight.level < 250)]"
   ]
  },
  {
   "cell_type": "markdown",
   "metadata": {},
   "source": [
    "We can of course also plot the data, either all of it, or with the times cut out."
   ]
  },
  {
   "cell_type": "code",
   "execution_count": 202,
   "metadata": {},
   "outputs": [
    {
     "data": {
      "text/plain": [
       "<matplotlib.axes._subplots.AxesSubplot at 0x7f1ad67e0cd0>"
      ]
     },
     "execution_count": 202,
     "metadata": {},
     "output_type": "execute_result"
    },
    {
     "data": {
      "image/png": "[encoded data removed]",
      "text/plain": [
       "<Figure size 432x288 with 1 Axes>"
      ]
     },
     "metadata": {
      "needs_background": "light"
     },
     "output_type": "display_data"
    }
   ],
   "source": [
    "twothousandeight.plot()"
   ]
  },
  {
   "cell_type": "code",
   "execution_count": 209,
   "metadata": {},
   "outputs": [
    {
     "data": {
      "text/plain": [
       "<matplotlib.axes._subplots.AxesSubplot at 0x7f1ad637e490>"
      ]
     },
     "execution_count": 209,
     "metadata": {},
     "output_type": "execute_result"
    },
    {
     "data": {
      "image/png": "[encoded data removed]",
      "text/plain": [
       "<Figure size 432x288 with 1 Axes>"
      ]
     },
     "metadata": {
      "needs_background": "light"
     },
     "output_type": "display_data"
    }
   ],
   "source": [
    "riverData['2008'].plot()"
   ]
  },
  {
   "cell_type": "code",
   "execution_count": 210,
   "metadata": {},
   "outputs": [
    {
     "data": {
      "text/plain": [
       "<matplotlib.axes._subplots.AxesSubplot at 0x7f1ad649ba10>"
      ]
     },
     "execution_count": 210,
     "metadata": {},
     "output_type": "execute_result"
    },
    {
     "data": {
      "image/png": "[encoded data removed]",
      "text/plain": [
       "<Figure size 432x288 with 1 Axes>"
      ]
     },
     "metadata": {
      "needs_background": "light"
     },
     "output_type": "display_data"
    }
   ],
   "source": [
    "riverData.plot()"
   ]
  },
  {
   "cell_type": "markdown",
   "metadata": {},
   "source": [
    "Even though they're time data of different resolution (daily vs monthly) we can still plot them in one plot, since pandas is aware of the nature of the the time data."
   ]
  },
  {
   "cell_type": "code",
   "execution_count": 243,
   "metadata": {},
   "outputs": [
    {
     "data": {
      "text/plain": [
       "<matplotlib.axes._subplots.AxesSubplot at 0x7f1ad55c5050>"
      ]
     },
     "execution_count": 243,
     "metadata": {},
     "output_type": "execute_result"
    },
    {
     "data": {
      "image/png": "[encoded data removed]",
      "text/plain": [
       "<Figure size 432x288 with 2 Axes>"
      ]
     },
     "metadata": {
      "needs_background": "light"
     },
     "output_type": "display_data"
    }
   ],
   "source": [
    "ax=riverData.plot(color='b')\n",
    "wellData.plot(ax=ax, color='g', secondary_y=True)"
   ]
  },
  {
   "cell_type": "markdown",
   "metadata": {},
   "source": [
    "## Exercise 4: Some statistics\n",
    "\n",
    "Use pandas to obtain some basic statistics for `wellData` and `riverData`, so that you can **produce some output in the second cell below:**"
   ]
  },
  {
   "cell_type": "code",
   "execution_count": null,
   "metadata": {},
   "outputs": [],
   "source": [
    "# Type your code here"
   ]
  },
  {
   "cell_type": "code",
   "execution_count": 241,
   "metadata": {},
   "outputs": [
    {
     "name": "stdout",
     "output_type": "stream",
     "text": [
      "The well Apfelberg (HZB 314922) has a mean waterlevel of 624.46 meters and a median of 624.39 meters\n",
      "The gauge Zeltweg (HZB 211136) has a mean waterlevel of 207.41 cm and a median of 204.0 cm\n"
     ]
    }
   ],
   "source": [
    "print('The well Apfelberg (HZB 314922) has a mean waterlevel of', wellMean, 'meters and a median of', wellMedian, 'meters')\n",
    "print('The gauge Zeltweg (HZB 211136) has a mean waterlevel of', riverMean, 'cm and a median of', riverMedian, 'cm')"
   ]
  },
  {
   "cell_type": "markdown",
   "metadata": {},
   "source": [
    "[Answer](#Exercise-4)"
   ]
  },
  {
   "cell_type": "markdown",
   "metadata": {},
   "source": [
    "# 7 Writing data with pandas\n",
    "\n",
    "As explained above, pandas can read many different formats.\n",
    "This also applies to writing them.\n",
    "CSV-files and Excel-files are probably the most common file formats to do this and can easily be sent through email. \n",
    "Pandas has methods for different file-formats. All start with `data.to_format`, e.g., `data.to_csv` or `data.to_excel`.\n",
    "Let's write our river data from 2008 to an Excel file:"
   ]
  },
  {
   "cell_type": "code",
   "execution_count": 244,
   "metadata": {},
   "outputs": [],
   "source": [
    "twothousandeight.to_excel('2008.xls')"
   ]
  },
  {
   "cell_type": "markdown",
   "metadata": {},
   "source": [
    "# Answers to exercises\n",
    "\n",
    "### Exercise 1"
   ]
  },
  {
   "cell_type": "code",
   "execution_count": null,
   "metadata": {},
   "outputs": [],
   "source": [
    "filename = 'Size-Slope-Data-Points.csv'\n",
    "data = pd.read_csv(filename, sep=';', header=0, index_col=0)"
   ]
  },
  {
   "cell_type": "markdown",
   "metadata": {},
   "source": [
    "`index_col=0` is optional. If you skip this, pandas just adds a numbered index. This can have benefits for some things or be annoying with others.\n",
    "In this case, it doesn't mind, but later on, when we use timeseries data, this will become very important."
   ]
  },
  {
   "cell_type": "markdown",
   "metadata": {},
   "source": [
    "### Exercise 2\n",
    "\n",
    "**What does this line try to answer?**\n",
    "\n",
    "We simply want to know the average grain size that Komar (1998) found for grains at a beach with a slope of greater than 8°.\n",
    "\n",
    "Again, you can do this in various different ways.\n",
    "Here are two possible ways:\n",
    "\n",
    "Apparently, we are only interested in values from the Author `Komar1998`, so it makes sense to select this `subset` first, so that we don't have to do all the selection work on data we are not interested in.\n",
    "\n",
    "Three conditional statements in one row are probably still OK, but I'd prefer to split them by their themes, so I'm selecting the `location` and then the `grain_properties` from this `location`.\n",
    "\n",
    "In a final step, we want to have the mean of the first column, but since we're having a nice index, I'm replacing `iloc` with `loc`, so that it becomes obvious from what we are actually calculating the mean."
   ]
  },
  {
   "cell_type": "code",
   "execution_count": null,
   "metadata": {},
   "outputs": [],
   "source": [
    "subset = data.loc['Komar1998']\n",
    "location = subset.loc[subset['Type'] == 'Beach']\n",
    "grain_properties = location.loc[(location['Clast size (mm)'] < 1) & (location['Slope (deg)'] > 8)]\n",
    "grain_properties.loc[:,'Clast size (mm)'].mean()"
   ]
  },
  {
   "cell_type": "markdown",
   "metadata": {},
   "source": [
    "Depending on what you need your intermediate results for, you can also reuse variables to save memory."
   ]
  },
  {
   "cell_type": "code",
   "execution_count": null,
   "metadata": {},
   "outputs": [],
   "source": [
    "subset = data.loc['Komar1998'] # this variable you probably want to introduce.\n",
    "# would we use 'data = data.loc...' all of our 2000+ lines dataframe would be gone!\n",
    "subset = subset.loc[(subset['Clast size (mm)'] < 1) & (subset['Slope (deg)'] > 8)]\n",
    "subset = subset.loc[subset['Type'] == 'Beach'] # Again, we can do this in a different order. \n",
    "# But the one above probably makes more sense, since this one also selects a lot of stuff that's not on a beach\n",
    "subset = subset.loc[:,'Clast size (mm)'] \n",
    "mean_grain = subset.mean()\n",
    "print(mean_grain)"
   ]
  },
  {
   "cell_type": "markdown",
   "metadata": {},
   "source": [
    "### Exercise 3"
   ]
  },
  {
   "cell_type": "code",
   "execution_count": null,
   "metadata": {},
   "outputs": [],
   "source": [
    "ts.plot()\n",
    "ts.resample(\"A\").mean().plot(marker=\"o\", c=\"r\", linestyle=\" \")"
   ]
  },
  {
   "cell_type": "markdown",
   "metadata": {},
   "source": [
    "### Exercise 4"
   ]
  },
  {
   "cell_type": "code",
   "execution_count": null,
   "metadata": {},
   "outputs": [],
   "source": [
    "wellMean = wellData.mean()\n",
    "wellMedian = wellData.median()\n",
    "riverMean = riverData.mean()\n",
    "riverMedian = riverData.median()\n",
    "wellMean = wellMean[0] # remember, the outputs of pandas statistics are series, so we need to cut them to size first\n",
    "wellMedian = wellMedian[0]\n",
    "riverMean = riverMean[0]\n",
    "riverMedian = riverMedian[0]"
   ]
  },
  {
   "cell_type": "code",
   "execution_count": null,
   "metadata": {},
   "outputs": [],
   "source": [
    "# if we want to make a more readable output, we could also round the numbers\n",
    "wellMean = wellMean.round(2)\n",
    "wellMedian = wellMedian.round(2)\n",
    "riverMean = riverMean.round(2)\n",
    "riverMedian = riverMedian.round(2)"
   ]
  },
  {
   "cell_type": "code",
   "execution_count": null,
   "metadata": {},
   "outputs": [],
   "source": [
    "The well Apfelberg (HZB 314922) has a mean waterlevel of', wellMean, 'meters and a median of', wellMedian, 'meters')\n",
    "print('The gauge Zeltweg (HZB 211136) has a mean waterlevel of', riverMean, 'cm and a median of', riverMedian, 'cm')"
   ]
  }
 ],
 "metadata": {
  "kernelspec": {
   "display_name": "Python 3",
   "language": "python",
   "name": "python3"
  },
  "language_info": {
   "codemirror_mode": {
    "name": "ipython",
    "version": 3
   },
   "file_extension": ".py",
   "mimetype": "text/x-python",
   "name": "python",
   "nbconvert_exporter": "python",
   "pygments_lexer": "ipython3",
   "version": "3.7.7"
  }
 },
 "nbformat": 4,
 "nbformat_minor": 4
}
