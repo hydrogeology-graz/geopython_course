{
 "cells": [
  {
   "cell_type": "markdown",
   "metadata": {},
   "source": [
    "\n",
    "# Notebook 4: Descriptive Statistics\n",
    "\n",
    "*Developed by Johannes Haas and Raoul Collenteur, Institute of Earth Sciences, NAWI Graz Geocenter, University of Graz.*\n",
    "\n",
    "### Content of this lecture\n",
    "- repetition of previous lecture\n",
    "- some pointers on file types\n",
    "- basic statistics\n",
    "- correlations\n",
    "- fitting linear functions\n",
    "\n"
   ]
  },
  {
   "cell_type": "code",
   "execution_count": 1,
   "metadata": {},
   "outputs": [],
   "source": [
    "# Import the python packages needed in this session\n",
    "import numpy as np\n",
    "import pandas as pd\n",
    "import matplotlib.pyplot as plt\n",
    "%matplotlib inline"
   ]
  },
  {
   "cell_type": "markdown",
   "metadata": {},
   "source": [
    "# 1. Repeating last week\n",
    "\n",
    "### 1a. "
   ]
  },
  {
   "cell_type": "markdown",
   "metadata": {},
   "source": [
    "# 2. Some pointers on file types\n",
    "\n",
    "\n"
   ]
  },
  {
   "cell_type": "markdown",
   "metadata": {},
   "source": [
    "### 2a. Common file types\n",
    "\n",
    "If you look around on your computer, you'll find various files, generally marked by a symbol/icon and their file extension. E.g a page of paper with a \"W\" and the ending `.doc` or `.docx` is a word file, if that \"W\" is an \"X\" and it ends with `.xls` or `.xlsx`, it's an excel file, and so on.\n",
    "\n",
    "So normally, you just doubleclick a file, and windows knows what to do with it, and thanks to the icon, you know what's likely going to happen (\"W\" indicates that word will start...). However, this system has some limitations:\n",
    "When you change the file ending, you don't necessarily change the file. And icons that point to specific applications can hide the fact that there's also other applications that can open said files.\n",
    "And as you have already realized, windows sometimes gets confused when saving files from the internet or when opening files it does not know. E.g. when Edge tries to save our notebooks as `.htm` or when you try to open our `.ipynb` files with a simple doubleclick.\n",
    "So this simple principle offers some pitfalls, when you venture away from the small bunch of standard MS-Office files or when you are working with files that can be opened with many different applications.\n",
    "\n",
    "There are various ways to improve this situation such as \"[magic numbers](https://en.wikipedia.org/wiki/Magic_number_(programming))\" and the use of metadata. However, for our use case, the file extension and a bit of thinking will work."
   ]
  },
  {
   "cell_type": "markdown",
   "metadata": {},
   "source": [
    "### 2b. text files\n",
    "\n",
    "Most of the files we are using are just simple text files.\n",
    "The CSV files from the previous lecture, are nothing more than a text file (`.txt`) with a different file extension (`.csv`) and a few rules for its formatting.\n",
    "Similarly, the jupyter notebook is also just a simple text file, but with the ending `.ipynb` and certain rules that govern its structure.\n"
   ]
  },
  {
   "cell_type": "markdown",
   "metadata": {},
   "source": [
    "    {\n",
    "     \"cells\": [\n",
    "      {\n",
    "       \"cell_type\": \"markdown\",\n",
    "       \"metadata\": {},\n",
    "       \"source\": [\n",
    "        \"\\n\",\n",
    "        \"# Notebook 4: Descriptive Statistics\\n\",\n",
    "        \"\\n\",\n",
    "        \"*Developed by Johannes Haas and Raoul Collenteur, Institute of Earth Sciences, NAWI Graz Geocenter, University of Graz.*\\n\",\n",
    "        \"\\n\",\n",
    "        \"### Content of this lecture\\n\",\n",
    "        \"- repetition of previous lecture\\n\",\n",
    "        \"- some pointers on file types\\n\",\n",
    "        \"- basic statistics\\n\",\n",
    "        \"- correlations\\n\",\n",
    "        \"- fitting linear functions\\n\",\n",
    "        \"\\n\"\n",
    "       ]\n",
    "      },\n",
    "      {\n",
    "       \"cell_type\": \"code\",\n",
    "       \"execution_count\": 2,\n",
    "       \"metadata\": {},\n",
    "       \"outputs\": [],\n",
    "       \"source\": [\n",
    "        \"# Import the python packages needed in this session\\n\",\n",
    "        \"import numpy as np\\n\",\n",
    "        \"import pandas as pd\\n\",\n",
    "        \"import matplotlib.pyplot as plt\\n\",\n",
    "        \"%matplotlib inline\"\n",
    "       ]\n",
    "      },"
   ]
  },
  {
   "cell_type": "markdown",
   "metadata": {},
   "source": [
    "The *code* above is just the first two cells of this notebook, opened in a text editor.\n",
    "You can probably already read quite a bit of this code, applying what you have learned so far, even though you probably don't know the *language* it is written in.\n",
    "\n",
    "For just editing the notebook, a text editor works just as well as our browser, but we have to deal with much more formatting commands and we can not work with the python parts interactively."
   ]
  },
  {
   "cell_type": "markdown",
   "metadata": {},
   "source": [
    "# 3. Basic Statistics\n",
    "\n",
    "What basic statistics have we already done so far?\n",
    "\n"
   ]
  },
  {
   "cell_type": "code",
   "execution_count": 2,
   "metadata": {},
   "outputs": [],
   "source": [
    "values = np.random.rand(100)"
   ]
  },
  {
   "cell_type": "code",
   "execution_count": 3,
   "metadata": {},
   "outputs": [
    {
     "name": "stdout",
     "output_type": "stream",
     "text": [
      "0.5096196260221982\n",
      "0.31405801967032554\n",
      "2.3631290602343924e-05\n",
      "0.9984607928948565\n",
      "100\n"
     ]
    }
   ],
   "source": [
    "print(values.mean())\n",
    "print(values.std())\n",
    "print(values.min())\n",
    "print(values.max())\n",
    "print(len(values))"
   ]
  },
  {
   "cell_type": "markdown",
   "metadata": {},
   "source": [
    "Two, very basic things are still missing: The median and the mode. \n",
    "\n",
    "### 3a. The median\n",
    "\n",
    "While the mean is the mean value of all the values, the median is the middle value of all sorted values.\n",
    "Or in other words: 50% of samples are smaller and 50% of samples are larger than the median.\n",
    "Lets construct some semi-random values to illustrate the point:"
   ]
  },
  {
   "cell_type": "code",
   "execution_count": 4,
   "metadata": {},
   "outputs": [],
   "source": [
    "GammaData = np.random.gamma(2, 1, 20)"
   ]
  },
  {
   "cell_type": "code",
   "execution_count": 5,
   "metadata": {},
   "outputs": [],
   "source": [
    "ICData = np.array([100, 200, 500, 500, 50, 250, 500, 600, 400, 100000, 1000, 10, 250, 400, 600, 300, 500, 300, 500, 400])"
   ]
  },
  {
   "cell_type": "code",
   "execution_count": 6,
   "metadata": {},
   "outputs": [
    {
     "data": {
      "text/plain": [
       "array([0.83008205, 1.51449324, 2.69355698, 3.5643824 , 1.47886493,\n",
       "       2.13768489, 0.92985118, 2.98418789, 2.33558115, 0.42048261,\n",
       "       1.48752084, 2.51926314, 1.00353721, 0.90270383, 1.31134822,\n",
       "       0.13544803, 0.65657972, 2.63104036, 3.51469788, 0.56239358])"
      ]
     },
     "execution_count": 6,
     "metadata": {},
     "output_type": "execute_result"
    }
   ],
   "source": [
    "GammaData"
   ]
  },
  {
   "cell_type": "code",
   "execution_count": 7,
   "metadata": {},
   "outputs": [
    {
     "data": {
      "text/plain": [
       "array([   100,    200,    500,    500,     50,    250,    500,    600,\n",
       "          400, 100000,   1000,     10,    250,    400,    600,    300,\n",
       "          500,    300,    500,    400])"
      ]
     },
     "execution_count": 7,
     "metadata": {},
     "output_type": "execute_result"
    }
   ],
   "source": [
    "ICData"
   ]
  },
  {
   "cell_type": "markdown",
   "metadata": {},
   "source": [
    "Getting the mean is straightforward, both per hand, or with the inbuilt python function."
   ]
  },
  {
   "cell_type": "code",
   "execution_count": 8,
   "metadata": {},
   "outputs": [
    {
     "name": "stdout",
     "output_type": "stream",
     "text": [
      "The mean calculated the \"hard\" way is 1.6806850055316809 whereas the mean from the inbuilt method is 1.6806850055316809\n"
     ]
    }
   ],
   "source": [
    "HandMean = sum(GammaData) / len(GammaData)\n",
    "PyMean = GammaData.mean()\n",
    "print('The mean calculated the \\\"hard\" way is', HandMean, 'whereas the mean from the inbuilt method is', PyMean)"
   ]
  },
  {
   "cell_type": "code",
   "execution_count": 9,
   "metadata": {
    "scrolled": true
   },
   "outputs": [
    {
     "name": "stdout",
     "output_type": "stream",
     "text": [
      "The mean calculated the \"hard\" way is 5368.0 whereas the mean from the inbuilt method is 5368.0\n"
     ]
    }
   ],
   "source": [
    "HandMean = sum(ICData) / len(ICData)\n",
    "PyMean = ICData.mean()\n",
    "print('The mean calculated the \\\"hard\" way is', HandMean, 'whereas the mean from the inbuilt method is', PyMean)"
   ]
  },
  {
   "cell_type": "markdown",
   "metadata": {},
   "source": [
    "Getting the median is as easy, we just need a new function, `np.sort()`."
   ]
  },
  {
   "cell_type": "code",
   "execution_count": 10,
   "metadata": {},
   "outputs": [
    {
     "name": "stdout",
     "output_type": "stream",
     "text": [
      "1.4875208364862134\n"
     ]
    }
   ],
   "source": [
    "# sort the values first:\n",
    "GammaSorted = np.sort(GammaData)\n",
    "# find the middle one\n",
    "middle = len(GammaSorted) / 2\n",
    "middle = int(middle)\n",
    "median = GammaSorted[middle]\n",
    "print(median)"
   ]
  },
  {
   "cell_type": "code",
   "execution_count": 11,
   "metadata": {},
   "outputs": [
    {
     "name": "stdout",
     "output_type": "stream",
     "text": [
      "400\n"
     ]
    }
   ],
   "source": [
    "# sort the values first:\n",
    "ICSorted = np.sort(ICData)\n",
    "# find the middle one\n",
    "middle = len(ICSorted) / 2\n",
    "middle = int(middle)\n",
    "median = ICSorted[middle]\n",
    "print(median)"
   ]
  },
  {
   "cell_type": "markdown",
   "metadata": {},
   "source": [
    "Or, we can simply use the inbuilt function, similar (but different) from our already known `mean` function."
   ]
  },
  {
   "cell_type": "code",
   "execution_count": 12,
   "metadata": {},
   "outputs": [
    {
     "name": "stdout",
     "output_type": "stream",
     "text": [
      "median: 1.4831928852310896\n",
      "mean: 1.6806850055316809\n"
     ]
    }
   ],
   "source": [
    "print('median:', np.median(GammaSorted))\n",
    "print('mean:', GammaSorted.mean())"
   ]
  },
  {
   "cell_type": "code",
   "execution_count": 13,
   "metadata": {},
   "outputs": [
    {
     "name": "stdout",
     "output_type": "stream",
     "text": [
      "median: 400.0\n",
      "mean: 5368.0\n"
     ]
    }
   ],
   "source": [
    "print('median:', np.median(ICSorted))\n",
    "print('mean:', ICSorted.mean())"
   ]
  },
  {
   "cell_type": "markdown",
   "metadata": {},
   "source": [
    "Now, what's the difference between the two values?"
   ]
  },
  {
   "cell_type": "code",
   "execution_count": 14,
   "metadata": {},
   "outputs": [
    {
     "data": {
      "text/plain": [
       "[<matplotlib.lines.Line2D at 0x198a1dcfe48>]"
      ]
     },
     "execution_count": 14,
     "metadata": {},
     "output_type": "execute_result"
    },
    {
     "data": {
      "image/png": "[encoded data removed]",
      "text/plain": [
       "<Figure size 432x288 with 1 Axes>"
      ]
     },
     "metadata": {
      "needs_background": "light"
     },
     "output_type": "display_data"
    }
   ],
   "source": [
    "plt.plot(ICData)"
   ]
  },
  {
   "cell_type": "code",
   "execution_count": 15,
   "metadata": {},
   "outputs": [
    {
     "data": {
      "text/plain": [
       "(array([19.,  0.,  0.,  0.,  0.,  0.,  0.,  0.,  0.,  1.]),\n",
       " array([1.0000e+01, 1.0009e+04, 2.0008e+04, 3.0007e+04, 4.0006e+04,\n",
       "        5.0005e+04, 6.0004e+04, 7.0003e+04, 8.0002e+04, 9.0001e+04,\n",
       "        1.0000e+05]),\n",
       " <a list of 10 Patch objects>)"
      ]
     },
     "execution_count": 15,
     "metadata": {},
     "output_type": "execute_result"
    },
    {
     "data": {
      "image/png": "[encoded data removed]",
      "text/plain": [
       "<Figure size 432x288 with 1 Axes>"
      ]
     },
     "metadata": {
      "needs_background": "light"
     },
     "output_type": "display_data"
    }
   ],
   "source": [
    "plt.hist(ICData)"
   ]
  },
  {
   "cell_type": "code",
   "execution_count": 16,
   "metadata": {},
   "outputs": [
    {
     "data": {
      "text/plain": [
       "(array([2., 2., 4., 3., 1., 1., 2., 2., 1., 2.]),\n",
       " array([0.13544803, 0.47834147, 0.82123491, 1.16412834, 1.50702178,\n",
       "        1.84991522, 2.19280865, 2.53570209, 2.87859552, 3.22148896,\n",
       "        3.5643824 ]),\n",
       " <a list of 10 Patch objects>)"
      ]
     },
     "execution_count": 16,
     "metadata": {},
     "output_type": "execute_result"
    },
    {
     "data": {
      "image/png": "[encoded data removed]",
      "text/plain": [
       "<Figure size 432x288 with 1 Axes>"
      ]
     },
     "metadata": {
      "needs_background": "light"
     },
     "output_type": "display_data"
    }
   ],
   "source": [
    "plt.hist(GammaData)"
   ]
  },
  {
   "cell_type": "code",
   "execution_count": 17,
   "metadata": {},
   "outputs": [
    {
     "data": {
      "text/plain": [
       "10"
      ]
     },
     "execution_count": 17,
     "metadata": {},
     "output_type": "execute_result"
    }
   ],
   "source": [
    "middle"
   ]
  },
  {
   "cell_type": "code",
   "execution_count": 18,
   "metadata": {},
   "outputs": [
    {
     "ename": "NameError",
     "evalue": "name 'GaussData' is not defined",
     "output_type": "error",
     "traceback": [
      "\u001b[1;31m---------------------------------------------------------------------------\u001b[0m",
      "\u001b[1;31mNameError\u001b[0m                                 Traceback (most recent call last)",
      "\u001b[1;32m<ipython-input-18-ef425eb984b2>\u001b[0m in \u001b[0;36m<module>\u001b[1;34m()\u001b[0m\n\u001b[1;32m----> 1\u001b[1;33m \u001b[0mGaussSorted\u001b[0m \u001b[1;33m=\u001b[0m \u001b[0mnp\u001b[0m\u001b[1;33m.\u001b[0m\u001b[0msort\u001b[0m\u001b[1;33m(\u001b[0m\u001b[0mGaussData\u001b[0m\u001b[1;33m)\u001b[0m\u001b[1;33m\u001b[0m\u001b[0m\n\u001b[0m",
      "\u001b[1;31mNameError\u001b[0m: name 'GaussData' is not defined"
     ]
    }
   ],
   "source": []
  },
  {
   "cell_type": "code",
   "execution_count": null,
   "metadata": {},
   "outputs": [],
   "source": []
  },
  {
   "cell_type": "markdown",
   "metadata": {},
   "source": [
    "### 3b. The mode\n",
    "\n",
    "The mode (*Modalwert* or also *Modus* in German) is the value with the most occurences in a dataset."
   ]
  },
  {
   "cell_type": "code",
   "execution_count": 19,
   "metadata": {},
   "outputs": [
    {
     "data": {
      "text/plain": [
       "array([    10,     50,    100,    200,    250,    250,    300,    300,\n",
       "          400,    400,    400,    500,    500,    500,    500,    500,\n",
       "          600,    600,   1000, 100000])"
      ]
     },
     "execution_count": 19,
     "metadata": {},
     "output_type": "execute_result"
    }
   ],
   "source": [
    "ICSorted"
   ]
  },
  {
   "cell_type": "markdown",
   "metadata": {},
   "source": [
    "For such a simple dataset, it's quite easy to count it by hand, but you can imagine that it will easily become a lot of work to implement an algorithm for it. \n",
    "We actually need another package for it, since it is not included in the standard numpy."
   ]
  },
  {
   "cell_type": "code",
   "execution_count": 20,
   "metadata": {},
   "outputs": [],
   "source": [
    "from scipy import stats"
   ]
  },
  {
   "cell_type": "code",
   "execution_count": 21,
   "metadata": {},
   "outputs": [
    {
     "name": "stdout",
     "output_type": "stream",
     "text": [
      "ModeResult(mode=array([500]), count=array([5]))\n"
     ]
    }
   ],
   "source": [
    "mode = stats.mode(ICSorted)\n",
    "print(mode)"
   ]
  },
  {
   "cell_type": "code",
   "execution_count": null,
   "metadata": {},
   "outputs": [],
   "source": []
  },
  {
   "cell_type": "markdown",
   "metadata": {},
   "source": [
    "### 3c. The Bell Curve/Normal Distribution\n",
    "\n",
    "*Mostly called Gauß-Verteilung in German*\n",
    "\n",
    "We have already worked with principles such as *mean* and the *standard deviation* that we applied to random values.\n",
    "However, most processes in nature are not really totally random, but follow certain probability density functions, with the most well known one being the [normal distribution](https://en.wikipedia.org/wiki/Normal_distribution) or [Gauß-Verteilung](https://de.wikipedia.org/wiki/Normalverteilung) in German, with its characteristic bell shape.\n",
    "\n",
    "In the following code cells, we are going to produce such a dataset and figure out what this bell shape means.\n",
    "\n",
    "First, we have to produce a random dataset, that follows the normal distribution:"
   ]
  },
  {
   "cell_type": "code",
   "execution_count": 22,
   "metadata": {},
   "outputs": [],
   "source": [
    "GaussData = np.random.normal(10, 5, 1001)"
   ]
  },
  {
   "cell_type": "code",
   "execution_count": 23,
   "metadata": {},
   "outputs": [
    {
     "data": {
      "text/plain": [
       "[<matplotlib.lines.Line2D at 0x198a3e1d208>]"
      ]
     },
     "execution_count": 23,
     "metadata": {},
     "output_type": "execute_result"
    },
    {
     "data": {
      "image/png": "[encoded data removed]",
      "text/plain": [
       "<Figure size 432x288 with 1 Axes>"
      ]
     },
     "metadata": {
      "needs_background": "light"
     },
     "output_type": "display_data"
    }
   ],
   "source": [
    "plt.plot(GaussData)"
   ]
  },
  {
   "cell_type": "markdown",
   "metadata": {},
   "source": [
    "As you can clearly see, your data does not looks very bell-like.\n",
    "In order to turn it into the bell, we do not have to plot the values, but their counts!\n",
    "Again, `matplotlib`, which we have imported at the beginning, is there to help:\n"
   ]
  },
  {
   "cell_type": "code",
   "execution_count": 24,
   "metadata": {},
   "outputs": [
    {
     "data": {
      "text/plain": [
       "(array([ 11.,  37.,  95., 193., 261., 227., 110.,  48.,  15.,   4.]),\n",
       " array([-5.22097684, -1.99601914,  1.22893856,  4.45389627,  7.67885397,\n",
       "        10.90381168, 14.12876938, 17.35372708, 20.57868479, 23.80364249,\n",
       "        27.02860019]),\n",
       " <a list of 10 Patch objects>)"
      ]
     },
     "execution_count": 24,
     "metadata": {},
     "output_type": "execute_result"
    },
    {
     "data": {
      "image/png": "[encoded data removed]",
      "text/plain": [
       "<Figure size 432x288 with 1 Axes>"
      ]
     },
     "metadata": {
      "needs_background": "light"
     },
     "output_type": "display_data"
    }
   ],
   "source": [
    "plt.hist(GaussData)"
   ]
  },
  {
   "cell_type": "markdown",
   "metadata": {},
   "source": [
    "Ypu can probably already already start to see some kind of bell shape. However, the bins we have used to sort our data have been decided by matplotlib, and they are not really the ideal size.\n",
    "Check out the documentation for `plt.hist()` (either with the `?` feature or [online](https://matplotlib.org/api/_as_gen/matplotlib.pyplot.hist.html)) and replot the chart above with a bin size of 2."
   ]
  },
  {
   "cell_type": "code",
   "execution_count": 25,
   "metadata": {},
   "outputs": [],
   "source": [
    "bins = np.arange(-5,26,2)"
   ]
  },
  {
   "cell_type": "code",
   "execution_count": 26,
   "metadata": {},
   "outputs": [
    {
     "data": {
      "text/plain": [
       "array([-5, -3, -1,  1,  3,  5,  7,  9, 11, 13, 15, 17, 19, 21, 23, 25])"
      ]
     },
     "execution_count": 26,
     "metadata": {},
     "output_type": "execute_result"
    }
   ],
   "source": [
    "bins"
   ]
  },
  {
   "cell_type": "code",
   "execution_count": 27,
   "metadata": {},
   "outputs": [
    {
     "data": {
      "text/plain": [
       "(array([  3.,  12.,  26.,  46.,  78., 115., 154., 169., 138., 112.,  74.,\n",
       "         39.,  20.,  10.,   2.]),\n",
       " array([-5, -3, -1,  1,  3,  5,  7,  9, 11, 13, 15, 17, 19, 21, 23, 25]),\n",
       " <a list of 15 Patch objects>)"
      ]
     },
     "execution_count": 27,
     "metadata": {},
     "output_type": "execute_result"
    },
    {
     "data": {
      "image/png": "[encoded data removed]",
      "text/plain": [
       "<Figure size 432x288 with 1 Axes>"
      ]
     },
     "metadata": {
      "needs_background": "light"
     },
     "output_type": "display_data"
    }
   ],
   "source": [
    "plt.hist(GaussData, bins)"
   ]
  },
  {
   "cell_type": "markdown",
   "metadata": {},
   "source": [
    "While the data did not change, the distribution is likely a bit clearer now.\n",
    "Now we can also see what the `10` and `5` in our intial setup (`GaussData = np.random.normal(10, 5, 1000)`) meant.\n",
    "We have used the mean and the standard deviation as an input to produce a *random* normal distribution."
   ]
  },
  {
   "cell_type": "code",
   "execution_count": 28,
   "metadata": {},
   "outputs": [
    {
     "name": "stdout",
     "output_type": "stream",
     "text": [
      "the mean is 9.765141101295136\n"
     ]
    }
   ],
   "source": [
    "mu = GaussData.mean()\n",
    "print('the mean is', mu)"
   ]
  },
  {
   "cell_type": "code",
   "execution_count": 29,
   "metadata": {},
   "outputs": [
    {
     "name": "stdout",
     "output_type": "stream",
     "text": [
      "the standard deviation is 5.003318222936074\n"
     ]
    }
   ],
   "source": [
    "sigma = GaussData.std()\n",
    "print('the standard deviation is', sigma)"
   ]
  },
  {
   "cell_type": "markdown",
   "metadata": {},
   "source": [
    "The standard deviation (mostly abbreviated with $\\sigma$) has a particular meaning for the normal distribution:\n",
    "about 68.3 % of all samples are within $\\pm \\sigma$ from the mean.\n",
    "\n",
    "### Excercise:\n",
    "\n",
    "Write a small script to figure out how many of our samples are indeed in the $\\pm \\sigma$ interval, using what you learned in the last lectures (loops and conditional statements):"
   ]
  },
  {
   "cell_type": "code",
   "execution_count": 30,
   "metadata": {},
   "outputs": [
    {
     "name": "stdout",
     "output_type": "stream",
     "text": [
      "valueCounter = 1001\n"
     ]
    }
   ],
   "source": [
    "# hint: you can count things by initializing a counter and adding to it in a loop\n",
    "valueCounter = 0\n",
    "for number in GaussData:\n",
    "    valueCounter = valueCounter + 1\n",
    "print('valueCounter =', valueCounter)"
   ]
  },
  {
   "cell_type": "code",
   "execution_count": 31,
   "metadata": {},
   "outputs": [
    {
     "name": "stdout",
     "output_type": "stream",
     "text": [
      "samples within one std from mean: 697\n",
      "samples outside one std from mean: 304\n",
      "69.63036963036963 % of samples are within one std from the mean.\n"
     ]
    }
   ],
   "source": [
    "withinSigma = 0\n",
    "outsideSigma = 0\n",
    "for sample in GaussData:\n",
    "    if (sample < (mu + sigma)) & (sample > (mu - sigma)):\n",
    "        withinSigma = withinSigma + 1\n",
    "    else:\n",
    "        outsideSigma += 1\n",
    "        \n",
    "print('samples within one std from mean:', withinSigma)\n",
    "print('samples outside one std from mean:', outsideSigma)\n",
    "print((withinSigma /(len(GaussData) / 100)), '% of samples are within one std from the mean.')"
   ]
  },
  {
   "cell_type": "code",
   "execution_count": 32,
   "metadata": {},
   "outputs": [
    {
     "data": {
      "text/plain": [
       "1001"
      ]
     },
     "execution_count": 32,
     "metadata": {},
     "output_type": "execute_result"
    }
   ],
   "source": [
    "len(GaussData)"
   ]
  },
  {
   "cell_type": "markdown",
   "metadata": {},
   "source": [
    "### 3d. Some more examples for probability distributions\n",
    "\n",
    "Our first example of the student incomes might be a tad extreme, but it does reflect the general distribution of incomes, where small and medium incomes tend to be the most common occurences, whereas high incomes are rarer, but can easily be extremely high.\n",
    "This is called a left skewed distribution (*linksschiefe Verteilung*).\n",
    "A right skewed distribution would be something where low and middle values tend to be rare, whereas the high values are the most likely occurence. \n",
    "A classic example for such a distribution would be the ages where people die (in wealthy countries).\n",
    "Infant mortality is quite low, and by far most kids survive their youth and teens and adults generally live a very safe live until they die from high age.\n",
    "\n",
    "The **normal distribution** we have plotted above is often relevant for the *results* of natural or machined processes.\n",
    "E.g. the distribution of biological traits (intelligence, height...) or manufacturing tolerances.\n",
    "\n",
    "The **gamma distribution** is relevant for hydrology, as most precipitation values tend to cluster around a (low) mode, but the distribution has a very long tail. "
   ]
  },
  {
   "cell_type": "code",
   "execution_count": 33,
   "metadata": {},
   "outputs": [
    {
     "data": {
      "image/png": "[encoded data removed]",
      "text/plain": [
       "<Figure size 432x288 with 1 Axes>"
      ]
     },
     "metadata": {
      "needs_background": "light"
     },
     "output_type": "display_data"
    }
   ],
   "source": [
    "# example for a gamma distribution\n",
    "s = np.random.gamma(2, 2, 1000)\n",
    "count, bins, ignored = plt.hist(s, 50, density=True)"
   ]
  },
  {
   "cell_type": "markdown",
   "metadata": {},
   "source": [
    "# 4. Correlations\n",
    "\n",
    "The correlation and thus the correlation coefficient is a measure for how similar two samples *behave*.\n",
    "[http://www3.math.uni-paderborn.de/~agbiehler/sis/sisonline/struktur/jahrgang21-2001/heft2/Langfassungen/2001-2_Matth.pdf](E.g if you notice a lot of storks in a town and you also notice that there are a lot of babies, the number of storks and the number of babies might be correlated.) Another example mentioned in this short paper is an obvious correlation between shoe sizes and reading ability.\n",
    "The bigger a shoe size, the better a person can read.\n",
    "So if you want to have a child, move to where the storks are and if you have issues reading these notebooks, buy bigger shoes...\n",
    "\n",
    "### 4a. Correlation != Causation\n",
    "\n",
    "While correlations can help to identify a causation, a high correlation alone is not a garantee for a causation.\n",
    "\n",
    "### 4b. Calculating the correlation\n",
    "\n",
    "Lets introduce some sample data from [this book](https://unikat.uni-graz.at:443/UGR:Gesamtbestand:UGR_alma21299366760003339)."
   ]
  },
  {
   "cell_type": "code",
   "execution_count": 34,
   "metadata": {},
   "outputs": [],
   "source": [
    "X = np.array([2, 4, 5, 6, 4, 7, 8, 5, 6, 7])\n",
    "Y = np.array([3, 2, 6, 5, 3, 6, 5, 4, 4, 5])"
   ]
  },
  {
   "cell_type": "markdown",
   "metadata": {},
   "source": [
    "The Pearson correlation coefficient (a measurement for the correlation) generally called $r$, is calculated as follows:\n",
    "\n",
    "$$ r = \\frac{n \\sum{XY} - \\sum{X}\\sum{Y}}{\\sqrt{[n\\sum{X^2}-(\\sum{X})^2][n\\sum{Y^2} - (\\sum{Y})^2]}} $$"
   ]
  },
  {
   "cell_type": "markdown",
   "metadata": {},
   "source": [
    "While this at first looks like a lot of work (and doing it by hand, it is), all of the needed sums are quite straightforward in python."
   ]
  },
  {
   "cell_type": "code",
   "execution_count": 35,
   "metadata": {},
   "outputs": [],
   "source": [
    "Xsum = sum(X)\n",
    "Ysum = sum(Y)\n",
    "Xsquared = X**2\n",
    "Ysquared = Y**2\n",
    "Xsqsum = sum(Xsquared)\n",
    "Ysqsum = sum(Ysquared)\n",
    "X_Y = X * Y\n",
    "X_Ysum = sum(X_Y)\n",
    "n = len(X)"
   ]
  },
  {
   "cell_type": "markdown",
   "metadata": {},
   "source": [
    "Of course this could also be shortened by chaining functions. `Xsqsum` would also be correct with `Xsqsum = sum(X**2)`.\n",
    "With all the variables set, it should be a quite straightforward typing work.\n",
    "\n",
    "### Exercise:\n",
    "\n",
    "Calculate r, following the formula above."
   ]
  },
  {
   "cell_type": "code",
   "execution_count": 37,
   "metadata": {},
   "outputs": [
    {
     "ename": "SyntaxError",
     "evalue": "invalid syntax (<ipython-input-37-c06980a20648>, line 3)",
     "output_type": "error",
     "traceback": [
      "\u001b[1;36m  File \u001b[1;32m\"<ipython-input-37-c06980a20648>\"\u001b[1;36m, line \u001b[1;32m3\u001b[0m\n\u001b[1;33m    r =\u001b[0m\n\u001b[1;37m        ^\u001b[0m\n\u001b[1;31mSyntaxError\u001b[0m\u001b[1;31m:\u001b[0m invalid syntax\n"
     ]
    }
   ],
   "source": [
    "# hint: don't forget the correct positions of the brackets. \n",
    "# The sqaure brackets in the original formula are just for easy reading and don't work in python!\n",
    "r = "
   ]
  },
  {
   "cell_type": "code",
   "execution_count": 38,
   "metadata": {},
   "outputs": [
    {
     "name": "stdout",
     "output_type": "stream",
     "text": [
      "0.6921330813196407\n"
     ]
    }
   ],
   "source": [
    "r = (n * X_Ysum - Xsum * Ysum) / np.sqrt((n * Xsqsum - Xsum**2) * (n * Ysqsum - Ysum**2))\n",
    "print(r)"
   ]
  },
  {
   "cell_type": "markdown",
   "metadata": {},
   "source": [
    "Again, there is a shortcut in python:"
   ]
  },
  {
   "cell_type": "code",
   "execution_count": 39,
   "metadata": {},
   "outputs": [
    {
     "data": {
      "text/plain": [
       "array([[1.        , 0.69213308],\n",
       "       [0.69213308, 1.        ]])"
      ]
     },
     "execution_count": 39,
     "metadata": {},
     "output_type": "execute_result"
    }
   ],
   "source": [
    "np.corrcoef(X,Y)"
   ]
  },
  {
   "cell_type": "markdown",
   "metadata": {},
   "source": [
    "### 4c. Correlating real data\n",
    "\n",
    "As you have learned last lecture, you can easily read csv data with pandas.\n",
    "Please download the groundwater levels (*Grundwasserstand-Monatsmittel*) for well `314922` and the water levels (*W-Tagesmittel*) for river gauge `211136` from [ehyd.gv.at](https://ehyd.gv.at) and save them as `well.csv` and `river.csv`.\n",
    "As you can clearly see, one is monthly data, whereas the other one is daily data, so we not only have to read them, but we also have to resample them.\n"
   ]
  },
  {
   "cell_type": "code",
   "execution_count": 48,
   "metadata": {},
   "outputs": [
    {
     "name": "stderr",
     "output_type": "stream",
     "text": [
      "C:\\Program Files\\Anaconda_Python_3.7\\lib\\site-packages\\ipykernel_launcher.py:2: ParserWarning: Falling back to the 'python' engine because the 'c' engine does not support skipfooter; you can avoid this warning by specifying engine='python'.\n",
      "  \n",
      "C:\\Program Files\\Anaconda_Python_3.7\\lib\\site-packages\\ipykernel_launcher.py:3: ParserWarning: Falling back to the 'python' engine because the 'c' engine does not support skipfooter; you can avoid this warning by specifying engine='python'.\n",
      "  This is separate from the ipykernel package so we can avoid doing imports until\n"
     ]
    }
   ],
   "source": [
    "# Since ehyd data has some very questionable format decisions, we have to give read_csv quite a lot of help to get started\n",
    "wellData = pd.read_csv('well.csv', sep = ';', skiprows=34, skipfooter=1, index_col=0, parse_dates=True, dayfirst = True, decimal = ',')\n",
    "riverData = pd.read_csv('river.csv', sep = ';', skiprows=23, skipfooter=1, index_col=0, parse_dates=True, dayfirst = True, decimal = ',')"
   ]
  },
  {
   "cell_type": "code",
   "execution_count": 49,
   "metadata": {},
   "outputs": [
    {
     "data": {
      "text/plain": [
       "<matplotlib.axes._subplots.AxesSubplot at 0x198a5bb3978>"
      ]
     },
     "execution_count": 49,
     "metadata": {},
     "output_type": "execute_result"
    },
    {
     "data": {
      "image/png": "[encoded data removed]",
      "text/plain": [
       "<Figure size 432x288 with 1 Axes>"
      ]
     },
     "metadata": {
      "needs_background": "light"
     },
     "output_type": "display_data"
    },
    {
     "data": {
      "image/png": "[encoded data removed]",
      "text/plain": [
       "<Figure size 432x288 with 1 Axes>"
      ]
     },
     "metadata": {
      "needs_background": "light"
     },
     "output_type": "display_data"
    }
   ],
   "source": [
    "riverData.plot()\n",
    "wellData.plot(style='g')"
   ]
  },
  {
   "cell_type": "markdown",
   "metadata": {},
   "source": [
    "In order to resample the data (=chaning its time frequency), we first have to figure out how we want to resample it. So we check the heads of the data."
   ]
  },
  {
   "cell_type": "code",
   "execution_count": 50,
   "metadata": {},
   "outputs": [
    {
     "name": "stdout",
     "output_type": "stream",
     "text": [
      "                           624,15        \n",
      "01.02.1968 00:00:00                      \n",
      "1968-03-01                  624.27       \n",
      "1968-04-01                  624.83       \n",
      "1968-05-01                  624.87       \n",
      "1968-06-01                  624.99       \n",
      "1968-07-01                  624.79       \n",
      "                        204\n",
      "02.01.1976 00:00:00        \n",
      "1976-01-03              204\n",
      "1976-01-04              204\n",
      "1976-01-05              201\n",
      "1976-01-06              203\n",
      "1976-01-07              204\n"
     ]
    }
   ],
   "source": [
    "print(wellData.head())\n",
    "print(riverData.head())"
   ]
  },
  {
   "cell_type": "markdown",
   "metadata": {},
   "source": [
    "We have to resample our river data from daily data to monthly data, set to the beginning of the month.\n",
    "Also, for river data, we want a monthly average, and not a sum."
   ]
  },
  {
   "cell_type": "code",
   "execution_count": 52,
   "metadata": {},
   "outputs": [],
   "source": [
    "riverMonthly = riverData.resample('MS').mean()"
   ]
  },
  {
   "cell_type": "code",
   "execution_count": 53,
   "metadata": {},
   "outputs": [
    {
     "data": {
      "text/html": [
       "<div>\n",
       "<style scoped>\n",
       "    .dataframe tbody tr th:only-of-type {\n",
       "        vertical-align: middle;\n",
       "    }\n",
       "\n",
       "    .dataframe tbody tr th {\n",
       "        vertical-align: top;\n",
       "    }\n",
       "\n",
       "    .dataframe thead th {\n",
       "        text-align: right;\n",
       "    }\n",
       "</style>\n",
       "<table border=\"1\" class=\"dataframe\">\n",
       "  <thead>\n",
       "    <tr style=\"text-align: right;\">\n",
       "      <th></th>\n",
       "      <th>204</th>\n",
       "    </tr>\n",
       "    <tr>\n",
       "      <th>02.01.1976 00:00:00</th>\n",
       "      <th></th>\n",
       "    </tr>\n",
       "  </thead>\n",
       "  <tbody>\n",
       "    <tr>\n",
       "      <th>1976-01-01</th>\n",
       "      <td>203.620690</td>\n",
       "    </tr>\n",
       "    <tr>\n",
       "      <th>1976-02-01</th>\n",
       "      <td>202.413793</td>\n",
       "    </tr>\n",
       "    <tr>\n",
       "      <th>1976-03-01</th>\n",
       "      <td>204.806452</td>\n",
       "    </tr>\n",
       "    <tr>\n",
       "      <th>1976-04-01</th>\n",
       "      <td>228.933333</td>\n",
       "    </tr>\n",
       "    <tr>\n",
       "      <th>1976-05-01</th>\n",
       "      <td>253.000000</td>\n",
       "    </tr>\n",
       "  </tbody>\n",
       "</table>\n",
       "</div>"
      ],
      "text/plain": [
       "                            204\n",
       "02.01.1976 00:00:00            \n",
       "1976-01-01           203.620690\n",
       "1976-02-01           202.413793\n",
       "1976-03-01           204.806452\n",
       "1976-04-01           228.933333\n",
       "1976-05-01           253.000000"
      ]
     },
     "execution_count": 53,
     "metadata": {},
     "output_type": "execute_result"
    }
   ],
   "source": [
    "riverMonthly.head()"
   ]
  },
  {
   "cell_type": "markdown",
   "metadata": {},
   "source": [
    "# 5. Fitting Linear Functions"
   ]
  },
  {
   "cell_type": "markdown",
   "metadata": {},
   "source": [
    "# 6. Exercises"
   ]
  },
  {
   "cell_type": "markdown",
   "metadata": {},
   "source": []
  },
  {
   "cell_type": "code",
   "execution_count": null,
   "metadata": {},
   "outputs": [],
   "source": []
  }
 ],
 "metadata": {
  "kernelspec": {
   "display_name": "Python 3",
   "language": "python",
   "name": "python3"
  },
  "language_info": {
   "codemirror_mode": {
    "name": "ipython",
    "version": 3
   },
   "file_extension": ".py",
   "mimetype": "text/x-python",
   "name": "python",
   "nbconvert_exporter": "python",
   "pygments_lexer": "ipython3",
   "version": "3.7.0"
  }
 },
 "nbformat": 4,
 "nbformat_minor": 2
}
