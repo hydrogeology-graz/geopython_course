{
 "cells": [
  {
   "cell_type": "markdown",
   "id": "706dd19e",
   "metadata": {},
   "source": [
    "<img src=\"https://static.uni-graz.at/fileadmin/nawi-institute/Erdwissenschaften/NawiGrazGeozentrum_Small.png\" align=\"right\" width=200>\n",
    "\n",
    "# Notebook 5: Data Analysis with Pandas\n",
    "\n",
    "*Developed by Raoul Collenteur, Institute of Earth Sciences, NAWI Graz Geocenter, University of Graz.*\n",
    "\n",
    "In this Notebook we will look into data analysis using Pandas. Pandas (http://pandas.pydata.org) is one of the most popular packages in Python and is used to analyse (big) data. With Pandas, analyzing big-data becomes much easier and faster. With more and more data being collected every day, data analysis becomes more a more important part of Earth Scientists' every day jobs.\n",
    "\n",
    "\n",
    "## Lecture content\n",
    "\n",
    "1. [Reading and writing CSV files](#1.-Reading-and-writing-CSV-files)\n",
    "2. [The Pandas DataFrame and indexing](#2.-The-Pandas-DataFrame-and-indexing)\n",
    "3. [Descriptive statistics](#3.-Descriptive-statistics)\n",
    "4. [Plotting data](#4.-Plotting-data)\n",
    "5. [Time series data](#5.-Time-series-data)\n",
    "6. [Answers to Exercises](#6.-Anwers-to-Exercises)\n",
    "\n",
    "\n"
   ]
  },
  {
   "cell_type": "code",
   "execution_count": 1,
   "id": "db192d7d",
   "metadata": {},
   "outputs": [],
   "source": [
    "# Import the python packages needed in this session\n",
    "import numpy as np\n",
    "import pandas as pd\n",
    "\n",
    "import matplotlib.pyplot as plt"
   ]
  },
  {
   "cell_type": "markdown",
   "id": "490d590d",
   "metadata": {},
   "source": [
    "## 1. Reading and writing CSV files\n",
    "In a previous lecture we learned how to use the `loadtxt` method from Numpy to load data from a text file. This method returns a Numpy array, which is particularly usefull when looking at numerical data (floats, integers). Often we also have other data types (e.g., strings, booleans) stored in a file, and it is better to put the data in another data format. Pandas provides a very strong data type to work with tabular data (Excel-like) in Python: the Pandas `DataFrame`.\n",
    "\n",
    "To load data from a file, like txt, csv,or xlsx, we can use Pandas `read_csv` method. This is a very usefull method to load tabular data from text files. In the code-block below, we use `delimiter=\";\"` to indicate that the data is separated by a semi-colon, and `index_col=0` to use the first column as the index column."
   ]
  },
  {
   "cell_type": "code",
   "execution_count": null,
   "id": "79faedad",
   "metadata": {},
   "outputs": [],
   "source": [
    "fname = \"Size-Slope-Data-Points.csv\"\n",
    "\n",
    "df = pd.read_csv(fname, delimiter=\";\", index_col=0)\n",
    "\n",
    "print(type(df))"
   ]
  },
  {
   "cell_type": "markdown",
   "id": "1ff3983e",
   "metadata": {},
   "source": [
    "The data is loaded into a Pandas `DataFrame`, a data structure that has all kinds of usefull functions attached to it. For example, to obtain a quick look at the data we may call the `head` function. This function prints the first 5 rows of the data for a quick view into the avaialble data (structure)."
   ]
  },
  {
   "cell_type": "code",
   "execution_count": null,
   "id": "225fd50e",
   "metadata": {},
   "outputs": [],
   "source": [
    "df.head()"
   ]
  },
  {
   "cell_type": "markdown",
   "id": "b679cb84",
   "metadata": {},
   "source": [
    "If we want to write a `DataFrame` to file, we can use the `to_csv` method. The first argument of this method is the name (or path) of the file that is created."
   ]
  },
  {
   "cell_type": "code",
   "execution_count": null,
   "id": "b1f0d9ec",
   "metadata": {},
   "outputs": [],
   "source": [
    "df.to_csv(\"test_file.csv\")"
   ]
  },
  {
   "cell_type": "markdown",
   "id": "97f005be",
   "metadata": {},
   "source": [
    "### Exercise 1\n",
    "\n",
    "In this exercise we want to read in only specific parts the data stored in the file `Size-Slope-Data-Points.csv`. Go to [the documentation](https://pandas.pydata.org/docs/user_guide/io.html#io-read-csv-table) of the `read_csv` method and read about the different input arguments.\n",
    "\n",
    "1. Read only the first 100 lines and use the columns \"Clast size ()\", and \"Slope (deg)\"."
   ]
  },
  {
   "cell_type": "code",
   "execution_count": null,
   "id": "07eedd94",
   "metadata": {},
   "outputs": [],
   "source": [
    "# Type your answer here"
   ]
  },
  {
   "cell_type": "markdown",
   "id": "5d75ec1f",
   "metadata": {},
   "source": [
    "[Answer](#Answers-to-Exercises)"
   ]
  },
  {
   "cell_type": "markdown",
   "id": "6d0d9828",
   "metadata": {},
   "source": [
    "## 2. The Pandas DataFrame and indexing\n",
    "The Pandas DataFrame can be used to store 2D (tabular) data, similar to the data in a spreadsheet (e.g., Excel). Each column can have it's own data type (e.g., floats, ints, strings). A `DataFrame` has many functions connected the object that can be used to analyse the data. The functions range from descriptive statistics, to resampling, and plotting. If you want to learn more about the DataFrame object, check out [this documentation](https://pandas.pydata.org/docs/user_guide/dsintro.html#dataframe). \n",
    "\n",
    "Note that the first column is the `index` column."
   ]
  },
  {
   "cell_type": "code",
   "execution_count": null,
   "id": "1dd270a3",
   "metadata": {},
   "outputs": [],
   "source": [
    "df.index"
   ]
  },
  {
   "cell_type": "markdown",
   "id": "2b77b4be",
   "metadata": {},
   "source": [
    "There are several option to access (a subset of) the data stored in a `DataFrame`. This can be a bit confusing in the beginning, but it is fairly similar to accessing data in Numpy `arrays`. "
   ]
  },
  {
   "cell_type": "code",
   "execution_count": null,
   "id": "e7351db4",
   "metadata": {},
   "outputs": [],
   "source": [
    "# To access a single columns, simply use the column name\n",
    "df[\"Type\"]"
   ]
  },
  {
   "cell_type": "code",
   "execution_count": null,
   "id": "b653982f",
   "metadata": {},
   "outputs": [],
   "source": [
    "df.columns"
   ]
  },
  {
   "cell_type": "markdown",
   "id": "d2a44944",
   "metadata": {},
   "source": [
    "To get the unique values in the column \"Type\" we can use the function `unique()`. "
   ]
  },
  {
   "cell_type": "code",
   "execution_count": null,
   "id": "7e31c4cb",
   "metadata": {},
   "outputs": [],
   "source": [
    "df[\"Type\"].unique()"
   ]
  },
  {
   "cell_type": "markdown",
   "id": "99f6fe12",
   "metadata": {},
   "source": [
    "### Accessing data using .loc and .iloc\n",
    "\n",
    "The recommended method to access that in a `DataFrame` is through the use of `.loc` and `.iloc`. The first method uses the data type of the columns, while the second uses integers to select data (exactly like Numpy). Let's have a look at some examples:"
   ]
  },
  {
   "cell_type": "code",
   "execution_count": null,
   "id": "b8d3055d",
   "metadata": {},
   "outputs": [],
   "source": [
    "# To select all rows, one column named \"Type\"\n",
    "df.loc[:, \"Type\"]"
   ]
  },
  {
   "cell_type": "markdown",
   "id": "333dd21b",
   "metadata": {},
   "source": [
    "or to use iloc"
   ]
  },
  {
   "cell_type": "code",
   "execution_count": null,
   "id": "bc704f85",
   "metadata": {},
   "outputs": [],
   "source": [
    "# To select all rows, two column\n",
    "df.loc[:, [\"Type\", 'Slope (deg)']]"
   ]
  },
  {
   "cell_type": "markdown",
   "id": "2eafa57c",
   "metadata": {},
   "source": [
    "`iloc` only uses integers, for example as follows:"
   ]
  },
  {
   "cell_type": "code",
   "execution_count": null,
   "id": "7c93b414",
   "metadata": {},
   "outputs": [],
   "source": [
    "# Select the first three rows from the first column (not the index)\n",
    "df.iloc[:3, 0:3]"
   ]
  },
  {
   "cell_type": "markdown",
   "id": "0a7cf4bb",
   "metadata": {},
   "source": [
    "### Selecting data with boolean indexers\n",
    "\n",
    "We may also use conditional statements to select specific parts of the data that agree with a certain condition. For example, let's imagine we want to select all the rows where the slope > 5 degrees."
   ]
  },
  {
   "cell_type": "code",
   "execution_count": null,
   "id": "1ef06f1e",
   "metadata": {},
   "outputs": [],
   "source": [
    "df.loc[df.loc[:, \"Slope (deg)\"] > 5, :]"
   ]
  },
  {
   "cell_type": "code",
   "execution_count": null,
   "id": "04c90e13",
   "metadata": {},
   "outputs": [],
   "source": [
    "# These conditional statement can also be combined \n",
    "df.loc[(df.loc[:, \"Slope (deg)\"] > 5) & (df.loc[:, \"Clast size (mm)\"] > 5), :] "
   ]
  },
  {
   "cell_type": "markdown",
   "id": "f6c05669",
   "metadata": {},
   "source": [
    "### Creating Setting data\n",
    "\n",
    "Often we want create a new `DataFrame` and store some data in it. Here's how to create an empty DataFrame with index and columns."
   ]
  },
  {
   "cell_type": "code",
   "execution_count": null,
   "id": "8b54b2bd",
   "metadata": {},
   "outputs": [],
   "source": [
    "data = pd.DataFrame(index=[1,2,3], columns=[\"A\", \"B\"])\n",
    "data"
   ]
  },
  {
   "cell_type": "markdown",
   "id": "e92c3626",
   "metadata": {},
   "source": [
    "Say we want to set the value for row 3 and column B to 6.0. "
   ]
  },
  {
   "cell_type": "code",
   "execution_count": null,
   "id": "d29f736e",
   "metadata": {},
   "outputs": [],
   "source": [
    "data.loc[3, \"B\"] = 6.0\n",
    "data"
   ]
  },
  {
   "cell_type": "code",
   "execution_count": null,
   "id": "bcf5386f",
   "metadata": {},
   "outputs": [],
   "source": [
    "data.loc[:, \"A\"] = [9, 4.5, 3]\n",
    "data"
   ]
  },
  {
   "cell_type": "markdown",
   "id": "207a4277",
   "metadata": {},
   "source": [
    "The above DataFrame still has NaN-values (Not a Number) left. Pandas provides a convenient method to replace all NaN-values in a DataFrame at once: `fillna`. "
   ]
  },
  {
   "cell_type": "code",
   "execution_count": null,
   "id": "3f2d0ac4",
   "metadata": {},
   "outputs": [],
   "source": [
    "data.fillna(0)\n",
    "data"
   ]
  },
  {
   "cell_type": "markdown",
   "id": "03ae99b8",
   "metadata": {},
   "source": [
    "What happened above? The method `fillna` actually return a copy of the data, and not the DataFrame itself. That means to original data is not changed. Therefore we need to store the data again as follows:"
   ]
  },
  {
   "cell_type": "code",
   "execution_count": null,
   "id": "74d1f28c",
   "metadata": {},
   "outputs": [],
   "source": [
    "data = data.fillna(0)\n",
    "data"
   ]
  },
  {
   "cell_type": "markdown",
   "id": "45623b6f",
   "metadata": {},
   "source": [
    "### Exercise 2\n",
    "\n",
    "1. Load the data from `Size-Slope-Data-Points.csv` into a DataFrame\n",
    "2. print the number of rows with the type \"Unknowns\".\n",
    "3. Replace all instances with the value \"6\" in the column \"Type\" with \"Unknown\".\n"
   ]
  },
  {
   "cell_type": "code",
   "execution_count": null,
   "id": "8acc5424",
   "metadata": {},
   "outputs": [],
   "source": [
    "# Type your answer here"
   ]
  },
  {
   "cell_type": "markdown",
   "id": "4fdde43d",
   "metadata": {},
   "source": [
    "[Answer](#Answers-to-Exercises)"
   ]
  },
  {
   "cell_type": "markdown",
   "id": "0347333d",
   "metadata": {},
   "source": [
    "## 3. Descriptive statistics\n",
    "\n",
    "Descriptive statistics can be used to describe and summarize the data. Common questions are what the mean and standard deviation of a collection of data are. Pandas provides some basic utility functions to describe and summarize your data, usefull when reporting on your data in a report. The `describe` method provides a nice summary table of the data."
   ]
  },
  {
   "cell_type": "code",
   "execution_count": null,
   "id": "0ebc2246",
   "metadata": {},
   "outputs": [],
   "source": [
    "fname = \"Size-Slope-Data-Points.csv\"\n",
    "df = pd.read_csv(fname, delimiter=\";\", index_col=0)\n",
    "\n",
    "df.describe()"
   ]
  },
  {
   "cell_type": "code",
   "execution_count": null,
   "id": "5869b0ed",
   "metadata": {},
   "outputs": [],
   "source": [
    "df.quantile(0.5)"
   ]
  },
  {
   "cell_type": "code",
   "execution_count": null,
   "id": "f46a3f86",
   "metadata": {},
   "outputs": [],
   "source": [
    "df.mean()"
   ]
  },
  {
   "cell_type": "markdown",
   "id": "3cbf5172",
   "metadata": {},
   "source": [
    "### Exercise 3\n",
    "Report the standard deviation, kurtosis and the median of the \"Slope (deg)\", but only for rows where the clkast size exceeds 50 mm. Do not use the `df.describe()` method but use the individual functions! Round all reported values to 2 decimals. You may need to look at the Pandas docs."
   ]
  },
  {
   "cell_type": "code",
   "execution_count": null,
   "id": "d2b4b08a",
   "metadata": {},
   "outputs": [],
   "source": [
    "#Type your answer here"
   ]
  },
  {
   "cell_type": "markdown",
   "id": "035748af",
   "metadata": {},
   "source": [
    "[Answer](#Answers-to-Exercises)"
   ]
  },
  {
   "cell_type": "markdown",
   "id": "34791549",
   "metadata": {},
   "source": [
    "## 4. Plotting data\n",
    "\n",
    "Data visualization is an important part of data analysis, and is also supported by Pandas. Visualizing your data is often the quickest and easiest method to analyse your data and obtain a better understanding. See [the Documentation](https://pandas.pydata.org/docs/reference/frame.html#plotting) for all the plotting possibilities. Pandas plotting is directly built upon Matplotlib, so many of the commands we learned in the Matplotlib lecture can be used."
   ]
  },
  {
   "cell_type": "code",
   "execution_count": null,
   "id": "12fb9c4e",
   "metadata": {},
   "outputs": [],
   "source": [
    "fname = \"Size-Slope-Data-Points.csv\"\n",
    "df = pd.read_csv(fname, delimiter=\";\", index_col=0)\n",
    "\n",
    "df.plot()"
   ]
  },
  {
   "cell_type": "code",
   "execution_count": null,
   "id": "a0b6c310",
   "metadata": {},
   "outputs": [],
   "source": [
    "df.plot(subplots=True, figsize=(10,4))"
   ]
  },
  {
   "cell_type": "markdown",
   "id": "0a0a75ae",
   "metadata": {},
   "source": [
    "making histograms to look at the distribution of your data is very easy as well"
   ]
  },
  {
   "cell_type": "code",
   "execution_count": null,
   "id": "01d193ff",
   "metadata": {},
   "outputs": [],
   "source": [
    "ax = df.loc[:, \"Slope (tan)\"].plot.hist(bins=20)\n",
    "ax.set_title(\"histogram\")\n",
    "ax.set_xlabel(\"Slope (tan)\")"
   ]
  },
  {
   "cell_type": "markdown",
   "id": "5a995de8",
   "metadata": {},
   "source": [
    "Often we want to look at the relationship between two variables (two columns). This can be done is follows"
   ]
  },
  {
   "cell_type": "code",
   "execution_count": null,
   "id": "2bfdd68b",
   "metadata": {},
   "outputs": [],
   "source": [
    "df.plot(x='Slope (deg)', y=\"Clast size ()\", linestyle=\" \", marker=\".\")\n",
    "plt.ylabel(\"Clast size (mm)\")\n",
    "plt.xlabel(\"Slope (deg)\")"
   ]
  },
  {
   "cell_type": "markdown",
   "id": "f358c9db",
   "metadata": {},
   "source": [
    "### Exercise 4\n",
    "\n",
    "In this exercise we will use the `boxplot` method to create three boxplots for three columns, grouped by the \"Type\".\n",
    "\n",
    "1. Read the [documentation on boxplot](https://pandas.pydata.org/docs/reference/api/pandas.DataFrame.boxplot.html#pandas.DataFrame.boxplot)\n",
    "2. Select all the data for the columns \"Type\", \"Slope (tan)\", \"Clast size ()\", \"Slope (deg)\"\n",
    "3. Create a boxplots, grouped by the \"Type\" column.\n",
    "4. apply `plt.tight_layout`\n",
    "5. Store the figure"
   ]
  },
  {
   "cell_type": "code",
   "execution_count": null,
   "id": "8f105b0f",
   "metadata": {},
   "outputs": [],
   "source": [
    "#Type your answer here"
   ]
  },
  {
   "cell_type": "markdown",
   "id": "76f5dfd6",
   "metadata": {},
   "source": [
    "[Answer](#Answers-to-Exercises)"
   ]
  },
  {
   "cell_type": "markdown",
   "id": "f7ed6e29",
   "metadata": {},
   "source": [
    "## 5. Time series data\n",
    "\n",
    "Pandas is perhaps most known for its ability to deal with time series data. Time series data is data that is collected over time, and has both information on the variable of interest and the time a measurement was performed. Often this data is stored in tables, and the index is used to store the date and time (datetime) of the measurement. Pandas has a dedicated data structure for 1 dimensional time series data: the Pandas `Series`. If you want to learn more about the TimeSeries object, check out [this documentation](https://pandas.pydata.org/docs/user_guide/dsintro.html#series). \n",
    "\n",
    "Here we look at groundwater level time series (also called \"heads\") from a measurement station in Wagna, south of Graz. The data is available here http://doi.org/10.5281/zenodo.4548801, but is also provided with this notebook (head_wagna.csv). Lets load the time series and have a look what Pandas can do with time series data!\n"
   ]
  },
  {
   "cell_type": "code",
   "execution_count": null,
   "id": "a5b9abf2",
   "metadata": {},
   "outputs": [],
   "source": [
    "fname = \"head_wagna.csv\"\n",
    "ts = pd.read_csv(fname, index_col=0, infer_datetime_format=True, parse_dates=True, skiprows=1, squeeze=True)\n",
    "type(ts)\n",
    "ts"
   ]
  },
  {
   "cell_type": "code",
   "execution_count": null,
   "id": "e98b5d3d",
   "metadata": {},
   "outputs": [],
   "source": [
    "ts.index"
   ]
  },
  {
   "cell_type": "code",
   "execution_count": null,
   "id": "6cad1b22",
   "metadata": {},
   "outputs": [],
   "source": [
    "print(type(ts.index))"
   ]
  },
  {
   "cell_type": "markdown",
   "id": "9f63a299",
   "metadata": {},
   "source": [
    "This time series has very similar capabilities as the pandas `DataFrame` object we looked ast before."
   ]
  },
  {
   "cell_type": "code",
   "execution_count": null,
   "id": "c36d270d",
   "metadata": {},
   "outputs": [],
   "source": [
    "ts.plot(figsize=(10,2), color=\"k\");\n",
    "plt.ylabel(\"Head [m]\")"
   ]
  },
  {
   "cell_type": "code",
   "execution_count": null,
   "id": "65af35d1",
   "metadata": {},
   "outputs": [],
   "source": [
    "ts.describe()"
   ]
  },
  {
   "cell_type": "markdown",
   "id": "58c1e4f9",
   "metadata": {},
   "source": [
    "### Selecting data by datetime\n",
    "\n",
    "To select data based on a certain range of dates, we can used strings with the date. The string format is always \"YYYY-MM-DD\", where YYYY is the year, MM the month and DD the day. "
   ]
  },
  {
   "cell_type": "code",
   "execution_count": null,
   "id": "1d7e7e33",
   "metadata": {},
   "outputs": [],
   "source": [
    "ts.loc[\"2014\"]"
   ]
  },
  {
   "cell_type": "code",
   "execution_count": null,
   "id": "29bdd03a",
   "metadata": {},
   "outputs": [],
   "source": [
    "ts.loc[\"2014-06\":\"2014-07\"]"
   ]
  },
  {
   "cell_type": "code",
   "execution_count": null,
   "id": "8e64d3d5",
   "metadata": {},
   "outputs": [],
   "source": [
    "ts.loc[\"2014-06-15\":\"2014-07-01\"]"
   ]
  },
  {
   "cell_type": "markdown",
   "id": "dc555f52",
   "metadata": {},
   "source": [
    "### Resampling time series\n",
    "\n",
    "Another usefull option in Pandas is to resample time series data to different frequencies ([see Docs on resample here](https://pandas.pydata.org/docs/reference/resampling.html)). For example, imagine we have daily observations of the groundwater levels, but want to compute the average groundwater level for each year in the time series. We then simply `resample` the time series to annual values (\"A\") and compute the mean. "
   ]
  },
  {
   "cell_type": "code",
   "execution_count": null,
   "id": "52a0ef84",
   "metadata": {},
   "outputs": [],
   "source": [
    "ts1 = ts.resample(\"A\").mean()"
   ]
  },
  {
   "cell_type": "code",
   "execution_count": null,
   "id": "d207dd85",
   "metadata": {},
   "outputs": [],
   "source": [
    "ts.plot(figsize=(10,2))\n",
    "ts1.plot()\n",
    "plt.legend([\"Original\", \"Annual Mean\"], ncol=2)\n",
    "plt.ylabel(\"Head [m]\")"
   ]
  },
  {
   "cell_type": "markdown",
   "id": "0309aa78",
   "metadata": {},
   "source": [
    "### Exercise 5\n",
    "\n",
    "1. Load the rainfall time series from file `rain_wagna.csv` into a Pandas `Series`.\n",
    "2. Create a figure with 2 subplots below each other with sharex x-axes.\n",
    "3. Select only the years 2013 and 2014 from the time series\n",
    "4. Plot the monthly sums as a bar plot in the top plot.\n",
    "5. Plot the cumulative sum (lookup the `cumsum` method) in the bottom plot"
   ]
  },
  {
   "cell_type": "code",
   "execution_count": null,
   "id": "281109e1",
   "metadata": {},
   "outputs": [],
   "source": [
    "# Type your answer here"
   ]
  },
  {
   "cell_type": "markdown",
   "id": "46d894f5",
   "metadata": {},
   "source": [
    "[Answer](#Answers-to-Exercises)"
   ]
  },
  {
   "cell_type": "markdown",
   "id": "f1a7c890",
   "metadata": {},
   "source": [
    "## 6. Plotting and analysing complicated UV-Vis data\n",
    "\n",
    "Let's use what we have learned so far to plot data from an UV-Vis datalogger in a well in the Leibnitzer Feld area downstream of Graz. \n",
    "\n",
    "As you probably know, dissolved substances change the absorption of water. At high concentrations, this is visible as coloration (e.g. beer has this nice, golden color) but at low concentrations this is not visible to the naked eye but can be \"seen\" by specialized equipment in changes in the absorption spectrum when shooting a flash of light through the water coloumn to a receiver. In [Haas et al. (2023)](https://doi.org/10.1007/s00767-022-00540-3) such a device is used to monitor nitrate concentrations in a groundwater well in high, timely resolution, finding some as of yet unseen fast changes in nitrate concentration.\n",
    "\n",
    "We now plot more recent data that shows that the nitrate fluctuations discussed in the paper still persist, even after an upgrade to the datalogger."
   ]
  },
  {
   "cell_type": "code",
   "execution_count": 40,
   "id": "55c98c81",
   "metadata": {},
   "outputs": [],
   "source": [
    "# First, we read in the data\n",
    "Leibnitz = pd.read_excel('Leibnitz_23_09.xlsx', index_col=0, header=0)"
   ]
  },
  {
   "cell_type": "markdown",
   "id": "62ca719e",
   "metadata": {},
   "source": [
    "When reading in large and/or complicated files, it's always a good idea to do a quick check if you read it in how you expected it to work.\n",
    "Let's check the head (or `....tail()` if that makes more sense) first and then look at the `.shape` of the dataframe:"
   ]
  },
  {
   "cell_type": "code",
   "execution_count": 24,
   "id": "181dac92",
   "metadata": {},
   "outputs": [
    {
     "data": {
      "text/html": [
       "<div>\n",
       "<style scoped>\n",
       "    .dataframe tbody tr th:only-of-type {\n",
       "        vertical-align: middle;\n",
       "    }\n",
       "\n",
       "    .dataframe tbody tr th {\n",
       "        vertical-align: top;\n",
       "    }\n",
       "\n",
       "    .dataframe thead th {\n",
       "        text-align: right;\n",
       "    }\n",
       "</style>\n",
       "<table border=\"1\" class=\"dataframe\">\n",
       "  <thead>\n",
       "    <tr style=\"text-align: right;\">\n",
       "      <th></th>\n",
       "      <th>NO3 [mg/l]</th>\n",
       "      <th>Temperature [°C]</th>\n",
       "      <th>Turbidity [FTU]</th>\n",
       "      <th>200.00 nm</th>\n",
       "      <th>202.50 nm</th>\n",
       "      <th>205.00 nm</th>\n",
       "      <th>207.50 nm</th>\n",
       "      <th>210.00 nm</th>\n",
       "      <th>212.50 nm</th>\n",
       "      <th>215.00 nm</th>\n",
       "      <th>...</th>\n",
       "      <th>700.00 nm</th>\n",
       "      <th>702.50 nm</th>\n",
       "      <th>705.00 nm</th>\n",
       "      <th>707.50 nm</th>\n",
       "      <th>710.00 nm</th>\n",
       "      <th>712.50 nm</th>\n",
       "      <th>715.00 nm</th>\n",
       "      <th>717.50 nm</th>\n",
       "      <th>720.00 nm</th>\n",
       "      <th>722.50 nm</th>\n",
       "    </tr>\n",
       "  </thead>\n",
       "  <tbody>\n",
       "    <tr>\n",
       "      <th>2022-09-01 00:00:00</th>\n",
       "      <td>19.269</td>\n",
       "      <td>13.325</td>\n",
       "      <td>0.0</td>\n",
       "      <td>49.1356</td>\n",
       "      <td>47.4306</td>\n",
       "      <td>46.6589</td>\n",
       "      <td>46.6339</td>\n",
       "      <td>46.8157</td>\n",
       "      <td>46.7110</td>\n",
       "      <td>45.6564</td>\n",
       "      <td>...</td>\n",
       "      <td>-0.210928</td>\n",
       "      <td>-0.219130</td>\n",
       "      <td>-0.292372</td>\n",
       "      <td>-0.278387</td>\n",
       "      <td>-0.222637</td>\n",
       "      <td>-0.234992</td>\n",
       "      <td>-0.260853</td>\n",
       "      <td>-0.245709</td>\n",
       "      <td>-0.253608</td>\n",
       "      <td>-0.278388</td>\n",
       "    </tr>\n",
       "    <tr>\n",
       "      <th>2022-09-01 01:00:00</th>\n",
       "      <td>19.122</td>\n",
       "      <td>13.388</td>\n",
       "      <td>0.0</td>\n",
       "      <td>48.9852</td>\n",
       "      <td>47.4892</td>\n",
       "      <td>46.8025</td>\n",
       "      <td>46.6300</td>\n",
       "      <td>46.6960</td>\n",
       "      <td>46.6434</td>\n",
       "      <td>45.6735</td>\n",
       "      <td>...</td>\n",
       "      <td>-0.221633</td>\n",
       "      <td>-0.228655</td>\n",
       "      <td>-0.293898</td>\n",
       "      <td>-0.269827</td>\n",
       "      <td>-0.227889</td>\n",
       "      <td>-0.252387</td>\n",
       "      <td>-0.264899</td>\n",
       "      <td>-0.248411</td>\n",
       "      <td>-0.266883</td>\n",
       "      <td>-0.289625</td>\n",
       "    </tr>\n",
       "    <tr>\n",
       "      <th>2022-09-01 02:00:00</th>\n",
       "      <td>19.197</td>\n",
       "      <td>13.450</td>\n",
       "      <td>0.0</td>\n",
       "      <td>48.9828</td>\n",
       "      <td>47.4911</td>\n",
       "      <td>46.7732</td>\n",
       "      <td>46.5373</td>\n",
       "      <td>46.6558</td>\n",
       "      <td>46.7082</td>\n",
       "      <td>45.7286</td>\n",
       "      <td>...</td>\n",
       "      <td>-0.249439</td>\n",
       "      <td>-0.262870</td>\n",
       "      <td>-0.320925</td>\n",
       "      <td>-0.300069</td>\n",
       "      <td>-0.256688</td>\n",
       "      <td>-0.274679</td>\n",
       "      <td>-0.298496</td>\n",
       "      <td>-0.279658</td>\n",
       "      <td>-0.280267</td>\n",
       "      <td>-0.299855</td>\n",
       "    </tr>\n",
       "    <tr>\n",
       "      <th>2022-09-01 03:00:00</th>\n",
       "      <td>19.936</td>\n",
       "      <td>13.450</td>\n",
       "      <td>0.0</td>\n",
       "      <td>49.0901</td>\n",
       "      <td>47.5267</td>\n",
       "      <td>46.7052</td>\n",
       "      <td>46.5683</td>\n",
       "      <td>46.8259</td>\n",
       "      <td>46.8390</td>\n",
       "      <td>45.7891</td>\n",
       "      <td>...</td>\n",
       "      <td>-0.233272</td>\n",
       "      <td>-0.242497</td>\n",
       "      <td>-0.305360</td>\n",
       "      <td>-0.285152</td>\n",
       "      <td>-0.248662</td>\n",
       "      <td>-0.275507</td>\n",
       "      <td>-0.282666</td>\n",
       "      <td>-0.254081</td>\n",
       "      <td>-0.274782</td>\n",
       "      <td>-0.312920</td>\n",
       "    </tr>\n",
       "    <tr>\n",
       "      <th>2022-09-01 04:00:00</th>\n",
       "      <td>20.225</td>\n",
       "      <td>13.450</td>\n",
       "      <td>0.0</td>\n",
       "      <td>49.2155</td>\n",
       "      <td>47.5900</td>\n",
       "      <td>46.7084</td>\n",
       "      <td>46.5530</td>\n",
       "      <td>46.8208</td>\n",
       "      <td>46.8475</td>\n",
       "      <td>45.8230</td>\n",
       "      <td>...</td>\n",
       "      <td>-0.242877</td>\n",
       "      <td>-0.243081</td>\n",
       "      <td>-0.311835</td>\n",
       "      <td>-0.298909</td>\n",
       "      <td>-0.253915</td>\n",
       "      <td>-0.274494</td>\n",
       "      <td>-0.290458</td>\n",
       "      <td>-0.270323</td>\n",
       "      <td>-0.286194</td>\n",
       "      <td>-0.310740</td>\n",
       "    </tr>\n",
       "  </tbody>\n",
       "</table>\n",
       "<p>5 rows × 213 columns</p>\n",
       "</div>"
      ],
      "text/plain": [
       "                     NO3 [mg/l]   Temperature [°C]  Turbidity [FTU]   \\\n",
       "2022-09-01 00:00:00       19.269            13.325               0.0   \n",
       "2022-09-01 01:00:00       19.122            13.388               0.0   \n",
       "2022-09-01 02:00:00       19.197            13.450               0.0   \n",
       "2022-09-01 03:00:00       19.936            13.450               0.0   \n",
       "2022-09-01 04:00:00       20.225            13.450               0.0   \n",
       "\n",
       "                     200.00 nm  202.50 nm  205.00 nm  207.50 nm  210.00 nm  \\\n",
       "2022-09-01 00:00:00    49.1356    47.4306    46.6589    46.6339    46.8157   \n",
       "2022-09-01 01:00:00    48.9852    47.4892    46.8025    46.6300    46.6960   \n",
       "2022-09-01 02:00:00    48.9828    47.4911    46.7732    46.5373    46.6558   \n",
       "2022-09-01 03:00:00    49.0901    47.5267    46.7052    46.5683    46.8259   \n",
       "2022-09-01 04:00:00    49.2155    47.5900    46.7084    46.5530    46.8208   \n",
       "\n",
       "                     212.50 nm  215.00 nm  ...  700.00 nm  702.50 nm  \\\n",
       "2022-09-01 00:00:00    46.7110    45.6564  ...  -0.210928  -0.219130   \n",
       "2022-09-01 01:00:00    46.6434    45.6735  ...  -0.221633  -0.228655   \n",
       "2022-09-01 02:00:00    46.7082    45.7286  ...  -0.249439  -0.262870   \n",
       "2022-09-01 03:00:00    46.8390    45.7891  ...  -0.233272  -0.242497   \n",
       "2022-09-01 04:00:00    46.8475    45.8230  ...  -0.242877  -0.243081   \n",
       "\n",
       "                     705.00 nm  707.50 nm  710.00 nm  712.50 nm  715.00 nm  \\\n",
       "2022-09-01 00:00:00  -0.292372  -0.278387  -0.222637  -0.234992  -0.260853   \n",
       "2022-09-01 01:00:00  -0.293898  -0.269827  -0.227889  -0.252387  -0.264899   \n",
       "2022-09-01 02:00:00  -0.320925  -0.300069  -0.256688  -0.274679  -0.298496   \n",
       "2022-09-01 03:00:00  -0.305360  -0.285152  -0.248662  -0.275507  -0.282666   \n",
       "2022-09-01 04:00:00  -0.311835  -0.298909  -0.253915  -0.274494  -0.290458   \n",
       "\n",
       "                     717.50 nm  720.00 nm  722.50 nm  \n",
       "2022-09-01 00:00:00  -0.245709  -0.253608  -0.278388  \n",
       "2022-09-01 01:00:00  -0.248411  -0.266883  -0.289625  \n",
       "2022-09-01 02:00:00  -0.279658  -0.280267  -0.299855  \n",
       "2022-09-01 03:00:00  -0.254081  -0.274782  -0.312920  \n",
       "2022-09-01 04:00:00  -0.270323  -0.286194  -0.310740  \n",
       "\n",
       "[5 rows x 213 columns]"
      ]
     },
     "execution_count": 24,
     "metadata": {},
     "output_type": "execute_result"
    }
   ],
   "source": [
    "Leibnitz.head()"
   ]
  },
  {
   "cell_type": "code",
   "execution_count": 17,
   "id": "32a78774",
   "metadata": {},
   "outputs": [
    {
     "data": {
      "text/plain": [
       "(720, 213)"
      ]
     },
     "execution_count": 17,
     "metadata": {},
     "output_type": "execute_result"
    }
   ],
   "source": [
    "Leibnitz.shape\n",
    "# gives the \"height\" (number of rows in Excel) and \"width\" (number of columns in Excel)\n",
    "# of the dataframe. We have one month of hourly data, so 30 * 24 = 720 rows and timestamps +\n",
    "# 3 parameters and absorption from 200 nm to 722.5 nm in 2.5 nm intervals = (522.5/2.5) + 1 + 3\n",
    "# = 213 columns. "
   ]
  },
  {
   "cell_type": "markdown",
   "id": "5cace5f8",
   "metadata": {},
   "source": [
    "As we have seen, we have successfully read in the data.\n",
    "Since this is a well formatted and rather simple file, we can use the various inbuilt shortcuts of pandas.\n",
    "If we want to only plot the nitrate, we can simply select it:"
   ]
  },
  {
   "cell_type": "code",
   "execution_count": 30,
   "id": "0c5d926e",
   "metadata": {},
   "outputs": [
    {
     "data": {
      "text/plain": [
       "<AxesSubplot:xlabel='Date', ylabel='Nitrate [mg/l]'>"
      ]
     },
     "execution_count": 30,
     "metadata": {},
     "output_type": "execute_result"
    },
    {
     "data": {
      "image/png": "[encoded data removed]",
      "text/plain": [
       "<Figure size 432x288 with 1 Axes>"
      ]
     },
     "metadata": {
      "needs_background": "light"
     },
     "output_type": "display_data"
    }
   ],
   "source": [
    "\n",
    "Leibnitz['NO3 [mg/l]'].plot(ylabel = 'Nitrate [mg/l]', xlabel = 'Date')\n"
   ]
  },
  {
   "cell_type": "markdown",
   "id": "f5562d25",
   "metadata": {},
   "source": [
    "As we can see, this groundwater well mostly shows nitrate levels around 25 mg/l, but there's various events (most significant around the 8th and 17th of september) where we have a fast change in nitrate.\n",
    "Let's zoom in on the biggest one, using pandas inbuilt time slicing capability:"
   ]
  },
  {
   "cell_type": "code",
   "execution_count": 35,
   "id": "155c4681",
   "metadata": {},
   "outputs": [
    {
     "data": {
      "text/plain": [
       "<AxesSubplot:xlabel='Date', ylabel='Nitrate [mg/l]'>"
      ]
     },
     "execution_count": 35,
     "metadata": {},
     "output_type": "execute_result"
    },
    {
     "data": {
      "image/png": "[encoded data removed]",
      "text/plain": [
       "<Figure size 432x288 with 1 Axes>"
      ]
     },
     "metadata": {
      "needs_background": "light"
     },
     "output_type": "display_data"
    }
   ],
   "source": [
    "Leibnitz['2022-09-16':'2022-09-18 00:00']['NO3 [mg/l]'].plot(ylabel = 'Nitrate [mg/l]', xlabel = 'Date')\n"
   ]
  },
  {
   "cell_type": "markdown",
   "id": "89472e9f",
   "metadata": {},
   "source": [
    "Let's explore the relationship of this jump in nitrate with temperature by plotting them in one plot."
   ]
  },
  {
   "cell_type": "code",
   "execution_count": 47,
   "metadata": {},
   "outputs": [
    {
     "data": {
      "text/plain": [
       "<AxesSubplot:>"
      ]
     },
     "execution_count": 47,
     "metadata": {},
     "output_type": "execute_result"
    },
    {
     "data": {
      "image/png": "[encoded data removed]",
      "text/plain": [
       "<Figure size 432x288 with 2 Axes>"
      ]
     },
     "metadata": {
      "needs_background": "light"
     },
     "output_type": "display_data"
    }
   ],
   "source": [
    "Leibnitz['2022-09-16':'2022-09-18 00:00']['NO3 [mg/l]'].plot(ylabel='Nitrate [mg/l]',\n",
    "                                                            legend = True)\n",
    "Leibnitz['2022-09-16':'2022-09-18 00:00']['Temperature [°C]'].plot(secondary_y=True,\n",
    "                                                                  legend=True, xlabel='Date')\n",
    "# We could also add a second ylabel, but then it would need subplot and axes. \n",
    "# Not sure if that's worth introducing.\n"
   ]
  },
  {
   "cell_type": "markdown",
   "id": "c83098cb",
   "metadata": {},
   "source": [
    "Apparently, temperature and nitrate are almost a mirror image of each other in this event.\n",
    "As this is in summer, a likely explanation is that there must be some pathway for (warm, nitrate free) summer rain to get directly into the groundwater or the well.\n",
    "\n",
    "### Further investigation with correlations\n",
    "\n",
    "As you probably remember from chemistry, various substances have various wavelengths where they have the most absorption.\n",
    "Let's figure out some likely candidates for nitrate with a correlation matrix."
   ]
  },
  {
   "cell_type": "code",
   "execution_count": 51,
   "id": "ed794787",
   "metadata": {},
   "outputs": [],
   "source": [
    "# Get rid of temperature and turbidity first:\n",
    "Leibnitz_corr = Leibnitz.drop(Leibnitz.columns[[1,2]], axis=1)"
   ]
  },
  {
   "cell_type": "code",
   "execution_count": 56,
   "id": "2d5c8cad",
   "metadata": {},
   "outputs": [],
   "source": [
    "Leibnitz_corr = Leibnitz_corr.corr()"
   ]
  },
  {
   "cell_type": "code",
   "execution_count": 64,
   "id": "0045eadd",
   "metadata": {},
   "outputs": [
    {
     "data": {
      "text/plain": [
       "<matplotlib.colorbar.Colorbar at 0x7f9a585bbeb0>"
      ]
     },
     "execution_count": 64,
     "metadata": {},
     "output_type": "execute_result"
    },
    {
     "data": {
      "image/png": "[encoded data removed]",
      "text/plain": [
       "<Figure size 288x288 with 2 Axes>"
      ]
     },
     "metadata": {
      "needs_background": "light"
     },
     "output_type": "display_data"
    }
   ],
   "source": [
    "plt.matshow(Leibnitz_corr)\n",
    "plt.colorbar()"
   ]
  },
  {
   "cell_type": "code",
   "execution_count": 58,
   "id": "38835dce",
   "metadata": {},
   "outputs": [
    {
     "data": {
      "text/plain": [
       "<AxesSubplot:>"
      ]
     },
     "execution_count": 58,
     "metadata": {},
     "output_type": "execute_result"
    },
    {
     "data": {
      "image/png": "[encoded data removed]",
      "text/plain": [
       "<Figure size 432x288 with 1 Axes>"
      ]
     },
     "metadata": {
      "needs_background": "light"
     },
     "output_type": "display_data"
    }
   ],
   "source": [
    "Leibnitz_corr['NO3 [mg/l]'].plot()"
   ]
  },
  {
   "cell_type": "markdown",
   "id": "c62848d5",
   "metadata": {},
   "source": [
    "As we can see, the highest correlation (besides the R = 1 for nitrate with nitrate) is around 225 to 230 nm.\n",
    "\n",
    "*Is there a literature value for it?*"
   ]
  },
  {
   "cell_type": "markdown",
   "id": "8daba883",
   "metadata": {},
   "source": [
    "## Extra: Going Spatial with GeoPandas\n",
    "\n",
    "There is an exciting Project built upon Pandas, named GeoPandas, that is particularly interesting for geoscientists. The GeoPandas package can be used to perform GIS analyses through Python, to analyse spatial data with little effort. Check out the Documentation and examples on their website https://geopandas.org !\n",
    "\n",
    "A short example is shown below:"
   ]
  },
  {
   "cell_type": "code",
   "execution_count": null,
   "id": "ae440861",
   "metadata": {},
   "outputs": [],
   "source": [
    "import geopandas\n",
    "\n",
    "path_to_data = geopandas.datasets.get_path(\"nybb\")\n",
    "gdf = geopandas.read_file(path_to_data)\n",
    "\n",
    "gdf.plot()"
   ]
  },
  {
   "cell_type": "markdown",
   "id": "b07480aa",
   "metadata": {},
   "source": [
    "## 7. Answers to Exercises"
   ]
  },
  {
   "cell_type": "markdown",
   "id": "8e9afb28",
   "metadata": {},
   "source": [
    "### Exercise 1"
   ]
  },
  {
   "cell_type": "code",
   "execution_count": null,
   "id": "1b5ae821",
   "metadata": {},
   "outputs": [],
   "source": [
    "fname = \"Size-Slope-Data-Points.csv\"\n",
    "\n",
    "df = pd.read_csv(fname, delimiter=\";\", index_col=0, usecols=[\"Type\", \"Clast size ()\", \"Slope (deg)\"], nrows=100)\n",
    "# df = pd.read_csv(fname, delimiter=\";\", index_col=0, usecols=[0, 4, 5], nrows=100)  # Alternatively\n",
    "\n",
    "df"
   ]
  },
  {
   "cell_type": "markdown",
   "id": "90a4c648",
   "metadata": {},
   "source": [
    "### Exercise 2"
   ]
  },
  {
   "cell_type": "code",
   "execution_count": null,
   "id": "5fd02c93",
   "metadata": {},
   "outputs": [],
   "source": [
    "# Read data \n",
    "fname = \"Size-Slope-Data-Points.csv\"\n",
    "df = pd.read_csv(fname, delimiter=\";\", index_col=0)\n",
    "\n",
    "# Replace data with\n",
    "df.loc[df.loc[:, \"Type\"] == \"6\", \"Type\"] = \"Unknown\"\n",
    "\n",
    "# Print number of items\n",
    "print(df.loc[df.loc[:, \"Type\"] == \"Unknown\", \"Type\"].index.size)"
   ]
  },
  {
   "cell_type": "markdown",
   "id": "5e920426",
   "metadata": {},
   "source": [
    "### Exercise 3"
   ]
  },
  {
   "cell_type": "code",
   "execution_count": null,
   "id": "25bf82ec",
   "metadata": {},
   "outputs": [],
   "source": [
    "# Read data \n",
    "fname = \"Size-Slope-Data-Points.csv\"\n",
    "df = pd.read_csv(fname, delimiter=\";\", index_col=0)\n",
    "\n",
    "df1 = df.loc[df.loc[:, \"Clast size (mm)\"] > 50, \"Slope (deg)\"]\n",
    "\n",
    "print(\"the standard deviations is\", df1.std().round(2))\n",
    "print(\"the kurtosis is\", df1.kurtosis().round(2))\n",
    "print(\"the median is\", df1.median().round(2))"
   ]
  },
  {
   "cell_type": "markdown",
   "id": "4be4133c",
   "metadata": {},
   "source": [
    "### Exercise 4"
   ]
  },
  {
   "cell_type": "code",
   "execution_count": null,
   "id": "9d7e0ba3",
   "metadata": {},
   "outputs": [],
   "source": [
    "# Read data \n",
    "fname = \"Size-Slope-Data-Points.csv\"\n",
    "df = pd.read_csv(fname, delimiter=\";\", index_col=0)\n",
    "\n",
    "data = df.loc[:, [\"Type\", \"Slope (tan)\", \"Clast size ()\", \"Slope (deg)\"]]\n",
    "data.boxplot(by=\"Type\", layout=(1,3))\n",
    "plt.tight_layout()\n",
    "plt.savefig(\"my_figure.png\")"
   ]
  },
  {
   "cell_type": "markdown",
   "id": "3bc4a21a",
   "metadata": {},
   "source": [
    "### Exercise 5"
   ]
  },
  {
   "cell_type": "code",
   "execution_count": null,
   "id": "86b93bf0",
   "metadata": {},
   "outputs": [],
   "source": [
    "#1. Load the rainfall time series from file `rain_wagna.csv` into a Pandas `Series`.\n",
    "fname = \"rain_wagna.csv\"\n",
    "rain = pd.read_csv(fname, index_col=0, infer_datetime_format=True, parse_dates=True, skiprows=1, squeeze=True)\n",
    "\n",
    "#2. Create a figure with 2 subplots\n",
    "fig, [ax1, ax2] = plt.subplots(2, 1)\n",
    "\n",
    "#3. Select only the years 2013 and 2014 from the time series\n",
    "ts_sel = rain.loc[\"2013\":\"2014\"]\n",
    "\n",
    "#4. Plot the monthly sums in the left plot.\n",
    "ts_sel.resample(\"M\").sum().plot.bar(ax=ax1)\n",
    "\n",
    "#5. Plot the cumulative sum in the right plot\n",
    "ts_sel.cumsum().plot()\n",
    "\n",
    "#6. Dress up the plot \n",
    "ax1.set_ylabel(\"Monthly\\nrain [mm]\")\n",
    "ax2.set_ylabel(\"Cumulative\\nRain [mm]\")"
   ]
  }
 ],
 "metadata": {
  "kernelspec": {
   "display_name": "Python 3.8.2 ('base')",
   "language": "python",
   "name": "python3"
  },
  "language_info": {
   "codemirror_mode": {
    "name": "ipython",
    "version": 3
   },
   "file_extension": ".py",
   "mimetype": "text/x-python",
   "name": "python",
   "nbconvert_exporter": "python",
   "pygments_lexer": "ipython3",
   "version": "3.8.2"
  },
  "vscode": {
   "interpreter": {
    "hash": "fc5b67f67f41372e64ffaf66d69ada036bbabd0eb222ca972c540f3025fbe51d"
   }
  }
 },
 "nbformat": 4,
 "nbformat_minor": 5
}
