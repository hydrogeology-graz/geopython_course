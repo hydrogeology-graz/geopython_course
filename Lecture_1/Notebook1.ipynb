{
 "cells": [
  {
   "cell_type": "markdown",
   "metadata": {},
   "source": [
    "<img src=\"https://static.uni-graz.at/fileadmin/nawi-institute/Erdwissenschaften/NawiGrazGeozentrum_Small.png\" align=\"right\" width=200>\n",
    "\n",
    "# Notebook 1: Basics of programming in Python\n",
    "\n",
    "*Developed by Raoul Collenteur, 2021*\n",
    "\n",
    "## Lecture content:\n",
    "\n",
    "1. Jupyter Notebooks\n",
    "1. Basic Python Syntax\n",
    "3. Variables & Data types\n",
    "4. Importing Python packages\n",
    "4. Plotting data with Matplotlib\n",
    "5. Answers to Exercises\n",
    "\n",
    "## 1. What is a Jupyter Notebook?\n",
    "If you can read this, you have already successfully opened a Jupyter Notebook (with file-extension `.ipynb`). Jupyter is an \"*open-source web application that allows you to create and share documents that contain live code, equations, visualizations and narrative text.*\" (source: https://jupyter.org/). In this class, we will use Jupyter Notebooks to learn Python programming and share homework exercises. A good introduction on Jupyter Notebooks is given on the [Jupyter Notebook website](https://jupyter-notebook.readthedocs.io/en/latest/notebook.html#basic-workflow).\n",
    "\n",
    "Jupyter Notebooks have become a common format to share research analyses in scientific studies and can be a great step towards reproducible science. The main advantage of Notebooks is that we can combine plain text with code, which can be executed right here in the document. Jupyter Notebooks don't just support Python code, but also over 50 other programming languages. The results of the code are directly visible inside the Notebook, keeping everything nicely in one place. We will use two types of cell types in the Jupyter Notebooks:\n",
    "\n",
    "- **Code cells**: cells with Python code that can be executed.\n",
    "- **Markdown cells**: cells with plain text (like this one), formatted in the Markdown language.\n",
    "\n",
    "To see the unformatted markdown code of a markdown cell, double-click on the text (for example the text you are reading now). To format the text, press `Shift + Enter` simultaneously. \n",
    "\n",
    "### Text in Markdown Cells \n",
    "As you can see above, the text boxes have various formatting options, such as *italic text*, **bold text**, [hyperlinks](https://www.uni-graz.at) or `code`. Unlike word-processing software (e.g., Microsoft Word), there are no buttons to click and format the text. Instead, you need to use a certain syntax to format the text. The syntax used for text-formatting in Jupyter Notebooks is called [_markdown_ or _markdown language_ ](https://de.wikipedia.org/wiki/Markdown). The guidelines on how to use it are found [here](https://help.github.com/en/github/writing-on-github/basic-writing-and-formatting-syntax) or in every Notebook under the _Help_ tab at the top. Here are a few formatting options (double-click on the text to see the formatting):\n",
    "\n",
    "- **This is bold text.**\n",
    "- *But this text is in italics.*\n",
    "- and [here](https://www.uni-graz.at) is a link.\n",
    "- This can be used for `code`.\n",
    "- See the top of this block on how to include a figure!\n",
    "\n",
    "## 2. Basic Python Syntax\n",
    "Move your cursor into the code-block below, and click the right mouse button. The code block is now selected, visible by the blue border-line of the code cell. To run the code, press Shift + Enter simultaneously (the answer should print 12). After you run a code block, a number will appear between the brackets left of the block (e.g., `[1]:`), and while it is calculating something an asterisk will appear (e.g., `[*]:`)."
   ]
  },
  {
   "cell_type": "code",
   "execution_count": null,
   "metadata": {},
   "outputs": [],
   "source": [
    "3 * 4"
   ]
  },
  {
   "cell_type": "markdown",
   "metadata": {},
   "source": [
    "Note the spaces between the `3`, the `*`, and the `4`. It is good practice to use spaces between items to improve the readability of the code. Here are a few more examples:"
   ]
  },
  {
   "cell_type": "code",
   "execution_count": null,
   "metadata": {},
   "outputs": [],
   "source": [
    "5 + 6"
   ]
  },
  {
   "cell_type": "code",
   "execution_count": null,
   "metadata": {},
   "outputs": [],
   "source": [
    "6 - 9.5"
   ]
  },
  {
   "cell_type": "code",
   "execution_count": null,
   "metadata": {},
   "outputs": [],
   "source": [
    "9 / 3"
   ]
  },
  {
   "cell_type": "markdown",
   "metadata": {},
   "source": [
    "The above three code blocks show four common operators: `+`, `-`, `*`, and `/`, to add, subtract, multiply, and divide numbers together.\n",
    "\n",
    "### Storing data in variables\n",
    "\n",
    "In the code cells above the answers are directly printed to the screen. Often you want to store values into a 'variable', that can be reused. In the code below, we store the numbers 3 and 4 in two variables (`x` and `y`), and store the results of their multiplication in another (`z`)."
   ]
  },
  {
   "cell_type": "code",
   "execution_count": null,
   "metadata": {},
   "outputs": [],
   "source": [
    "x = 3  # This is a comment. Everything after the hashtag is not run.\n",
    "y = 4 \n",
    "z = x * y  # Because we store this, it will not be printed to the screen"
   ]
  },
  {
   "cell_type": "markdown",
   "metadata": {},
   "source": [
    "The number 3 and 4 are now stored in the variables `x` and `y`. The answer of the multiplication of `x` and `y` is stored in the variable `z`. We can use these again (they are stored)."
   ]
  },
  {
   "cell_type": "code",
   "execution_count": null,
   "metadata": {},
   "outputs": [],
   "source": [
    "x"
   ]
  },
  {
   "cell_type": "markdown",
   "metadata": {},
   "source": [
    "### Printing Variables\n",
    "To look at the value that is calculated for this variable, we can `print` this variable as follows."
   ]
  },
  {
   "cell_type": "code",
   "execution_count": null,
   "metadata": {},
   "outputs": [],
   "source": [
    "print(z)  # Print y to the screen"
   ]
  },
  {
   "cell_type": "markdown",
   "metadata": {},
   "source": [
    "You can also add text or other variables to a print statement, separated by commas."
   ]
  },
  {
   "cell_type": "code",
   "execution_count": null,
   "metadata": {},
   "outputs": [],
   "source": [
    "print(\"The division of z by x is\", z / x)  # divide z by x and print the result\n",
    "print(\"The answers of x * y =\", z)"
   ]
  },
  {
   "cell_type": "markdown",
   "metadata": {},
   "source": [
    "### A comment on comments\n",
    "In the code blocks we have seen so far, you may have noticed some (blue/green) text after a hashtag `#`. This character is reserved to indicate that everything after the hashtag should not be run by the Python Interpreter. This can be used to add comments to your code. Commenting is considered good practice to explain your code. As a rule of thumb, use them to give some short summary at the beginning of your program, and briefly explain things that may not be that obvious. Will you still understand your code in one, two, or three years time?"
   ]
  },
  {
   "cell_type": "code",
   "execution_count": null,
   "metadata": {},
   "outputs": [],
   "source": [
    "# This is a comment\n",
    "# x = 1 # This code is NOT executed."
   ]
  },
  {
   "cell_type": "markdown",
   "metadata": {},
   "source": [
    "### Exercise 2a. Print your name, age and favorite number\n",
    "Print the following sentence:\n",
    "\n",
    "*My name is A. I am B years old and my favorite number is: C*\n",
    "\n",
    "Create variables for the letter A, B, and C, give them logical names, and use them in your print statement."
   ]
  },
  {
   "cell_type": "code",
   "execution_count": null,
   "metadata": {},
   "outputs": [],
   "source": [
    "# Type your answer here"
   ]
  },
  {
   "cell_type": "markdown",
   "metadata": {},
   "source": [
    "[Answer](#Exercise-1a)"
   ]
  },
  {
   "cell_type": "markdown",
   "metadata": {},
   "source": [
    "### Exercise 2b. Calculate and print a division\n",
    "Create two variables `a` and `b` with the values 56 and 7. Divide `a` by `b` and store the result in the variable `c`. Print the value for `c` to the screen. Remember the arithmetic operator for division in Python is `/`."
   ]
  },
  {
   "cell_type": "code",
   "execution_count": null,
   "metadata": {},
   "outputs": [],
   "source": [
    "# Type your answer here"
   ]
  },
  {
   "cell_type": "markdown",
   "metadata": {},
   "source": [
    "[Answer](#Exercise-1a)"
   ]
  },
  {
   "cell_type": "markdown",
   "metadata": {},
   "source": [
    "### Exercise 2c: To the power\n",
    "Calculate $y = 2^n$ for $n=8$. Create variables for `n` and `y` and print the result. To raise to the power use the `**` operator (e.g., $4^6$ = `4**6`)."
   ]
  },
  {
   "cell_type": "code",
   "execution_count": null,
   "metadata": {},
   "outputs": [],
   "source": [
    "# Type your answer here"
   ]
  },
  {
   "cell_type": "markdown",
   "metadata": {},
   "source": [
    "[Answer](#Exercise-1b)"
   ]
  },
  {
   "cell_type": "markdown",
   "metadata": {},
   "source": [
    "## 3. Variables and Data types\n",
    "So far we have seen how to store a single integer (number) in a variable, but there are many more things we can store using different **Data Types**. Discrete values like days (e.g., 1, 2, 3, etc.) can be stored as `integers`, but floating point numbers have to be stored as `floats`. Let's consider the following data types:"
   ]
  },
  {
   "cell_type": "code",
   "execution_count": null,
   "metadata": {},
   "outputs": [],
   "source": [
    "a = 1\n",
    "b = 2.9\n",
    "c = 'Hello'\n",
    "d = [1, 2]\n",
    "e = (4, 5)\n",
    "f = True\n",
    "g = {\"a\": 10}\n",
    "\n",
    "# print(a)"
   ]
  },
  {
   "cell_type": "markdown",
   "metadata": {},
   "source": [
    "What can we do with that? What are these?"
   ]
  },
  {
   "cell_type": "markdown",
   "metadata": {},
   "source": [
    "### Find out the data type\n",
    "It is good to know what data type we are working with. For this, you can use the `type` command which returns the data type of an object (variable). As follows:"
   ]
  },
  {
   "cell_type": "code",
   "execution_count": null,
   "metadata": {},
   "outputs": [],
   "source": [
    "print(\"the data type of a is \", type(a))\n",
    "print(\"the data type of b is \", type(b))\n",
    "print(\"the data type of c is \", type(c))\n",
    "print(\"the data type of d is \", type(d))\n",
    "print(\"the data type of e is \", type(e))\n",
    "print(\"the data type of e is \", type(f))\n",
    "print(\"the data type of e is \", type(g))"
   ]
  },
  {
   "cell_type": "markdown",
   "metadata": {},
   "source": [
    "### Common data types:\n",
    "The data types above are some of the most-used [data types available in Python](https://docs.python.org/3/library/stdtypes.html). Here is a description of each of these data types:\n",
    "\n",
    "- `int`: a single numeric value (e.g., 1, 5, or 14) \n",
    "- `float`: a single numeric value with floating points (e.g., 1.5, 13.6, 2.71)\n",
    "- `str`: string with text (e.g., \"text here\")\n",
    "- `bool`: boolean which is either True or False. \n",
    "- `list`: sequence of any data type stored in a list\n",
    "- `tuple`: sequence of any data type stored in a unmutable list\n",
    "- `dict`: named sequence of any data type stored in a list\n",
    "\n",
    "The first four data types are single values, while the last three are sequences, or collections of variables. The data type defines what we can do with a variable, i.e. what you can store in it and what operations you can do. Let's look at some examples to better understand these data types.\n",
    "\n",
    "### Integers and floats\n",
    "These are the two main numeric data types used in Python. We can use these data types for mathematical computations (e.g., summing, divions, subtracting, multiplication) on two numbers as shown above."
   ]
  },
  {
   "cell_type": "code",
   "execution_count": null,
   "metadata": {},
   "outputs": [],
   "source": [
    "a = 5\n",
    "print(type(a))"
   ]
  },
  {
   "cell_type": "code",
   "execution_count": null,
   "metadata": {},
   "outputs": [],
   "source": [
    "b = 2.0\n",
    "print(type(b))"
   ]
  },
  {
   "cell_type": "markdown",
   "metadata": {},
   "source": [
    "As you can see Python \"recognizes\" the data type in this case. If you want to be sure to use a certain data type you could use: "
   ]
  },
  {
   "cell_type": "code",
   "execution_count": null,
   "metadata": {},
   "outputs": [],
   "source": [
    "c = float(4.0)\n",
    "print(type(c))"
   ]
  },
  {
   "cell_type": "markdown",
   "metadata": {},
   "source": [
    "mathematical operations with an integer and an float will return a float:"
   ]
  },
  {
   "cell_type": "code",
   "execution_count": null,
   "metadata": {},
   "outputs": [],
   "source": [
    "d = a / b\n",
    "print(type(d))"
   ]
  },
  {
   "cell_type": "markdown",
   "metadata": {},
   "source": [
    "### Text strings\n",
    "\n",
    "Another commonly used data type are strings, basicly the data type used for text. "
   ]
  },
  {
   "cell_type": "code",
   "execution_count": null,
   "metadata": {},
   "outputs": [],
   "source": [
    "text = \"This is\"\n",
    "print(type(text))"
   ]
  },
  {
   "cell_type": "markdown",
   "metadata": {},
   "source": [
    "We can also use some operators on text:"
   ]
  },
  {
   "cell_type": "code",
   "execution_count": null,
   "metadata": {},
   "outputs": [],
   "source": [
    "extra = \" a text\"\n",
    "text + extra"
   ]
  },
  {
   "cell_type": "markdown",
   "metadata": {},
   "source": [
    "### Boolean variables\n",
    "\n",
    "A special data type are booleans, which only have two predefined values, being either `True` or `False`. This data type is particularly useful if we want to check whether or not a certain conditions is true or false. This data type will be discussed in a later lecture."
   ]
  },
  {
   "cell_type": "code",
   "execution_count": null,
   "metadata": {},
   "outputs": [],
   "source": [
    "t = True\n",
    "f = False\n",
    "print(type(f))"
   ]
  },
  {
   "cell_type": "markdown",
   "metadata": {},
   "source": [
    "### Lists\n",
    "Lists can be thought of as a container to store multiple other variables in. Lists are quite a useful data type since we often deal with a collection of values, rather than a single value. To create a list, square brackets are used, and all other values are put in between the brackets."
   ]
  },
  {
   "cell_type": "code",
   "execution_count": null,
   "metadata": {},
   "outputs": [],
   "source": [
    "a = [1, 6, 9, 4, 3]\n",
    "print(a)"
   ]
  },
  {
   "cell_type": "markdown",
   "metadata": {},
   "source": [
    "To access or select a certain item in a list, we can index it as follows:"
   ]
  },
  {
   "cell_type": "code",
   "execution_count": null,
   "metadata": {},
   "outputs": [],
   "source": [
    "print(a[3])\n",
    "print(a[0])"
   ]
  },
  {
   "cell_type": "markdown",
   "metadata": {},
   "source": [
    "`a[0]` ? Yes. Python starts counting at zero! This is helpful when working with time. So keep in mind, the first value has index 0.\n",
    "\n",
    "To select multiple values, we use the following syntax: `a[start:stop:step]`"
   ]
  },
  {
   "cell_type": "code",
   "execution_count": null,
   "metadata": {},
   "outputs": [],
   "source": [
    "a[0:4:2]  # Start at index 0, stop at index 4, take a step size of 2 (every second item in the list)"
   ]
  },
  {
   "cell_type": "markdown",
   "metadata": {},
   "source": [
    "### Tuples\n",
    "Let's now look at the `Tuple` data type. A variable of this type is said to be \"immutable\", meaning that it can't be changed. This can be convenient if you want to be sure that the data cannot be changed."
   ]
  },
  {
   "cell_type": "code",
   "execution_count": null,
   "metadata": {},
   "outputs": [],
   "source": [
    "a = (8, 9, 3)\n",
    "print(type(a), a)\n",
    "\n",
    "# Let's try and change a value\n",
    "a[0] = 50"
   ]
  },
  {
   "cell_type": "markdown",
   "metadata": {},
   "source": [
    "### Dictionaries\n",
    "There are many more data types in Python, and it will happen that you are not familiar with the data types. At that point, you will have to find out more by searching for the documentation. The Python language is well documented by the python developers, find the [documentation on data types here](https://docs.python.org/3/library/stdtypes.html). Alternatively, you can use your favorite search engine to search the internet.\n",
    "\n",
    "### Exercise 3a: define a dictionary\n",
    "Look up the dictionary data type in the Python Docs and study how to create this dictionary. \n",
    "\n",
    "1. Define a dictionary (`dict`) and store it in the variable `dogs`.\n",
    "2. Add two dogs, using the name of the dog as a 'key' and the age as a 'value"
   ]
  },
  {
   "cell_type": "code",
   "execution_count": null,
   "metadata": {},
   "outputs": [],
   "source": [
    "# 1. Define a dictionary (`dict`) and store it in the variable `dogs`.\n",
    "\n",
    "#2. Add two dogs, using the name of the dog as a 'key' and the age as a 'value\n"
   ]
  },
  {
   "cell_type": "markdown",
   "metadata": {},
   "source": [
    "[Answer](#Answers-to-Exercises)"
   ]
  },
  {
   "cell_type": "markdown",
   "metadata": {},
   "source": [
    "### Exercise 3b: Select and print the words\n",
    "From the list below, select all the words in the list and print a sentence with those words."
   ]
  },
  {
   "cell_type": "code",
   "execution_count": null,
   "metadata": {},
   "outputs": [],
   "source": [
    "data = [7,5,\"Python\", (3.14), \"is\", 5,5, \" Great\"]  # Note that you can put different data types in a list!\n",
    "\n",
    "# Type your code here"
   ]
  },
  {
   "cell_type": "markdown",
   "metadata": {},
   "source": [
    "[Answer](#Answers-to-Exercises)"
   ]
  },
  {
   "cell_type": "markdown",
   "metadata": {},
   "source": [
    "### Excercise 3c: Find the data type"
   ]
  },
  {
   "cell_type": "code",
   "execution_count": null,
   "metadata": {},
   "outputs": [],
   "source": [
    "data = [7, 5, \"Python\", (3.14,), \"is\", 5,5, \" Great\"]\n",
    "      \n",
    "# Find the data type of the fourth item in the list (3.14,)\n",
    "print(type(data[3]))"
   ]
  },
  {
   "cell_type": "markdown",
   "metadata": {},
   "source": [
    "[Answer](#Answers-to-Exercises)"
   ]
  },
  {
   "cell_type": "markdown",
   "metadata": {},
   "source": [
    "### A note on variable names\n",
    "\n",
    "It is good practice to use short but useful variables names when choosing a name for a variable. Variable names can use both capital and normal letters, and there are different naming conventions. Try to be consistent and choose names that tell something about the content of the variable. Throughout the course, you will find many names that are used in common practice."
   ]
  },
  {
   "cell_type": "markdown",
   "metadata": {},
   "source": [
    "## 4. Python Packages\n",
    "\n",
    "So far we have been looking at the functionality of pure Python, without importing any 'additional functionalities'. Pure Python can be used to do most things, but a more complicated task may consume a lot of time. For example, try to calculate the square root of 2. Of course, we could raise 2 to the power of 0.5, or manually change the number to get a good answer:\n"
   ]
  },
  {
   "cell_type": "code",
   "execution_count": null,
   "metadata": {},
   "outputs": [],
   "source": [
    "# or 2**0.5 \n",
    "1.41 ** 2"
   ]
  },
  {
   "cell_type": "markdown",
   "metadata": {},
   "source": [
    "What you probably want, is something like your calculator, where you simply compute $\\sqrt 2$ and are presented with the (approximate) answer.\n",
    "\n",
    "### The Python ecosystem\n",
    "Luckily, many of such functions have already been programmed by others. These functions are made available through Python Packages. In the most simple terms, a package is a collection of functions. Generally, they tend to be packed together under a common theme or use case. In this course, we will mostly use the following Python packages:\n",
    "\n",
    "- [NumPy](https://numpy.org/doc/) includes functionality for numerical operations on arrays (lists of numbers).\n",
    "- [Scipy](https://scipy.org/about.html) is a collection of tools for scientific computation.\n",
    "- [Pandas](http://pandas.pydata.org/) is the most popular packages used for data science and analysis.\n",
    "- [Matplotlib](http://matplotlib.org/) is used to visualize the results and make publication quality figures.\n",
    "\n",
    "The above packages are all part of the Scipy Pack, a collection of Python packages created for scientists and engineers. All these packages are automatically installed when you are using the Anaconda distribution of Python. There are over 150.000 Python packages available on https://pypi.org/ for about any use case you can think of. So most of the issues you might face are already solved. This is one of the main strengths of the Python Ecosystems!\n",
    "\n",
    "### Importing packages\n",
    "To import a Python package, we can use the import statement as shown in the code block below. We import the Numpy package, and store this in the Python variable `np`. This notation is rather common and a little shorter to write."
   ]
  },
  {
   "cell_type": "code",
   "execution_count": null,
   "metadata": {},
   "outputs": [],
   "source": [
    "import numpy as np"
   ]
  },
  {
   "cell_type": "markdown",
   "metadata": {},
   "source": [
    "Once we have imported numpy and given it the alias `np`, we can use functions from that package as follows. Let's use the `sqrt` function to calculate $\\sqrt 2$."
   ]
  },
  {
   "cell_type": "code",
   "execution_count": null,
   "metadata": {},
   "outputs": [],
   "source": [
    "np.sqrt(2)"
   ]
  },
  {
   "cell_type": "markdown",
   "metadata": {},
   "source": [
    "### Exercise 4a: import pandas package\n",
    "Import the Pandas package and give it the alias `pd`."
   ]
  },
  {
   "cell_type": "code",
   "execution_count": null,
   "metadata": {},
   "outputs": [],
   "source": [
    "# Type your answer here"
   ]
  },
  {
   "cell_type": "markdown",
   "metadata": {},
   "source": [
    "[Answer](#Answers-to-Exercises)"
   ]
  },
  {
   "cell_type": "markdown",
   "metadata": {},
   "source": [
    "### Exercise 4b: importing from sub-packages\n",
    "Larger Python packages are often subdivided in smaller sub-packages. For example, the Scipy package contains multiple sub-packages with sub-categories of functions. One of these sub-packages is `scipy.stats`. This sub-packages contains functionality for statistical analysis. \n",
    "\n",
    "In de code-cell below, from the `scipy` sub-packages `stats`, import the function `norm`."
   ]
  },
  {
   "cell_type": "code",
   "execution_count": null,
   "metadata": {},
   "outputs": [],
   "source": [
    "# Type your answer here\n",
    "# from the `scipy` sub-packages `stats`, import the function `norm`."
   ]
  },
  {
   "cell_type": "markdown",
   "metadata": {},
   "source": [
    "[Answer](#Answers-to-Exercises)"
   ]
  },
  {
   "cell_type": "markdown",
   "metadata": {},
   "source": [
    "# 5. Plotting\n",
    "A very common and often fun task in Python is making figures and graphs of your data. Visualizing your data is also a good way to check your data and find relationships. The most used package for this is [Matplotlib](http://matplotlib.org/). The actual plotting methods to make the figures are contained in the `pyplot` subpackage, imported as follows."
   ]
  },
  {
   "cell_type": "code",
   "execution_count": null,
   "metadata": {},
   "outputs": [],
   "source": [
    "import matplotlib.pyplot as plt  # This is something you want to memorize"
   ]
  },
  {
   "cell_type": "markdown",
   "metadata": {},
   "source": [
    "The most simple way to plot something, would be to type something like `plt.plot(x, y)` where `x` and `y` are arrays for our x and y values.\n",
    "If you leave out information on x, the given array gets used as y, and the x axis shows a count for however many entries y has. \n",
    "So the most simple plot is something like"
   ]
  },
  {
   "cell_type": "code",
   "execution_count": null,
   "metadata": {},
   "outputs": [],
   "source": [
    "y = [1, 2, 4, 2]\n",
    "plt.plot(y)"
   ]
  },
  {
   "cell_type": "markdown",
   "metadata": {},
   "source": [
    "But lets assume this is not for data from 0 to 3, but for data in an 0.1 interval. Let's plot the data with such an x axis:"
   ]
  },
  {
   "cell_type": "code",
   "execution_count": null,
   "metadata": {},
   "outputs": [],
   "source": [
    "x = [0, 0.1, 0.2, 0.3]\n",
    "y = [1, 2, 4, 2]\n",
    "\n",
    "# Let's make the plot\n",
    "plt.plot(x, y)"
   ]
  },
  {
   "cell_type": "markdown",
   "metadata": {},
   "source": [
    "## Adding figure elements\n",
    "Matplotlib does a decent job at plotting raw data, but often you want to add some extra information to the plot. In particular, a good plot contains at least the following items:\n",
    "\n",
    "- x-label\n",
    "- y-label\n",
    "- legend"
   ]
  },
  {
   "cell_type": "code",
   "execution_count": null,
   "metadata": {},
   "outputs": [],
   "source": [
    "# Let us create some data\n",
    "t = [1, 2, 3, 4, 5]  # Time\n",
    "h1 = [1.3, 1.1, 1.5, 1.3, 1.2]  # Groundwater level\n",
    "h2 = [1.4, 1.0, 1.2, 1.3, 1.1]\n",
    "\n",
    "# Make the plot\n",
    "plt.plot(t, h1, label=\"GWL h1\")  # Use the label here to define the name in the legend\n",
    "plt.plot(t, h2, label=\"GWL h2\")\n",
    "plt.xlabel(\"Time [Days]\")\n",
    "plt.ylabel(\"Groundwater level [m]\")\n",
    "plt.legend()  # Add the legend"
   ]
  },
  {
   "cell_type": "markdown",
   "metadata": {},
   "source": [
    "## Changing line properties\n",
    "There are countless ways to customize your plots in Matplotlib. Take a look at the [Matplotlib Example website](https://matplotlib.org/stable/gallery/index.html) for some inspiration. Two common arguments to use are the `linestyle` and `color` arguments to determine how the line looks. "
   ]
  },
  {
   "cell_type": "code",
   "execution_count": null,
   "metadata": {},
   "outputs": [],
   "source": [
    "# Make the plot\n",
    "plt.plot(t, h1, label=\"GWL h1\", linestyle=\"--\", color=\"red\")\n",
    "plt.plot(t, h2, label=\"GWL h2\", linestyle=\"-.\", color=\"green\")\n",
    "plt.xlabel(\"Time [Days]\")\n",
    "plt.ylabel(\"Groundwater level [m]\")\n",
    "plt.legend()  "
   ]
  },
  {
   "cell_type": "markdown",
   "metadata": {},
   "source": [
    "## Saving a plot\n",
    "The `plt.savefig` command may be used to save the figure to a file. We do this in the last line in the code block below. The argument `dpi` determines the quality of the picture that is saved, and the argument `bbox_inches=\"tight\"` removes redundant whitespace from the outer edges of the figure."
   ]
  },
  {
   "cell_type": "code",
   "execution_count": null,
   "metadata": {},
   "outputs": [],
   "source": [
    "# Make the plot\n",
    "plt.plot(t, h1, label=\"GWL h1\", linestyle=\"--\", color=\"red\")\n",
    "plt.plot(t, h2, label=\"GWL h2\", linestyle=\"-.\", color=\"green\")\n",
    "plt.xlabel(\"Time [Days]\")\n",
    "plt.ylabel(\"Groundwater level [m]\")\n",
    "plt.legend() \n",
    "\n",
    "# Let's save the plot\n",
    "plt.savefig(\"my_first_plot.png\", dpi=150, bbox_inches=\"tight\")"
   ]
  },
  {
   "cell_type": "markdown",
   "metadata": {},
   "source": [
    "## Plotting functions"
   ]
  },
  {
   "cell_type": "markdown",
   "metadata": {},
   "source": [
    "Besides plotting data you already have stored in an array, plotting data that you calculate on the fly is another common use case.\n",
    "Let's say we want to plot the function $f(x) = x^2$ from -5 to +5.\n",
    "So essentially, we want to do something like `plt.plot(x,x**2)` (`**2` is the operator for $^2$).\n",
    "Again, for us, this seems quite straightforward, but for python, we must offer some more explanation, most of all, we need to provide x.\n",
    "One way to define x, would be with `np.arange`:"
   ]
  },
  {
   "cell_type": "code",
   "execution_count": null,
   "metadata": {},
   "outputs": [],
   "source": [
    "x = np.arange(-5, 5, 0.1)"
   ]
  },
  {
   "cell_type": "markdown",
   "metadata": {},
   "source": [
    "`np.arange` is quite straightforward, apart from one pitfall, that the end value is not included!\n",
    "So if we want to really count to 5, we have to provide 5.1 as the stop value:"
   ]
  },
  {
   "cell_type": "code",
   "execution_count": null,
   "metadata": {},
   "outputs": [],
   "source": [
    "x = np.arange(-5, 5.1, 0.1)"
   ]
  },
  {
   "cell_type": "markdown",
   "metadata": {},
   "source": [
    "Now that we have our x, so we just need to define our y and plot it:"
   ]
  },
  {
   "cell_type": "code",
   "execution_count": null,
   "metadata": {},
   "outputs": [],
   "source": [
    "# Calculate y\n",
    "y = x**2\n",
    "\n",
    "# Plot x against y\n",
    "plt.plot(x, y)"
   ]
  },
  {
   "cell_type": "markdown",
   "metadata": {},
   "source": [
    "### Exercise 5a: plot a function\n",
    "\n",
    "Now use what you just learned and plot the function $f(x) =  x^4 + \\frac{x}{\\pi}$ for all x between -10 and 10, with an interval of 0.01 with a red, dotted line. Use `np.pi` for $\\pi$."
   ]
  },
  {
   "cell_type": "code",
   "execution_count": null,
   "metadata": {},
   "outputs": [],
   "source": [
    "# Type your code here"
   ]
  },
  {
   "cell_type": "markdown",
   "metadata": {},
   "source": [
    "[Answer](#Exercise-5a)"
   ]
  },
  {
   "cell_type": "markdown",
   "metadata": {},
   "source": [
    "As we have already learned, we can set the line to the color red by passing `'r'` to the plot command.\n",
    "This short way originates from *matlab*, since it is (was) the main goal of matplotlib to provide matlab style plotting for python.\n",
    "So you can use simple colors this way, like `r`ed, `b`lue, `g`reen, `c`yan or blac`k`.\n",
    "\n",
    "For basic plotting, this often is enough, but there's various reasons to use other colors than just a few primary ones.\n",
    "Luckily, there's many ways to pass some colors to matplotlib (see [here](http://matplotlib.org/examples/pylab_examples/color_demo.html). \n",
    "One of the most useful way is to use the html color names, shown [here](http://en.wikipedia.org/wiki/Web_colors) or in most graphics software.\n",
    "If you prefer a more visual description, instead of `#00FF00` you can also use the xkcd names, which need to be prefaced by `xkcd:`. \n",
    "The xkcd list of color names is given  [here](https://xkcd.com/color/rgb/) and has some quite fitting descriptions.\n",
    "\n",
    "Take a moment to find your favorite (or most funny/ridiculous) color and plot your figure with the lines color set to it, with a thickness of `50` and plot $x^3$ on top of it in *LightSalmon* with a dash-dot line.\n"
   ]
  },
  {
   "cell_type": "code",
   "execution_count": null,
   "metadata": {},
   "outputs": [],
   "source": [
    "# Type your code here"
   ]
  },
  {
   "cell_type": "markdown",
   "metadata": {},
   "source": [
    "There's much more to a \"good\" plot than just picking a color that you think is nice. The most obvious thing, would be making sure that a color blind person can still see what's going on on your plot. For an interesting discussion on this topic see for example this paper: https://hess.copernicus.org/preprints/hess-2021-118/."
   ]
  },
  {
   "cell_type": "markdown",
   "metadata": {},
   "source": [
    "### Exercise 5b: Plotting a sine wave\n",
    "In this exercise we are going to plot one sine wave with the following formula:\n",
    "\n",
    "$y(x) = A * sin(x) $\n",
    "\n",
    "1. Create a variable `A` and give it a value (whatever number you like);\n",
    "2. Create an array named `x` with float between 0 and $2\\pi$ (`np.pi`) with steps of 0.1 using the numpy method `np.arange`;\n",
    "3. Calculate the sine wave (use `np.sin`)for the values of x and store it in the variable `y`;\n",
    "4. Plot the values of x and y, and give the plot a title, x-label and ylabel and a legend."
   ]
  },
  {
   "cell_type": "code",
   "execution_count": null,
   "metadata": {},
   "outputs": [],
   "source": [
    "# Type your code here"
   ]
  },
  {
   "cell_type": "markdown",
   "metadata": {},
   "source": [
    "[Answer](#Exercise-5b)"
   ]
  },
  {
   "cell_type": "markdown",
   "metadata": {},
   "source": [
    "### Exercise 5c. Find the intersection of two lines\n",
    "In this exercise we will plot two linear functions and find the intersection. Consider the following two formula's:\n",
    "\n",
    "$y_1(x) = 2x + 2$\n",
    "\n",
    "$y_2(x) = -1.5x + 15$\n",
    "\n",
    "Make a plot of these two functions by performing the following steps:\n",
    "\n",
    "1. Create an array with values between 0 and 10 and name the variable `x`;\n",
    "2. Calculate the values for $y_1$ and $y_2$;\n",
    "3. Plot both lines and give the plot a title, xlabel, ylabel and legend.\n",
    "\n",
    "\n",
    "To check your work, calculate the intersection of the lines manually and plot a red point of your analytical solution."
   ]
  },
  {
   "cell_type": "code",
   "execution_count": null,
   "metadata": {},
   "outputs": [],
   "source": [
    "# Type your code here"
   ]
  },
  {
   "cell_type": "markdown",
   "metadata": {},
   "source": [
    "[Answer](#Exercise-5c)"
   ]
  },
  {
   "cell_type": "markdown",
   "metadata": {},
   "source": [
    "## Answers to Exercises\n",
    "### Exercise 2a"
   ]
  },
  {
   "cell_type": "code",
   "execution_count": null,
   "metadata": {},
   "outputs": [],
   "source": [
    "name = \"Monty\"\n",
    "age = 45\n",
    "favourite_number = 3\n",
    "print(\"My name is\", name,\", I am\", age, \"years old and my favorite number is:\", favourite_number)"
   ]
  },
  {
   "cell_type": "markdown",
   "metadata": {},
   "source": [
    "### Exercise 2b"
   ]
  },
  {
   "cell_type": "code",
   "execution_count": null,
   "metadata": {},
   "outputs": [],
   "source": [
    "a = 56\n",
    "b = 7\n",
    "c = a / b\n",
    "print(\"Dividing a by b gives:\", c)"
   ]
  },
  {
   "cell_type": "markdown",
   "metadata": {},
   "source": [
    "### Exercise 2c"
   ]
  },
  {
   "cell_type": "code",
   "execution_count": null,
   "metadata": {},
   "outputs": [],
   "source": [
    "n = 8\n",
    "y = 2**8\n",
    "print(y)"
   ]
  },
  {
   "cell_type": "markdown",
   "metadata": {},
   "source": [
    "### Exercise 3a"
   ]
  },
  {
   "cell_type": "code",
   "execution_count": null,
   "metadata": {},
   "outputs": [],
   "source": [
    "# 1. Define a dictionary (`dict`) and store it in the variable `dogs`.\n",
    "dogs = {}  # or\n",
    "dogs = dict()  # gives the same\n",
    "\n",
    "#2. Add two dogs, using the name of the dog as a 'key' and the age as a 'value\n",
    "dogs[\"Jerry\"] = 10\n",
    "dogs[\"tom\"] = 3\n",
    "\n",
    "dogs"
   ]
  },
  {
   "cell_type": "markdown",
   "metadata": {},
   "source": [
    "### Excercise 3b"
   ]
  },
  {
   "cell_type": "code",
   "execution_count": null,
   "metadata": {},
   "outputs": [],
   "source": [
    "data = [7,5,\"Python\", 3.14, \"is\", 5,5, \" Great!\"]\n",
    "\n",
    "print(data[2], data[4], data[7])"
   ]
  },
  {
   "cell_type": "markdown",
   "metadata": {},
   "source": [
    "### Exercise 3c"
   ]
  },
  {
   "cell_type": "code",
   "execution_count": null,
   "metadata": {},
   "outputs": [],
   "source": [
    "data = [7, 5, \"Python\", (3.14,), \"is\", 5,5, \" Great\"]\n",
    "      \n",
    "# Find the data type of the fourth item in the list (3.14,)\n",
    "print(type(data[3]))"
   ]
  },
  {
   "cell_type": "markdown",
   "metadata": {},
   "source": [
    "### Exercise 4a"
   ]
  },
  {
   "cell_type": "code",
   "execution_count": null,
   "metadata": {},
   "outputs": [],
   "source": [
    "import pandas as pd\n",
    "pd.__version__  # this is generally how to find the version of a python package"
   ]
  },
  {
   "cell_type": "markdown",
   "metadata": {},
   "source": [
    "## Exercise 4b"
   ]
  },
  {
   "cell_type": "code",
   "execution_count": null,
   "metadata": {},
   "outputs": [],
   "source": [
    "from scipy.stats import norm"
   ]
  },
  {
   "cell_type": "markdown",
   "metadata": {},
   "source": [
    "### Exercise 5a"
   ]
  },
  {
   "cell_type": "code",
   "execution_count": null,
   "metadata": {},
   "outputs": [],
   "source": [
    "x = np.arange(-10, 10.01, 0.01)\n",
    "y = x**4 + x / np.pi\n",
    "plt.plot(x, y, 'r:')\n",
    "plt.xlabel('x axis')\n",
    "plt.ylabel('y axis')\n",
    "plt.title('fancy!')"
   ]
  },
  {
   "cell_type": "markdown",
   "metadata": {},
   "source": [
    "### Exercise 5b"
   ]
  },
  {
   "cell_type": "code",
   "execution_count": null,
   "metadata": {},
   "outputs": [],
   "source": [
    "A = 2\n",
    "x = np.arange(0, 2 * np.pi, 0.1)\n",
    "y = np.sin(x)\n",
    "plt.plot(x, y)\n",
    "plt.title(\"My first sine wave\")\n",
    "plt.xlabel(\"x\")\n",
    "plt.ylabel(\"y\")\n",
    "plt.legend([\"sine-wave\"])"
   ]
  },
  {
   "cell_type": "markdown",
   "metadata": {},
   "source": [
    "### Exercise 5c"
   ]
  },
  {
   "cell_type": "code",
   "execution_count": null,
   "metadata": {},
   "outputs": [],
   "source": [
    "x = np.arange(0,10, 1)\n",
    "y1 = 2 * x + 2\n",
    "y2 = -1.5 * x + 15\n",
    "plt.plot(x, y1)\n",
    "plt.plot(x, y2)\n",
    "plt.legend([\"y1\", \"y2\"])\n",
    "plt.title(\"Plotting two lines\")\n",
    "plt.xlabel(\"x\")\n",
    "plt.ylabel(\"y\")\n",
    "plt.plot(3.7, 9.5, \"ro\")"
   ]
  },
  {
   "cell_type": "code",
   "execution_count": null,
   "metadata": {},
   "outputs": [],
   "source": []
  }
 ],
 "metadata": {
  "kernelspec": {
   "display_name": "Python 3",
   "language": "python",
   "name": "python3"
  },
  "language_info": {
   "codemirror_mode": {
    "name": "ipython",
    "version": 3
   },
   "file_extension": ".py",
   "mimetype": "text/x-python",
   "name": "python",
   "nbconvert_exporter": "python",
   "pygments_lexer": "ipython3",
   "version": "3.8.8"
  }
 },
 "nbformat": 4,
 "nbformat_minor": 4
}
