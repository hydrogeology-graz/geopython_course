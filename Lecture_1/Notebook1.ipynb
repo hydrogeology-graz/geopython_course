{
 "cells": [
  {
   "cell_type": "markdown",
   "metadata": {},
   "source": [
    "<img src=\"https://static.uni-graz.at/fileadmin/nawi-institute/Erdwissenschaften/NawiGrazGeozentrum_Small.png\" align=\"right\" width=200>\n",
    "\n",
    "# Notebook 1: Basics of programming in Python\n",
    "\n",
    "*Developed by Johannes Haas and Raoul Collenteur, 2020*"
   ]
  },
  {
   "cell_type": "markdown",
   "metadata": {},
   "source": [
    "## Lecture content:\n",
    "\n",
    "1. Running Python Code\n",
    "2. Importing packages\n",
    "3. Data types\n",
    "4. Working with text\n",
    "4. Plotting data\n",
    "5. Extra: reading errors\n",
    "\n",
    "\n",
    "\n",
    "## What is a Jupyter Notebook?\n",
    "If you can read this, you have already succesfully opened a Jupyter notebook (with file-extension `.ipynb`). Jupyter is an \"*open-source web application that allows you to create and share documents that contain live code, equations, visualizations and narrative text.*\" (https://jupyter.org/). In this class, we will use Jupyter Notebooks to learn Python programming and share homework exercises. Jupyter Notebooks have also become a common format to share research analyses in scientific studies and can be a great step towards reproducible science. See for example [this article](https://www.theatlantic.com/science/archive/2018/04/the-scientific-paper-is-obsolete/556676/) in _the Atlantic_ for an easy, general overview aboout why this is a great step forward.\n",
    "\n",
    "The main advantage of Notebooks is that we can combine plain text with code, not just Python but, also over 50 other programming languages.\n",
    "Notebooks can be read in (or exported as) a static form with the computations already done, so that they just show how the results where obtained, just like the reports you wrote for the first part of this lecture.\n",
    "Their main benefit however is that the computations can be done (and changed) inside the notebook, with the results showing up in the notebook, right next to the code, with the additional benefit that there can be formated text next to it, giving further explantions about the code or the results, or, in our case, explanations on what you have to do.\n",
    "\n",
    "### How to use the text boxes\n",
    "\n",
    "As you can see above, the text boxes have various formatting options, such as *italic text*, **bold text**, [hyperlinks](https://www.uni-graz.at) or `code`.\n",
    "Unlike for example Microsoft Word, where you'd have some buttons to click on to tell the program that you now want to write a header, or in bold, you have to use formatting in your raw text. The line with the examples above was written like follows\n",
    "\n",
    "    such as *italic text_* **bold text**, [hyperlinks](https://www.uni-graz.at) or `code`.\n",
    "\n",
    "and gets interpreted by the notebook in order to look as intended.\n",
    "This syntax is called [_markdown_ or _markdown language_ ](https://de.wikipedia.org/wiki/Markdown), with jupyter notebooks using a variant used on the github platform.\n",
    "The guidelines on how to use it are found [here](https://help.github.com/en/github/writing-on-github/basic-writing-and-formatting-syntax) or in every notebook under the _Help_ tab at the top.\n",
    "\n",
    "\n",
    "## 1. Running Python Code\n",
    "Move your cursor into a code-block and click the right mouse button, the code block is now selected. To run the code, press Shift + Enter simultaneously (the answer should print 12). After you run a code block, a number will appear between the brackets left of the block (e.g., `[1]:`), and while it is calculating something an asterisk will appear (e.g., `[*]:`).\n"
   ]
  },
  {
   "cell_type": "code",
   "execution_count": null,
   "metadata": {},
   "outputs": [],
   "source": [
    "3 * 4"
   ]
  },
  {
   "cell_type": "markdown",
   "metadata": {},
   "source": [
    "Note the spaces between the `3`, the `*`, and the `4`. It is good practice to use spaces between items to improve the readability of the code."
   ]
  },
  {
   "cell_type": "code",
   "execution_count": null,
   "metadata": {},
   "outputs": [],
   "source": [
    "5 + 6"
   ]
  },
  {
   "cell_type": "code",
   "execution_count": null,
   "metadata": {},
   "outputs": [],
   "source": [
    "6 - 9.5"
   ]
  },
  {
   "cell_type": "code",
   "execution_count": null,
   "metadata": {},
   "outputs": [],
   "source": [
    "9 / 3"
   ]
  },
  {
   "cell_type": "markdown",
   "metadata": {},
   "source": [
    "The above three code blocks show four common operators: `+`, `-`, `*`, and `/` to add, subtract, multiply and divide numbers together.\n",
    "\n",
    "### Storing data in variables\n",
    "\n",
    "The code above directly calculates the multiplication or sum of two numbers, but typically you want to store such number and the result into variables:"
   ]
  },
  {
   "cell_type": "code",
   "execution_count": null,
   "metadata": {},
   "outputs": [],
   "source": [
    "x = 3  # This is a comment. Everything after the hashtag is not run.\n",
    "y = 4 \n",
    "z = 3 * 4  # Because we store this, it will not be printed to the screen"
   ]
  },
  {
   "cell_type": "markdown",
   "metadata": {},
   "source": [
    "The number 3 and 4 are now stored in the variables `x` and `y`. The answer of the multiplication of `x` and `y` and now stored in the variable `z`. \n",
    "\n",
    "### Printing Variables\n",
    "To look at the value that is calculated for this variable, we can `print` this variable as follows."
   ]
  },
  {
   "cell_type": "code",
   "execution_count": null,
   "metadata": {},
   "outputs": [],
   "source": [
    "print(z)  # Print y to the screen"
   ]
  },
  {
   "cell_type": "markdown",
   "metadata": {},
   "source": [
    "You can also add text or other variables to a print statement, separated by commas'."
   ]
  },
  {
   "cell_type": "code",
   "execution_count": null,
   "metadata": {},
   "outputs": [],
   "source": [
    "print(\"The division of z by x is\", z / x)  # divide z by x and print the result\n",
    "print(\"The answers of x * y =\", z)"
   ]
  },
  {
   "cell_type": "markdown",
   "metadata": {},
   "source": [
    "You can also use print for longer \"sentences\" by using the newline character `\\n` at the end of a string."
   ]
  },
  {
   "cell_type": "code",
   "execution_count": null,
   "metadata": {
    "scrolled": true
   },
   "outputs": [],
   "source": [
    "print('Earlier we have set x =', x, '\\n','and y as', y, 'and z as', z, '.')"
   ]
  },
  {
   "cell_type": "markdown",
   "metadata": {},
   "source": [
    "### Exercise 1a. Print your name, age and favorite number\n",
    "Print the following sentence:\n",
    "\n",
    "*My name is XX. I am XX years old and my favorite number is: XX*\n",
    "\n",
    "Create variables for the XX's, give them logical names, and use them in your print statement."
   ]
  },
  {
   "cell_type": "code",
   "execution_count": null,
   "metadata": {},
   "outputs": [],
   "source": [
    "# Type your answer here"
   ]
  },
  {
   "cell_type": "markdown",
   "metadata": {},
   "source": [
    "[Answer](#Exercise-1a)"
   ]
  },
  {
   "cell_type": "markdown",
   "metadata": {},
   "source": [
    "### A comment on comments\n",
    "In the code blocks we have seen so far, you may have noticed some (blue/green) text after a hashtag `#`. This character is reserved to indicate that the everything after the hashtag should not be run by the Python Interpreter. This can be used to add comments to your code. Commenting is considered good practice to explain your code. As a rule of thumb, use them to give some short summary at the beginning of your program, and briefly explain things that may not be that obvious. Will you still understand your code in one, two, or three years time?\n",
    "\n",
    "In the special case of jupyter notebooks, we are of course using the text boxes for longer comments and explantions, so that the comments in the code can be very brief, but if not working with notebooks some comments have to be a bit longer than what you are seeing in here."
   ]
  },
  {
   "cell_type": "markdown",
   "metadata": {},
   "source": [
    "### Exercise 1b. Calculate and print a division\n",
    "Create two variables `a` and `b` with the values 56 and 7. Divide `a` by `b` and store the result in the variable `c`. Print the value for `c` to the screen. Rememember the arithmetic operator for division in Python is `/`."
   ]
  },
  {
   "cell_type": "code",
   "execution_count": null,
   "metadata": {},
   "outputs": [],
   "source": [
    "# Type your answer here"
   ]
  },
  {
   "cell_type": "markdown",
   "metadata": {},
   "source": [
    "[Answer](#Exercise-1a)"
   ]
  },
  {
   "cell_type": "markdown",
   "metadata": {},
   "source": [
    "### Exercise 1c: To the power\n",
    "Calculate $y = 2^n$ for $n=8$. Create variables for `n` and `y` and print the result. To raise to the power use the `**` operator (e.g., $4^6$ = `4**6`)."
   ]
  },
  {
   "cell_type": "code",
   "execution_count": null,
   "metadata": {},
   "outputs": [],
   "source": [
    "# Type your answer here"
   ]
  },
  {
   "cell_type": "markdown",
   "metadata": {},
   "source": [
    "[Answer](#Exercise-1b)"
   ]
  },
  {
   "cell_type": "markdown",
   "metadata": {},
   "source": [
    "## 2. Python Packages\n",
    "\n",
    "You can do almost everything with pure python, but many things may require a lot of work. For example, try to calculate the square root of 2. The easiest way you may remember from school: $1 * 1 = 1; 2 * 2 = 4$. OK, it's not those two. Maybe $1.5 * 1.5$? Nope, that's 2.25. So, it must be smaller than 1.5. Maybe 1.3? Nope...\n"
   ]
  },
  {
   "cell_type": "code",
   "execution_count": null,
   "metadata": {},
   "outputs": [],
   "source": [
    "1.4 * 1.4"
   ]
  },
  {
   "cell_type": "markdown",
   "metadata": {},
   "source": [
    "What you probably want, is something like your calculator, where you simply press $\\sqrt 2$ and are presented with 1.414213... \n",
    "\n",
    "### The Python ecosystem\n",
    "Luckily, many of such functions have already been programmed by others. These functions are made available through Python Packages. In the most simple terms, a package is a collection of functions. Generally, they tend to be packed together under a common theme or use case. In this course, we will mostly use the following Python packages:\n",
    "\n",
    "- [NumPy](https://docs.scipy.org/doc/numpy/about.html) includes functionality for numerical operations on arrays (lists of numbers).\n",
    "- [Scipy](https://scipy.org/about.html) is a collections of tools for scientific computation.\n",
    "- [Pandas](http://pandas.pydata.org/) is the most popular packages used for data science and analysis.\n",
    "- [Matplotlib](http://matplotlib.org/) is used to visualize the results and make publication quality figures.\n",
    "\n",
    "There are over 150.000 Python packages available on https://pypi.org/ for about any use case you can think of. So most of the issues you might face are already solved. This is one of the main strengths of the Python Ecosystems!\n",
    "\n",
    "### Importing packages\n",
    "To import a Python package we can use the import statement as shown in the code block below. We import Numpy package, and store this in the Python variable `np`. This notation is rather common and a little shorter to write."
   ]
  },
  {
   "cell_type": "code",
   "execution_count": null,
   "metadata": {},
   "outputs": [],
   "source": [
    "import numpy as np"
   ]
  },
  {
   "cell_type": "markdown",
   "metadata": {},
   "source": [
    "You could also give it another name, e.g. `import numpy as calc` or just import that specific function, e.g. `from numpy import sqrt as wurzel`, but unless you know what you are doing and have a good reason for that, you shouldn't!\n",
    "\n",
    "Once we have imported numpy and given it the alias `np`, we can use functions from that package as follows. Later on in this course you will learn how to define functions yourselves! Let's use the `sqrt` function to calculate $\\sqrt 2$."
   ]
  },
  {
   "cell_type": "code",
   "execution_count": null,
   "metadata": {},
   "outputs": [],
   "source": [
    "np.sqrt(2)"
   ]
  },
  {
   "cell_type": "markdown",
   "metadata": {},
   "source": [
    "### Exercise 2: import pandas package\n",
    "Import the Pandas package and give it the alias `pd`."
   ]
  },
  {
   "cell_type": "code",
   "execution_count": null,
   "metadata": {},
   "outputs": [],
   "source": [
    "# Type your answer here, use tab-completion to find the function"
   ]
  },
  {
   "cell_type": "markdown",
   "metadata": {},
   "source": [
    "[Answer](#Exercise-2)"
   ]
  },
  {
   "cell_type": "markdown",
   "metadata": {},
   "source": [
    "## 3. Variables and datatypes\n",
    "So far we have seen how to store a single number in a variable, but there are many more things we can store using different **Data Types**. Discrete values like days (e.g., 1, 2, 3, etc.) we can store as integers. However, if we have half a day (0.5) we store it as a floating point number. Let's consider the following data types:\n"
   ]
  },
  {
   "cell_type": "code",
   "execution_count": null,
   "metadata": {},
   "outputs": [],
   "source": [
    "a = 1\n",
    "b = 2.9\n",
    "c = 'Hello'\n",
    "d = [1, 2]\n",
    "e = (4, 5)\n",
    "\n",
    "# print(a)"
   ]
  },
  {
   "cell_type": "markdown",
   "metadata": {},
   "source": [
    "What can we do with that? What are these?"
   ]
  },
  {
   "cell_type": "markdown",
   "metadata": {},
   "source": [
    "### Find out the data type\n",
    "It is often convenient to know what data type we are working with. For this, you can use the `type` command which returns the data type of an object. As follows:"
   ]
  },
  {
   "cell_type": "code",
   "execution_count": null,
   "metadata": {},
   "outputs": [],
   "source": [
    "print(\"the data type of a is \", type(a))\n",
    "print(\"the data type of b is \", type(b))\n",
    "print(\"the data type of c is \", type(c))\n",
    "print(\"the data type of d is \", type(d))\n",
    "print(\"the data type of e is \", type(e))"
   ]
  },
  {
   "cell_type": "markdown",
   "metadata": {},
   "source": [
    "## Common data types:\n",
    "\n",
    "- integer\n",
    "- float\n",
    "- string\n",
    "- list\n",
    "- tuple\n",
    "- dict (introduced in a later lecture)\n",
    "- boolean (introduced in a later lecture)\n",
    "\n",
    "So what does the data type mean? The type defines what you can do with a variable, i.e. what you can store in it and what operations you can do. It makes a difference if you have a number or some text. \n",
    "\n",
    "### Floats, integers and strings\n",
    "These three are the main data types available. Integers are used to store number without decimals points (e.g., `2`), floats are used to store numbers that do have numbers behind the decimal sign (e.g., `10.45`), and strings are used to store pieces of text. Float and integers can be used for arithmetical operations (e.g., summing, divions, subtracting, multiplication). This is data we are most common with in geosciences, but sometimes text can also be helpfull.\n",
    "\n",
    "Float and integer can be easily switched back and forth and you can easily turn a number into a string:"
   ]
  },
  {
   "cell_type": "code",
   "execution_count": null,
   "metadata": {},
   "outputs": [],
   "source": [
    "a_f = float(a)\n",
    "f_i = int(b)"
   ]
  },
  {
   "cell_type": "code",
   "execution_count": null,
   "metadata": {},
   "outputs": [],
   "source": [
    "print(a_f, a)\n",
    "print (b, f_i)"
   ]
  },
  {
   "cell_type": "markdown",
   "metadata": {},
   "source": [
    "### Lists\n",
    "Lists can be thought of as a container to store multiple other variables in. Lists are extreme usefull in Python, since often we want to work not with a single value, but with a list of values. To create a list, square brackets are used and all other values are put in between the brackets."
   ]
  },
  {
   "cell_type": "code",
   "execution_count": null,
   "metadata": {},
   "outputs": [],
   "source": [
    "a = [1, 6, 9, 4, 3]\n",
    "print(a)"
   ]
  },
  {
   "cell_type": "markdown",
   "metadata": {},
   "source": [
    "To access or select a certain item in a list, we can index as follows:"
   ]
  },
  {
   "cell_type": "code",
   "execution_count": null,
   "metadata": {},
   "outputs": [],
   "source": [
    "print(a[3])\n",
    "print(a[0])"
   ]
  },
  {
   "cell_type": "markdown",
   "metadata": {},
   "source": [
    "`a[0]` ? Yes. Python starts counting at zero! This is helpfull when working with time. So keep in mind, the first value has index 0.\n",
    "\n",
    "To select multiple values, we use the following syntax: `a[start:stop:step]`"
   ]
  },
  {
   "cell_type": "code",
   "execution_count": null,
   "metadata": {},
   "outputs": [],
   "source": [
    "a[0:4:2]  # Start at index 0, stop at index 4, take a step size of 2 (every second item in the list)"
   ]
  },
  {
   "cell_type": "markdown",
   "metadata": {},
   "source": [
    "### Exercise 3: Select and print the words\n",
    "From the list below, select all the words in the list and print a sentence with those words."
   ]
  },
  {
   "cell_type": "code",
   "execution_count": null,
   "metadata": {},
   "outputs": [],
   "source": [
    "data = [7,5,\"Python\", 3.14, \"is\", 5,5, \" Great\"]  # Yes, you can put different data types in a list!\n",
    "\n",
    "# Type your code here"
   ]
  },
  {
   "cell_type": "markdown",
   "metadata": {},
   "source": [
    "[Answer](#Exercise-3)"
   ]
  },
  {
   "cell_type": "markdown",
   "metadata": {},
   "source": [
    "### Tuples\n",
    "Let's now look at the `Tuple` data type. A variable of this type is said to be \"immutable\", meaning that it can't be changed. This can be convenient if you want to be sure that the data cannot be changed."
   ]
  },
  {
   "cell_type": "code",
   "execution_count": null,
   "metadata": {},
   "outputs": [],
   "source": [
    "a = (8, 9, 3)\n",
    "print(type(a), a)\n",
    "\n",
    "# Let's try and change a value\n",
    "a[0] = 50"
   ]
  },
  {
   "cell_type": "markdown",
   "metadata": {},
   "source": [
    "### Naming variables\n",
    "\n",
    "Above we have set some variables, using mostly single letters, as you might be used to from highschool maths.\n",
    "In many cases, this makes sense, be it for some counts or numbers, where `n` and `i` are popular variable names, or for obvious things like the Conductivity $K_f$, which tends to be set as `Kf` or `K_f`, using standard LaTex notation.\n",
    "\n",
    "But in many cases, it makes sense to be more verbose, to make it clear what a variable stands for.\n",
    "Variable names can essentially be as long as you like them to be, so having a variable like"
   ]
  },
  {
   "cell_type": "code",
   "execution_count": null,
   "metadata": {},
   "outputs": [],
   "source": [
    "MyStringVariableForTheFirstLetterOfTheAlphabetSetInMyFirstPythonExercise = 'a'"
   ]
  },
  {
   "cell_type": "markdown",
   "metadata": {},
   "source": [
    "is totally possible (but maybe a bit over the top).\n",
    "The only constraints relevant for our use case are that you can not start a variable with a number (e.g. `7variable = 7` will not work), can not use reserved words in the python language (e.g. `for = 7`, since `for` is a fixed python command), can not contain spaces and that variable names are case sensitive (e.g. `Var1` and `var1` are different variables).\n",
    "\n",
    "As a rule of thumb, make variables as long as they need to be, but keep them as short as possible.\n",
    "If you want to set a variable that contains two words, e.g. hydraulic conductivity or first name, you have to remember that you can't use space.\n",
    "For those cases, people tend to either use and underline `_` or *camel case* to keep the distinction between the two words, like `hydraulic_conductivity`, `first_name` or `HydraulicConductivity` and `FirstName` respectively."
   ]
  },
  {
   "cell_type": "markdown",
   "metadata": {},
   "source": [
    "## 4. Working with text\n",
    "So far, we have done some (simple) calculations and used text to enrich our print statements. But python can do much more with text. Text is stored as a string, and very powerfull functionality is available for string formatting.\n",
    "\n",
    "## Splitting strings\n",
    "\n",
    "The most useful use case for us, is probably splitting strings.\n",
    "Lets assume we are working with data from a datalogger that we imported into python, but it's in an annoying string form:"
   ]
  },
  {
   "cell_type": "code",
   "execution_count": null,
   "metadata": {},
   "outputs": [],
   "source": [
    "loggerdata = 'Muehlbach, waterlevel, 15.03.2019, 1.2, 1.2, 1.2, 1.3, 1.4, 1.5, 1.5, 1.5, 1.6, 1.4, 1.3, 1.3'\n",
    "print(loggerdata)"
   ]
  },
  {
   "cell_type": "markdown",
   "metadata": {},
   "source": [
    "Now for us, as humans, that is very readable, and we can grasp what kind of data this is likely to be:\n",
    "Some bi-hourly waterlevels, from a creek called Mühlbach, taken on the 15th March of 2019.\n",
    "For python however, it's just a string with a length of 93 characters.\n",
    "\n",
    "**How do we get this into a form, so that we can calculate, say the average waterlevel for that day?**\n",
    "\n",
    "As with most things, there are many ways to get to what you want.\n",
    "The following is just one example of many.\n",
    "The most straightforward one would probably be to use a loop, but we'll get to loops later.\n",
    "\n",
    "We could do it in a really stupit way, by splitting the string by hand, like so:"
   ]
  },
  {
   "cell_type": "code",
   "execution_count": null,
   "metadata": {},
   "outputs": [],
   "source": [
    "location = loggerdata[0:9]\n",
    "datatype = loggerdata[11:21]\n",
    "value1 = loggerdata[35:38]\n",
    "value2 = loggerdata[40:43] # and so on for value2 to value12"
   ]
  },
  {
   "cell_type": "markdown",
   "metadata": {},
   "source": [
    "You can probably see why this is not exactly the best approach.\n",
    "So we need something that can do this for us, which in this case is the `split` function.\n",
    "Use the help function to find out how to use it, and split `loggerdata` into the variable `logparts`."
   ]
  },
  {
   "cell_type": "code",
   "execution_count": null,
   "metadata": {},
   "outputs": [],
   "source": [
    "logparts = loggerdata.split(',')"
   ]
  },
  {
   "cell_type": "markdown",
   "metadata": {},
   "source": [
    "Now we access the parts of our log much easier.\n",
    "Using a similar way than above, we can now adress the parts of our list, like"
   ]
  },
  {
   "cell_type": "code",
   "execution_count": null,
   "metadata": {},
   "outputs": [],
   "source": [
    "location = logparts[0]\n",
    "datatype = logparts[1]\n",
    "value1 = logparts[3]\n",
    "value2 = logparts[4] # and so on for value2 to value12"
   ]
  },
  {
   "cell_type": "markdown",
   "metadata": {},
   "source": [
    "But again, this is a lot of typing work. And there's a problem with our values. \n",
    "Whats the problem and how can you fix it?"
   ]
  },
  {
   "cell_type": "code",
   "execution_count": null,
   "metadata": {},
   "outputs": [],
   "source": [
    "type(value1)\n",
    "value1 = float(value1)\n",
    "value2 = float(value2)"
   ]
  },
  {
   "cell_type": "code",
   "execution_count": null,
   "metadata": {},
   "outputs": [],
   "source": [
    "value1"
   ]
  },
  {
   "cell_type": "markdown",
   "metadata": {},
   "source": [
    "# 5. Plotting\n",
    "A very common and often fun task in Python is making figures and graphs of your data. Visualizing your data is also a good way to check your data and find relationships. The most used package for this is Matplotlib. The actual plotting methods to make the figures are contained in the `pyplot` subpackage, imported as follows."
   ]
  },
  {
   "cell_type": "code",
   "execution_count": null,
   "metadata": {},
   "outputs": [],
   "source": [
    "import matplotlib.pyplot as plt  # This is something you want to memorize"
   ]
  },
  {
   "cell_type": "markdown",
   "metadata": {},
   "source": [
    "The most simple way to plot something, would be to type something like `plt.plot(x, y)` where `x` and `y` are arrays for our x and y values.\n",
    "If you leave out information on x, the given array gets used as y, and the x axis shows a count for however many entries y has. \n",
    "So the most simple plot is something like"
   ]
  },
  {
   "cell_type": "code",
   "execution_count": null,
   "metadata": {},
   "outputs": [],
   "source": [
    "y = [1, 2, 4, 2]\n",
    "plt.plot(y)"
   ]
  },
  {
   "cell_type": "markdown",
   "metadata": {},
   "source": [
    "But lets assume this is not for data from 0 to 3, but for data in an 0.1 interval. Let's plot the data with such an x axis:"
   ]
  },
  {
   "cell_type": "code",
   "execution_count": null,
   "metadata": {},
   "outputs": [],
   "source": [
    "x = [0, 0.1, 0.2, 0.3]\n",
    "y = [1, 2, 4, 2]\n",
    "\n",
    "# Let's make the plot\n",
    "plt.plot(x, y)"
   ]
  },
  {
   "cell_type": "markdown",
   "metadata": {},
   "source": [
    "## Adding figure elements\n",
    "Matplotlib does a decent job at plotting raw data, but often you want to add some extra information to the plot. In particular, a good plot contains at least the following items:\n",
    "\n",
    "- x-label\n",
    "- y-label\n",
    "- legend"
   ]
  },
  {
   "cell_type": "code",
   "execution_count": null,
   "metadata": {},
   "outputs": [],
   "source": [
    "# Let us create some data\n",
    "t = [1, 2, 3, 4, 5]  # Time\n",
    "h1 = [1.3, 1.1, 1.5, 1.3, 1.2]  # Groundwater level\n",
    "h2 = [1.4, 1.0, 1.2, 1.3, 1.1]\n",
    "\n",
    "# Make the plot\n",
    "plt.plot(t, h1, label=\"GWL h1\")  # Use the label here to define the name in the legend\n",
    "plt.plot(t, h2, label=\"GWL h2\")\n",
    "plt.xlabel(\"Time [Days]\")\n",
    "plt.ylabel(\"Groundwater level [m]\")\n",
    "plt.legend()  # Add the legend"
   ]
  },
  {
   "cell_type": "markdown",
   "metadata": {},
   "source": [
    "## Changing line properties\n",
    "There are countless ways to customize your plots in Matplotlib. Take a look at the [Matplotlib Example website](https://matplotlib.org/gallery/index.html) for some inspiration. Two common arguments to use are the `linestyle` and `color` arguments to determine how the line looks. "
   ]
  },
  {
   "cell_type": "code",
   "execution_count": null,
   "metadata": {},
   "outputs": [],
   "source": [
    "# Make the plot\n",
    "plt.plot(t, h1, label=\"GWL h1\", linestyle=\"--\", color=\"red\")\n",
    "plt.plot(t, h2, label=\"GWL h2\", linestyle=\"-.\", color=\"green\")\n",
    "plt.xlabel(\"Time [Days]\")\n",
    "plt.ylabel(\"Groundwater level [m]\")\n",
    "plt.legend()  "
   ]
  },
  {
   "cell_type": "markdown",
   "metadata": {},
   "source": [
    "## Saving a plot\n",
    "The `plt.savefig` command may be used to save the figure to a file. We do this in the last line in the code block below. The argument `dpi` determines the quality of the picture that is saved, and the argument `bbox_inches=\"tight\"` removes redundant whitespace from the outer edges of the figure."
   ]
  },
  {
   "cell_type": "code",
   "execution_count": null,
   "metadata": {},
   "outputs": [],
   "source": [
    "# Make the plot\n",
    "plt.plot(t, h1, label=\"GWL h1\", linestyle=\"--\", color=\"red\")\n",
    "plt.plot(t, h2, label=\"GWL h2\", linestyle=\"-.\", color=\"green\")\n",
    "plt.xlabel(\"Time [Days]\")\n",
    "plt.ylabel(\"Groundwater level [m]\")\n",
    "plt.legend() \n",
    "\n",
    "# Let's save the plot\n",
    "plt.savefig(\"my_first_plot.png\", dpi=150, bbox_inches=\"tight\")"
   ]
  },
  {
   "cell_type": "markdown",
   "metadata": {},
   "source": [
    "## Plotting functions"
   ]
  },
  {
   "cell_type": "markdown",
   "metadata": {},
   "source": [
    "Besides plotting data you already have stored in an array, plotting data that you calculate on the fly is another common use case.\n",
    "Let's say we want to plot the function $f(x) = x^2$ from -5 to +5.\n",
    "So essentially, we want to do something like `plt.plot(x,x**2)` (`**2` is the operator for $^2$).\n",
    "Again, for us this seems quite straightforward, but for python, we must offer some more explanation, most of all, we need to provide x.\n",
    "One way to define x, would be with `np.arange`:"
   ]
  },
  {
   "cell_type": "code",
   "execution_count": null,
   "metadata": {},
   "outputs": [],
   "source": [
    "x = np.arange(-5, 5, 0.1)"
   ]
  },
  {
   "cell_type": "markdown",
   "metadata": {},
   "source": [
    "`np.arange` is quite straightforward, apart from one pitfall, that the end value is not included!\n",
    "So if we want to really count to 5, we have to provide 5.1 as the stop value:"
   ]
  },
  {
   "cell_type": "code",
   "execution_count": null,
   "metadata": {},
   "outputs": [],
   "source": [
    "x = np.arange(-5, 5.1, 0.1)"
   ]
  },
  {
   "cell_type": "markdown",
   "metadata": {},
   "source": [
    "Now that we have our x, so we just need to define our y and plot it:"
   ]
  },
  {
   "cell_type": "code",
   "execution_count": null,
   "metadata": {},
   "outputs": [],
   "source": [
    "# Calculate y\n",
    "y = x**2\n",
    "\n",
    "# Plot x against y\n",
    "plt.plot(x, y)"
   ]
  },
  {
   "cell_type": "markdown",
   "metadata": {},
   "source": [
    "### Exercise 5a: plot a function\n",
    "\n",
    "Now use what you just learned and plot the function $f(x) =  x^4 + \\frac{x}{\\pi}$ for all x between -10 and 10, with an interval of 0.01 with a red, dotted line. Use `np.pi` for $\\pi$."
   ]
  },
  {
   "cell_type": "code",
   "execution_count": null,
   "metadata": {},
   "outputs": [],
   "source": [
    "# Type your code here"
   ]
  },
  {
   "cell_type": "markdown",
   "metadata": {},
   "source": [
    "[Answer](#Exercise-5a)"
   ]
  },
  {
   "cell_type": "markdown",
   "metadata": {},
   "source": [
    "As we have already learned, we can set the line to the color red by passing `'r'` to the plot command.\n",
    "This short way originates from *matlab*, since it is (was) the main goal of matplotlib to provide matlab style plotting for python.\n",
    "So you can use simple colors this way, like `r`ed, `b`lue, `g`reen, `c`yan or blac`k`.\n",
    "\n",
    "For basic plotting this often is enough, but there's various reasons to use other colors than just a few primary ones.\n",
    "Luckily, there's many ways to pass some colors to matplotlib (see [here](http://matplotlib.org/examples/pylab_examples/color_demo.html). \n",
    "One of the most useful way is to use the html color names, shown [here](http://en.wikipedia.org/wiki/Web_colors) or in most graphics software.\n",
    "If you prefer a more visual description, instead of `#00FF00` you can also use the xkcd names, which need to be prefaced by `xkcd:`. \n",
    "The xkcd list of color names is given  [here](https://xkcd.com/color/rgb/) and has some quite fitting descriptions.\n",
    "\n",
    "Take a moment to find your favorite (or most funny/ridiculous) color and plot your figure with the lines color set to it, with a thickness of `50` and plot $x^3$ on top of it in *LightSalmon* with a dash-dot line.\n"
   ]
  },
  {
   "cell_type": "code",
   "execution_count": null,
   "metadata": {},
   "outputs": [],
   "source": [
    "# Type your code here"
   ]
  },
  {
   "cell_type": "markdown",
   "metadata": {},
   "source": [
    "There's much more to a \"good\" plot than just picking a color that you think is nice. The most obvious thing, would be making sure that a color blind person can still see what's going on on your plot."
   ]
  },
  {
   "cell_type": "markdown",
   "metadata": {},
   "source": [
    "### Exercise 5b: Plotting a sine wave\n",
    "In this exercise we are going to plot one sine wave with the following formula:\n",
    "\n",
    "$y(x) = A * sin(x) $\n",
    "\n",
    "1. Create a variable `A` and give it a value (whatever number you like);\n",
    "2. Create an array named `x` with float between 0 and $2\\pi$ (`np.pi`) with steps of 0.1 using the numpy method `np.arange`;\n",
    "3. Calculate the sine wave (use `np.sin`)for the values of x and store it in the variable `y`;\n",
    "4. Plot the values of x and y, and give the plot a title, x-label and ylabel and a legend."
   ]
  },
  {
   "cell_type": "code",
   "execution_count": null,
   "metadata": {},
   "outputs": [],
   "source": [
    "# Type your code here"
   ]
  },
  {
   "cell_type": "markdown",
   "metadata": {},
   "source": [
    "[Answer](#Exercise-5b)"
   ]
  },
  {
   "cell_type": "markdown",
   "metadata": {},
   "source": [
    "### Exercise 5c. Find the intersection of two lines\n",
    "In this exercise we will plot two linear functions and find the intersection. Consider the following two formula's:\n",
    "\n",
    "$y_1(x) = 2x + 2$\n",
    "\n",
    "$y_2(x) = -1.5x + 15$\n",
    "\n",
    "Make a plot of these two functions by performing the following steps:\n",
    "\n",
    "1. Create an array with values between 0 and 10 and name the variable `x`;\n",
    "2. Calculate the values for $y_1$ and $y_2$;\n",
    "3. Plot both lines and give the plot a title, xlabel, ylabel and legend.\n",
    "\n",
    "\n",
    "To check your work calculate the intersection of the lines manually and plot a red point of your analytical solution."
   ]
  },
  {
   "cell_type": "code",
   "execution_count": null,
   "metadata": {},
   "outputs": [],
   "source": [
    "# Type your code here"
   ]
  },
  {
   "cell_type": "markdown",
   "metadata": {},
   "source": [
    "[Answer](#Exercise-5c)"
   ]
  },
  {
   "cell_type": "markdown",
   "metadata": {},
   "source": [
    "## EXTRA: Reading errors\n",
    "\n",
    "Unless you always write perfect code on the first try, you will get errors thrown at you.\n",
    "Luckily, python tries to be helpful with them.\n",
    "Lets analyse a few errors we already have received in our short python career:\n",
    "\n",
    "    np.sqrt(2)\n",
    "    \n",
    "    ---------------------------------------------------------------------------\n",
    "    NameError                                 Traceback (most recent call last)\n",
    "    <ipython-input-3-bbf78ff053fc> in <module>()\n",
    "    ----> 1 np.sqrt(2)\n",
    "    \n",
    "    NameError: name 'np' is not defined"
   ]
  },
  {
   "cell_type": "code",
   "execution_count": null,
   "metadata": {},
   "outputs": [],
   "source": [
    "import numpi as np"
   ]
  },
  {
   "cell_type": "code",
   "execution_count": null,
   "metadata": {},
   "outputs": [],
   "source": [
    "b = 2.1\n",
    "c = 'Hallo'\n",
    "d = c/b"
   ]
  },
  {
   "cell_type": "code",
   "execution_count": null,
   "metadata": {},
   "outputs": [],
   "source": [
    "print 'Hello'"
   ]
  },
  {
   "cell_type": "markdown",
   "metadata": {},
   "source": [
    "There's different types of errors, exceptions and syntax errors, and they are always structured quite similarly. You get the type, a traceback and a verbose description of the type. With larger programms, this can easily seem quite overwhelming, but once you understand the structure, it becomes quite readable. For the full, official explanation, please look [here](https://docs.python.org/3/tutorial/errors.html) and [here](https://docs.python.org/3/library/exceptions.html#bltin-exceptions). In short, an exception \"works\" like this:\n",
    "\n",
    "    ---------------------------------------------------------------------------\n",
    "    TypeError                                 Traceback (most recent call last)\n",
    "\n",
    "This part marks the beginning of the error message and gives you a first info about the type of error and tells you that it now shows a traceback. \n",
    "The [TypeError](https://docs.python.org/3/library/exceptions.html#TypeError) is *\\[an\\] exception \\[that\\] may be raised by user code to indicate that an attempted operation on an object is not supported, and is not meant to be.*\n",
    "So apparently, we did try to do something we are not supposed to.\n",
    "The following traceback tells us what exactly we did do wrong:\n",
    "\n",
    "    <ipython-input-50-90b9c40f605f> in <module>\n",
    "           1 b = 2.1\n",
    "           2 c = 'Hallo'\n",
    "     ----> 3 d = c/b\n",
    "     \n",
    "In case of a long statement, it shows the lines preceding the error, with line numbers in front and an arrow pointing to the offending line.\n",
    "For this small test case, this seems very obivous, but with larger programs, it is very helpful to know what line you need to look at.\n",
    "After this small code snippet, we get some additional information about the error:\n",
    "\n",
    "    TypeError: unsupported operand type(s) for /: 'str' and 'float'\n",
    "    \n",
    "Again, it tells us that we are suffering from a type error (error messages can be quite long, and it almost always is the bottom that's the most important, so it makes sense to repeat it!) and gives us some more information about it.\n",
    "Our TypeError in this case is quite easy. We tried to divide a string by a float, which obviously isn't going to work.\n",
    "So now we have to figure out what to do with this error. \n",
    "Was it a small typo and we fat-fingered `c` instead of `x`, which we might have assigned to `x = 32141` at some point?\n",
    "Or do we want to split `Hallo` in two parts, so that we would get `d = ['Hal','lo']`?\n",
    "\n",
    "For the first, it's a really easy fix. For the second, we will figure out how to to that in the **Working with text** section.\n",
    "\n",
    "### Syntax Errors\n",
    "A syntax error works a bit different:\n",
    "\n",
    "      File \"<ipython-input-58-fbd027aad335>\", line 3\n",
    "        print 'Hello'\n",
    "                    ^\n",
    "    SyntaxError: Missing parentheses in call to 'print'.\n",
    "\n",
    "But again, we get all the information we need to fix it. We do get the line number of the error, and we get an arrow pointing at the offender.\n",
    "However, you have to know that the error points at the statement that could not be executed, so the actual error occured before it. So in this example, `'Hello'` is fine, the problem lies in `print`. So a further info and the type of error is given in the last line of the error message, which is this special case (remember python 2 vs 3) is completely self explaining.\n",
    "\n",
    "### Error Extra Exercise\n",
    "\n",
    "***I only realized after doing the video that user input was moved to another, later lecture.\n",
    "Feel free to ignore this extra exercise.\n",
    "If you still want to give it a try, you are of course free to do so!\n",
    "The answer can be found [here](#Extra-Exercise)***\n",
    "\n",
    "Fix the errors in the little script below. You should be able to solve all the issues with what you have learned so far. Remember, you can add a new code box below the following box, to try out parts, or to get the `type()` info for some variables."
   ]
  },
  {
   "cell_type": "code",
   "execution_count": null,
   "metadata": {},
   "outputs": [],
   "source": [
    "print'This is a little error exercise', \\n 'Please correct the errors!')\n",
    "err_count = input('How many errors did you have to fix?')\n",
    "peop_count = input('How many people are in this course?')\n",
    "err_total = err_count * peop_count\n",
    "err_price = 1,2\n",
    "err_sum = err_total * err_price\n",
    "prinf('There's been a total of', err_total, 'errors fixed,')\n",
    "print('if each error was worth', err_price, 'Euros, that would make', err_sum, 'Euros')"
   ]
  },
  {
   "cell_type": "markdown",
   "metadata": {},
   "source": [
    "## Answers to the Exercises\n",
    "### Exercise 1a"
   ]
  },
  {
   "cell_type": "code",
   "execution_count": 1,
   "metadata": {},
   "outputs": [
    {
     "name": "stdout",
     "output_type": "stream",
     "text": [
      "My name is Monty , I am 45 years old and my favorite number is: 3\n"
     ]
    }
   ],
   "source": [
    "name = \"Monty\"\n",
    "age = 45\n",
    "favourite_number = 3\n",
    "print(\"My name is\", name,\", I am\", age, \"years old and my favorite number is:\", favourite_number)"
   ]
  },
  {
   "cell_type": "markdown",
   "metadata": {},
   "source": [
    "### Exercise 1b"
   ]
  },
  {
   "cell_type": "code",
   "execution_count": 2,
   "metadata": {},
   "outputs": [
    {
     "name": "stdout",
     "output_type": "stream",
     "text": [
      "Dividing a by b gives: 8.0\n"
     ]
    }
   ],
   "source": [
    "a = 56\n",
    "b = 7\n",
    "c = a / b\n",
    "print(\"Dividing a by b gives:\", c)"
   ]
  },
  {
   "cell_type": "markdown",
   "metadata": {},
   "source": [
    "### Exercise 1c"
   ]
  },
  {
   "cell_type": "code",
   "execution_count": 3,
   "metadata": {},
   "outputs": [
    {
     "name": "stdout",
     "output_type": "stream",
     "text": [
      "256\n"
     ]
    }
   ],
   "source": [
    "n = 8\n",
    "y = 2**8\n",
    "print(y)"
   ]
  },
  {
   "cell_type": "markdown",
   "metadata": {},
   "source": [
    "### Exercise 2"
   ]
  },
  {
   "cell_type": "code",
   "execution_count": 4,
   "metadata": {},
   "outputs": [
    {
     "data": {
      "text/plain": [
       "'1.0.3'"
      ]
     },
     "execution_count": 4,
     "metadata": {},
     "output_type": "execute_result"
    }
   ],
   "source": [
    "import pandas as pd\n",
    "pd.__version__"
   ]
  },
  {
   "cell_type": "markdown",
   "metadata": {},
   "source": [
    "### Exercise 3"
   ]
  },
  {
   "cell_type": "code",
   "execution_count": 5,
   "metadata": {},
   "outputs": [
    {
     "name": "stdout",
     "output_type": "stream",
     "text": [
      "Python is  Great!\n"
     ]
    }
   ],
   "source": [
    "data = [7,5,\"Python\", 3.14, \"is\", 5,5, \" Great!\"]\n",
    "\n",
    "print(data[2], data[4], data[7])"
   ]
  },
  {
   "cell_type": "markdown",
   "metadata": {},
   "source": [
    "### Exercise 5a"
   ]
  },
  {
   "cell_type": "code",
   "execution_count": 9,
   "metadata": {},
   "outputs": [
    {
     "data": {
      "text/plain": [
       "Text(0.5, 1.0, 'fancy!')"
      ]
     },
     "execution_count": 9,
     "metadata": {},
     "output_type": "execute_result"
    },
    {
     "data": {
      "image/png": "[encoded data removed]",
      "text/plain": [
       "<Figure size 432x288 with 1 Axes>"
      ]
     },
     "metadata": {
      "needs_background": "light"
     },
     "output_type": "display_data"
    }
   ],
   "source": [
    "x = np.arange(-10, 10.01, 0.01)\n",
    "y = x**4 + x / np.pi\n",
    "plt.plot(x, y, 'r:')\n",
    "plt.xlabel('x axis')\n",
    "plt.ylabel('y axis')\n",
    "plt.title('fancy!')"
   ]
  },
  {
   "cell_type": "markdown",
   "metadata": {},
   "source": [
    "### Exercise 5b"
   ]
  },
  {
   "cell_type": "code",
   "execution_count": 10,
   "metadata": {},
   "outputs": [
    {
     "data": {
      "text/plain": [
       "<matplotlib.legend.Legend at 0x7fc425a37610>"
      ]
     },
     "execution_count": 10,
     "metadata": {},
     "output_type": "execute_result"
    },
    {
     "data": {
      "image/png": "[encoded data removed]",
      "text/plain": [
       "<Figure size 432x288 with 1 Axes>"
      ]
     },
     "metadata": {
      "needs_background": "light"
     },
     "output_type": "display_data"
    }
   ],
   "source": [
    "A = 2\n",
    "x = np.arange(0, 2 * np.pi, 0.1)\n",
    "y = np.sin(x)\n",
    "plt.plot(x, y)\n",
    "plt.title(\"My first sine wave\")\n",
    "plt.xlabel(\"x\")\n",
    "plt.ylabel(\"y\")\n",
    "plt.legend([\"sine-wave\"])"
   ]
  },
  {
   "cell_type": "markdown",
   "metadata": {},
   "source": [
    "### Exercise 5c"
   ]
  },
  {
   "cell_type": "code",
   "execution_count": 11,
   "metadata": {},
   "outputs": [
    {
     "data": {
      "text/plain": [
       "[<matplotlib.lines.Line2D at 0x7fc427a90690>]"
      ]
     },
     "execution_count": 11,
     "metadata": {},
     "output_type": "execute_result"
    },
    {
     "data": {
      "image/png": "[encoded data removed]",
      "text/plain": [
       "<Figure size 432x288 with 1 Axes>"
      ]
     },
     "metadata": {
      "needs_background": "light"
     },
     "output_type": "display_data"
    }
   ],
   "source": [
    "x = np.arange(0,10, 1)\n",
    "y1 = 2 * x + 2\n",
    "y2 = -1.5 * x + 15\n",
    "plt.plot(x, y1)\n",
    "plt.plot(x, y2)\n",
    "plt.legend([\"y1\", \"y2\"])\n",
    "plt.title(\"Plotting two lines\")\n",
    "plt.xlabel(\"x\")\n",
    "plt.ylabel(\"y\")\n",
    "plt.plot(3.7, 9.5, \"ro\")"
   ]
  },
  {
   "cell_type": "markdown",
   "metadata": {},
   "source": [
    "### Extra Exercise"
   ]
  },
  {
   "cell_type": "code",
   "execution_count": 12,
   "metadata": {},
   "outputs": [
    {
     "name": "stdout",
     "output_type": "stream",
     "text": [
      "This is a little error exercise \n",
      " Please correct the errors\n",
      "How many errors did you have to fix?5\n",
      "How many people are in this course?10\n",
      "there's been a total of 50.0 errors fixed\n",
      "if each error was worth 1.2 Euros, that would make 60.0 Euros\n"
     ]
    }
   ],
   "source": [
    "print('This is a little error exercise', '\\n', 'Please correct the errors')\n",
    "err_count = float(input('How many errors did you have to fix?'))\n",
    "peop_count = float(input('How many people are in this course?'))\n",
    "err_total = err_count * peop_count\n",
    "err_price = 1.2\n",
    "err_sum = err_total * err_price\n",
    "print('there\\'s been a total of', err_total, 'errors fixed')\n",
    "print('if each error was worth', err_price, 'Euros, that would make', err_sum, 'Euros')"
   ]
  },
  {
   "cell_type": "code",
   "execution_count": null,
   "metadata": {},
   "outputs": [],
   "source": []
  }
 ],
 "metadata": {
  "kernelspec": {
   "display_name": "Python 3",
   "language": "python",
   "name": "python3"
  },
  "language_info": {
   "codemirror_mode": {
    "name": "ipython",
    "version": 3
   },
   "file_extension": ".py",
   "mimetype": "text/x-python",
   "name": "python",
   "nbconvert_exporter": "python",
   "pygments_lexer": "ipython3",
   "version": "3.7.7"
  }
 },
 "nbformat": 4,
 "nbformat_minor": 4
}
