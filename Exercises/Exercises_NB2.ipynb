{
 "cells": [
  {
   "cell_type": "markdown",
   "metadata": {},
   "source": [
    "<img src=\"https://static.uni-graz.at/fileadmin/nawi-institute/Erdwissenschaften/NawiGrazGeozentrum_Small.png\" align=\"right\" width=200>\n",
    "\n",
    "# Exercises Notebook 1 & 2\n",
    "\n",
    "*Developed by Johannes Haas and Raoul Collenteur, 2020*\n",
    "\n",
    "### Change your name here\n",
    "Student name: XXXX XXXX"
   ]
  },
  {
   "cell_type": "code",
   "execution_count": 4,
   "metadata": {},
   "outputs": [],
   "source": [
    "# Import numpy and matplotlib here"
   ]
  },
  {
   "cell_type": "markdown",
   "metadata": {},
   "source": [
    "## Exercise 1: Working with data\n",
    "\n",
    "- Create a Python list with the following values and store it in a variable named `data`: \"Python\", 0.0, 5, \"makes\", \"me\", 9, \"Happy\", 9, \"\\U0001f600\"\n",
    "- Print the data types of the 1st, 3rd, and 7th item.\n",
    "- Print the length of the list, the length has to be calculated with a Python function.\n",
    "- Select all strings from the list and print a sentence with these words, use a negative index number for the last item."
   ]
  },
  {
   "cell_type": "code",
   "execution_count": 5,
   "metadata": {},
   "outputs": [],
   "source": [
    "#Type your answer here"
   ]
  },
  {
   "cell_type": "markdown",
   "metadata": {},
   "source": [
    "## Exercise 2: Calculating the Richter Magnitude\n",
    "In this exercise we will calculate the Richter Magnitude (https://de.wikipedia.org/wiki/Richterskala) used in seismology to quantify and communicate the magnitude of an earthquake. The formula for the Richter magnitude is as follows:\n",
    "\n",
    "$$ M = \\frac{2}{3}Log_{10}M_0 - 6.0 $$\n",
    "\n",
    "where $M_0$ is the seismic Moment is calculated as:\n",
    "\n",
    "$$M_0 = \\mu AD $$\n",
    "\n",
    "here, $\\mu$ is the shear stiffness of the rock surrounding the fault, $A$ is the area of the fault and $D$ slip during the earthquake. Perform the following tasks in Python:\n",
    "\n",
    "1. Go to the Numpy Documentation and find the function for $Log_{10}$\n",
    "2. Define variables for $\\mu= 3\\cdot 10^{10}$, $A=50000x15000 m^2$  and $D=1.5$\n",
    "3. Calcuate $M_0$\n",
    "4. Calculate $M$ (Tip: the answer is around 7)\n",
    "5. Print the results for $M_0$ and $M$ to the screen"
   ]
  },
  {
   "cell_type": "code",
   "execution_count": 6,
   "metadata": {},
   "outputs": [],
   "source": [
    "# Type your answer here"
   ]
  },
  {
   "cell_type": "markdown",
   "metadata": {},
   "source": [
    "## Exercise 3: Rates of decay and half lives of isotopes\n",
    "An often used method in geology to determine ages of rocks and minerals is by radiometric dating. Radioactive isotopes slowly start to decay after they are formed, according to a certain half-time. This characteristic of radioactive isotopes is usefull for aging. If we know the initial number of parent atoms $N_0$ at $t=0$ and the half-time $\\lambda$ the number of parent atoms left over at any time $t$ can be described by a relatively simple formula:\n",
    "\n",
    "$$ N(t) = N_0 *\\exp(-t/\\lambda) $$\n",
    "\n",
    "The formula above is known as the exponential decay is used to describe many processes observed in geosciences. For this exercise, we are going to simulate the decay of the radioactive isotope $^{14}C$. At $t=0$, we have 1000 parent atoms. The approximate half-time of this isotope is approximately $\\lambda=5730$ years.\n",
    "\n",
    "**Perform the following tasks:**\n",
    "\n",
    "1. Store the initial condition in a variable named `N0`, and the half time in `ht`\n",
    "2. Create a numpy array with time from $t=0$ to $t=50000$ years with time steps of 10 years \n",
    "3. Calculate the number of parent atoms for each value of $t$\n",
    "4. Plot the decay of the number of parent atoms over time using Matplotlib (watch the times on the x-axis)\n",
    "5. Give the plot an xlabel, ylabel, legend with the formula, and title "
   ]
  },
  {
   "cell_type": "code",
   "execution_count": 7,
   "metadata": {},
   "outputs": [],
   "source": [
    "# Type your answer here"
   ]
  },
  {
   "cell_type": "markdown",
   "metadata": {},
   "source": [
    "## Exercise 4: Creating a 2D Hydrogeologic Cross-Section\n",
    "In this exercise you wil make a hydrogeologic cross-section of the subsurface. The values of the cross section will denote the hydraulic conductivity $k$ [m/day] of the different layers.\n",
    "\n",
    "1. Create a 10x100 Numpy array with the value $k=28.4$\n",
    "2. Create four horizontal layers with different values between $k=1$ and $k=100$.\n",
    "3. Create 1 vertical layer at the far right side with the value $k=0$\n",
    "4. Plot the 2D array and add xlabels, ylabels, title and a colorbar\n",
    "5. Save the plot with a dpi of 300 and removed whitespace from the edges"
   ]
  },
  {
   "cell_type": "code",
   "execution_count": 8,
   "metadata": {},
   "outputs": [],
   "source": [
    "# Type your answer here"
   ]
  },
  {
   "cell_type": "markdown",
   "metadata": {},
   "source": [
    "## Important\n",
    "Before uploading the notebook to Moodle, make sure to rename this notebook to `NB2_Surname.ipynb`"
   ]
  }
 ],
 "metadata": {
  "kernelspec": {
   "display_name": "Python 3",
   "language": "python",
   "name": "python3"
  },
  "language_info": {
   "codemirror_mode": {
    "name": "ipython",
    "version": 3
   },
   "file_extension": ".py",
   "mimetype": "text/x-python",
   "name": "python",
   "nbconvert_exporter": "python",
   "pygments_lexer": "ipython3",
   "version": "3.7.6"
  }
 },
 "nbformat": 4,
 "nbformat_minor": 4
}
