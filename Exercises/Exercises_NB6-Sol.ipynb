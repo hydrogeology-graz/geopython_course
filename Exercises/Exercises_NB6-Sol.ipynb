{
 "cells": [
  {
   "cell_type": "markdown",
   "metadata": {},
   "source": [
    "<img src=\"https://static.uni-graz.at/fileadmin/nawi-institute/Erdwissenschaften/NawiGrazGeozentrum_Small.png\" align=\"right\" width=200>\n",
    "\n",
    "# Exercises Notebook 1 & 2\n",
    "\n",
    "*Developed by Johannes Haas and Raoul Collenteur, 2020*\n",
    "\n",
    "### Change your name here\n",
    "Student name: XXXX XXXX"
   ]
  },
  {
   "cell_type": "code",
   "execution_count": 1,
   "metadata": {},
   "outputs": [],
   "source": [
    "# Import matplotlib, numpy and pandas here\n",
    "import numpy as np\n",
    "import pandas as pd\n",
    "\n",
    "import matplotlib.pyplot as plt"
   ]
  },
  {
   "cell_type": "markdown",
   "metadata": {},
   "source": [
    "## Exercise 1: importing csv-files and plotting the time series\n",
    "In this notebook we will work with precipitation and evaporation data, stored in the files `prec.csv` and `evap.csv` to calibrate a model that estimates groundwater recharge to observed recharge rates (`recharge.csv`). After importing and analyzing the raw data, we will use the data to calibrate a model to simulate recharge from these two time series. Let's start!\n",
    "\n",
    "1. Import the two csv-files `prec.csv` and `evap.csv` and make sure that the index is a DatetimeIndex and that the data type is a Pandas Series.\n",
    "2. Plot both time series in one figure that contains two suplots (you learned this in Notebook 2).\n",
    "3. Add all important figure elements (labels, legend, etc.) and save the figure."
   ]
  },
  {
   "cell_type": "code",
   "execution_count": 27,
   "metadata": {},
   "outputs": [],
   "source": [
    "#Type your answer here\n",
    "rain = pd.read_csv(\"rain.csv\", parse_dates=True, usecols=[0,1], delimiter=\",\",\n",
    "                   index_col=0, squeeze=True, dayfirst=True)\n",
    "evap = pd.read_csv(\"evap.csv\", parse_dates=True, usecols=[0,1], delimiter=\",\",\n",
    "                   index_col=0, squeeze=True, dayfirst=True)\n",
    "\n",
    "# Plot the results\n",
    "fig, [ax1, ax2] = plt.subplots(2,1, sharex=True)\n",
    "ax1.plot(rain)\n",
    "ax2.plot(evap)\n",
    "\n",
    "ax1.set_ylabel(\"Precipitation [m/d]\")\n",
    "ax2.set_ylabel(\"Evaporation [m/d]\")\n",
    "ax2.set_xlabel(\"Time [years]\");"
   ]
  },
  {
   "cell_type": "code",
   "execution_count": 29,
   "metadata": {},
   "outputs": [
    {
     "data": {
      "text/plain": [
       "pandas.core.frame.DataFrame"
      ]
     },
     "execution_count": 29,
     "metadata": {},
     "output_type": "execute_result"
    }
   ],
   "source": [
    "type(evap)"
   ]
  },
  {
   "cell_type": "markdown",
   "metadata": {},
   "source": [
    "## Exercise 2: Describing Pandas time series\n",
    "In this exercise you will analyze the time series you just imported to get an idea of the \n",
    "\n",
    "1. Resample both time series to annual sums by using the `resample` function from Pandas.\n",
    "2. Plot the resampled time series. Use a barplot for this, [see documentation here](https://pandas.pydata.org/pandas-docs/stable/reference/api/pandas.Series.plot.bar.html). Add all important figure element and add SI-units to the labels. What do you think are the units for this data?\n",
    "3. report the mean and the standard deviations of the annual precipitation and evaporation fluxes (print to screen)."
   ]
  },
  {
   "cell_type": "code",
   "execution_count": 8,
   "metadata": {},
   "outputs": [
    {
     "name": "stdout",
     "output_type": "stream",
     "text": [
      "Mean precipitation is 0.76 and the standard deviation is 0.1\n"
     ]
    },
    {
     "data": {
      "image/png": "[encoded data removed]",
      "text/plain": [
       "<Figure size 432x288 with 2 Axes>"
      ]
     },
     "metadata": {
      "needs_background": "light"
     },
     "output_type": "display_data"
    }
   ],
   "source": [
    "#Type your answer here\n",
    "EA = evap.resample(\"A\").sum()\n",
    "PA = rain.resample(\"A\").sum()\n",
    "\n",
    "fig, [ax1, ax2] = plt.subplots(2,1, sharex=True)\n",
    "EA.plot.bar(ax=ax1)\n",
    "PA.plot.bar(ax=ax2)\n",
    "\n",
    "ax2.set_ylabel(\"Precipitation [m/d]\")\n",
    "ax1.set_ylabel(\"Evaporation [m/d]\")\n",
    "ax2.set_xlabel(\"Time [years]\");\n",
    "\n",
    "print(\"Mean precipitation is\", PA.mean().round(2), \"and the standard deviation is\", PA.std().round(2))"
   ]
  },
  {
   "cell_type": "markdown",
   "metadata": {},
   "source": [
    "## Exercise 3: Defining a model and an objective function\n",
    "In this exercise you will develop a simple model to calculate recharge to the groundwater $R(t)$ from precipitation $P$ and evaporation $E$. The model is described by the following formula:\n",
    "\n",
    "$ R(t) = (1-f_l) * P - f_c * E $\n",
    "\n",
    "where the parameter $f_l$ is a factor determining which part of the precipitation is lost to interception and runoff, and the parameter $f_c$ is a factor that corrects the evaporation depending on the vegetation type. Note that if Evaporation exceeds Precipitation this may lead to negative groundwater recharge, which can be interpreted as evaporation from the groundwater.\n",
    "\n",
    "Prepare the following two functions\n",
    "\n",
    "1. load the csv file `recharge.csv` that contains the \"observed\" recharge. Make sure it is pandas Series with DatetimeIndex.\n",
    "2. Define a function named `recharge_model` that calculates and returns $R(t)$ according to the above formula, using the two parameters $f_l$ and $f_c$.\n",
    "3. Define a function named `obj_function` that implements the sum of squared residuals formula from Notebook 6 and returns the value for the objective function. Make sure the input parameters make it possible to use scipy's `minimize` method in the next Exercise.\n",
    "4. Test both functions using the parameters $f_l=0.05$ and $f_c0.95$ and print the value of the objective function."
   ]
  },
  {
   "cell_type": "code",
   "execution_count": 11,
   "metadata": {},
   "outputs": [
    {
     "data": {
      "text/plain": [
       "Date\n",
       "1980-01-01    0.00031\n",
       "1980-01-02    0.00022\n",
       "1980-01-03    0.00001\n",
       "1980-01-04    0.00074\n",
       "1980-01-05    0.00079\n",
       "               ...   \n",
       "2016-11-18        NaN\n",
       "2016-11-19        NaN\n",
       "2016-11-20        NaN\n",
       "2016-11-21        NaN\n",
       "2016-11-22        NaN\n",
       "Length: 13476, dtype: float64"
      ]
     },
     "execution_count": 11,
     "metadata": {},
     "output_type": "execute_result"
    }
   ],
   "source": [
    "#Type your answer here\n",
    "recharge = pd.read_csv(\"recharge.csv\", parse_dates=True, index_col=0, squeeze=True)\n",
    "\n",
    "def recharge_model(fl, fi):\n",
    "    R = (1 - fl) * rain - fi * evap\n",
    "    return R\n",
    "\n",
    "def obj_function(p):\n",
    "    R = recharge_model(p[0], p[1])\n",
    "    res = R - recharge\n",
    "    return (res**2).sum()\n",
    "\n",
    "obj_function(p=[0.05, 0.95])\n",
    "\n",
    "recharge_model(0.9, 0.1)"
   ]
  },
  {
   "cell_type": "markdown",
   "metadata": {},
   "source": [
    "## Exercise 4: Optimizing a model\n",
    "1. import the `minimize` function from scipy.\n",
    "2. Use the objective function defined in the previous exercise and calibrate the model parameters by fitting the model to the observed recharge in `recharge.csv`.\n",
    "3. Calculate the simulated groundwater recharge using the optimized parameters.\n",
    "4. Resample the observed and simulated recharge to annual sums and calculate the annual residuals by subtracting the observation from the simulation. Plot these residuals in a bar plot.\n",
    "5. Add all figure elements and print the estimated parameters as a title of the plot."
   ]
  },
  {
   "cell_type": "code",
   "execution_count": 71,
   "metadata": {},
   "outputs": [
    {
     "data": {
      "image/png": "[encoded data removed]",
      "text/plain": [
       "<Figure size 432x288 with 1 Axes>"
      ]
     },
     "metadata": {
      "needs_background": "light"
     },
     "output_type": "display_data"
    }
   ],
   "source": [
    "#Type your answer here\n",
    "from scipy.optimize import minimize\n",
    "\n",
    "p0 = [0.5, 0.5]\n",
    "result = minimize(obj_function, p0)\n",
    "\n",
    "# Plot the results\n",
    "recharge_est = recharge_model(result.x[0], result.x[1])\n",
    "(recharge_est.resample(\"A\").sum()-recharge.resample(\"A\").sum()).plot.bar()\n",
    "plt.title(\"f_l={}, f_i={}$\".format(result.x[0].round(2), result.x[1].round(2)));"
   ]
  }
 ],
 "metadata": {
  "kernelspec": {
   "display_name": "Python 3",
   "language": "python",
   "name": "python3"
  },
  "language_info": {
   "codemirror_mode": {
    "name": "ipython",
    "version": 3
   },
   "file_extension": ".py",
   "mimetype": "text/x-python",
   "name": "python",
   "nbconvert_exporter": "python",
   "pygments_lexer": "ipython3",
   "version": "3.7.6"
  }
 },
 "nbformat": 4,
 "nbformat_minor": 4
}
