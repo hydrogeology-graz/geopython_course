{
 "cells": [
  {
   "cell_type": "markdown",
   "metadata": {},
   "source": [
    "<img src=\"https://static.uni-graz.at/fileadmin/nawi-institute/Erdwissenschaften/NawiGrazGeozentrum_Small.png\" align=\"right\" width=200>\n",
    "\n",
    "# Exercises Notebook 3 & 4\n",
    "\n",
    "*Developed by Raoul Collenteur, Institute of Earth Sciences, NAWI Graz Geocenter, University of Graz.*\n",
    "\n",
    "### Change your name here\n",
    "Student name: XXXX XXXX"
   ]
  },
  {
   "cell_type": "code",
   "execution_count": null,
   "metadata": {},
   "outputs": [],
   "source": [
    "# Import Numpy and Matplotlib here"
   ]
  },
  {
   "cell_type": "markdown",
   "metadata": {},
   "source": [
    "## Exercise 1. Calculate the variance with a for loop\n",
    "In this exercise we are going calculate the sum and the mean of some numbers in a list using a simple formula. \n",
    "\n",
    "We will programm the following formula for the calculation of the variance $\\sigma^2$:\n",
    "\n",
    "$\\sigma^2 = \\frac{\\sum(x_i-\\mu)^2}{N}$\n",
    "\n",
    "where $x_i$ are the individual values in the series $x$, $\\mu$ is the mean value of $x$, and \\$N$ is the number of values in $x$. perform the following steps:\n",
    "\n",
    "- Create a array named `x` with 50 random numbers (`np.random.rand`) and subtract 0.3 from each value;\n",
    "- Use a for-loop to calculate the mean of x;\n",
    "- Then, use a for-loop to implement the above formula to calculate the variance\n",
    "of `x`;\n",
    "- Check your answer by calling NumPy's `var` method."
   ]
  },
  {
   "cell_type": "code",
   "execution_count": null,
   "metadata": {},
   "outputs": [],
   "source": [
    "# Type your answer here\n",
    "\n",
    "print(\"the true answer is:\", np.var(x))"
   ]
  },
  {
   "cell_type": "markdown",
   "metadata": {},
   "source": [
    "## Exercise 2: Count the number of integers in a text\n",
    "In this exercise we are going to do some data mining on a piece of text. The goal is to count the number of characters that could be an integer (e.g., 1, 2, 3) in the piece of text shown below. It is your task to write a for-loop that counts the number of integers that are present in the text below. Print the answer to the screen.\n",
    "\n",
    "**Hint**: To test if a character `a=\"text\"` is a number, use `a.isdigit()`. This return a boolean, that you can use with a if/else statement. Documentation of `isdigit()` can be found [here](https://docs.python.org/3.7/library/stdtypes.html#str.isdigit)."
   ]
  },
  {
   "cell_type": "code",
   "execution_count": null,
   "metadata": {},
   "outputs": [],
   "source": [
    "# multiline string, copied from https://en.wikipedia.org/wiki/Python_(programming_language)\n",
    "\n",
    "text = \"\"\"Python is an interpreted, high-level, general-purpose programming language. Created by Guido van Rossum\n",
    "and first released in 1991, Python has a design philosophy that emphasizes code readability, notably using \n",
    "significant whitespace. It provides constructs that enable clear programming on both small and large scales.\n",
    "[26] Van Rossum led the language community until stepping down as leader in July 2018.[27][28][29] Python features \n",
    "a dynamic type system and automatic memory management. It supports multiple programming paradigms, including \n",
    "object-oriented, imperative, functional and procedural. It also has a comprehensive standard library.[29]\n",
    "Python interpreters are available for many operating systems. CPython, the reference implementation of Python, \n",
    "is open source software[30] and has a community-based development model, as do nearly all of Python's other \n",
    "implementations. Python and CPython are managed by the non-profit Python Software Foundation.\"\"\" "
   ]
  },
  {
   "cell_type": "code",
   "execution_count": null,
   "metadata": {},
   "outputs": [],
   "source": [
    "# Type your answer here\n",
    "\n",
    "a = \"text\"\n",
    "a.isdigit()  # Example code"
   ]
  },
  {
   "cell_type": "markdown",
   "metadata": {},
   "source": [
    "## Exercise 3: Writing a function to calculate the groundwater head\n",
    "In this exercise we are going to write a function to calculate the groundwater head between two canals. We can calculate the head in an aquifer between two canals (ignoring groundwater recharge) as follows:\n",
    "\n",
    "$$ h(x) = (h_2-h_1)\\frac{x}{L} + h_1$$\n",
    "\n",
    "where $h_1$ is the water level in the canal on the left, and $h_2$ the water level of the canal on the right. $L$ is the distance between the canals. Create a function named `calculate_heads` that:\n",
    "\n",
    "- takes four input paraneters: `h1`, `h2`, `L`, and `dx`, where `dx` (the step size) is a keyword argument with default value is 0.5.\n",
    "- creates a Numpy Array inside the function for `x`, based on the distance `L`. Assume $h_1$ is at $x=0$\n",
    "- calculates $h(x)$ using the formula above.\n",
    "- returns the values for $h(x)$\n",
    "\n",
    "test your method with h1=1.5, h2=2 and L=20"
   ]
  },
  {
   "cell_type": "code",
   "execution_count": null,
   "metadata": {},
   "outputs": [],
   "source": [
    "# Type your answer here\n",
    "\n",
    "# Test your function\n",
    "calculate_head(h1=1.5, h2=2.0, L=20)"
   ]
  },
  {
   "cell_type": "markdown",
   "metadata": {},
   "source": [
    "## Exercise 4: Pressure calculator\n",
    "In this exercise we are going to write a function to calculate the atmospheric pressure. We can calculate the atmospheric pressure using a simplication of the ideal gas law:\n",
    "\n",
    "$$ P = 101.3 (\\frac{293-0.0065z}{293})^{5.26}$$\n",
    "\n",
    "where $P$ is the atmospheric pressure [kPa] and $z$ elevation above sea level [m]. Create a function named `pressure_calculator` that:\n",
    "- takes one input parameter: `z`.\n",
    "- returns the values for atmopheric pressure in kPa.\n",
    "- checks if the input `z` contains string values and replaces it with `np.nan`.\n",
    "- includes a docstring."
   ]
  },
  {
   "cell_type": "code",
   "execution_count": null,
   "metadata": {},
   "outputs": [],
   "source": [
    "# Type your answer here\n",
    "\n",
    "# Test your function\n",
    "elevation = [208, \"NaN\", 700, 1090, 344]\n",
    "pressure_calculator(elevation)"
   ]
  }
 ],
 "metadata": {
  "kernelspec": {
   "display_name": "Python 3",
   "language": "python",
   "name": "python3"
  },
  "language_info": {
   "codemirror_mode": {
    "name": "ipython",
    "version": 3
   },
   "file_extension": ".py",
   "mimetype": "text/x-python",
   "name": "python",
   "nbconvert_exporter": "python",
   "pygments_lexer": "ipython3",
   "version": "3.8.3"
  }
 },
 "nbformat": 4,
 "nbformat_minor": 4
}
