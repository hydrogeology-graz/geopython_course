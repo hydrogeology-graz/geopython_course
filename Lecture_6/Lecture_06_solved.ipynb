{
 "cells": [
  {
   "cell_type": "markdown",
   "metadata": {},
   "source": [
    "<img src=\"../NAWI_Graz_Logo.png\" align=\"right\" width=150>\n",
    "\n",
    "# Notebook 6: Water buckets and explicit Euler\n",
    "\n",
    "*Developed by Johannes Haas and Raoul Collenteur*\n",
    "\n",
    "\n",
    "This is the last notebook for this course. So what have we learned so far?\n",
    "- Basic Python syntax\n",
    "- Python data types\n",
    "- Basic mathematical operators\n",
    "- if/else statements\n",
    "- basic comparisons\n",
    "- for-loops\n",
    "- Python functions\n",
    "- Making figures using Matplotlib\n",
    "- Reading and writing csv files\n",
    "- Basic statistics in Python\n",
    "- Analyzing data with Pandas\n",
    "\n",
    "In this Notebook, we will combine many of the things we have learned to create a simple hydrological model."
   ]
  },
  {
   "cell_type": "code",
   "execution_count": 28,
   "metadata": {},
   "outputs": [],
   "source": [
    "# Import the python packages needed in this session\n",
    "import numpy as np\n",
    "import pandas as pd\n",
    "\n",
    "import matplotlib.pyplot as plt\n",
    "\n",
    "%matplotlib inline"
   ]
  },
  {
   "cell_type": "code",
   "execution_count": 205,
   "metadata": {},
   "outputs": [],
   "source": [
    "# Let's do some repitition here!"
   ]
  },
  {
   "cell_type": "markdown",
   "metadata": {},
   "source": [
    "# 1. Let's create a Water Bucket Model!\n",
    "\n",
    "In this notebook we will develop a linear reservoir model, a type of water bucket model that is used a lot in hydrology and groundwater models. See, for examnple, https://distart119.ing.unibo.it/albertonew/?q=node/58. Consider the following conceptualization:\n",
    "\n",
    "<img src=\"data/water_bucket.png\">\n",
    "\n",
    "The model balance equation to describe the behaviour of the reservoir is as follows:\n",
    "\n",
    "$\\frac{dS}{dt} = -Q + P - E$\n",
    "\n",
    "where $Q$ [L/T] is the discharge from the reservoir, P [L/T] the precipitation and E [L/T] actual evaporation. We assume the discharge is a function of the Storage S(t) [L] and the conductivity $k$ [L/T]  leading to the following equation:\n",
    "\n",
    "$Q(t) = k S(t)$\n",
    "\n",
    "This equation cannot be solved analytically, and has to be solved numerically. The easiest approach for a numerical solution of this equation is to use the Forward Euler Method, also known as Explicit Euler. This method calculates the state of the system at each time step (S(t)) by looking at the state of the of the system in the previous time step and the rate of the changes:\n",
    "\n",
    "$S(t + \\Delta t) = S(t) - k \\Delta t S(t) + P(t) - E(t)$\n",
    "\n",
    "\n",
    "### 1a. Creating a python function to calculate the water balance\n",
    "\n",
    "This function can be easily programmed into a Python function and used to simulate \n"
   ]
  },
  {
   "cell_type": "code",
   "execution_count": 218,
   "metadata": {},
   "outputs": [],
   "source": [
    "def water_balance(S, P, E, k):\n",
    "    \"\"\"\n",
    "    Parameters:\n",
    "    -----------\n",
    "    S: float\n",
    "        Storage volume of the previous time step\n",
    "    P: float\n",
    "        Rain of the previous time step\n",
    "    E: float\n",
    "        Evaporation of the previous time step\n",
    "    k: float\n",
    "        Conductivity between zero and infinity.\n",
    "        \n",
    "    Returns:\n",
    "    --------\n",
    "    S_new: float\n",
    "        Storage volume at the next time step\n",
    "    \n",
    "    \"\"\"\n",
    "    Q = k * S\n",
    "    S_new = S - Q + P - E\n",
    "    return S_new"
   ]
  },
  {
   "cell_type": "markdown",
   "metadata": {},
   "source": [
    "### 1b. Let's create some data and empty array to store new data"
   ]
  },
  {
   "cell_type": "code",
   "execution_count": 219,
   "metadata": {},
   "outputs": [],
   "source": [
    "times = np.arange(100)\n",
    "S = np.zeros(len(times)+1)\n",
    "S[0] = 10\n",
    "\n",
    "P = np.random.rand(len(times)) + 1\n",
    "E = np.random.rand(len(times))* 0.5 + 1\n",
    "\n",
    "k = 0.025"
   ]
  },
  {
   "cell_type": "markdown",
   "metadata": {},
   "source": [
    "### 1c. Use a for-loop to simulate the storage for each time step and plot"
   ]
  },
  {
   "cell_type": "code",
   "execution_count": 220,
   "metadata": {},
   "outputs": [
    {
     "data": {
      "text/plain": [
       "(0, 100)"
      ]
     },
     "execution_count": 220,
     "metadata": {},
     "output_type": "execute_result"
    },
    {
     "data": {
      "image/png": "[encoded data removed]",
      "text/plain": [
       "<Figure size 432x288 with 1 Axes>"
      ]
     },
     "metadata": {
      "needs_background": "light"
     },
     "output_type": "display_data"
    }
   ],
   "source": [
    "for t in times:\n",
    "    S[t+1] = water_balance(S[t], P[t], E[t], k)\n",
    "\n",
    "plt.plot(S, marker=\".\", linestyle=\"--\")\n",
    "plt.xlabel(\"time [days]\")\n",
    "plt.ylabel(\"Storage [mm]\")\n",
    "plt.xlim(0,len(times))"
   ]
  },
  {
   "cell_type": "markdown",
   "metadata": {},
   "source": [
    "## Validating the model\n",
    "The differential equation can be simplified under the condition that P=0 and E=0:\n",
    "\n",
    "$\\frac{dS}{dt} = -k S$\n",
    "\n",
    "such that an analytical solution can be calculated for the simplified equation. It can be shown (e.g, https://www.wolframalpha.com/input/?i=S%27(t)+%3D+-k+S(t)) that the analytical solution to this problem is as follows:\n",
    "\n",
    "$ S(t) = S(t_0) \\cdot e^{-kt} $\n",
    "\n",
    "Where $S(t_0)$ is the storage at time t=0. It is always a good idea to try and validate the model you have programmed. In this example, we can compare \n",
    "\n",
    "### In-class Exercise: plot the numerical and analytical solution\n",
    "1. Compute the analytical solution\n",
    "2. Plot the numerical and analytical solution in one graph\n",
    "3. Add labels and a legend\n",
    "\n",
    "**What is the influence of the time step to how accurate the solution is?**"
   ]
  },
  {
   "cell_type": "code",
   "execution_count": 221,
   "metadata": {},
   "outputs": [],
   "source": [
    "# 1. Compute the analytical solution\n",
    "\n",
    "\n",
    "# 2. Plot the numerical and analytical solution in one graph\n",
    "\n",
    "\n",
    "# 3. Add labels and a legend"
   ]
  },
  {
   "cell_type": "markdown",
   "metadata": {},
   "source": [
    "# 2. Calibrating model in Python\n",
    "Something that is quite common when making model in Python, is to calibrate the parameters of the model. Python has many packages to do this, including methods to estimate the uncertainty of the parameters. We will shortly look at a basic method to fit a model and estimate the parameters that is available from Scipy. More information is available on: https://docs.scipy.org/doc/scipy-0.10.1/reference/optimize.html#module-scipy.optimize\n"
   ]
  },
  {
   "cell_type": "code",
   "execution_count": 229,
   "metadata": {},
   "outputs": [],
   "source": [
    "from scipy.optimize import leastsq\n",
    "\n",
    "def calculate_storage(k, P, E):\n",
    "    # Prepare arrays\n",
    "    times = np.arange(100)\n",
    "    S = np.zeros(len(times)+1)\n",
    "    S[0] = 10\n",
    "\n",
    "    for t in times:\n",
    "        S[t+1] = water_balance(S[t], P[t], E[t], k)\n",
    "        \n",
    "    return S\n",
    "\n",
    "def residuals(p, P, E, S_meas):\n",
    "    k = p[0]    \n",
    "    S = calculate_storage(k, P, E)\n",
    "    res = S-S_meas\n",
    "    \n",
    "    return res"
   ]
  },
  {
   "cell_type": "code",
   "execution_count": 230,
   "metadata": {},
   "outputs": [
    {
     "data": {
      "text/plain": [
       "array([-0.87907485,  0.06335512, -0.70016191, -0.15273305,  0.14742695,\n",
       "        0.10636886,  0.51933461,  0.86774304,  0.72324258,  0.33071095,\n",
       "        0.61901558,  1.10669388,  1.25604958,  1.48257461,  1.63174436,\n",
       "        1.91023499,  1.55904271,  1.70497402,  2.03358199,  2.28320075,\n",
       "        2.30210536,  2.2973164 ,  2.69572891,  2.68843312,  2.85580564,\n",
       "        3.14885094,  2.92290539,  3.69270176,  3.19197391,  3.62859937,\n",
       "        4.13003325,  4.40822645,  4.44621941,  4.63728751,  3.93082165,\n",
       "        4.37359938,  4.75179798,  5.09875752,  5.17004182,  4.85831359,\n",
       "        5.20654049,  5.05545545,  5.49873365,  5.65801886,  5.52206307,\n",
       "        5.9772596 ,  5.54722613,  5.70777222,  6.58417232,  6.70075283,\n",
       "        6.34942557,  6.9394712 ,  6.71729072,  6.71837857,  6.38023917,\n",
       "        7.15729509,  7.26000333,  6.99453464,  7.65898653,  7.03454692,\n",
       "        7.7843252 ,  7.25224499,  7.79198535,  7.81294151,  7.49668588,\n",
       "        8.30467149,  7.74092469,  7.61229128,  8.56785887,  7.92119786,\n",
       "        8.53424392,  8.04570805,  8.23638422,  8.85796967,  8.36427578,\n",
       "        8.59298684,  8.51990044,  8.81229636,  9.19494983,  9.32335673,\n",
       "        9.52491431,  9.54098156,  9.03456241,  9.42233675,  8.93001888,\n",
       "        9.60966791,  9.03575151,  9.63229846,  9.8169816 ,  9.54975788,\n",
       "        9.38344319,  9.74810658,  9.80777929,  9.93944307, 10.24042147,\n",
       "       10.2669103 , 10.3914555 , 10.38528676, 10.27414674, 10.63627896,\n",
       "       10.78758511])"
      ]
     },
     "execution_count": 230,
     "metadata": {},
     "output_type": "execute_result"
    }
   ],
   "source": [
    "# Test the function\n",
    "residuals(p0, P, E, S_meas)"
   ]
  },
  {
   "cell_type": "code",
   "execution_count": 231,
   "metadata": {},
   "outputs": [],
   "source": [
    "# Let's create some calibration data\n",
    "S_meas = S + np.random.rand(len(S))\n",
    "\n",
    "p0=[0.01] # Estimate of the K-value\n",
    "\n",
    "plsq = leastsq(residuals, p0, args=(P, E, S_meas))"
   ]
  },
  {
   "cell_type": "code",
   "execution_count": 232,
   "metadata": {},
   "outputs": [],
   "source": [
    "# Let's plot everything together here!"
   ]
  },
  {
   "cell_type": "markdown",
   "metadata": {},
   "source": [
    "# Final Exercise: Simulating heads and groundwater recharge\n",
    "In this exercise we will use the linear reservoir model we learned about above to perform some hydrological analyses. Imagine you work at a consultancy firm, and you are asked to provide a rough estimate the groundwater recharge using a linear reservoir model.\n",
    "\n",
    "to estimate groundwater recharge and use that to simulate the groundwater head.\n",
    "\n",
    "\n",
    "### 1. Read data from the CSV-files\n",
    "The data folder contains three csv files for the groundwater levels (`head,csv`), the precipitation (`rain.csv`) and the evaporation (`evap.csv`). \n",
    "1. Read all these time series using the read_csv method\n",
    "2. make sure that the index is a DateTime index and use `squeeze=True` and `dayfirst=True`\n",
    "3. Plot all three time series (heads in one plot and the precipitation and evaporation in another)"
   ]
  },
  {
   "cell_type": "code",
   "execution_count": 206,
   "metadata": {},
   "outputs": [
    {
     "data": {
      "text/plain": [
       "<matplotlib.axes._subplots.AxesSubplot at 0x12e1307b8>"
      ]
     },
     "execution_count": 206,
     "metadata": {},
     "output_type": "execute_result"
    },
    {
     "data": {
      "image/png": "[encoded data removed]",
      "text/plain": [
       "<Figure size 432x288 with 1 Axes>"
      ]
     },
     "metadata": {
      "needs_background": "light"
     },
     "output_type": "display_data"
    }
   ],
   "source": [
    "# 1. Read all these time series using the read_csv method\n",
    "head = pd.read_csv(\"data/head.csv\", parse_dates=True, usecols=[0,1], index_col=0, squeeze=True, dayfirst=True)\n",
    "rain = pd.read_csv(\"data/rain.csv\", parse_dates=True, usecols=[0,1], index_col=0, squeeze=True, dayfirst=True)\n",
    "evap = pd.read_csv(\"data/evap.csv\", parse_dates=True, usecols=[0,1], index_col=0, squeeze=True, dayfirst=True)\n",
    "\n",
    "# 3. Plot all three time series (heads in one plot and the precipitation and evaporation in another)\n",
    "head.plot()\n",
    "rain.plot()\n",
    "evap.plot()"
   ]
  },
  {
   "cell_type": "markdown",
   "metadata": {},
   "source": [
    "### 2. Define the water balance function and plot against analytical solution\n",
    "The second step is to define a water balance function similar to the one developed before. Let's imagine that the discharge Q is the actual groundwater recharge that occurs. However, if it rain extremely hard, some water might be lost as surface runoff and not add to the groundwater recharge.\n",
    "\n",
    "Create a water_balance method like the one we made earlier. However, the following new features have to be added:\n",
    "- If the rain exceeds `pmax` m/d, the function should delete all precipitation higher than this value using a if/else statement. \n",
    "- `pmax` should be implemented as a keyword parameter in the Python function with the default value of 0.04.\n",
    "- function should return the storage S and the recharge Q"
   ]
  },
  {
   "cell_type": "code",
   "execution_count": 207,
   "metadata": {},
   "outputs": [],
   "source": [
    "# Define you water_balance method here\n",
    "\n",
    "def water_balance(S, P, E, k, pmax=0.04):\n",
    "    \"\"\"\n",
    "    Parameters:\n",
    "    -----------\n",
    "    S: float\n",
    "        Storage volume of the previous time step\n",
    "    P: float\n",
    "        Rain of the previous time step\n",
    "    E: float\n",
    "        Evaporation of the previous time step\n",
    "    k: float\n",
    "        Conductivity between zero and infinity.\n",
    "        \n",
    "    Returns:\n",
    "    --------\n",
    "    S_new: float\n",
    "        Storage volume at the next time step\n",
    "    \n",
    "    \"\"\"\n",
    "    if P > 0.04:\n",
    "        P = 0.04\n",
    "    Q = k * S\n",
    "    S_new = S - Q + P - E\n",
    "    return S_new, Q\n"
   ]
  },
  {
   "cell_type": "markdown",
   "metadata": {},
   "source": [
    "### 3. Simulate the storage S and the discharge Q\n",
    "We will now use the model defined above to simulate the storage S and the dicharge from the linear reservoir Q for the period 2000-2010. \n",
    "1. Select the precipitation and evaporation for the period 2000-2010\n",
    "2. Create empty arrays named `S` and `Q` with the appropriate lengths to store the values\n",
    "3. Use a for-loop to simulate the storage and discharge. Use a k-value of 0.01."
   ]
  },
  {
   "cell_type": "code",
   "execution_count": 208,
   "metadata": {},
   "outputs": [],
   "source": [
    "# 1. Select the precipitation and evaporation for the period 2000-2010\n",
    "P = rain.loc[\"2000\":\"2010\"]\n",
    "E = evap.loc[\"2000\":\"2010\"]\n",
    "\n",
    "# 2. Create empty arrays named S and Q with the appropriate lengths to store the values\n",
    "times = np.arange(len(P))\n",
    "S = np.zeros(len(times)+1)\n",
    "S[0] = 0\n",
    "Q = np.zeros(len(times)+1)\n",
    "\n",
    "# 3. Use a for-loop to simulate the storage and discharge. Use a k-value of 0.01.\n",
    "k = 0.01\n",
    "for t in times:\n",
    "    S[t+1], Q[[t+1]] = water_balance(S[t], P.iloc[t], E.iloc[t], k)"
   ]
  },
  {
   "cell_type": "markdown",
   "metadata": {},
   "source": [
    "### 4. Estimate the groundwater level fluctuations from the recharge Q\n",
    "In this step we will use the groundwater recharge we just estimated to simulate the groundwater levels. To translate the recharge to groundwater level (head) fluctuations, the function `recharge_to_head` is provided. Use this function to estimate the head.\n",
    "\n",
    "1. Make a Pandas Series of from the numpy array with the estimated head (`head_estimation`)\n",
    "2. Make a plot of the observed groundwater levels, using black dots\n",
    "3. Draw the estimated groundwater levels in the same plot\n",
    "4. Provide labels and a legend.\n"
   ]
  },
  {
   "cell_type": "code",
   "execution_count": 203,
   "metadata": {
    "scrolled": false
   },
   "outputs": [],
   "source": [
    "def recharge_to_head(Q, mean_head=27.5, multiplier=600, n=60):\n",
    "    # Multiply the head \n",
    "    head = Q * multiplier\n",
    "    # Take a moving average over n days\n",
    "    head = np.convolve(head, np.ones(n))[:len(head)] / n \n",
    "    head = head + mean_head\n",
    "    return head\n",
    "\n",
    "head_estimation = recharge_to_head(Q, mean_head=27.5, multiplier=600, n=60)\n",
    "\n",
    "# 1. Make a Pandas Series of from the numpy array with the estimated head (head_estimation)\n",
    "\n",
    "# index=pd.date_range(\"2000-01-01\", end=\"2010-12-31\", freq=\"D\")\n",
    "\n",
    "# 2-4 Plot the different Time Series\n"
   ]
  },
  {
   "cell_type": "markdown",
   "metadata": {},
   "source": [
    "### 5. Calculate the annual groundwater recharge Q\n",
    "As a final step, we need to calculate the annual groundwater recharge and make a bar graph of it.\n",
    "\n",
    "1. Create a Pandas Series from the Recharge Q with the correct datetime index\n",
    "2. Use the Pandas method `.resample` to calculate the total (sum) recharge per year\n",
    "3. Make a bar plot of the yearly recharge values"
   ]
  },
  {
   "cell_type": "code",
   "execution_count": 204,
   "metadata": {},
   "outputs": [],
   "source": [
    "# 1. Create the Pandas series from the recharge array\n",
    "\n",
    "\n",
    "# 2. Use pandas resample method to calculate the sum\n",
    "\n",
    "\n",
    "# 3. make a bar plot"
   ]
  },
  {
   "cell_type": "markdown",
   "metadata": {},
   "source": [
    "### 6. BONUS: Calibrate the model\n",
    "You can use scipy's least_squares method to fit some parameters of the model (e.g., mean_head, multiplier, n, k). Try and calibrate one or more of the parameters of the model to obtain the best fit between the observed head and the estimated head. You can use this exercise to compensate for any of the above exercises!"
   ]
  },
  {
   "cell_type": "code",
   "execution_count": null,
   "metadata": {},
   "outputs": [],
   "source": []
  }
 ],
 "metadata": {
  "kernelspec": {
   "display_name": "Python 3",
   "language": "python",
   "name": "python3"
  },
  "language_info": {
   "codemirror_mode": {
    "name": "ipython",
    "version": 3
   },
   "file_extension": ".py",
   "mimetype": "text/x-python",
   "name": "python",
   "nbconvert_exporter": "python",
   "pygments_lexer": "ipython3",
   "version": "3.6.0"
  }
 },
 "nbformat": 4,
 "nbformat_minor": 2
}
