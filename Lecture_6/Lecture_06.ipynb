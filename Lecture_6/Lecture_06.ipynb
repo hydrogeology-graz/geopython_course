{
 "cells": [
  {
   "cell_type": "markdown",
   "metadata": {},
   "source": [
    "<img src=\"../NAWI_Graz_Logo.png\" align=\"right\" width=150>\n",
    "\n",
    "# Notebook 6: Water buckets and explicit Euler\n",
    "\n",
    "*Developed by Johannes Haas and Raoul Collenteur*\n",
    "\n",
    "\n",
    "This is the last notebook for this course. So what have we learned so far?\n",
    "- Basic Python syntax\n",
    "- Python data types\n",
    "- Basic mathematical operators\n",
    "- if/else statements\n",
    "- basic comparisons\n",
    "- for-loops\n",
    "- Python functions\n",
    "- Making figures using Matplotlib\n",
    "- Reading and writing csv files\n",
    "- Basic statistics in Python\n",
    "- Analyzing data with Pandas\n",
    "\n",
    "In this Notebook, we will combine many of the things we have learned to create a simple hydrological model."
   ]
  },
  {
   "cell_type": "code",
   "execution_count": null,
   "metadata": {},
   "outputs": [],
   "source": [
    "# Import the python packages needed in this session\n",
    "import numpy as np\n",
    "import pandas as pd\n",
    "\n",
    "import matplotlib.pyplot as plt\n",
    "\n",
    "%matplotlib inline"
   ]
  },
  {
   "cell_type": "code",
   "execution_count": null,
   "metadata": {},
   "outputs": [],
   "source": [
    "# Let's do some repitition here!"
   ]
  },
  {
   "cell_type": "markdown",
   "metadata": {},
   "source": [
    "# 1. Let's create a Water Bucket Model!\n",
    "\n",
    "In this notebook we will develop a linear reservoir model, a type of water bucket model that is used a lot in hydrology and groundwater models. See, for examnple, https://distart119.ing.unibo.it/albertonew/?q=node/58. Consider the following conceptualization:\n",
    "\n",
    "<img src=\"data/water_bucket.png\">\n",
    "\n",
    "The model balance equation to describe the behaviour of the reservoir is as follows:\n",
    "\n",
    "$\\frac{dS}{dt} = -Q + P - E$\n",
    "\n",
    "where $Q$ [L/T] is the discharge from the reservoir, P [L/T] the precipitation and E [L/T] actual evaporation. We assume the discharge is a function of the Storage S(t) [L] and the conductivity $k$ [L/T]  leading to the following equation:\n",
    "\n",
    "$Q(t) = k S(t)$\n",
    "\n",
    "This equation cannot be solved analytically, and has to be solved numerically. The easiest approach for a numerical solution of this equation is to use the Forward Euler Method, also known as Explicit Euler. This method calculates the state of the system at each time step (S(t)) by looking at the state of the of the system in the previous time step and the rate of the changes:\n",
    "\n",
    "$S(t + \\Delta t) = S(t) - k \\Delta t S(t) + P(t) - E(t)$\n",
    "\n",
    "\n",
    "### 1a. Creating a python function to calculate the water balance\n",
    "\n",
    "This function can be easily programmed into a Python function and used to simulate \n"
   ]
  },
  {
   "cell_type": "code",
   "execution_count": null,
   "metadata": {},
   "outputs": [],
   "source": [
    "def water_balance(S, P, E, k):\n",
    "    \"\"\"\n",
    "    Parameters:\n",
    "    -----------\n",
    "    S: float\n",
    "        Storage volume of the previous time step\n",
    "    P: float\n",
    "        Rain of the previous time step\n",
    "    E: float\n",
    "        Evaporation of the previous time step\n",
    "    k: float\n",
    "        Conductivity between zero and infinity.\n",
    "        \n",
    "    Returns:\n",
    "    --------\n",
    "    S_new: float\n",
    "        Storage volume at the next time step\n",
    "    \n",
    "    \"\"\"\n",
    "    Q = k * S\n",
    "    S_new = S - Q + P - E\n",
    "    return S_new"
   ]
  },
  {
   "cell_type": "markdown",
   "metadata": {},
   "source": [
    "### 1b. Let's create some data and empty array to store new data"
   ]
  },
  {
   "cell_type": "code",
   "execution_count": null,
   "metadata": {},
   "outputs": [],
   "source": [
    "times = np.arange(100)\n",
    "S = np.zeros(len(times)+1)\n",
    "S[0] = 10\n",
    "\n",
    "P = np.random.rand(len(times)) + 1\n",
    "E = np.random.rand(len(times))* 0.5 + 1\n",
    "\n",
    "k = 0.025"
   ]
  },
  {
   "cell_type": "markdown",
   "metadata": {},
   "source": [
    "### 1c. Use a for-loop to simulate the storage for each time step and plot"
   ]
  },
  {
   "cell_type": "code",
   "execution_count": null,
   "metadata": {},
   "outputs": [],
   "source": [
    "for t in times:\n",
    "    S[t+1] = water_balance(S[t], P[t], E[t], k)\n",
    "\n",
    "plt.plot(S, marker=\".\", linestyle=\"--\")\n",
    "plt.xlabel(\"time [days]\")\n",
    "plt.ylabel(\"Storage [mm]\")\n",
    "plt.xlim(0,len(times))"
   ]
  },
  {
   "cell_type": "markdown",
   "metadata": {},
   "source": [
    "## Validating the model\n",
    "The differential equation can be simplified under the condition that P=0 and E=0:\n",
    "\n",
    "$\\frac{dS}{dt} = -k S$\n",
    "\n",
    "such that an analytical solution can be calculated for the simplified equation. It can be shown (e.g, https://www.wolframalpha.com/input/?i=S%27(t)+%3D+-k+S(t)) that the analytical solution to this problem is as follows:\n",
    "\n",
    "$ S(t) = S(t_0) \\cdot e^{-kt} $\n",
    "\n",
    "Where $S(t_0)$ is the storage at time t=0. It is always a good idea to try and validate the model you have programmed. In this example, we can compare \n",
    "\n",
    "### In-class Exercise: plot the numerical and analytical solution\n",
    "1. Compute the analytical solution\n",
    "2. Plot the numerical and analytical solution in one graph\n",
    "3. Add labels and a legend\n",
    "\n",
    "**What is the influence of the time step to how accurate the solution is?**"
   ]
  },
  {
   "cell_type": "code",
   "execution_count": null,
   "metadata": {},
   "outputs": [],
   "source": [
    "# 1. Compute the analytical solution\n",
    "\n",
    "\n",
    "# 2. Plot the numerical and analytical solution in one graph\n",
    "\n",
    "\n",
    "# 3. Add labels and a legend"
   ]
  },
  {
   "cell_type": "markdown",
   "metadata": {},
   "source": [
    "# 2. Calibrating model in Python\n",
    "Something that is quite common when making model in Python, is to calibrate the parameters of the model. Python has many packages to do this, including methods to estimate the uncertainty of the parameters. We will shortly look at a basic method to fit a model and estimate the parameters that is available from Scipy. More information is available on: https://docs.scipy.org/doc/scipy-0.10.1/reference/optimize.html#module-scipy.optimize\n"
   ]
  },
  {
   "cell_type": "code",
   "execution_count": null,
   "metadata": {},
   "outputs": [],
   "source": [
    "from scipy.optimize import leastsq\n",
    "\n",
    "def calculate_storage(k, P, E):\n",
    "    # Prepare arrays\n",
    "    times = np.arange(100)\n",
    "    S = np.zeros(len(times)+1)\n",
    "    S[0] = 10\n",
    "\n",
    "    for t in times:\n",
    "        S[t+1] = water_balance(S[t], P[t], E[t], k)\n",
    "        \n",
    "    return S\n",
    "\n",
    "def residuals(p, P, E, S_meas):\n",
    "    k = p[0]    \n",
    "    S = calculate_storage(k, P, E)\n",
    "    res = S-S_meas\n",
    "    \n",
    "    return res"
   ]
  },
  {
   "cell_type": "code",
   "execution_count": null,
   "metadata": {},
   "outputs": [],
   "source": [
    "# Test the function\n",
    "residuals(p0, P, E, S_meas)"
   ]
  },
  {
   "cell_type": "code",
   "execution_count": null,
   "metadata": {},
   "outputs": [],
   "source": [
    "# Let's create some calibration data\n",
    "S_meas = S + np.random.rand(len(S))\n",
    "\n",
    "p0=[0.01] # Estimate of the K-value\n",
    "\n",
    "plsq = leastsq(residuals, p0, args=(P, E, S_meas))"
   ]
  },
  {
   "cell_type": "code",
   "execution_count": null,
   "metadata": {},
   "outputs": [],
   "source": [
    "# Let's plot everything together here!"
   ]
  },
  {
   "cell_type": "markdown",
   "metadata": {},
   "source": [
    "# Final Exercise: Simulating heads and groundwater recharge\n",
    "In this exercise we will use the linear reservoir model we learned about above to perform some hydrological analyses. Imagine you work at a consultancy firm, and you are asked to provide a rough estimate the groundwater recharge using a linear reservoir model.\n",
    "\n",
    "to estimate groundwater recharge and use that to simulate the groundwater head.\n",
    "\n",
    "\n",
    "### 1. Read data from the CSV-files\n",
    "The data folder contains three csv files for the groundwater levels (`head,csv`), the precipitation (`rain.csv`) and the evaporation (`evap.csv`). \n",
    "1. Read all these time series using the read_csv method\n",
    "2. make sure that the index is a DateTime index and use `squeeze=True` and `dayfirst=True`\n",
    "3. Plot all three time series (heads in one plot and the precipitation and evaporation in another)"
   ]
  },
  {
   "cell_type": "code",
   "execution_count": null,
   "metadata": {},
   "outputs": [],
   "source": [
    "# 1. Read all these time series using the read_csv method\n",
    "\n",
    "# 3. Plot all three time series (heads in one plot and the precipitation and evaporation in another)\n"
   ]
  },
  {
   "cell_type": "markdown",
   "metadata": {},
   "source": [
    "### 2. Define the water balance function and plot against analytical solution\n",
    "The second step is to define a water balance function similar to the one developed before. Let's imagine that the discharge Q is the actual groundwater recharge that occurs. However, if it rain extremely hard, some water might be lost as surface runoff and not add to the groundwater recharge.\n",
    "\n",
    "Create a water_balance method like the one we made earlier. However, the following new features have to be added:\n",
    "- If the rain exceeds `pmax` m/d, the function should delete all precipitation higher than this value using a if/else statement. \n",
    "- `pmax` should be implemented as a keyword parameter in the Python function with the default value of 0.04.\n",
    "- function should return the storage S and the recharge Q"
   ]
  },
  {
   "cell_type": "code",
   "execution_count": null,
   "metadata": {},
   "outputs": [],
   "source": [
    "# Define you water_balance method here\n"
   ]
  },
  {
   "cell_type": "markdown",
   "metadata": {},
   "source": [
    "### 3. Simulate the storage S and the discharge Q\n",
    "We will now use the model defined above to simulate the storage S and the dicharge from the linear reservoir Q for the period 2000-2010. \n",
    "1. Select the precipitation and evaporation for the period 2000-2010\n",
    "2. Create empty arrays named `S` and `Q` with the appropriate lengths to store the values\n",
    "3. Use a for-loop to simulate the storage and discharge. Use a k-value of 0.01."
   ]
  },
  {
   "cell_type": "code",
   "execution_count": null,
   "metadata": {},
   "outputs": [],
   "source": [
    "# 1. Select the precipitation and evaporation for the period 2000-2010\n",
    "\n",
    "\n",
    "# 2. Create empty arrays named S and Q with the appropriate lengths to store the values\n",
    "\n",
    "\n",
    "# 3. Use a for-loop to simulate the storage and discharge. Use a k-value of 0.01.\n",
    "\n"
   ]
  },
  {
   "cell_type": "markdown",
   "metadata": {},
   "source": [
    "### 4. Estimate the groundwater level fluctuations from the recharge Q\n",
    "In this step we will use the groundwater recharge we just estimated to simulate the groundwater levels. To translate the recharge to groundwater level (head) fluctuations, the function `recharge_to_head` is provided. Use this function to estimate the head.\n",
    "\n",
    "1. Make a Pandas Series of from the numpy array with the estimated head (`head_estimation`)\n",
    "2. Make a plot of the observed groundwater levels, using black dots\n",
    "3. Draw the estimated groundwater levels in the same plot\n",
    "4. Provide labels and a legend.\n"
   ]
  },
  {
   "cell_type": "code",
   "execution_count": null,
   "metadata": {
    "scrolled": false
   },
   "outputs": [],
   "source": [
    "def recharge_to_head(Q, mean_head=27.5, multiplier=600, n=60):\n",
    "    # Multiply the head \n",
    "    head = Q * multiplier\n",
    "    # Take a moving average over n days\n",
    "    head = np.convolve(head, np.ones(n))[:len(head)] / n \n",
    "    head = head + mean_head\n",
    "    return head\n",
    "\n",
    "head_estimation = recharge_to_head(Q, mean_head=27.5, multiplier=600, n=60)\n",
    "\n",
    "# 1. Make a Pandas Series of from the numpy array with the estimated head (head_estimation)\n",
    "\n",
    "# index=pd.date_range(\"2000-01-01\", end=\"2010-12-31\", freq=\"D\")\n",
    "\n",
    "# 2-4 Plot the different Time Series\n"
   ]
  },
  {
   "cell_type": "markdown",
   "metadata": {},
   "source": [
    "### 5. Calculate the annual groundwater recharge Q\n",
    "As a final step, we need to calculate the annual groundwater recharge and make a bar graph of it.\n",
    "\n",
    "1. Create a Pandas Series from the Recharge Q with the correct datetime index\n",
    "2. Use the Pandas method `.resample` to calculate the total (sum) recharge per year\n",
    "3. Make a bar plot of the yearly recharge values"
   ]
  },
  {
   "cell_type": "code",
   "execution_count": null,
   "metadata": {},
   "outputs": [],
   "source": [
    "# 1. Create the Pandas series from the recharge array\n",
    "\n",
    "\n",
    "# 2. Use pandas resample method to calculate the sum\n",
    "\n",
    "\n",
    "# 3. make a bar plot"
   ]
  },
  {
   "cell_type": "markdown",
   "metadata": {},
   "source": [
    "### 6. BONUS: Calibrate the model\n",
    "You can use scipy's least_squares method to fit some parameters of the model (e.g., mean_head, multiplier, n, k). Try and calibrate one or more of the parameters of the model to obtain the best fit between the observed head and the estimated head. You can use this exercise to compensate for any of the above exercises!"
   ]
  },
  {
   "cell_type": "code",
   "execution_count": null,
   "metadata": {},
   "outputs": [],
   "source": []
  }
 ],
 "metadata": {
  "kernelspec": {
   "display_name": "Python 3",
   "language": "python",
   "name": "python3"
  },
  "language_info": {
   "codemirror_mode": {
    "name": "ipython",
    "version": 3
   },
   "file_extension": ".py",
   "mimetype": "text/x-python",
   "name": "python",
   "nbconvert_exporter": "python",
   "pygments_lexer": "ipython3",
   "version": "3.6.0"
  }
 },
 "nbformat": 4,
 "nbformat_minor": 2
}
