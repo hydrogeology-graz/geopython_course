{
 "cells": [
  {
   "cell_type": "markdown",
   "metadata": {},
   "source": [
    "# Notebook 5: Pandas DataFrames and analyzing data\n",
    "*Developed by Johannes Haas and Raoul Collenteur*\n",
    "\n",
    "In this Notebook we will look into Pandas. Pandas (http://pandas.pydata.org) is the Python data analysis package that can be used for many different tasks you might have in Python. In a previous lecture we already used the Pandas library to read in CSV-files (`pd.read_csv`) and how this function returned a Pandas Series or DataFrame. We have also explored some of the basic statistics available in Pandas. In this lecture we will look a little closer at Pandas, the most common data types and it's powerfull capabilities."
   ]
  },
  {
   "cell_type": "code",
   "execution_count": 21,
   "metadata": {},
   "outputs": [],
   "source": [
    "# Import packages\n",
    "import matplotlib.pyplot as plt\n",
    "import numpy as np\n",
    "\n",
    "%matplotlib inline"
   ]
  },
  {
   "cell_type": "code",
   "execution_count": 2,
   "metadata": {},
   "outputs": [],
   "source": [
    "#Let's import Pandas\n",
    "import pandas as pd"
   ]
  },
  {
   "cell_type": "code",
   "execution_count": 3,
   "metadata": {},
   "outputs": [],
   "source": [
    "# Remember this one?\n",
    "pd.read_csv?"
   ]
  },
  {
   "cell_type": "markdown",
   "metadata": {},
   "source": [
    "# Data\n",
    "Before we start let's load some data. In this lecture we will look at some data of the slope of the beach-face and the sediment size. Bujan et al (2018) created a dataset collected from 78 peer-reviewed articles. This dataset is available on Zenodo:\n",
    "\n",
    "*Bujan, Nans, Cox, Ronadh, & Masselink, Gerd. (2018). From fine sand to boulders: examining the relationship between beach-face slope and sediment size. Dataset and references. [Data set]. Zenodo. http://doi.org/10.5281/zenodo.3241984*\n",
    "\n",
    "The file contains information contained in different columns. We want to use this dataset to explore the relationship between the size of the sediments and the slope of the beach face. What would be our hypothesis of this relationship?\n",
    "\n",
    "### 1. Read the data using Pandas read_csv method\n",
    "First, have a look at the csv file (`Size-Slope-Data-Points.csv`) in any text editor and think about which arguments you probably need to provide to pandas `read_csv` method. "
   ]
  },
  {
   "cell_type": "code",
   "execution_count": 4,
   "metadata": {
    "scrolled": true
   },
   "outputs": [],
   "source": [
    "data = pd.read_csv(\"data/Size-Slope-Data-Points.csv\", decimal=\",\", sep=\";\", usecols=[0,1,2,3,4,5])"
   ]
  },
  {
   "cell_type": "code",
   "execution_count": 5,
   "metadata": {},
   "outputs": [
    {
     "data": {
      "text/plain": [
       "pandas.core.frame.DataFrame"
      ]
     },
     "execution_count": 5,
     "metadata": {},
     "output_type": "execute_result"
    }
   ],
   "source": [
    "# What is the data type?\n",
    "type(data)"
   ]
  },
  {
   "cell_type": "code",
   "execution_count": 6,
   "metadata": {},
   "outputs": [
    {
     "data": {
      "text/html": [
       "<div>\n",
       "<style scoped>\n",
       "    .dataframe tbody tr th:only-of-type {\n",
       "        vertical-align: middle;\n",
       "    }\n",
       "\n",
       "    .dataframe tbody tr th {\n",
       "        vertical-align: top;\n",
       "    }\n",
       "\n",
       "    .dataframe thead th {\n",
       "        text-align: right;\n",
       "    }\n",
       "</style>\n",
       "<table border=\"1\" class=\"dataframe\">\n",
       "  <thead>\n",
       "    <tr style=\"text-align: right;\">\n",
       "      <th></th>\n",
       "      <th>Reference</th>\n",
       "      <th>Type</th>\n",
       "      <th>Clast size (mm)</th>\n",
       "      <th>Slope (tan _)</th>\n",
       "      <th>Clast size (_)</th>\n",
       "      <th>Slope (deg)</th>\n",
       "    </tr>\n",
       "  </thead>\n",
       "  <tbody>\n",
       "    <tr>\n",
       "      <th>0</th>\n",
       "      <td>Bradbury1992</td>\n",
       "      <td>Beach</td>\n",
       "      <td>16.0</td>\n",
       "      <td>0.100</td>\n",
       "      <td>-4.000</td>\n",
       "      <td>5.71</td>\n",
       "    </tr>\n",
       "    <tr>\n",
       "      <th>1</th>\n",
       "      <td>Mason1989</td>\n",
       "      <td>Beach</td>\n",
       "      <td>2.6</td>\n",
       "      <td>0.095</td>\n",
       "      <td>-1.379</td>\n",
       "      <td>5.43</td>\n",
       "    </tr>\n",
       "    <tr>\n",
       "      <th>2</th>\n",
       "      <td>Mason1989</td>\n",
       "      <td>Beach</td>\n",
       "      <td>2.0</td>\n",
       "      <td>0.055</td>\n",
       "      <td>-1.000</td>\n",
       "      <td>3.15</td>\n",
       "    </tr>\n",
       "  </tbody>\n",
       "</table>\n",
       "</div>"
      ],
      "text/plain": [
       "      Reference   Type  Clast size (mm)  Slope (tan _)  Clast size (_)  \\\n",
       "0  Bradbury1992  Beach             16.0          0.100          -4.000   \n",
       "1     Mason1989  Beach              2.6          0.095          -1.379   \n",
       "2     Mason1989  Beach              2.0          0.055          -1.000   \n",
       "\n",
       "   Slope (deg)  \n",
       "0         5.71  \n",
       "1         5.43  \n",
       "2         3.15  "
      ]
     },
     "execution_count": 6,
     "metadata": {},
     "output_type": "execute_result"
    }
   ],
   "source": [
    "# Print the first XX number of rows\n",
    "data.head(3)"
   ]
  },
  {
   "cell_type": "markdown",
   "metadata": {},
   "source": [
    "### 2. Accessing data in Pandas DataFrames\n",
    "Accessing data in the Pandas dataframe is similar to accessing data in Numpy array, using square brackets (`data[row, column]`). The row has to be a values from the index and the column from the column names. We can use the following attributes of the DataFrame object to know which row/column values we can use:"
   ]
  },
  {
   "cell_type": "code",
   "execution_count": 7,
   "metadata": {},
   "outputs": [
    {
     "data": {
      "text/plain": [
       "Index(['Reference', 'Type', 'Clast size (mm)', 'Slope (tan _)',\n",
       "       'Clast size (_)', 'Slope (deg)'],\n",
       "      dtype='object')"
      ]
     },
     "execution_count": 7,
     "metadata": {},
     "output_type": "execute_result"
    }
   ],
   "source": [
    "data.columns\n",
    "#data.index"
   ]
  },
  {
   "cell_type": "code",
   "execution_count": 8,
   "metadata": {},
   "outputs": [],
   "source": [
    "#data[row, column]\n",
    "#data.loc[row, column] # Faster\n",
    "#data.loc[row, [col, col]] # Multiple columns"
   ]
  },
  {
   "cell_type": "markdown",
   "metadata": {},
   "source": [
    "### Other ways of accessing data\n",
    "Sometimes you want to access the index using an integer. For this, Pandas DataFrames have their own method, named iloc (`data.iloc[row, column]`)."
   ]
  },
  {
   "cell_type": "code",
   "execution_count": 9,
   "metadata": {},
   "outputs": [],
   "source": [
    "#data.iloc[row_id, col_id]"
   ]
  },
  {
   "cell_type": "markdown",
   "metadata": {},
   "source": [
    "### 3. Slicing data and using basic comparisons"
   ]
  },
  {
   "cell_type": "code",
   "execution_count": 10,
   "metadata": {},
   "outputs": [
    {
     "data": {
      "text/html": [
       "<div>\n",
       "<style scoped>\n",
       "    .dataframe tbody tr th:only-of-type {\n",
       "        vertical-align: middle;\n",
       "    }\n",
       "\n",
       "    .dataframe tbody tr th {\n",
       "        vertical-align: top;\n",
       "    }\n",
       "\n",
       "    .dataframe thead th {\n",
       "        text-align: right;\n",
       "    }\n",
       "</style>\n",
       "<table border=\"1\" class=\"dataframe\">\n",
       "  <thead>\n",
       "    <tr style=\"text-align: right;\">\n",
       "      <th></th>\n",
       "      <th>Reference</th>\n",
       "      <th>Type</th>\n",
       "      <th>Clast size (mm)</th>\n",
       "      <th>Slope (tan _)</th>\n",
       "      <th>Clast size (_)</th>\n",
       "      <th>Slope (deg)</th>\n",
       "    </tr>\n",
       "  </thead>\n",
       "  <tbody>\n",
       "    <tr>\n",
       "      <th>2143</th>\n",
       "      <td>Brayne2015</td>\n",
       "      <td>Beach</td>\n",
       "      <td>70.00</td>\n",
       "      <td>0.123</td>\n",
       "      <td>-6.129</td>\n",
       "      <td>7.01</td>\n",
       "    </tr>\n",
       "    <tr>\n",
       "      <th>2142</th>\n",
       "      <td>Brayne2015</td>\n",
       "      <td>Beach</td>\n",
       "      <td>140.00</td>\n",
       "      <td>0.270</td>\n",
       "      <td>-7.129</td>\n",
       "      <td>15.11</td>\n",
       "    </tr>\n",
       "    <tr>\n",
       "      <th>2141</th>\n",
       "      <td>Komar1998</td>\n",
       "      <td>Beach</td>\n",
       "      <td>0.17</td>\n",
       "      <td>0.011</td>\n",
       "      <td>2.556</td>\n",
       "      <td>0.64</td>\n",
       "    </tr>\n",
       "    <tr>\n",
       "      <th>2140</th>\n",
       "      <td>Komar1998</td>\n",
       "      <td>Beach</td>\n",
       "      <td>0.19</td>\n",
       "      <td>0.011</td>\n",
       "      <td>2.395</td>\n",
       "      <td>0.63</td>\n",
       "    </tr>\n",
       "  </tbody>\n",
       "</table>\n",
       "</div>"
      ],
      "text/plain": [
       "       Reference   Type  Clast size (mm)  Slope (tan _)  Clast size (_)  \\\n",
       "2143  Brayne2015  Beach            70.00          0.123          -6.129   \n",
       "2142  Brayne2015  Beach           140.00          0.270          -7.129   \n",
       "2141   Komar1998  Beach             0.17          0.011           2.556   \n",
       "2140   Komar1998  Beach             0.19          0.011           2.395   \n",
       "\n",
       "      Slope (deg)  \n",
       "2143         7.01  \n",
       "2142        15.11  \n",
       "2141         0.64  \n",
       "2140         0.63  "
      ]
     },
     "execution_count": 10,
     "metadata": {},
     "output_type": "execute_result"
    }
   ],
   "source": [
    "data.iloc[-1:-5:-1]"
   ]
  },
  {
   "cell_type": "code",
   "execution_count": 11,
   "metadata": {
    "scrolled": true
   },
   "outputs": [
    {
     "data": {
      "text/html": [
       "<div>\n",
       "<style scoped>\n",
       "    .dataframe tbody tr th:only-of-type {\n",
       "        vertical-align: middle;\n",
       "    }\n",
       "\n",
       "    .dataframe tbody tr th {\n",
       "        vertical-align: top;\n",
       "    }\n",
       "\n",
       "    .dataframe thead th {\n",
       "        text-align: right;\n",
       "    }\n",
       "</style>\n",
       "<table border=\"1\" class=\"dataframe\">\n",
       "  <thead>\n",
       "    <tr style=\"text-align: right;\">\n",
       "      <th></th>\n",
       "      <th>Reference</th>\n",
       "      <th>Type</th>\n",
       "      <th>Clast size (mm)</th>\n",
       "      <th>Slope (tan _)</th>\n",
       "      <th>Clast size (_)</th>\n",
       "      <th>Slope (deg)</th>\n",
       "    </tr>\n",
       "  </thead>\n",
       "  <tbody>\n",
       "    <tr>\n",
       "      <th>2057</th>\n",
       "      <td>Komar1998</td>\n",
       "      <td>Beach</td>\n",
       "      <td>0.56</td>\n",
       "      <td>0.242</td>\n",
       "      <td>0.840</td>\n",
       "      <td>13.60</td>\n",
       "    </tr>\n",
       "    <tr>\n",
       "      <th>2058</th>\n",
       "      <td>Komar1998</td>\n",
       "      <td>Beach</td>\n",
       "      <td>0.56</td>\n",
       "      <td>0.209</td>\n",
       "      <td>0.840</td>\n",
       "      <td>11.80</td>\n",
       "    </tr>\n",
       "    <tr>\n",
       "      <th>2059</th>\n",
       "      <td>Komar1998</td>\n",
       "      <td>Beach</td>\n",
       "      <td>0.56</td>\n",
       "      <td>0.200</td>\n",
       "      <td>0.836</td>\n",
       "      <td>11.31</td>\n",
       "    </tr>\n",
       "    <tr>\n",
       "      <th>2060</th>\n",
       "      <td>Komar1998</td>\n",
       "      <td>Beach</td>\n",
       "      <td>0.48</td>\n",
       "      <td>0.199</td>\n",
       "      <td>1.059</td>\n",
       "      <td>11.25</td>\n",
       "    </tr>\n",
       "    <tr>\n",
       "      <th>2061</th>\n",
       "      <td>Komar1998</td>\n",
       "      <td>Beach</td>\n",
       "      <td>0.44</td>\n",
       "      <td>0.189</td>\n",
       "      <td>1.192</td>\n",
       "      <td>10.68</td>\n",
       "    </tr>\n",
       "    <tr>\n",
       "      <th>2062</th>\n",
       "      <td>Komar1998</td>\n",
       "      <td>Beach</td>\n",
       "      <td>0.54</td>\n",
       "      <td>0.181</td>\n",
       "      <td>0.902</td>\n",
       "      <td>10.23</td>\n",
       "    </tr>\n",
       "    <tr>\n",
       "      <th>2063</th>\n",
       "      <td>Komar1998</td>\n",
       "      <td>Beach</td>\n",
       "      <td>0.56</td>\n",
       "      <td>0.180</td>\n",
       "      <td>0.830</td>\n",
       "      <td>10.20</td>\n",
       "    </tr>\n",
       "    <tr>\n",
       "      <th>2064</th>\n",
       "      <td>Komar1998</td>\n",
       "      <td>Beach</td>\n",
       "      <td>0.81</td>\n",
       "      <td>0.204</td>\n",
       "      <td>0.297</td>\n",
       "      <td>11.54</td>\n",
       "    </tr>\n",
       "    <tr>\n",
       "      <th>2065</th>\n",
       "      <td>Komar1998</td>\n",
       "      <td>Beach</td>\n",
       "      <td>0.79</td>\n",
       "      <td>0.182</td>\n",
       "      <td>0.342</td>\n",
       "      <td>10.29</td>\n",
       "    </tr>\n",
       "    <tr>\n",
       "      <th>2066</th>\n",
       "      <td>Komar1998</td>\n",
       "      <td>Beach</td>\n",
       "      <td>0.75</td>\n",
       "      <td>0.159</td>\n",
       "      <td>0.422</td>\n",
       "      <td>9.05</td>\n",
       "    </tr>\n",
       "    <tr>\n",
       "      <th>2067</th>\n",
       "      <td>Komar1998</td>\n",
       "      <td>Beach</td>\n",
       "      <td>0.70</td>\n",
       "      <td>0.160</td>\n",
       "      <td>0.522</td>\n",
       "      <td>9.07</td>\n",
       "    </tr>\n",
       "    <tr>\n",
       "      <th>2068</th>\n",
       "      <td>Komar1998</td>\n",
       "      <td>Beach</td>\n",
       "      <td>0.60</td>\n",
       "      <td>0.159</td>\n",
       "      <td>0.736</td>\n",
       "      <td>9.02</td>\n",
       "    </tr>\n",
       "    <tr>\n",
       "      <th>2069</th>\n",
       "      <td>Komar1998</td>\n",
       "      <td>Beach</td>\n",
       "      <td>0.53</td>\n",
       "      <td>0.160</td>\n",
       "      <td>0.919</td>\n",
       "      <td>9.07</td>\n",
       "    </tr>\n",
       "    <tr>\n",
       "      <th>2070</th>\n",
       "      <td>Komar1998</td>\n",
       "      <td>Beach</td>\n",
       "      <td>0.36</td>\n",
       "      <td>0.159</td>\n",
       "      <td>1.483</td>\n",
       "      <td>9.02</td>\n",
       "    </tr>\n",
       "    <tr>\n",
       "      <th>2071</th>\n",
       "      <td>Komar1998</td>\n",
       "      <td>Beach</td>\n",
       "      <td>0.49</td>\n",
       "      <td>0.161</td>\n",
       "      <td>1.036</td>\n",
       "      <td>9.15</td>\n",
       "    </tr>\n",
       "    <tr>\n",
       "      <th>2072</th>\n",
       "      <td>Komar1998</td>\n",
       "      <td>Beach</td>\n",
       "      <td>0.50</td>\n",
       "      <td>0.150</td>\n",
       "      <td>0.999</td>\n",
       "      <td>8.54</td>\n",
       "    </tr>\n",
       "    <tr>\n",
       "      <th>2073</th>\n",
       "      <td>Komar1998</td>\n",
       "      <td>Beach</td>\n",
       "      <td>0.62</td>\n",
       "      <td>0.142</td>\n",
       "      <td>0.701</td>\n",
       "      <td>8.08</td>\n",
       "    </tr>\n",
       "    <tr>\n",
       "      <th>2074</th>\n",
       "      <td>Komar1998</td>\n",
       "      <td>Beach</td>\n",
       "      <td>0.71</td>\n",
       "      <td>0.134</td>\n",
       "      <td>0.499</td>\n",
       "      <td>7.61</td>\n",
       "    </tr>\n",
       "    <tr>\n",
       "      <th>2075</th>\n",
       "      <td>Komar1998</td>\n",
       "      <td>Beach</td>\n",
       "      <td>0.72</td>\n",
       "      <td>0.120</td>\n",
       "      <td>0.466</td>\n",
       "      <td>6.82</td>\n",
       "    </tr>\n",
       "    <tr>\n",
       "      <th>2076</th>\n",
       "      <td>Komar1998</td>\n",
       "      <td>Beach</td>\n",
       "      <td>0.77</td>\n",
       "      <td>0.119</td>\n",
       "      <td>0.381</td>\n",
       "      <td>6.78</td>\n",
       "    </tr>\n",
       "    <tr>\n",
       "      <th>2077</th>\n",
       "      <td>Komar1998</td>\n",
       "      <td>Beach</td>\n",
       "      <td>0.80</td>\n",
       "      <td>0.119</td>\n",
       "      <td>0.317</td>\n",
       "      <td>6.78</td>\n",
       "    </tr>\n",
       "    <tr>\n",
       "      <th>2078</th>\n",
       "      <td>Komar1998</td>\n",
       "      <td>Beach</td>\n",
       "      <td>0.65</td>\n",
       "      <td>0.120</td>\n",
       "      <td>0.624</td>\n",
       "      <td>6.85</td>\n",
       "    </tr>\n",
       "    <tr>\n",
       "      <th>2079</th>\n",
       "      <td>Komar1998</td>\n",
       "      <td>Beach</td>\n",
       "      <td>0.61</td>\n",
       "      <td>0.115</td>\n",
       "      <td>0.724</td>\n",
       "      <td>6.56</td>\n",
       "    </tr>\n",
       "    <tr>\n",
       "      <th>2080</th>\n",
       "      <td>Komar1998</td>\n",
       "      <td>Beach</td>\n",
       "      <td>0.60</td>\n",
       "      <td>0.120</td>\n",
       "      <td>0.748</td>\n",
       "      <td>6.82</td>\n",
       "    </tr>\n",
       "    <tr>\n",
       "      <th>2081</th>\n",
       "      <td>Komar1998</td>\n",
       "      <td>Beach</td>\n",
       "      <td>0.52</td>\n",
       "      <td>0.116</td>\n",
       "      <td>0.946</td>\n",
       "      <td>6.62</td>\n",
       "    </tr>\n",
       "    <tr>\n",
       "      <th>2082</th>\n",
       "      <td>Komar1998</td>\n",
       "      <td>Beach</td>\n",
       "      <td>0.44</td>\n",
       "      <td>0.125</td>\n",
       "      <td>1.200</td>\n",
       "      <td>7.12</td>\n",
       "    </tr>\n",
       "    <tr>\n",
       "      <th>2083</th>\n",
       "      <td>Komar1998</td>\n",
       "      <td>Beach</td>\n",
       "      <td>0.49</td>\n",
       "      <td>0.111</td>\n",
       "      <td>1.028</td>\n",
       "      <td>6.32</td>\n",
       "    </tr>\n",
       "    <tr>\n",
       "      <th>2084</th>\n",
       "      <td>Komar1998</td>\n",
       "      <td>Beach</td>\n",
       "      <td>0.45</td>\n",
       "      <td>0.099</td>\n",
       "      <td>1.151</td>\n",
       "      <td>5.64</td>\n",
       "    </tr>\n",
       "    <tr>\n",
       "      <th>2085</th>\n",
       "      <td>Komar1998</td>\n",
       "      <td>Beach</td>\n",
       "      <td>0.36</td>\n",
       "      <td>0.098</td>\n",
       "      <td>1.472</td>\n",
       "      <td>5.61</td>\n",
       "    </tr>\n",
       "    <tr>\n",
       "      <th>2086</th>\n",
       "      <td>Komar1998</td>\n",
       "      <td>Beach</td>\n",
       "      <td>0.30</td>\n",
       "      <td>0.102</td>\n",
       "      <td>1.741</td>\n",
       "      <td>5.81</td>\n",
       "    </tr>\n",
       "    <tr>\n",
       "      <th>...</th>\n",
       "      <td>...</td>\n",
       "      <td>...</td>\n",
       "      <td>...</td>\n",
       "      <td>...</td>\n",
       "      <td>...</td>\n",
       "      <td>...</td>\n",
       "    </tr>\n",
       "    <tr>\n",
       "      <th>2112</th>\n",
       "      <td>Komar1998</td>\n",
       "      <td>Beach</td>\n",
       "      <td>0.39</td>\n",
       "      <td>0.056</td>\n",
       "      <td>1.347</td>\n",
       "      <td>3.22</td>\n",
       "    </tr>\n",
       "    <tr>\n",
       "      <th>2113</th>\n",
       "      <td>Komar1998</td>\n",
       "      <td>Beach</td>\n",
       "      <td>0.19</td>\n",
       "      <td>0.049</td>\n",
       "      <td>2.419</td>\n",
       "      <td>2.82</td>\n",
       "    </tr>\n",
       "    <tr>\n",
       "      <th>2114</th>\n",
       "      <td>Komar1998</td>\n",
       "      <td>Beach</td>\n",
       "      <td>0.22</td>\n",
       "      <td>0.043</td>\n",
       "      <td>2.196</td>\n",
       "      <td>2.44</td>\n",
       "    </tr>\n",
       "    <tr>\n",
       "      <th>2115</th>\n",
       "      <td>Komar1998</td>\n",
       "      <td>Beach</td>\n",
       "      <td>0.25</td>\n",
       "      <td>0.048</td>\n",
       "      <td>2.018</td>\n",
       "      <td>2.73</td>\n",
       "    </tr>\n",
       "    <tr>\n",
       "      <th>2116</th>\n",
       "      <td>Komar1998</td>\n",
       "      <td>Beach</td>\n",
       "      <td>0.25</td>\n",
       "      <td>0.049</td>\n",
       "      <td>1.989</td>\n",
       "      <td>2.82</td>\n",
       "    </tr>\n",
       "    <tr>\n",
       "      <th>2117</th>\n",
       "      <td>Komar1998</td>\n",
       "      <td>Beach</td>\n",
       "      <td>0.25</td>\n",
       "      <td>0.051</td>\n",
       "      <td>1.989</td>\n",
       "      <td>2.95</td>\n",
       "    </tr>\n",
       "    <tr>\n",
       "      <th>2118</th>\n",
       "      <td>Komar1998</td>\n",
       "      <td>Beach</td>\n",
       "      <td>0.25</td>\n",
       "      <td>0.042</td>\n",
       "      <td>2.010</td>\n",
       "      <td>2.43</td>\n",
       "    </tr>\n",
       "    <tr>\n",
       "      <th>2119</th>\n",
       "      <td>Komar1998</td>\n",
       "      <td>Beach</td>\n",
       "      <td>0.26</td>\n",
       "      <td>0.043</td>\n",
       "      <td>1.925</td>\n",
       "      <td>2.44</td>\n",
       "    </tr>\n",
       "    <tr>\n",
       "      <th>2120</th>\n",
       "      <td>Komar1998</td>\n",
       "      <td>Beach</td>\n",
       "      <td>0.29</td>\n",
       "      <td>0.042</td>\n",
       "      <td>1.801</td>\n",
       "      <td>2.41</td>\n",
       "    </tr>\n",
       "    <tr>\n",
       "      <th>2121</th>\n",
       "      <td>Komar1998</td>\n",
       "      <td>Beach</td>\n",
       "      <td>0.29</td>\n",
       "      <td>0.044</td>\n",
       "      <td>1.801</td>\n",
       "      <td>2.51</td>\n",
       "    </tr>\n",
       "    <tr>\n",
       "      <th>2122</th>\n",
       "      <td>Komar1998</td>\n",
       "      <td>Beach</td>\n",
       "      <td>0.31</td>\n",
       "      <td>0.044</td>\n",
       "      <td>1.669</td>\n",
       "      <td>2.52</td>\n",
       "    </tr>\n",
       "    <tr>\n",
       "      <th>2123</th>\n",
       "      <td>Komar1998</td>\n",
       "      <td>Beach</td>\n",
       "      <td>0.34</td>\n",
       "      <td>0.043</td>\n",
       "      <td>1.543</td>\n",
       "      <td>2.47</td>\n",
       "    </tr>\n",
       "    <tr>\n",
       "      <th>2124</th>\n",
       "      <td>Komar1998</td>\n",
       "      <td>Beach</td>\n",
       "      <td>0.25</td>\n",
       "      <td>0.036</td>\n",
       "      <td>1.995</td>\n",
       "      <td>2.09</td>\n",
       "    </tr>\n",
       "    <tr>\n",
       "      <th>2125</th>\n",
       "      <td>Komar1998</td>\n",
       "      <td>Beach</td>\n",
       "      <td>0.21</td>\n",
       "      <td>0.032</td>\n",
       "      <td>2.254</td>\n",
       "      <td>1.83</td>\n",
       "    </tr>\n",
       "    <tr>\n",
       "      <th>2126</th>\n",
       "      <td>Komar1998</td>\n",
       "      <td>Beach</td>\n",
       "      <td>0.29</td>\n",
       "      <td>0.030</td>\n",
       "      <td>1.800</td>\n",
       "      <td>1.75</td>\n",
       "    </tr>\n",
       "    <tr>\n",
       "      <th>2127</th>\n",
       "      <td>Komar1998</td>\n",
       "      <td>Beach</td>\n",
       "      <td>0.30</td>\n",
       "      <td>0.029</td>\n",
       "      <td>1.726</td>\n",
       "      <td>1.65</td>\n",
       "    </tr>\n",
       "    <tr>\n",
       "      <th>2128</th>\n",
       "      <td>Komar1998</td>\n",
       "      <td>Beach</td>\n",
       "      <td>0.25</td>\n",
       "      <td>0.028</td>\n",
       "      <td>2.002</td>\n",
       "      <td>1.59</td>\n",
       "    </tr>\n",
       "    <tr>\n",
       "      <th>2129</th>\n",
       "      <td>Komar1998</td>\n",
       "      <td>Beach</td>\n",
       "      <td>0.28</td>\n",
       "      <td>0.025</td>\n",
       "      <td>1.825</td>\n",
       "      <td>1.43</td>\n",
       "    </tr>\n",
       "    <tr>\n",
       "      <th>2130</th>\n",
       "      <td>Komar1998</td>\n",
       "      <td>Beach</td>\n",
       "      <td>0.25</td>\n",
       "      <td>0.024</td>\n",
       "      <td>1.980</td>\n",
       "      <td>1.39</td>\n",
       "    </tr>\n",
       "    <tr>\n",
       "      <th>2131</th>\n",
       "      <td>Komar1998</td>\n",
       "      <td>Beach</td>\n",
       "      <td>0.23</td>\n",
       "      <td>0.025</td>\n",
       "      <td>2.138</td>\n",
       "      <td>1.44</td>\n",
       "    </tr>\n",
       "    <tr>\n",
       "      <th>2132</th>\n",
       "      <td>Komar1998</td>\n",
       "      <td>Beach</td>\n",
       "      <td>0.21</td>\n",
       "      <td>0.024</td>\n",
       "      <td>2.245</td>\n",
       "      <td>1.39</td>\n",
       "    </tr>\n",
       "    <tr>\n",
       "      <th>2133</th>\n",
       "      <td>Komar1998</td>\n",
       "      <td>Beach</td>\n",
       "      <td>0.18</td>\n",
       "      <td>0.024</td>\n",
       "      <td>2.486</td>\n",
       "      <td>1.39</td>\n",
       "    </tr>\n",
       "    <tr>\n",
       "      <th>2134</th>\n",
       "      <td>Komar1998</td>\n",
       "      <td>Beach</td>\n",
       "      <td>0.27</td>\n",
       "      <td>0.022</td>\n",
       "      <td>1.903</td>\n",
       "      <td>1.28</td>\n",
       "    </tr>\n",
       "    <tr>\n",
       "      <th>2135</th>\n",
       "      <td>Komar1998</td>\n",
       "      <td>Beach</td>\n",
       "      <td>0.23</td>\n",
       "      <td>0.020</td>\n",
       "      <td>2.113</td>\n",
       "      <td>1.15</td>\n",
       "    </tr>\n",
       "    <tr>\n",
       "      <th>2136</th>\n",
       "      <td>Komar1998</td>\n",
       "      <td>Beach</td>\n",
       "      <td>0.23</td>\n",
       "      <td>0.015</td>\n",
       "      <td>2.090</td>\n",
       "      <td>0.89</td>\n",
       "    </tr>\n",
       "    <tr>\n",
       "      <th>2137</th>\n",
       "      <td>Komar1998</td>\n",
       "      <td>Beach</td>\n",
       "      <td>0.21</td>\n",
       "      <td>0.014</td>\n",
       "      <td>2.243</td>\n",
       "      <td>0.82</td>\n",
       "    </tr>\n",
       "    <tr>\n",
       "      <th>2138</th>\n",
       "      <td>Komar1998</td>\n",
       "      <td>Beach</td>\n",
       "      <td>0.18</td>\n",
       "      <td>0.012</td>\n",
       "      <td>2.444</td>\n",
       "      <td>0.69</td>\n",
       "    </tr>\n",
       "    <tr>\n",
       "      <th>2139</th>\n",
       "      <td>Komar1998</td>\n",
       "      <td>Beach</td>\n",
       "      <td>0.21</td>\n",
       "      <td>0.012</td>\n",
       "      <td>2.243</td>\n",
       "      <td>0.69</td>\n",
       "    </tr>\n",
       "    <tr>\n",
       "      <th>2140</th>\n",
       "      <td>Komar1998</td>\n",
       "      <td>Beach</td>\n",
       "      <td>0.19</td>\n",
       "      <td>0.011</td>\n",
       "      <td>2.395</td>\n",
       "      <td>0.63</td>\n",
       "    </tr>\n",
       "    <tr>\n",
       "      <th>2141</th>\n",
       "      <td>Komar1998</td>\n",
       "      <td>Beach</td>\n",
       "      <td>0.17</td>\n",
       "      <td>0.011</td>\n",
       "      <td>2.556</td>\n",
       "      <td>0.64</td>\n",
       "    </tr>\n",
       "  </tbody>\n",
       "</table>\n",
       "<p>85 rows × 6 columns</p>\n",
       "</div>"
      ],
      "text/plain": [
       "      Reference   Type  Clast size (mm)  Slope (tan _)  Clast size (_)  \\\n",
       "2057  Komar1998  Beach             0.56          0.242           0.840   \n",
       "2058  Komar1998  Beach             0.56          0.209           0.840   \n",
       "2059  Komar1998  Beach             0.56          0.200           0.836   \n",
       "2060  Komar1998  Beach             0.48          0.199           1.059   \n",
       "2061  Komar1998  Beach             0.44          0.189           1.192   \n",
       "2062  Komar1998  Beach             0.54          0.181           0.902   \n",
       "2063  Komar1998  Beach             0.56          0.180           0.830   \n",
       "2064  Komar1998  Beach             0.81          0.204           0.297   \n",
       "2065  Komar1998  Beach             0.79          0.182           0.342   \n",
       "2066  Komar1998  Beach             0.75          0.159           0.422   \n",
       "2067  Komar1998  Beach             0.70          0.160           0.522   \n",
       "2068  Komar1998  Beach             0.60          0.159           0.736   \n",
       "2069  Komar1998  Beach             0.53          0.160           0.919   \n",
       "2070  Komar1998  Beach             0.36          0.159           1.483   \n",
       "2071  Komar1998  Beach             0.49          0.161           1.036   \n",
       "2072  Komar1998  Beach             0.50          0.150           0.999   \n",
       "2073  Komar1998  Beach             0.62          0.142           0.701   \n",
       "2074  Komar1998  Beach             0.71          0.134           0.499   \n",
       "2075  Komar1998  Beach             0.72          0.120           0.466   \n",
       "2076  Komar1998  Beach             0.77          0.119           0.381   \n",
       "2077  Komar1998  Beach             0.80          0.119           0.317   \n",
       "2078  Komar1998  Beach             0.65          0.120           0.624   \n",
       "2079  Komar1998  Beach             0.61          0.115           0.724   \n",
       "2080  Komar1998  Beach             0.60          0.120           0.748   \n",
       "2081  Komar1998  Beach             0.52          0.116           0.946   \n",
       "2082  Komar1998  Beach             0.44          0.125           1.200   \n",
       "2083  Komar1998  Beach             0.49          0.111           1.028   \n",
       "2084  Komar1998  Beach             0.45          0.099           1.151   \n",
       "2085  Komar1998  Beach             0.36          0.098           1.472   \n",
       "2086  Komar1998  Beach             0.30          0.102           1.741   \n",
       "...         ...    ...              ...            ...             ...   \n",
       "2112  Komar1998  Beach             0.39          0.056           1.347   \n",
       "2113  Komar1998  Beach             0.19          0.049           2.419   \n",
       "2114  Komar1998  Beach             0.22          0.043           2.196   \n",
       "2115  Komar1998  Beach             0.25          0.048           2.018   \n",
       "2116  Komar1998  Beach             0.25          0.049           1.989   \n",
       "2117  Komar1998  Beach             0.25          0.051           1.989   \n",
       "2118  Komar1998  Beach             0.25          0.042           2.010   \n",
       "2119  Komar1998  Beach             0.26          0.043           1.925   \n",
       "2120  Komar1998  Beach             0.29          0.042           1.801   \n",
       "2121  Komar1998  Beach             0.29          0.044           1.801   \n",
       "2122  Komar1998  Beach             0.31          0.044           1.669   \n",
       "2123  Komar1998  Beach             0.34          0.043           1.543   \n",
       "2124  Komar1998  Beach             0.25          0.036           1.995   \n",
       "2125  Komar1998  Beach             0.21          0.032           2.254   \n",
       "2126  Komar1998  Beach             0.29          0.030           1.800   \n",
       "2127  Komar1998  Beach             0.30          0.029           1.726   \n",
       "2128  Komar1998  Beach             0.25          0.028           2.002   \n",
       "2129  Komar1998  Beach             0.28          0.025           1.825   \n",
       "2130  Komar1998  Beach             0.25          0.024           1.980   \n",
       "2131  Komar1998  Beach             0.23          0.025           2.138   \n",
       "2132  Komar1998  Beach             0.21          0.024           2.245   \n",
       "2133  Komar1998  Beach             0.18          0.024           2.486   \n",
       "2134  Komar1998  Beach             0.27          0.022           1.903   \n",
       "2135  Komar1998  Beach             0.23          0.020           2.113   \n",
       "2136  Komar1998  Beach             0.23          0.015           2.090   \n",
       "2137  Komar1998  Beach             0.21          0.014           2.243   \n",
       "2138  Komar1998  Beach             0.18          0.012           2.444   \n",
       "2139  Komar1998  Beach             0.21          0.012           2.243   \n",
       "2140  Komar1998  Beach             0.19          0.011           2.395   \n",
       "2141  Komar1998  Beach             0.17          0.011           2.556   \n",
       "\n",
       "      Slope (deg)  \n",
       "2057        13.60  \n",
       "2058        11.80  \n",
       "2059        11.31  \n",
       "2060        11.25  \n",
       "2061        10.68  \n",
       "2062        10.23  \n",
       "2063        10.20  \n",
       "2064        11.54  \n",
       "2065        10.29  \n",
       "2066         9.05  \n",
       "2067         9.07  \n",
       "2068         9.02  \n",
       "2069         9.07  \n",
       "2070         9.02  \n",
       "2071         9.15  \n",
       "2072         8.54  \n",
       "2073         8.08  \n",
       "2074         7.61  \n",
       "2075         6.82  \n",
       "2076         6.78  \n",
       "2077         6.78  \n",
       "2078         6.85  \n",
       "2079         6.56  \n",
       "2080         6.82  \n",
       "2081         6.62  \n",
       "2082         7.12  \n",
       "2083         6.32  \n",
       "2084         5.64  \n",
       "2085         5.61  \n",
       "2086         5.81  \n",
       "...           ...  \n",
       "2112         3.22  \n",
       "2113         2.82  \n",
       "2114         2.44  \n",
       "2115         2.73  \n",
       "2116         2.82  \n",
       "2117         2.95  \n",
       "2118         2.43  \n",
       "2119         2.44  \n",
       "2120         2.41  \n",
       "2121         2.51  \n",
       "2122         2.52  \n",
       "2123         2.47  \n",
       "2124         2.09  \n",
       "2125         1.83  \n",
       "2126         1.75  \n",
       "2127         1.65  \n",
       "2128         1.59  \n",
       "2129         1.43  \n",
       "2130         1.39  \n",
       "2131         1.44  \n",
       "2132         1.39  \n",
       "2133         1.39  \n",
       "2134         1.28  \n",
       "2135         1.15  \n",
       "2136         0.89  \n",
       "2137         0.82  \n",
       "2138         0.69  \n",
       "2139         0.69  \n",
       "2140         0.63  \n",
       "2141         0.64  \n",
       "\n",
       "[85 rows x 6 columns]"
      ]
     },
     "execution_count": 11,
     "metadata": {},
     "output_type": "execute_result"
    }
   ],
   "source": [
    "data.loc[data[\"Reference\"] == \"Komar1998\"]"
   ]
  },
  {
   "cell_type": "markdown",
   "metadata": {},
   "source": [
    "### Plotting data of Pandas DataFrames"
   ]
  },
  {
   "cell_type": "code",
   "execution_count": 12,
   "metadata": {},
   "outputs": [
    {
     "data": {
      "text/plain": [
       "<matplotlib.axes._subplots.AxesSubplot at 0x1159fa710>"
      ]
     },
     "execution_count": 12,
     "metadata": {},
     "output_type": "execute_result"
    },
    {
     "data": {
      "image/png": "[encoded data removed]",
      "text/plain": [
       "<Figure size 432x288 with 1 Axes>"
      ]
     },
     "metadata": {
      "needs_background": "light"
     },
     "output_type": "display_data"
    }
   ],
   "source": [
    "data.plot()\n",
    "#data.plot(subplots=True)"
   ]
  },
  {
   "cell_type": "code",
   "execution_count": 13,
   "metadata": {},
   "outputs": [],
   "source": [
    "#data.plot.scatter()"
   ]
  },
  {
   "cell_type": "markdown",
   "metadata": {},
   "source": [
    "### Statistics in Pandas DataFrames"
   ]
  },
  {
   "cell_type": "code",
   "execution_count": 14,
   "metadata": {},
   "outputs": [
    {
     "data": {
      "text/html": [
       "<div>\n",
       "<style scoped>\n",
       "    .dataframe tbody tr th:only-of-type {\n",
       "        vertical-align: middle;\n",
       "    }\n",
       "\n",
       "    .dataframe tbody tr th {\n",
       "        vertical-align: top;\n",
       "    }\n",
       "\n",
       "    .dataframe thead th {\n",
       "        text-align: right;\n",
       "    }\n",
       "</style>\n",
       "<table border=\"1\" class=\"dataframe\">\n",
       "  <thead>\n",
       "    <tr style=\"text-align: right;\">\n",
       "      <th></th>\n",
       "      <th>Clast size (mm)</th>\n",
       "      <th>Slope (tan _)</th>\n",
       "      <th>Clast size (_)</th>\n",
       "      <th>Slope (deg)</th>\n",
       "    </tr>\n",
       "  </thead>\n",
       "  <tbody>\n",
       "    <tr>\n",
       "      <th>count</th>\n",
       "      <td>2144.000000</td>\n",
       "      <td>2144.000000</td>\n",
       "      <td>2144.000000</td>\n",
       "      <td>2144.000000</td>\n",
       "    </tr>\n",
       "    <tr>\n",
       "      <th>mean</th>\n",
       "      <td>15.696101</td>\n",
       "      <td>0.102103</td>\n",
       "      <td>0.165686</td>\n",
       "      <td>5.786889</td>\n",
       "    </tr>\n",
       "    <tr>\n",
       "      <th>std</th>\n",
       "      <td>66.560902</td>\n",
       "      <td>0.073443</td>\n",
       "      <td>2.724730</td>\n",
       "      <td>4.032175</td>\n",
       "    </tr>\n",
       "    <tr>\n",
       "      <th>min</th>\n",
       "      <td>0.070000</td>\n",
       "      <td>0.008000</td>\n",
       "      <td>-9.589000</td>\n",
       "      <td>0.460000</td>\n",
       "    </tr>\n",
       "    <tr>\n",
       "      <th>25%</th>\n",
       "      <td>0.270000</td>\n",
       "      <td>0.049750</td>\n",
       "      <td>-0.284000</td>\n",
       "      <td>2.830000</td>\n",
       "    </tr>\n",
       "    <tr>\n",
       "      <th>50%</th>\n",
       "      <td>0.430000</td>\n",
       "      <td>0.090000</td>\n",
       "      <td>1.228000</td>\n",
       "      <td>5.140000</td>\n",
       "    </tr>\n",
       "    <tr>\n",
       "      <th>75%</th>\n",
       "      <td>1.220000</td>\n",
       "      <td>0.135000</td>\n",
       "      <td>1.869250</td>\n",
       "      <td>7.672500</td>\n",
       "    </tr>\n",
       "    <tr>\n",
       "      <th>max</th>\n",
       "      <td>770.150000</td>\n",
       "      <td>0.830000</td>\n",
       "      <td>3.855000</td>\n",
       "      <td>39.690000</td>\n",
       "    </tr>\n",
       "  </tbody>\n",
       "</table>\n",
       "</div>"
      ],
      "text/plain": [
       "       Clast size (mm)  Slope (tan _)  Clast size (_)  Slope (deg)\n",
       "count      2144.000000    2144.000000     2144.000000  2144.000000\n",
       "mean         15.696101       0.102103        0.165686     5.786889\n",
       "std          66.560902       0.073443        2.724730     4.032175\n",
       "min           0.070000       0.008000       -9.589000     0.460000\n",
       "25%           0.270000       0.049750       -0.284000     2.830000\n",
       "50%           0.430000       0.090000        1.228000     5.140000\n",
       "75%           1.220000       0.135000        1.869250     7.672500\n",
       "max         770.150000       0.830000        3.855000    39.690000"
      ]
     },
     "execution_count": 14,
     "metadata": {},
     "output_type": "execute_result"
    }
   ],
   "source": [
    "data.describe()"
   ]
  },
  {
   "cell_type": "code",
   "execution_count": 15,
   "metadata": {},
   "outputs": [
    {
     "data": {
      "text/html": [
       "<div>\n",
       "<style scoped>\n",
       "    .dataframe tbody tr th:only-of-type {\n",
       "        vertical-align: middle;\n",
       "    }\n",
       "\n",
       "    .dataframe tbody tr th {\n",
       "        vertical-align: top;\n",
       "    }\n",
       "\n",
       "    .dataframe thead th {\n",
       "        text-align: right;\n",
       "    }\n",
       "</style>\n",
       "<table border=\"1\" class=\"dataframe\">\n",
       "  <thead>\n",
       "    <tr style=\"text-align: right;\">\n",
       "      <th></th>\n",
       "      <th>Clast size (mm)</th>\n",
       "      <th>Slope (tan _)</th>\n",
       "      <th>Clast size (_)</th>\n",
       "      <th>Slope (deg)</th>\n",
       "    </tr>\n",
       "  </thead>\n",
       "  <tbody>\n",
       "    <tr>\n",
       "      <th>Clast size (mm)</th>\n",
       "      <td>1.000000</td>\n",
       "      <td>0.351854</td>\n",
       "      <td>-0.652932</td>\n",
       "      <td>0.352924</td>\n",
       "    </tr>\n",
       "    <tr>\n",
       "      <th>Slope (tan _)</th>\n",
       "      <td>0.351854</td>\n",
       "      <td>1.000000</td>\n",
       "      <td>-0.685843</td>\n",
       "      <td>0.998991</td>\n",
       "    </tr>\n",
       "    <tr>\n",
       "      <th>Clast size (_)</th>\n",
       "      <td>-0.652932</td>\n",
       "      <td>-0.685843</td>\n",
       "      <td>1.000000</td>\n",
       "      <td>-0.691446</td>\n",
       "    </tr>\n",
       "    <tr>\n",
       "      <th>Slope (deg)</th>\n",
       "      <td>0.352924</td>\n",
       "      <td>0.998991</td>\n",
       "      <td>-0.691446</td>\n",
       "      <td>1.000000</td>\n",
       "    </tr>\n",
       "  </tbody>\n",
       "</table>\n",
       "</div>"
      ],
      "text/plain": [
       "                 Clast size (mm)  Slope (tan _)  Clast size (_)  Slope (deg)\n",
       "Clast size (mm)         1.000000       0.351854       -0.652932     0.352924\n",
       "Slope (tan _)           0.351854       1.000000       -0.685843     0.998991\n",
       "Clast size (_)         -0.652932      -0.685843        1.000000    -0.691446\n",
       "Slope (deg)             0.352924       0.998991       -0.691446     1.000000"
      ]
     },
     "execution_count": 15,
     "metadata": {},
     "output_type": "execute_result"
    }
   ],
   "source": [
    "data.corr()"
   ]
  },
  {
   "cell_type": "code",
   "execution_count": 16,
   "metadata": {},
   "outputs": [
    {
     "data": {
      "text/plain": [
       "12407.09"
      ]
     },
     "execution_count": 16,
     "metadata": {},
     "output_type": "execute_result"
    }
   ],
   "source": [
    "data.loc[:, \"Slope (deg)\"].sum()"
   ]
  },
  {
   "cell_type": "code",
   "execution_count": null,
   "metadata": {},
   "outputs": [],
   "source": [
    "#data.min()\n",
    "#data.std()\n",
    "#data.max()"
   ]
  },
  {
   "cell_type": "markdown",
   "metadata": {},
   "source": [
    "### Pandas Time Series functionality\n",
    "One of the coolest features of Pandas are it's time series capabilities. When the index is a collection of datetimes, we can look at the data as time series and use the built-in functionality for this. First, let's create some random data to play with."
   ]
  },
  {
   "cell_type": "code",
   "execution_count": 42,
   "metadata": {},
   "outputs": [
    {
     "name": "stdout",
     "output_type": "stream",
     "text": [
      "The type of variable ts is: <class 'pandas.core.series.Series'>\n"
     ]
    },
    {
     "data": {
      "text/plain": [
       "2000-01-01    1.447349\n",
       "2000-01-02    1.295649\n",
       "2000-01-03    2.088688\n",
       "2000-01-04    2.126278\n",
       "2000-01-05    1.355268\n",
       "Freq: D, dtype: float64"
      ]
     },
     "execution_count": 42,
     "metadata": {},
     "output_type": "execute_result"
    }
   ],
   "source": [
    "# Let's create some random data to play with\n",
    "index = pd.date_range(start=\"2000-01-01\", end=\"2009-12-31\")\n",
    "values = 1 + np.sqrt(0.01 * np.arange(len(index))) + np.random.rand(len(index))\n",
    "ts = pd.Series(values, index)\n",
    "\n",
    "print(\"The type of variable ts is:\", type(ts))\n",
    "\n",
    "ts.head()"
   ]
  },
  {
   "cell_type": "code",
   "execution_count": 39,
   "metadata": {},
   "outputs": [
    {
     "data": {
      "text/plain": [
       "DatetimeIndex(['2000-01-01', '2000-01-02', '2000-01-03', '2000-01-04',\n",
       "               '2000-01-05', '2000-01-06', '2000-01-07', '2000-01-08',\n",
       "               '2000-01-09', '2000-01-10',\n",
       "               ...\n",
       "               '2009-12-22', '2009-12-23', '2009-12-24', '2009-12-25',\n",
       "               '2009-12-26', '2009-12-27', '2009-12-28', '2009-12-29',\n",
       "               '2009-12-30', '2009-12-31'],\n",
       "              dtype='datetime64[ns]', length=3653, freq='D')"
      ]
     },
     "execution_count": 39,
     "metadata": {},
     "output_type": "execute_result"
    }
   ],
   "source": [
    "# Let's look at the index, which is a DateTimeIndex\n",
    "ts.index"
   ]
  },
  {
   "cell_type": "markdown",
   "metadata": {},
   "source": [
    "### Time series\n",
    "Pandas will recognize the fact that `ts` is a time series. When you plot the time series, date time indices will be used as axis labels."
   ]
  },
  {
   "cell_type": "code",
   "execution_count": 45,
   "metadata": {},
   "outputs": [
    {
     "data": {
      "text/plain": [
       "<matplotlib.axes._subplots.AxesSubplot at 0x11ec72f98>"
      ]
     },
     "execution_count": 45,
     "metadata": {},
     "output_type": "execute_result"
    },
    {
     "data": {
      "image/png": "[encoded data removed]",
      "text/plain": [
       "<Figure size 432x288 with 1 Axes>"
      ]
     },
     "metadata": {
      "needs_background": "light"
     },
     "output_type": "display_data"
    }
   ],
   "source": [
    "ts.plot()"
   ]
  },
  {
   "cell_type": "code",
   "execution_count": 66,
   "metadata": {},
   "outputs": [
    {
     "data": {
      "text/plain": [
       "3.832179196660244"
      ]
     },
     "execution_count": 66,
     "metadata": {},
     "output_type": "execute_result"
    }
   ],
   "source": [
    "# Indexing time series is easy\n",
    "ts.loc[\"2000\"].max()\n",
    "\n",
    "#ts.loc[\"2000\": \"2005-06-01\"]"
   ]
  },
  {
   "cell_type": "markdown",
   "metadata": {},
   "source": [
    "### In-class exercise\n",
    "Calculate the average values for each year and plot it as red dots on top of the actual data."
   ]
  },
  {
   "cell_type": "code",
   "execution_count": 64,
   "metadata": {},
   "outputs": [
    {
     "data": {
      "text/plain": [
       "<matplotlib.axes._subplots.AxesSubplot at 0x122df19e8>"
      ]
     },
     "execution_count": 64,
     "metadata": {},
     "output_type": "execute_result"
    },
    {
     "data": {
      "image/png": "[encoded data removed]",
      "text/plain": [
       "<Figure size 432x288 with 1 Axes>"
      ]
     },
     "metadata": {
      "needs_background": "light"
     },
     "output_type": "display_data"
    }
   ],
   "source": [
    "ts.plot()\n",
    "ts.resample(\"A\").mean().plot(marker=\"o\", c=\"r\", linestyle=\" \")"
   ]
  },
  {
   "cell_type": "markdown",
   "metadata": {},
   "source": [
    "### Writing .xls and .csv files with pandas\n",
    "Storing the results of your analysis can be a very important way to communicate with your future employers. CSV-files and Excel-files are common file formats to do this and can easily be sent through email. Pandas has methods for different file-formats. All start with `data.to_format`, e.g., `data.to_csv` or `data.to_excel`.\n"
   ]
  },
  {
   "cell_type": "code",
   "execution_count": null,
   "metadata": {},
   "outputs": [],
   "source": [
    "#data.to_csv(\"test_data.csv\")\n",
    "#data.to_excel(\"test_data.xlsx\")"
   ]
  },
  {
   "cell_type": "markdown",
   "metadata": {},
   "source": [
    "### Let's look at the actual data!\n",
    "That's it for the introduction to Pandas. Now, let us use what we have learned to study the relationship between the beach-face slope and the sediment size. Perform the following steps:\n",
    "\n",
    "1. Define a hypothesis (What do you expect is the relationship?)\n",
    "2. Choose two variables you think are usefull to test the hypothesis \n",
    "3. Create a scatter plot of these two variables\n",
    "4. Calculate the correlation between these two variables\n",
    "5. Draw a conclusion \n"
   ]
  },
  {
   "cell_type": "code",
   "execution_count": 44,
   "metadata": {},
   "outputs": [
    {
     "data": {
      "text/plain": [
       "<matplotlib.axes._subplots.AxesSubplot at 0x11f5374e0>"
      ]
     },
     "execution_count": 44,
     "metadata": {},
     "output_type": "execute_result"
    },
    {
     "data": {
      "image/png": "[encoded data removed]",
      "text/plain": [
       "<Figure size 432x288 with 1 Axes>"
      ]
     },
     "metadata": {
      "needs_background": "light"
     },
     "output_type": "display_data"
    }
   ],
   "source": [
    "data.plot.scatter(x=\"Clast size (mm)\", y=\"Slope (deg)\")"
   ]
  },
  {
   "cell_type": "code",
   "execution_count": null,
   "metadata": {},
   "outputs": [],
   "source": []
  }
 ],
 "metadata": {
  "kernelspec": {
   "display_name": "Python 3",
   "language": "python",
   "name": "python3"
  },
  "language_info": {
   "codemirror_mode": {
    "name": "ipython",
    "version": 3
   },
   "file_extension": ".py",
   "mimetype": "text/x-python",
   "name": "python",
   "nbconvert_exporter": "python",
   "pygments_lexer": "ipython3",
   "version": "3.6.0"
  }
 },
 "nbformat": 4,
 "nbformat_minor": 2
}
