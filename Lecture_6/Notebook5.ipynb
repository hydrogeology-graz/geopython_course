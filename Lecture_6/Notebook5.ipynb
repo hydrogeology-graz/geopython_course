{
 "cells": [
  {
   "cell_type": "markdown",
   "metadata": {},
   "source": [
    "# Notebook 5: \n",
    "\n",
    "## Raouls part\n",
    "\n",
    "Maybe some things from \n",
    "\n",
    "    Collenteur \tNumerical Calculations \tExplicit euler of a water bucket? Exponential decay? Combine all skills from the previous lectures in one exercise.\n",
    "    \n",
    "as originally planned?\n",
    "\n",
    "## Johannes part\n",
    "\n",
    "Writing files. Maybe better to do this as the first part, since it is connected to the previous lectures.\n",
    "\n",
    "### Saving simple output as a .txt file\n",
    "\n",
    "For our excercises writing stuff to our screen with `print('the result is:', result)` was sufficient. However, if you want to save your results, say for your bachelors thesis, persistently, you also want to store them outside of your jupyter notebook.\n",
    "Of course you can simply note them down on paper, or copy-paste them into a word document, but these steps are errorprone, so it is best to save them directly from your program.\n",
    "\n",
    "*Some short repetition from the functions part, to implement a very simply K_f calculator or something and then a very simple, no packages used, script to write a 4 line .txt file*\n",
    "\n",
    "### Saving plots as .png and .svg file\n",
    "\n",
    "With plots, you can simply right click on the plot in the notebook and save the file, but this does not give you a lot of control on the looks of the file and is again prone to errors, forgetting it or constantly changing your naming scheme, making it hard to find stuff.\n",
    "Also, for some issues, it can be practical to produce dozends (or even hundreds) of plots, and saving those by hand is tedious.\n",
    "\n",
    "*some loop that plots stuff and saves them with a defined naming scheme*\n",
    "\n",
    "While matplotlib offers a lot of options to make your plots readable and *good looking* (remember seaborn), for some purposes you still want to be able to manually make some changes.\n",
    "While a high res png file offers a good base for many modifications, its pixel bases nature imposes a lot of limitations.\n",
    "Thus, a vector based format such as .svg is a better starting point for those.\n",
    "\n",
    "*export a svg and show one or two things in whatever vector graphics program is installed on the pool machines, reccomend inkscape for home use*\n",
    "\n",
    "### Writing .xls and .csv files with pandas\n",
    "\n",
    "If you want to persistently store your results, and those results are not just `The K value of the aquifer is 1E-4` as explained above, but instead a large dataframe, it is a good idea to save this in a persistent file as an intermediate step.\n",
    "Also, if you want to (or have to) be able to work with your data with applications besides python, you need to save your data in a file format that is readable by many other applications.\n",
    "Python and its various packages can write all kinds of files, but for our purposes csv and excel files are the most useful candidates.\n",
    "Again, there are many options to write those files, but pandas inbuilt methods are easiest to use for us.\n",
    "\n",
    "*some short scripts using `to_csv` and `to_excel`*"
   ]
  }
 ],
 "metadata": {
  "kernelspec": {
   "display_name": "Python 3",
   "language": "python",
   "name": "python3"
  },
  "language_info": {
   "codemirror_mode": {
    "name": "ipython",
    "version": 3
   },
   "file_extension": ".py",
   "mimetype": "text/x-python",
   "name": "python",
   "nbconvert_exporter": "python",
   "pygments_lexer": "ipython3",
   "version": "3.7.0"
  }
 },
 "nbformat": 4,
 "nbformat_minor": 2
}
