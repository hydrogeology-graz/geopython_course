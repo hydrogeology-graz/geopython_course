{
 "cells": [
  {
   "cell_type": "markdown",
   "metadata": {},
   "source": [
    "\n",
    "# Notebook 1: Basics of programming in Python\n",
    "\n",
    "*Developed by Johannes Haas and Raoul Collenteur, Institute of Earth Sciences, NAWI Graz Geocenter, University of Graz, 2019*\n",
    "\n",
    "*Parts based on [Exploratory computing with Python by Mark Bakker](http://mbakker7.github.io/exploratory_computing_with_python/)*\n",
    "\n"
   ]
  },
  {
   "cell_type": "markdown",
   "metadata": {},
   "source": [
    "## This lecture will introduce some basic principles\n",
    "\n",
    "- jupyter notebooks\n",
    "- importing packages\n",
    "- Variables\n",
    "- data types\n",
    "- reading errors\n",
    "- plotting\n",
    "\n",
    "\n",
    "### jupyter notebooks\n",
    "\n",
    "If you can read this, you have followed the instructions on how to open a jupyter notebook.\n",
    "\n",
    "Now double click (or click + enter) into this textbox. Can you figure out how to add another textbox below, for your comments on this lecture?\n",
    "\n"
   ]
  },
  {
   "cell_type": "markdown",
   "metadata": {},
   "source": [
    "#### What is a jupyter notebook?\n",
    "\n",
    "https://jupyter.org/:\n",
    "\n",
    "*\"The Jupyter Notebook is an open-source web application that allows you to create and share documents that contain live code, equations, visualizations and narrative text.\"*\n",
    "\n",
    "- formerly known as ipython notebooks (see filename)\n",
    "- used to be exclusively for python, now also available for many more languages\n",
    "- JSON document\n",
    "\n",
    "Potential revolution for scientific publishing, or just quite useful for teaching?\n",
    "\n",
    "\n",
    "\n",
    "# 1.Packages\n",
    "\n",
    "You can do everything with pure python, but a lot of things do require a lot of work. For example, try to calculate the square root of 2. Easiest way you maybe remember from school:\n",
    "$1 * 1 = 1; 2 * 2 = 4$\n",
    "OK, it's not those two. Maybe $1.5 * 1.5$? Nope, that's 2.25. So, it must be smaller than 1.5. Maybe 1.3? Nope...\n"
   ]
  },
  {
   "cell_type": "code",
   "execution_count": 1,
   "metadata": {},
   "outputs": [
    {
     "data": {
      "text/plain": [
       "1.9599999999999997"
      ]
     },
     "execution_count": 1,
     "metadata": {},
     "output_type": "execute_result"
    }
   ],
   "source": [
    "1.4 * 1.4"
   ]
  },
  {
   "cell_type": "markdown",
   "metadata": {},
   "source": [
    "What you probably want, is something like your calculator, where you simply press $\\sqrt 2$ and are presented with 1.414213... \n",
    "Luckily, such a thing already exists with `np.sqrt(2)`."
   ]
  },
  {
   "cell_type": "code",
   "execution_count": 2,
   "metadata": {},
   "outputs": [
    {
     "ename": "NameError",
     "evalue": "name 'np' is not defined",
     "output_type": "error",
     "traceback": [
      "\u001b[0;31m---------------------------------------------------------------------------\u001b[0m",
      "\u001b[0;31mNameError\u001b[0m                                 Traceback (most recent call last)",
      "\u001b[0;32m<ipython-input-2-bbf78ff053fc>\u001b[0m in \u001b[0;36m<module>\u001b[0;34m\u001b[0m\n\u001b[0;32m----> 1\u001b[0;31m \u001b[0mnp\u001b[0m\u001b[0;34m.\u001b[0m\u001b[0msqrt\u001b[0m\u001b[0;34m(\u001b[0m\u001b[0;36m2\u001b[0m\u001b[0;34m)\u001b[0m\u001b[0;34m\u001b[0m\u001b[0m\n\u001b[0m",
      "\u001b[0;31mNameError\u001b[0m: name 'np' is not defined"
     ]
    }
   ],
   "source": [
    "np.sqrt(2)"
   ]
  },
  {
   "cell_type": "markdown",
   "metadata": {},
   "source": [
    "What happened here?\n",
    "We are asking to python to run a function it does not know!\n",
    "We need to import it first."
   ]
  },
  {
   "cell_type": "code",
   "execution_count": null,
   "metadata": {},
   "outputs": [],
   "source": [
    "import numpy as np"
   ]
  },
  {
   "cell_type": "markdown",
   "metadata": {},
   "source": [
    "You could also give it another name, e.g. `import numpy as calc` or just import that specific function, e.g. `from numpy import sqrt as wurzel`, but unless you know what you are doing and have a good reason for that, you shouldn't!\n",
    "Most well known packages have a standard way they are imported, e.g. `import pandas as pd`.\n",
    "\n",
    "## What's a package?\n",
    "\n",
    "In the most simple terms, a package is a collection of functions. \n",
    "These can be either python functions or written in another language.\n",
    "Generally, they tend to be packed together under a common theme or use case.\n",
    "E.g. [NumPy](https://docs.scipy.org/doc/numpy/about.html) is a package with lots of functions for numerical operations (done in C) which is now the de-facto standard for much of scientific computation.\n",
    "Numpy is now also a part of [ScyPy](https://scipy.org/about.html) which has a few more functions for scientific computation.\n",
    "[Pandas](http://pandas.pydata.org/) is another widely used package which makes working with data frames much easier.\n",
    "And [Matplotlib](http://matplotlib.org/) is generally used to make a figure of whatever the output of the above.\n",
    "\n",
    "And then there's about 172 536 more packages available on https://pypi.org/ for about any use case you can think of.\n",
    "So most of the issues you might face ar already solved.\n",
    "But: **Think before you install!**\n",
    "\n",
    "## Installing packages\n",
    "\n",
    "Anaconda (what we are using here) comes with the most common packages installed already.\n",
    "For things it does not yet have, there's an inbuilt package manager. \n",
    "You can search or install with `conda search PACKAGENAME` or `conda install PACKAGENAME`.\n",
    "If it's not on conda, pip will probably have it, with the same syntax.\n",
    "And if it's not on pip, the project will have an installation on how to install it from source.\n",
    "\n",
    "## Importing packages\n",
    "\n"
   ]
  },
  {
   "cell_type": "code",
   "execution_count": null,
   "metadata": {},
   "outputs": [],
   "source": [
    "import matplotlib.pyplot as plt "
   ]
  },
  {
   "cell_type": "markdown",
   "metadata": {},
   "source": [
    "Python will throw an error if you mistype something (e.g. `imp0rt`) or try to import a module that does not exist, but it will not care if you use a weird name!\n",
    "\n",
    "If you did the imports correctly, running the two cells below should give you some results:"
   ]
  },
  {
   "cell_type": "code",
   "execution_count": null,
   "metadata": {
    "scrolled": true
   },
   "outputs": [],
   "source": [
    "plt.plot([0,1,2,3],[4,5,6,4])\n",
    "plt.show()"
   ]
  },
  {
   "cell_type": "markdown",
   "metadata": {},
   "source": [
    "# 2.Variables and datatypes\n",
    "\n"
   ]
  },
  {
   "cell_type": "code",
   "execution_count": null,
   "metadata": {},
   "outputs": [],
   "source": [
    "a = 1 \n",
    "b = 2.9 \n",
    "c = 'Hello'\n",
    "d = [1,2]\n",
    "e = {'var1':0.111, 'var2':0.222, 'var3':0.333}"
   ]
  },
  {
   "cell_type": "markdown",
   "metadata": {},
   "source": [
    "What can we do with that? What are these?"
   ]
  },
  {
   "cell_type": "markdown",
   "metadata": {},
   "source": [
    "### Find out the data type\n",
    "It is often convenient to know what data type we are working with. For this, you can use the `type` command which returns the data type of an object. As follows:"
   ]
  },
  {
   "cell_type": "code",
   "execution_count": null,
   "metadata": {},
   "outputs": [],
   "source": [
    "print(\"the data type of a is \", type(a))\n",
    "print(\"the data type of b is \", type(b))\n",
    "print(\"the data type of c is \", type(c))\n",
    "print(\"the data type of d is \", type(d))\n",
    "print(\"the data type of e is \", type(e))"
   ]
  },
  {
   "cell_type": "markdown",
   "metadata": {},
   "source": [
    "## Most common variable types:\n",
    "\n",
    "- integer\n",
    "- float\n",
    "- string\n",
    "- list\n",
    "- dict\n",
    "- dataframe\n",
    "- ndarray\n",
    "\n",
    "What do these types mean?\n",
    "\n",
    "The type defines what you can do with a variable, i.e. what you can store in it and what operations you can do.\n",
    "Float and integer can be easily switched back and forth and you can easily turn a number into a string:"
   ]
  },
  {
   "cell_type": "code",
   "execution_count": null,
   "metadata": {},
   "outputs": [],
   "source": [
    "a_f = float(a)\n",
    "f_i = int(b)"
   ]
  },
  {
   "cell_type": "code",
   "execution_count": null,
   "metadata": {},
   "outputs": [],
   "source": [
    "print(a_f, a)\n",
    "print (b, f_i)"
   ]
  },
  {
   "cell_type": "markdown",
   "metadata": {},
   "source": [
    "What's the problem with that?"
   ]
  },
  {
   "cell_type": "code",
   "execution_count": null,
   "metadata": {},
   "outputs": [],
   "source": [
    "r_test = round(b)\n",
    "print(r_test)"
   ]
  },
  {
   "cell_type": "markdown",
   "metadata": {},
   "source": [
    "## Naming variables\n",
    "\n",
    "Above we have set some variables, using single letters, as you might be used to from highschool maths.\n",
    "In many cases, this makes sense, be it for some counts or numbers, where `n` and `i` are popular variable names, or for obvious things like the Conductivity $K_f$, which tends to be set as `Kf` or `K_f`, using standard LaTex notation.\n",
    "\n",
    "But in many cases, it makes sense to be more verbose, to make it clear what a variable stands for.\n",
    "Variable names can essentially be as long as you like them to be, so having a variable like"
   ]
  },
  {
   "cell_type": "code",
   "execution_count": null,
   "metadata": {},
   "outputs": [],
   "source": [
    "MyStringVariableForTheFirstLetterOfTheAlphabetSetInMyFirstPythonExercise = 'a'"
   ]
  },
  {
   "cell_type": "markdown",
   "metadata": {},
   "source": [
    "is totally possible (but maybe a bit over the top).\n",
    "The only constraints relevant for our use case are that you can not start a variable with a number (e.g. `7variable = 7` will not work), can not use reserved words in the python language (e.g. `for = 7`, since `for` is a fixed python command), can not contain spaces and that variable names are case sensitive (e.g. `Var1` and `var1` are different variables).\n",
    "\n",
    "As a rule of thumb, make variables as long as they need to be, but keep them as short as possible.\n",
    "If you want to set a variable that contains two words, e.g. hydraulic conductivity or first name, you have to remember that you can't use space.\n",
    "For those cases, people tend to either use and underline `_` or *camel case* to keep the distinction between the two words, like `hydraulic_conductivity`, `first_name` or `HydraulicConductivity` and `FirstName` respectively.\n"
   ]
  },
  {
   "cell_type": "markdown",
   "metadata": {},
   "source": [
    "# 3.Calculations and printing of results\n",
    "\n",
    "So far, we did some very easy operations and got the result immidiately from running the cell.\n",
    "Suppose you are not using a jupyter notebook or ipython, but you want to write `mymegacalculator.py` and run it in terminal/cmd.\n",
    "Saving the lines `import numpy as np` `np.sqrt(2)` as a `.py` file and running it, will not result in any output.\n",
    "\n",
    "How do we get our results?"
   ]
  },
  {
   "cell_type": "code",
   "execution_count": null,
   "metadata": {},
   "outputs": [],
   "source": [
    "print?"
   ]
  },
  {
   "cell_type": "markdown",
   "metadata": {},
   "source": [
    "*Remember, print in python 2 works a bit different than in 3!*\n",
    "\n",
    "Write a line that prints `The square root of 2 is 1.414`"
   ]
  },
  {
   "cell_type": "code",
   "execution_count": null,
   "metadata": {},
   "outputs": [],
   "source": [
    "print('the square root of 2 is', np.sqrt(2))"
   ]
  },
  {
   "cell_type": "markdown",
   "metadata": {},
   "source": [
    "You can also use print for longer \"sentences\" by using the newline character `\\n` at the end of a string.\n",
    "Write a statement that prints\n",
    "\n",
    "    Earlier we have set a = 1,\n",
    "    b as 2.1 and c  as Hallo."
   ]
  },
  {
   "cell_type": "code",
   "execution_count": null,
   "metadata": {
    "scrolled": true
   },
   "outputs": [],
   "source": [
    "print('Earlier we have set a =', a,'\\n','and b as', b, 'and c as', c, '.')"
   ]
  },
  {
   "cell_type": "markdown",
   "metadata": {},
   "source": [
    "## Mathematical operations\n",
    "\n",
    "Take a moment to look at the [numpy documentation](https://www.numpy.org/devdocs/reference/routines.html).\n",
    "Which of those topics seem useful and familiar to you?\n",
    "\n",
    "\n",
    "### Exercise 1\n",
    "\n",
    "Use the documentation to do the following exercises:\n",
    "\n",
    " - Calculate $sin$ and $tan 3$\n",
    " - Print $\\pi$\n",
    " - Print $\\pi$, but only with 2 decimals\n",
    " - calculate the sum and the product of `fib = [1, 1, 2, 3, 5, 8, 13, 21, 34]`\n",
    " - find the minimum and maximum of `fib`\n",
    " - Add three more elements to fib\n",
    " - multiply `fib` by 2"
   ]
  },
  {
   "cell_type": "code",
   "execution_count": null,
   "metadata": {},
   "outputs": [],
   "source": []
  },
  {
   "cell_type": "markdown",
   "metadata": {},
   "source": [
    "Now do the same, but for `fib2 = np.array([1, 1, 2, 3, 5, 8, 13, 21, 34])`.\n",
    "What has changed?"
   ]
  },
  {
   "cell_type": "code",
   "execution_count": null,
   "metadata": {},
   "outputs": [],
   "source": []
  },
  {
   "cell_type": "markdown",
   "metadata": {},
   "source": [
    "# 4.User input\n",
    "\n",
    "Python can not only output results, but it also can receive user input. If we really want to make our  `mymegacalculator.py` app useable, it would be much better if it would ask us for the number we want to do something with, instead of just being able to output the result of `np.sqrt(2)`.\n",
    "\n",
    "So similar to `print()` we can use `input()` to ask for user input."
   ]
  },
  {
   "cell_type": "code",
   "execution_count": null,
   "metadata": {},
   "outputs": [],
   "source": [
    "intest = input('write something!')"
   ]
  },
  {
   "cell_type": "code",
   "execution_count": null,
   "metadata": {},
   "outputs": [],
   "source": [
    "intest"
   ]
  },
  {
   "cell_type": "markdown",
   "metadata": {},
   "source": [
    "### Exercise 2\n",
    "\n",
    "Now use this to write a function that asks the user for a number, and prints out the square root of that number.\n",
    "However, there is a pitfall with `input()`.\n",
    "Play around with your test and what we discussed above for types to figure it out."
   ]
  },
  {
   "cell_type": "code",
   "execution_count": null,
   "metadata": {},
   "outputs": [],
   "source": []
  },
  {
   "cell_type": "markdown",
   "metadata": {},
   "source": [
    "As with most things, there is not single correct way. Your little script is likely different from my example here. With a short thing like this, it does not really matter, but for bigger projects, there are of course many *wrong* ways that will add up. So if you are going to write something bigger, please remember the intro from the first lecture!"
   ]
  },
  {
   "cell_type": "markdown",
   "metadata": {},
   "source": [
    "# 5.Reading errors\n",
    "\n",
    "Unless you always write perfect code on the first try, you will get errors thrown at you.\n",
    "Luckily, python tries to be helpful with them.\n",
    "Lets analyse a few errors we already have received in our short python career:\n",
    "\n",
    "    np.sqrt(2)\n",
    "    \n",
    "    ---------------------------------------------------------------------------\n",
    "    NameError                                 Traceback (most recent call last)\n",
    "    <ipython-input-3-bbf78ff053fc> in <module>()\n",
    "    ----> 1 np.sqrt(2)\n",
    "    \n",
    "    NameError: name 'np' is not defined\n",
    "\n"
   ]
  },
  {
   "cell_type": "code",
   "execution_count": null,
   "metadata": {},
   "outputs": [],
   "source": [
    "import numpi as np"
   ]
  },
  {
   "cell_type": "code",
   "execution_count": null,
   "metadata": {},
   "outputs": [],
   "source": [
    "b = 2.1\n",
    "c = 'Hallo'\n",
    "d = c/b"
   ]
  },
  {
   "cell_type": "code",
   "execution_count": null,
   "metadata": {},
   "outputs": [],
   "source": [
    "d = float(c)"
   ]
  },
  {
   "cell_type": "code",
   "execution_count": null,
   "metadata": {},
   "outputs": [],
   "source": [
    "np.sqrt(c)"
   ]
  },
  {
   "cell_type": "code",
   "execution_count": null,
   "metadata": {
    "scrolled": true
   },
   "outputs": [],
   "source": [
    "j = 2\n",
    "k = 3\n",
    "print 'Hello'"
   ]
  },
  {
   "cell_type": "markdown",
   "metadata": {},
   "source": [
    "There's two types of errors, exceptions and syntax errors, and they are always structured quite similarly.\n",
    "You get the type, a traceback and a verbose description of the type.\n",
    "With larger programms, this can easily seem quite overwhelming, but once you understand the structure, it becomes quite readable.\n",
    "For the full, official explanation, please look [here](https://docs.python.org/3/tutorial/errors.html) and [here](https://docs.python.org/3/library/exceptions.html#bltin-exceptions).\n",
    "In short, an exception \"works\" like this:\n",
    "\n",
    "    ---------------------------------------------------------------------------\n",
    "    TypeError                                 Traceback (most recent call last)\n",
    "\n",
    "This part marks the beginning of the error message and gives you a first info about the type of error and tells you that it now shows a traceback. \n",
    "The [TypeError](https://docs.python.org/3/library/exceptions.html#TypeError) is *\\[an\\] exception \\[that\\] may be raised by user code to indicate that an attempted operation on an object is not supported, and is not meant to be.*\n",
    "So apparently, we did try to do something we are not supposed to.\n",
    "The following traceback tells us what exactly we did do wrong:\n",
    "\n",
    "    <ipython-input-50-90b9c40f605f> in <module>\n",
    "           1 b = 2.1\n",
    "           2 c = 'Hallo'\n",
    "     ----> 3 d = c/b\n",
    "     \n",
    "In case of a long statement, it shows the lines preceding the error, with line numbers in front and an arrow pointing to the offending line.\n",
    "For this small test case, this seems very obivous, but with larger programs, it is very helpful to know what line you need to look at.\n",
    "After this small code snippet, we get some additional information about the error:\n",
    "\n",
    "    TypeError: unsupported operand type(s) for /: 'str' and 'float'\n",
    "    \n",
    "Again, it tells us that we are suffering from a type error (error messages can be quite long, and it almost always is the bottom that's the most important, so it makes sense to repeat it!) and gives us some more information about it.\n",
    "Our TypeError in this case is quite easy. We tried to divide a string by a float, which obviously isn't going to work.\n",
    "So now we have to figure out what to do with this error. \n",
    "Was it a small typo and we fat-fingered `c` instead of `x`, which we might have assigned to `x = 32141` at some point?\n",
    "Or do we want to split `Hallo` in two parts, so that we would get `d = ['Hal','lo']`?\n",
    "\n",
    "For the first, it's a really easy fix.\n",
    "For the second, we will figure out how to to that in the **Working with text** section.\n",
    "\n",
    "A syntax error works a bit different:\n",
    "\n",
    "      File \"<ipython-input-58-fbd027aad335>\", line 3\n",
    "        print 'Hello'\n",
    "                    ^\n",
    "    SyntaxError: Missing parentheses in call to 'print'. Did you mean print('Hello')?\n",
    "\n",
    "But again, we get all the information we need to fix it.\n",
    "We do get the line number of the error, and we get an arrow pointing at the offender.\n",
    "However, you have to know that the error points at the statement that could not be executed, so the actual error occured before it.\n",
    "So in this example, `'Hello'` is fine, the problem lies in `print`.\n",
    "So a further info and the type of error is given in the last line of the error message, which is this special case (remember python 2 vs 3) is completely self explaining.\n",
    "\n",
    "\n",
    "### Exercise 3\n",
    "\n",
    "Fix the errors in the little script below.\n",
    "You should be able to solve all the issues with what you have learned so far.\n",
    "Remember, you can add a new code box below the following box, to try out parts, or to get the `type()` info for some variables."
   ]
  },
  {
   "cell_type": "code",
   "execution_count": null,
   "metadata": {},
   "outputs": [],
   "source": [
    "print'This is a little error exercise', \\n 'Please correct the errors!')\n",
    "err_count = input('How many errors did you have to fix?')\n",
    "peop_count = input('How many people are in this course?')\n",
    "err_total = err_count * peop_count\n",
    "err_price = 1,2\n",
    "err_sum = err_total * err_price\n",
    "prinf('There's been a total of', err_total, 'errors fixed,')\n",
    "print('if each error was worth', err_price, 'Euros, that would make', err_sum, 'Euros')"
   ]
  },
  {
   "cell_type": "markdown",
   "metadata": {},
   "source": [
    "# 6.Working with text\n",
    "\n",
    "So far, we have done some (simple) calculations and used text only to give instructions for input and to explain our output.\n",
    "But python can do much more with text.\n",
    "\n",
    "## Comments\n",
    "\n",
    "You can not only use text as strings that get shown to the user, you can also use it as a comment, that only is visible inside the source of your program.\n",
    "So a comment is not unlike what we are doing here in the jupyter notebook, providing explanations inbetween code.\n",
    "You can start a comment with the `#` character like so:\n"
   ]
  },
  {
   "cell_type": "code",
   "execution_count": null,
   "metadata": {},
   "outputs": [],
   "source": [
    "# This is a comment.\n",
    "# You can write various notes after the # character and then continue with a code line\n",
    "var1 = 'this is a string' \n",
    "# This comment and the lines before 'var1 = 'this is a string'' will get ignored by\n",
    "# the interpreter, even if they contain code, as above\n",
    "var2 = 'another string' # you can also write comments after some code, but another # will get ignored"
   ]
  },
  {
   "cell_type": "markdown",
   "metadata": {},
   "source": [
    "It is generally considered good practice to use comments to explain your code.\n",
    "Some people argue that good code does not need comments, because code is always obvious, but for our purpose they tend to be very useful.\n",
    "As a rule of thumb, use them to give some short summary at the beginning of your program, and briefly explain things that are not obvious.\n",
    "Of course, what's obvious and what is not, will change with time, but even now, you probably don't need to do something like `a = 2 # This sets a as 2. a is now a variable and 2 is a number`.\n",
    "For example, we could have commented our little root calculator above like this:\n",
    "\n",
    "    # Short calculator that asks the user for a number and prints the result\n",
    "    datain = float(input('what number do you want to root?')) # input will only provide strings, so keep in mind to turn it into a float!\n",
    "    dataout = np.sqrt(datain)\n",
    "    print('the square root of', datain, 'is', dataout) "
   ]
  },
  {
   "cell_type": "markdown",
   "metadata": {},
   "source": [
    "## Splitting strings\n",
    "\n",
    "The most useful use case for us, is probably splitting strings.\n",
    "Lets assume we are working with data from a datalogger that we imported into python, but it's in an annoying string form:"
   ]
  },
  {
   "cell_type": "code",
   "execution_count": null,
   "metadata": {},
   "outputs": [],
   "source": [
    "loggerdata = 'Muehlbach, waterlevel, 15.03.2019, 1.2, 1.2, 1.2, 1.3, 1.4, 1.5, 1.5, 1.5, 1.6, 1.4, 1.3, 1.3'"
   ]
  },
  {
   "cell_type": "markdown",
   "metadata": {},
   "source": [
    "Now for us, as humans, that is very readable, and we can grasp what kind of data this is likely to be:\n",
    "Some bi-hourly waterlevels, from a creek called Mühlbach, taken on the 15th March of 2019.\n",
    "For python however, it's just a string with a length of 93 characters.\n",
    "\n",
    "**How do we get this into a form, so that we can calculate, say the average waterlevel for that day?**\n",
    "\n",
    "As with most things, there are many ways to get to what you want.\n",
    "The following is just one example of many.\n",
    "The most straightforward one would probably be to use a loop, but we'll get to loops later.\n",
    "\n",
    "We could do it in a really stupit way, by splitting the string by hand, like so:"
   ]
  },
  {
   "cell_type": "code",
   "execution_count": null,
   "metadata": {},
   "outputs": [],
   "source": [
    "location = loggerdata[0:9]\n",
    "datatype = loggerdata[11:21]\n",
    "value1 = loggerdata[35:38]\n",
    "value2 = loggerdata[40:43] # and so on for value2 to value12"
   ]
  },
  {
   "cell_type": "markdown",
   "metadata": {},
   "source": [
    "You can probably see why this is not exactly the best approach.\n",
    "So we need something that can do this for us, which in this case is the `split` function.\n",
    "Use the help function to find out how to use it, and split `loggerdata` into the variable `logparts`."
   ]
  },
  {
   "cell_type": "code",
   "execution_count": null,
   "metadata": {},
   "outputs": [],
   "source": [
    "logparts = loggerdata.split(',')"
   ]
  },
  {
   "cell_type": "markdown",
   "metadata": {},
   "source": [
    "Now we access the parts of our log much easier.\n",
    "Using a similar way than above, we can now adress the parts of our list, like"
   ]
  },
  {
   "cell_type": "code",
   "execution_count": null,
   "metadata": {},
   "outputs": [],
   "source": [
    "location = logparts[0]\n",
    "datatype = logparts[1]\n",
    "value1 = logparts[3]\n",
    "value2 = logparts[4] # and so on for value2 to value12"
   ]
  },
  {
   "cell_type": "markdown",
   "metadata": {},
   "source": [
    "But again, this is a lot of typing work. And there's a problem with our values. \n",
    "Whats the problem and how can you fix it?"
   ]
  },
  {
   "cell_type": "code",
   "execution_count": null,
   "metadata": {},
   "outputs": [],
   "source": [
    "type(value1)\n",
    "value1 = float(value1)\n",
    "value2 = float(value2)"
   ]
  },
  {
   "cell_type": "code",
   "execution_count": null,
   "metadata": {},
   "outputs": [],
   "source": [
    "value1"
   ]
  },
  {
   "cell_type": "markdown",
   "metadata": {},
   "source": [
    "### Exercise 4\n",
    "\n",
    "What would you need to do now, to be able to calculate the average waterlevel?"
   ]
  },
  {
   "cell_type": "code",
   "execution_count": null,
   "metadata": {},
   "outputs": [],
   "source": []
  },
  {
   "cell_type": "markdown",
   "metadata": {},
   "source": [
    "This of course can also be made much easier, so that this is solved with one line.\n",
    "However, we get to one of the things needed in the next lecture, so for now, we use"
   ]
  },
  {
   "cell_type": "code",
   "execution_count": null,
   "metadata": {},
   "outputs": [],
   "source": [
    "waterlevels = np.array([1.2, 1.2, 1.2, 1.3, 1.4, 1.5, 1.5, 1.5, 1.6, 1.4, 1.3, 1.3])"
   ]
  },
  {
   "cell_type": "code",
   "execution_count": null,
   "metadata": {},
   "outputs": [],
   "source": [
    "waterlevels.mean()"
   ]
  },
  {
   "cell_type": "markdown",
   "metadata": {},
   "source": [
    "# 7.Plotting\n",
    "\n",
    "Besides calculating averages and other simple operations, plotting data is often one of the first and most important steps when working with data.\n",
    "\n",
    "Plotting is not part of standard Python, but there's a package for it (in fact, that are many plotting packages). The graphics package we use is called `matplotlib`. To be able to use the plotting functions in `matplotlib` we have to import it.\n",
    "We have already done it above, but just to repeat it:\n",
    " \n"
   ]
  },
  {
   "cell_type": "code",
   "execution_count": null,
   "metadata": {},
   "outputs": [],
   "source": [
    "%matplotlib inline\n",
    "import matplotlib.pyplot as plt"
   ]
  },
  {
   "cell_type": "markdown",
   "metadata": {},
   "source": [
    "Again, you could import it with another name, like `import matplotlib.pyplot as plotter`, but for well known packages it is best to stick to the standard way.\n",
    "`%matplotlib inline` is a so called *magic* command, for jupyter (or ipython), that affects the layout or behaviour of jupyter.\n",
    "In this case, it makes sure that we can plot figures inside the notebook.\n",
    "The most simple way to plot something, would be to type something like `plt.plot(x, y)` where `x` and `y` are arrays for our x and y values.\n",
    "If you leave out information on x, the given array gets used as y, and the x axis shows a count for however many entries y has. \n",
    "So the most simple plot is something like"
   ]
  },
  {
   "cell_type": "code",
   "execution_count": null,
   "metadata": {},
   "outputs": [],
   "source": [
    "plt.plot([1, 2, 4, 2])"
   ]
  },
  {
   "cell_type": "markdown",
   "metadata": {},
   "source": [
    "But lets assume this is not for data from 0 to 3, but for data in an 0.1 interval.\n",
    "Please plot the data with such an x axis:"
   ]
  },
  {
   "cell_type": "code",
   "execution_count": null,
   "metadata": {},
   "outputs": [],
   "source": [
    "plt.plot([0, 0.1, 0.2, 0.3],[1, 2, 4, 2])"
   ]
  },
  {
   "cell_type": "markdown",
   "metadata": {},
   "source": [
    "Tiping out the data by hand however is generally a lot of work.\n",
    "In most cases, we either will plot data we imported from somewhere, or data we calculated with a function.\n",
    "Can you plot the waterlevel data from our string splitting exercise above?"
   ]
  },
  {
   "cell_type": "code",
   "execution_count": null,
   "metadata": {},
   "outputs": [],
   "source": [
    "plt.plot(waterlevels)"
   ]
  },
  {
   "cell_type": "markdown",
   "metadata": {},
   "source": [
    "Besides plotting data you already have stored in an array, plotting data that you calculate on the fly is another common use case.\n",
    "Let's say we want to plot the function $f(x) = x^2$ from -5 to +5.\n",
    "So essentially, we want to do something like `plt.plot(x,x**2)` (`**2` is the operator for $^2$).\n",
    "Again, for us this seems quite straightforward, but for python, we must offer some more explanation, most of all, we need to provide x.\n",
    "One way to define x, would be with `np.arange`:"
   ]
  },
  {
   "cell_type": "code",
   "execution_count": null,
   "metadata": {},
   "outputs": [],
   "source": [
    "x = np.arange(-5, 5, 0.1)"
   ]
  },
  {
   "cell_type": "markdown",
   "metadata": {},
   "source": [
    "`np.arange` is quite straightforward, apart from one pitfall, that the end value is not included!\n",
    "So if we want to really count to 5, we have to provide 5.1 as the stop value, which again, is possible in different ways:"
   ]
  },
  {
   "cell_type": "code",
   "execution_count": null,
   "metadata": {},
   "outputs": [],
   "source": [
    "x = np.arange(-5, 5.1, 0.1)\n",
    "x = np.arange(-5, 5 + 0.1, 0.1)\n",
    "start = -5\n",
    "stop = 5\n",
    "step = 0.1\n",
    "x = np.arange(start, stop + step, step)"
   ]
  },
  {
   "cell_type": "markdown",
   "metadata": {},
   "source": [
    "or in various mixed forms.\n",
    "Again, is onto you to decide which way you wanna do it.\n",
    "If it's just some quick plot, the shorter the better, but if it is used in some larger program where you might want to change the parameters, the longer approach might be useful.\n",
    "\n",
    "Anyways, we have our x, so we just need to define our y and plot it:"
   ]
  },
  {
   "cell_type": "code",
   "execution_count": null,
   "metadata": {},
   "outputs": [],
   "source": [
    "y = x**2\n",
    "plt.plot(x,y)"
   ]
  },
  {
   "cell_type": "markdown",
   "metadata": {},
   "source": [
    "### Exercise 5\n",
    "\n",
    "Now use what you just learned and plot the function $f(x) =  x^4 + \\frac{x}{\\pi}$ for all x between -10 and 10, with an interval of 0.01 with a red, dotted line."
   ]
  },
  {
   "cell_type": "code",
   "execution_count": null,
   "metadata": {},
   "outputs": [],
   "source": []
  },
  {
   "cell_type": "markdown",
   "metadata": {},
   "source": [
    "Now this looks quite nice, but it is missing some important parts, the labels!\n",
    "Redo the figure with `x` and `ylabel` and a `title`."
   ]
  },
  {
   "cell_type": "code",
   "execution_count": null,
   "metadata": {},
   "outputs": [],
   "source": []
  },
  {
   "cell_type": "markdown",
   "metadata": {},
   "source": [
    "As we have already learned, we can set the line to the color red by passing `'r'` to the plot command.\n",
    "This short way originates from *matlab*, since it is (was) the main goal of matplotlib to provide matlab style plotting for python.\n",
    "So you can use simple colors this way, like `r`ed, `b`lue, `g`reen, `c`yan or blac`k`.\n",
    "\n",
    "For basic plotting this often is enough, but there's various reasons to use other colors than just a few primary ones.\n",
    "Luckily, there's many ways to pass some colors to matplotlib (see [here](http://matplotlib.org/examples/pylab_examples/color_demo.html). \n",
    "One of the most useful way is to use the html color names, shown [here](http://en.wikipedia.org/wiki/Web_colors) or in most graphics software.\n",
    "If you prefer a more visual description, instead of `#00FF00` you can also use the xkcd names, which need to be prefaced by `xkcd:`. \n",
    "The xkcd list of color names is given  [here](https://xkcd.com/color/rgb/) and has some quite fitting descriptions.\n",
    "\n",
    "Take a moment to find your favorite (or most funny/ridiculous) color and plot your figure with the lines color set to it, with a thickness of `50` and plot $x^3$ on top of it in *LightSalmon* with a dash-dot line.\n"
   ]
  },
  {
   "cell_type": "code",
   "execution_count": null,
   "metadata": {},
   "outputs": [],
   "source": []
  },
  {
   "cell_type": "markdown",
   "metadata": {},
   "source": [
    "There's much more to a \"good\" plot than just picking a color that you think is nice.\n",
    "The most obvious thing, would be making sure that a color blind person can still see what's going on on your plot.\n",
    "\n",
    "A good starting point is the [seaborn library](https://seaborn.pydata.org/index.html), which, you probably already guessed it, can be imported into python."
   ]
  },
  {
   "cell_type": "code",
   "execution_count": null,
   "metadata": {},
   "outputs": [],
   "source": [
    "import seaborn as sns\n",
    "sns.set()"
   ]
  },
  {
   "cell_type": "markdown",
   "metadata": {},
   "source": [
    "Take a look at the galleries of [matplotlib](https://matplotlib.org/gallery.html) and [seaborn](https://seaborn.pydata.org/examples/index.html) and pick a plot you like.\n",
    "Run it in this notebook and try to understand what it does.\n",
    "Maybe try to change some colors or labels."
   ]
  },
  {
   "cell_type": "code",
   "execution_count": null,
   "metadata": {},
   "outputs": [],
   "source": [
    "import seaborn as sns\n",
    "import matplotlib.pyplot as plt\n",
    "sns.set(style=\"whitegrid\")\n",
    "\n",
    "# Load the example iris dataset\n",
    "diamonds = sns.load_dataset(\"diamonds\")\n",
    "\n",
    "# Draw a scatter plot while assigning point colors and sizes to different\n",
    "# variables in the dataset\n",
    "f, ax = plt.subplots(figsize=(6.5, 6.5))\n",
    "sns.despine(f, left=True, bottom=True)\n",
    "clarity_ranking = [\"I1\", \"SI2\", \"SI1\", \"VS2\", \"VS1\", \"VVS2\", \"VVS1\", \"IF\"]\n",
    "sns.scatterplot(x=\"carat\", y=\"price\",\n",
    "                hue=\"clarity\", size=\"depth\",\n",
    "                palette=\"ch:r=-.2,d=.3_r\",\n",
    "                hue_order=clarity_ranking,\n",
    "                sizes=(1, 8), linewidth=0,\n",
    "                data=diamonds, ax=ax)"
   ]
  },
  {
   "cell_type": "code",
   "execution_count": null,
   "metadata": {},
   "outputs": [],
   "source": []
  },
  {
   "cell_type": "markdown",
   "metadata": {},
   "source": [
    "### Exercise 6: Plotting a sine wave\n",
    "In this exercise we are going to plot one sine wave with the following formula:\n",
    "\n",
    "$y(x) = A * sin(x) $\n",
    "\n",
    "1. Create a variable `A` and give it a value (whatever number you like);\n",
    "2. Create an array named `x` with float between 0 and $2\\pi$ (`np.pi`) with steps of 0.1 using the numpy method `np.arange`;\n",
    "3. Calculate the sine wave (use `np.sin`)for the values of x and store it in the variable `y`;\n",
    "4. Plot the values of x and y, and give the plot a title, x-label and ylabel and a legend."
   ]
  },
  {
   "cell_type": "code",
   "execution_count": null,
   "metadata": {},
   "outputs": [],
   "source": []
  },
  {
   "cell_type": "markdown",
   "metadata": {},
   "source": [
    "### Exercise 7. Print your name, age and favorite number\n",
    "Print the following sentence:\n",
    "\n",
    "*My name is XX. I am XX years old and my favorite number is: XX*\n",
    "\n",
    "Create variables for the XX's, give them logical names, and use them in your print statement."
   ]
  },
  {
   "cell_type": "code",
   "execution_count": null,
   "metadata": {},
   "outputs": [],
   "source": []
  },
  {
   "cell_type": "markdown",
   "metadata": {},
   "source": [
    "### Exercise 8. Find the intersection of two lines\n",
    "In this exercise we will plot two linear functions and find the intersection. Consider the following two formula's:\n",
    "\n",
    "$y_1(x) = 2x + 2$\n",
    "\n",
    "$y_2(x) = -1.5x + 15$\n",
    "\n",
    "Make a plot of these two functions by performing the following steps:\n",
    "\n",
    "1. Create an array with values between 0 and 10 and name the variable `x`;\n",
    "2. Calculate the values for $y_1$ and $y_2$;\n",
    "3. Plot both lines and give the plot a title, xlabel, ylabel and legend.\n",
    "\n",
    "\n",
    "To check your work calculate the intersection of the lines manually and plot a red point of your analytical solution."
   ]
  },
  {
   "cell_type": "code",
   "execution_count": null,
   "metadata": {},
   "outputs": [],
   "source": []
  },
  {
   "cell_type": "code",
   "execution_count": null,
   "metadata": {},
   "outputs": [],
   "source": []
  },
  {
   "cell_type": "code",
   "execution_count": null,
   "metadata": {},
   "outputs": [],
   "source": []
  },
  {
   "cell_type": "code",
   "execution_count": null,
   "metadata": {},
   "outputs": [],
   "source": []
  },
  {
   "cell_type": "code",
   "execution_count": null,
   "metadata": {},
   "outputs": [],
   "source": []
  },
  {
   "cell_type": "code",
   "execution_count": null,
   "metadata": {},
   "outputs": [],
   "source": []
  }
 ],
 "metadata": {
  "kernelspec": {
   "display_name": "Python 3",
   "language": "python",
   "name": "python3"
  },
  "language_info": {
   "codemirror_mode": {
    "name": "ipython",
    "version": 3
   },
   "file_extension": ".py",
   "mimetype": "text/x-python",
   "name": "python",
   "nbconvert_exporter": "python",
   "pygments_lexer": "ipython3",
   "version": "3.6.0"
  }
 },
 "nbformat": 4,
 "nbformat_minor": 2
}
