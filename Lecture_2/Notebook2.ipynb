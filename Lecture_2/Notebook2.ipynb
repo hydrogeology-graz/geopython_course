{
 "cells": [
  {
   "cell_type": "markdown",
   "metadata": {},
   "source": [
    "<img src=\"https://static.uni-graz.at/fileadmin/nawi-institute/Erdwissenschaften/NawiGrazGeozentrum_Small.png\" align=\"right\" width=200>\n",
    "\n",
    "# Notebook 2: Mathematics in Python\n",
    "\n",
    "*Developed by Johannes Haas and Raoul Collenteur, 2020*\n",
    "\n",
    "In this lecture we will explore the possibilities of Python to perform mathematical calculations. We will learn how to work with Numpy, the numerical mathematics package, and compute analytical solutions using Python. To understand the results better, we will often visualize the results and check if they agree with our expectations. We will not only look at 1-dimensional data, but also consider 2-dimensional data (common in geosciences) and learn how to plot this type of data.\n",
    "\n",
    "**Some tips/reminders for working in a notebook:**\n",
    "\n",
    "- shift-enter to run a code-block\n",
    "- shift-tab to get quick information on a function\n",
    "- tab after a dot (`.`) to find methods\n",
    "\n",
    "## Lecture Content\n",
    "\n",
    "1. [Recap Basic mathematical operators](#Basic-mathematical-operators)\n",
    "2. [1D Numpy arrays](#1D-Numpy-arrays)\n",
    "3. [Numpy mathematical operators](#Mathematical-operators-in-Numpy)\n",
    "4. [2D Numpy Arrays](#2D-Numpy-Arrays)\n",
    "5. [Slicing and indexing arrays](#Slicing-and-Indexing)\n",
    "6. [Additional Readings](#Additional-Readings)\n",
    "7. [Answers to Exercises](#Answers-to-exercises)"
   ]
  },
  {
   "cell_type": "markdown",
   "metadata": {},
   "source": [
    "### Importing packages\n",
    "In the previous lecture we learned how to import Python packages. It is common to put all imports in the first code block of a Jupyter Notebook. This makes it easier to track which packages are used in the Notebooks."
   ]
  },
  {
   "cell_type": "code",
   "execution_count": null,
   "metadata": {},
   "outputs": [],
   "source": [
    "# Import packages here\n",
    "import numpy as np\n",
    "import matplotlib.pyplot as plt"
   ]
  },
  {
   "cell_type": "markdown",
   "metadata": {},
   "source": [
    "# Basic mathematical operators\n",
    "Pure Python, Python without importing any packages, provides a few common mathematical operators. In the previous lecture, the following operators were introduced:\n",
    "\n",
    "- addition: `+`\n",
    "- subtraction: `-`\n",
    "- division: `/`\n",
    "- multiplication: `*`\n",
    "- power: `**`\n",
    "\n",
    "For some phenomena $y$ that is caused by $x$, let's say we can calculate y from x using the following formula: \n",
    "\n",
    "$$y = \\frac{x}{-2} + x^2$$\n",
    "\n",
    "Now, let's say we want to calculate the `y` for `x=2`. We could use the following Python code to do this:"
   ]
  },
  {
   "cell_type": "code",
   "execution_count": null,
   "metadata": {},
   "outputs": [],
   "source": [
    "x = 2\n",
    "y = x / -2 + x ** 2\n",
    "print(y)"
   ]
  },
  {
   "cell_type": "markdown",
   "metadata": {},
   "source": [
    "That seems about correct. However, often we are interested to calculate `y` for a whole range of `x`'s. A rather intuitive approach when learning Python is to define a Python `list` with different values for `x`, and apply the formula above.\n",
    "\n",
    "(spoiler: this won't work, but why not?)"
   ]
  },
  {
   "cell_type": "code",
   "execution_count": null,
   "metadata": {},
   "outputs": [],
   "source": [
    "x = [0, 1, 2, 3, 4, 5]  # type(x): list\n",
    "y = (x / -2) + x ** 2"
   ]
  },
  {
   "cell_type": "markdown",
   "metadata": {},
   "source": [
    "# 1D Numpy arrays\n",
    "In the example above we tried to apply mathematical operators to perform calculations on a `list` and got an error message. This is because `list` is not meant for numerical calculations. For this purpose, we need to use Numpy Arrays. To create a Numpy Array from a Python list we can use the `np.array` function.\n",
    "\n",
    "### Numpy Array from List"
   ]
  },
  {
   "cell_type": "code",
   "execution_count": null,
   "metadata": {},
   "outputs": [],
   "source": [
    "x = [0, 1, 2, 3, 4, 5]  # This is a Python list\n",
    "x = np.array(x)"
   ]
  },
  {
   "cell_type": "code",
   "execution_count": null,
   "metadata": {},
   "outputs": [],
   "source": [
    "# What is the type of the variable xa?\n",
    "print(type(x))"
   ]
  },
  {
   "cell_type": "markdown",
   "metadata": {},
   "source": [
    "We can now use common mathematical operators to perform numerical calculations on a Numpy Array to obtain the value of y for a whole range of `x`'s. "
   ]
  },
  {
   "cell_type": "code",
   "execution_count": null,
   "metadata": {},
   "outputs": [],
   "source": [
    "y = x / -2 + x ** 2\n",
    "print(x, y)"
   ]
  },
  {
   "cell_type": "markdown",
   "metadata": {},
   "source": [
    "Or better, we make a plot of x versus y:"
   ]
  },
  {
   "cell_type": "code",
   "execution_count": null,
   "metadata": {},
   "outputs": [],
   "source": [
    "plt.plot(x, y)\n",
    "plt.xlabel(\"x\")\n",
    "plt.ylabel(\"y\")\n",
    "plt.legend([\"y = x/-2 + x ** 2\"])  # Note the brackets around the string!"
   ]
  },
  {
   "cell_type": "markdown",
   "metadata": {},
   "source": [
    "## Creating numpy arrays\n",
    "In the previous example, we transformed a lst to a Numpy Array. Fortunately, Numpy contains a number of functions that make it easy for us to create arrays. The following methods are particularly helpfull to memorize:\n",
    "\n",
    "- np.ones\n",
    "- np.zeros\n",
    "- np.full\n",
    "- np.arange\n",
    "- np.linspace\n",
    "\n",
    "### np.ones and np.zeros\n",
    "The first and the second method are pretty straightforward, as shown by the two examples below:"
   ]
  },
  {
   "cell_type": "code",
   "execution_count": null,
   "metadata": {},
   "outputs": [],
   "source": [
    "np.ones(10)"
   ]
  },
  {
   "cell_type": "code",
   "execution_count": null,
   "metadata": {},
   "outputs": [],
   "source": [
    "np.zeros(5)"
   ]
  },
  {
   "cell_type": "markdown",
   "metadata": {},
   "source": [
    "The first code block creates a 1x10 size array with ones and the second and 1x5 size array with zeros. Note how the values in these arrays are floats. This is the default and can be changed using the dtype setting if necessary (e.g., `np.ones(10, dtype=int)`). \n",
    "\n",
    "### np.full\n",
    "What if we want to create an array with another number than zero or one? This can be done with the `np.full` function, which takes one additional argument that determines the value of the number in the array."
   ]
  },
  {
   "cell_type": "code",
   "execution_count": null,
   "metadata": {},
   "outputs": [],
   "source": [
    "np.full(10, 36.0)"
   ]
  },
  {
   "cell_type": "code",
   "execution_count": null,
   "metadata": {},
   "outputs": [],
   "source": [
    "# We could also do the following:\n",
    "np.ones(10) * 36.0"
   ]
  },
  {
   "cell_type": "markdown",
   "metadata": {},
   "source": [
    "### np.arange\n",
    "In the previous lecture we already saw how to create arrays with increasing numbers using `np.arange`. Here is a little reminder of how this function works."
   ]
  },
  {
   "cell_type": "code",
   "execution_count": null,
   "metadata": {},
   "outputs": [],
   "source": [
    "np.arange(10)"
   ]
  },
  {
   "cell_type": "code",
   "execution_count": null,
   "metadata": {},
   "outputs": [],
   "source": [
    "start = 0\n",
    "stop = 11  # up to, not including\n",
    "step = 2\n",
    "np.arange(start, stop, step)"
   ]
  },
  {
   "cell_type": "markdown",
   "metadata": {},
   "source": [
    "### np.linspace\n",
    "`np.linspace` can be used to create an array of numbers with a linear spacing in between. For example, if we want to calculate $y$ for the domain $0 \\leq x \\leq 1$ and want to have 50 linearly spaced values in this domain, we can use this function. Note in the result how both 0 and 1 are included."
   ]
  },
  {
   "cell_type": "code",
   "execution_count": null,
   "metadata": {},
   "outputs": [],
   "source": [
    "np.linspace(0, 1, 11)  # 50 values from zero to one"
   ]
  },
  {
   "cell_type": "markdown",
   "metadata": {},
   "source": [
    "### Exercise 1: three ways to create a range of numbers\n",
    "Find three ways to define an array with numbers from 0 to 1, with a step size of 0.2. The zero and one should be included in the array."
   ]
  },
  {
   "cell_type": "code",
   "execution_count": null,
   "metadata": {},
   "outputs": [],
   "source": [
    "# Type your answer here"
   ]
  },
  {
   "cell_type": "markdown",
   "metadata": {},
   "source": [
    "[Answer](#Exercise-1)"
   ]
  },
  {
   "cell_type": "markdown",
   "metadata": {},
   "source": [
    "# Mathematical operators in Numpy\n",
    "Basic Python includes useful mathematical operators, but often we need more complicated functions to calculate for example the sine, cosine or the root of a number. Numpy contains a wide variety of such functions that also work well with Numpy arrays. Check the Numpy Documentation website for [more Numpy Math functions ](https://numpy.org/doc/1.18/reference/routines.math.html). A special case in Numpy is `np.pi`. This is actually not a function, but rather a `float` that defines $\\pi$ as a constant (3.14...).\n",
    "\n",
    "Here are a number of useful functions available from the Numpy package:\n",
    "- root: `np.sqrt`\n",
    "- sine: `np.sin`\n",
    "- cosine: `np.cos`\n",
    "- tangent: `np.tan`\n",
    "- exponent: `np.exp`\n",
    "- natural logarithm: `np.log`\n",
    "\n",
    "Let us explore the use of these functions a little. For x=0, we know that the cosine of x equals 1, and the sine 0."
   ]
  },
  {
   "cell_type": "code",
   "execution_count": null,
   "metadata": {},
   "outputs": [],
   "source": [
    "x = 0\n",
    "np.cos(x)"
   ]
  },
  {
   "cell_type": "code",
   "execution_count": null,
   "metadata": {},
   "outputs": [],
   "source": [
    "np.sin(0)"
   ]
  },
  {
   "cell_type": "markdown",
   "metadata": {},
   "source": [
    "if we want to calculate the value for one of these function for a number of values for x, we can simply provide an Numpy array with values. If the input data type is an array, the methods will also return an array."
   ]
  },
  {
   "cell_type": "code",
   "execution_count": null,
   "metadata": {},
   "outputs": [],
   "source": [
    "x = np.arange(0,11)\n",
    "np.exp(x)"
   ]
  },
  {
   "cell_type": "markdown",
   "metadata": {},
   "source": [
    "### Plot the sine and cosine in two different plots\n",
    "In the code below, we calculte the sine and cosine for $0 \\leq x \\leq \\pi$ and plot the result in two separate subplots. Create subplots (multiple plots in one figure) can be done using the `plt.subplots` function. The first argument if the number of rows, the second number of columns. The [subplot method](https://matplotlib.org/api/_as_gen/matplotlib.pyplot.subplots.html#matplotlib.pyplot.subplots) return two objects, the first is a Figure object, the second a list with the axes. Carefully study the code below and try to understand how the subplots are created.  "
   ]
  },
  {
   "cell_type": "code",
   "execution_count": null,
   "metadata": {},
   "outputs": [],
   "source": [
    "x = np.linspace(0, 2 * np.pi, 100)\n",
    "y1 = np.cos(4 * x)\n",
    "y2 = np.sin(4 * x)\n",
    "\n",
    "# Plot the data to check\n",
    "fig, axes = plt.subplots(2, 1, sharex=True)  # Create two subplots, plt.subplots returns a Figure object and a list with the axes\n",
    "\n",
    "axes[0].plot(x, y1, color=\"brown\")\n",
    "axes[1].plot(x, y2, color=\"green\")\n",
    "\n",
    "# # # Note the difference in how we set the Figure elements\n",
    "axes[0].set_ylabel(\"cosine(x)\")\n",
    "axes[1].set_ylabel(\"sine(x)\")\n",
    "axes[1].set_xlabel(\"x\")"
   ]
  },
  {
   "cell_type": "markdown",
   "metadata": {},
   "source": [
    "## Exercise 2: Calculate and Plot an exponential function \n",
    "In this exercise we will make a plot of the growth of bacteria over time. We assume that the growth occurs exponentially with the formula \n",
    "\n",
    "$$g(t) = b + \\text{e}^{at}$$ \n",
    "\n",
    "where $b$ is the initial number of bacteria, $a$ a parameter and $t$ the time. Perform the following tasks:\n",
    "\n",
    "- define variables for $b1=1$, $b2=10$, and $a=0.5$\n",
    "- define an array named t for time from 0 to 100 days with a timestep of 1 day\n",
    "- Calculate the growth $g(t)$ of the bacteria for both initial conditions ($b1$ and $b2$)\n",
    "- Plot the growth over time for both (two lines)"
   ]
  },
  {
   "cell_type": "code",
   "execution_count": null,
   "metadata": {},
   "outputs": [],
   "source": [
    "# Type your code here"
   ]
  },
  {
   "cell_type": "markdown",
   "metadata": {},
   "source": [
    "[Answer](#Exercise-2)"
   ]
  },
  {
   "cell_type": "markdown",
   "metadata": {},
   "source": [
    "# 2D Numpy Arrays\n",
    "So far we have considered 1-dimensional data, a single row (or column) with data values. It is not uncommon however in geosciences to deal with multidimensional data (e.g., 2D, 3D etcetera). As geoscientists we are used to think in multiple dimension, both spatially and as changes through time. For example we make can a 2D map of the land use of an area, a 3D image of the existence of different types of sediments that can change in the xy plane and with depth. A fourth dimension could for example be \"time\" and is very common in climate data. \n",
    "\n",
    "Numpy arrays can in principal be any N-dimensional shape. The first argument of the methods to create arrays determines the shape of the array. Let us look at some practical examples. "
   ]
  },
  {
   "cell_type": "code",
   "execution_count": null,
   "metadata": {},
   "outputs": [],
   "source": [
    "# Here we create a 2D array\n",
    "row = 2\n",
    "col = 5\n",
    "np.ones((row, col))  # Note how a Tuple is used here!"
   ]
  },
  {
   "cell_type": "code",
   "execution_count": null,
   "metadata": {},
   "outputs": [],
   "source": [
    "# Here we create a 3D array\n",
    "np.zeros((2, 2, 2))"
   ]
  },
  {
   "cell_type": "markdown",
   "metadata": {},
   "source": [
    "You can probably see the pattern now. The methods used to create an array (e.g., `np.ones`) can take a Tuple that defines the dimensions of the array that is being created. The length of that Tuple equals the number of dimensions (e.g., np.ones((1, 1, 1, 1)) is a 4D array. In this course we will only use 1D and 2D arrays, but the principles when dealing with higher dimensional arrays are the same.\n",
    "\n",
    "For 2D arrays we will use the following notation to describe the shape, N x M where N is the number of rows and M the number of columns. We will also refer to higher dimensional arrays as Matrices (or 1 matrix). To find the shape of a given matrix you can use the following syntax:"
   ]
  },
  {
   "cell_type": "code",
   "execution_count": null,
   "metadata": {},
   "outputs": [],
   "source": [
    "c = np.ones((5, 6))\n",
    "c.shape"
   ]
  },
  {
   "cell_type": "markdown",
   "metadata": {},
   "source": [
    "## Exercise 3: Create a 3x4 array with value 10\n",
    "Create an array of shape 3 x 4 where all values are 10.0 and print the result"
   ]
  },
  {
   "cell_type": "code",
   "execution_count": null,
   "metadata": {},
   "outputs": [],
   "source": [
    "# Type your answer here"
   ]
  },
  {
   "cell_type": "markdown",
   "metadata": {},
   "source": [
    "[Answer](#Exercise-3)"
   ]
  },
  {
   "cell_type": "markdown",
   "metadata": {},
   "source": [
    "# Slicing and Indexing\n",
    "In the previous lecture we saw how we could access values in a list using brackets (e.g., `a[0:10]`). Indexing Numpy arrays works very similar and follows the same pattern: `some_array[start:stop:step]`."
   ]
  },
  {
   "cell_type": "code",
   "execution_count": null,
   "metadata": {},
   "outputs": [],
   "source": [
    "numbers = np.arange(0,11)\n",
    "print(numbers)\n",
    "print(\"The length of the list numbers is:\", len(numbers))\n",
    "print(\"The first item in the numbers list is: \", numbers[0])"
   ]
  },
  {
   "cell_type": "code",
   "execution_count": null,
   "metadata": {},
   "outputs": [],
   "source": [
    "# Select the first three values in the list\n",
    "numbers[0:3]"
   ]
  },
  {
   "cell_type": "code",
   "execution_count": null,
   "metadata": {},
   "outputs": [],
   "source": [
    "# Select the last item in the list\n",
    "numbers[-1]"
   ]
  },
  {
   "cell_type": "markdown",
   "metadata": {},
   "source": [
    "The above statements show different ways to select data. The statement `numbers[0:3]` tells Python to select the items 0 to 3 (but not including 3). The statement `number[-1]` will return the last item of the array. The basic pattern to access a single value or a slice of the data is: `numbers[first:last:step]`. Can you figure out what the next code-block returns without running it?"
   ]
  },
  {
   "cell_type": "code",
   "execution_count": null,
   "metadata": {},
   "outputs": [],
   "source": [
    "# numbers[-1:2:-1]"
   ]
  },
  {
   "cell_type": "markdown",
   "metadata": {},
   "source": [
    "if you have a N-dimensional array, you can use multiple indices separated by a comma. Consider the example below"
   ]
  },
  {
   "cell_type": "code",
   "execution_count": null,
   "metadata": {},
   "outputs": [],
   "source": [
    "# We create a 2x2 array with values 1 to 4\n",
    "ab = np.array([[1,2],[3,4]])\n",
    "print(ab)"
   ]
  },
  {
   "cell_type": "code",
   "execution_count": null,
   "metadata": {},
   "outputs": [],
   "source": [
    "# Select the first row, and all columns (: is used to select all columns)\n",
    "ab[0, :]"
   ]
  },
  {
   "cell_type": "code",
   "execution_count": null,
   "metadata": {},
   "outputs": [],
   "source": [
    "# Select the second column\n",
    "ab[:, 1]"
   ]
  },
  {
   "cell_type": "markdown",
   "metadata": {},
   "source": [
    "# Changing values in an array and plotting the result\n",
    "Now that we know how to access certain data, we can for example change the values in an array. We do this by selecting a certain value in an array, and setting this with another value. For example:"
   ]
  },
  {
   "cell_type": "code",
   "execution_count": null,
   "metadata": {},
   "outputs": [],
   "source": [
    "xy = np.ones((2,2))\n",
    "print(xy)\n",
    "xy[0, 1] = 10.0\n",
    "print(xy)"
   ]
  },
  {
   "cell_type": "markdown",
   "metadata": {},
   "source": [
    "Above we changed the bottom right value of a 2x2 matrix to the value 10. We can use print statements to check the result, but this strategy becomes difficult as the size of our matrices increases. Plottig your data is a powerfull method to test if what you have done agrees with your expectations.\n",
    "\n",
    "To plot 2D data, matplotlib has a number of functions, for example `plt.imshow`, `plt.matshow` and `plt.pcolormesh`. Here we will use pcolormesh to plot the 2D-array defined earlier. "
   ]
  },
  {
   "cell_type": "code",
   "execution_count": null,
   "metadata": {},
   "outputs": [],
   "source": [
    "xy = np.ones((10,10))\n",
    "xy[3:5, 3:5] = 10\n",
    "xy[5:7, 5:7] = 5\n",
    "\n",
    "plt.pcolormesh(xy)\n",
    "plt.colorbar()\n",
    "plt.title(\"My Plot\")"
   ]
  },
  {
   "cell_type": "markdown",
   "metadata": {},
   "source": [
    "## A river in the desert\n",
    "Imagine we are creating a groundwater model for a desert area, with a river flowing through it. The river starts at the top left corner and from the middle flows to the east and finally south again. Let's draw a river flowing through a desert. \n",
    "\n",
    "We use the `cmap` (short for colormap) to give the plot a nice color. You can find all Matplotlib colormaps here: https://matplotlib.org/3.1.0/tutorials/colors/colormaps.html"
   ]
  },
  {
   "cell_type": "code",
   "execution_count": null,
   "metadata": {},
   "outputs": [],
   "source": [
    "xy = np.ones((11,10))\n",
    "xy[-1:5:-1, 0] = 0.0  # North to south\n",
    "xy[5, :] = 0.0  # To the east\n",
    "xy[0:5, -1] = 0.0\n",
    "\n",
    "# Make a plot\n",
    "plt.figure(figsize=(5,5))  # Define a figure first and set the size\n",
    "plt.pcolormesh(xy, cmap=\"plasma\")\n",
    "plt.colorbar()"
   ]
  },
  {
   "cell_type": "markdown",
   "metadata": {},
   "source": [
    "## Exercise 4: Create a mountain\n",
    "In this exercise we will try and create a mountain. \n",
    "\n",
    "- Create a 10x10 matrix with zeros\n",
    "- Try to create a square mountain with different height levels by assigning different values to groups of cells.\n",
    "- Add a colorbar, xlabel, ylabel and title"
   ]
  },
  {
   "cell_type": "code",
   "execution_count": null,
   "metadata": {},
   "outputs": [],
   "source": [
    "# Type your answer here"
   ]
  },
  {
   "cell_type": "markdown",
   "metadata": {},
   "source": [
    "[Answer](#Exercise-4)"
   ]
  },
  {
   "cell_type": "markdown",
   "metadata": {},
   "source": [
    "# Additional Readings\n",
    "Below a list of recommended additional readings on specific topics:\n",
    "- More explanation on Numpy: https://numpy.org/devdocs/user/absolute_beginners.html\n",
    "- More Numpy Math functions: https://numpy.org/doc/1.18/reference/routines.math.html\n",
    "\n"
   ]
  },
  {
   "cell_type": "markdown",
   "metadata": {},
   "source": [
    "# Answers to exercises\n",
    "\n",
    "### Exercise 1"
   ]
  },
  {
   "cell_type": "code",
   "execution_count": null,
   "metadata": {},
   "outputs": [],
   "source": [
    "# 1. from a python list\n",
    "a = np.array([0, 0.2, 0.4, 0.6, 0.8, 1.0])\n",
    "\n",
    "# 2. np.linspace\n",
    "b = np.linspace(0., 1, 6)\n",
    "\n",
    "# 3. np.arange()\n",
    "c = np.arange(0, 1.2, 0.2)\n",
    "\n",
    "# 4. np.arange() method 2\n",
    "d = np.arange(0, 12, 2) / 10\n",
    "\n",
    "# 5. python range and list\n",
    "e = np.array(list(range(6))) / 5\n",
    "\n",
    "print(a, \"\\n\", b, \"\\n\", c, \"\\n\", d, \"\\n\", e)"
   ]
  },
  {
   "cell_type": "markdown",
   "metadata": {},
   "source": [
    "### Exercise 2"
   ]
  },
  {
   "cell_type": "code",
   "execution_count": null,
   "metadata": {},
   "outputs": [],
   "source": [
    "# Set all variables\n",
    "t = np.arange(0, 100, 1)\n",
    "a = 0.5\n",
    "b1 = 1.0\n",
    "b2 = 10\n",
    "\n",
    "# Calculate the growth\n",
    "g1 = b1 + np.exp(a * x)\n",
    "g2 = b2 + np.exp(a * x)\n",
    "\n",
    "# Plot x against y\n",
    "plt.plot(t, g1, color=\"blue\")\n",
    "plt.plot(t, g2, marker='>', color=\"r\", linestyle=\" \")\n",
    "\n",
    "plt.xlabel(\"time [days]\")\n",
    "plt.ylabel('No. of Bacteria [-]')\n",
    "plt.legend([\"Model\", \"Model 2\"])\n",
    "plt.title(\"Plot of bacteria growth over time\");\n",
    "plt.savefig(\"figure.png\")"
   ]
  },
  {
   "cell_type": "markdown",
   "metadata": {},
   "source": [
    "## Exercise 3"
   ]
  },
  {
   "cell_type": "code",
   "execution_count": null,
   "metadata": {},
   "outputs": [],
   "source": [
    "a = np.full((3,4), 10.0)\n",
    "print(a)\n",
    "\n",
    "b = np.ones((3,4)) * 10.0\n",
    "print(a)"
   ]
  },
  {
   "cell_type": "markdown",
   "metadata": {},
   "source": [
    "# Exercise 4"
   ]
  },
  {
   "cell_type": "code",
   "execution_count": null,
   "metadata": {},
   "outputs": [],
   "source": [
    "h = np.zeros((10,10))\n",
    "\n",
    "h[1:9, 1:9] = 1\n",
    "h[2:8, 2:8] = 2\n",
    "h[3:7, 3:7] = 3\n",
    "h[4:6, 4:6] = 4\n",
    "\n",
    "plt.pcolormesh(h, cmap=\"RdYlGn\")\n",
    "plt.colorbar(label=\"height\")\n",
    "plt.ylabel(\"East-west\")\n",
    "plt.xlabel(\"North-South\")\n",
    "plt.title(\"Mountain\")\n",
    "plt.savefig(\"mountain.png\")"
   ]
  }
 ],
 "metadata": {
  "kernelspec": {
   "display_name": "Python 3",
   "language": "python",
   "name": "python3"
  },
  "language_info": {
   "codemirror_mode": {
    "name": "ipython",
    "version": 3
   },
   "file_extension": ".py",
   "mimetype": "text/x-python",
   "name": "python",
   "nbconvert_exporter": "python",
   "pygments_lexer": "ipython3",
   "version": "3.7.6"
  }
 },
 "nbformat": 4,
 "nbformat_minor": 4
}
