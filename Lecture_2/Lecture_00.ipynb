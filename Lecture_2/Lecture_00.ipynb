{
 "cells": [
  {
   "cell_type": "markdown",
   "metadata": {},
   "source": [
    "<img src=\"../NAWI_Graz_Logo.png\" align=\"right\" width=150>\n",
    "\n",
    "# Notebook 1: Basics of programming (1)\n",
    "\n",
    "*Developed by Johannes Haas and Raoul Collenteur*\n"
   ]
  },
  {
   "cell_type": "markdown",
   "metadata": {},
   "source": [
    "## This lecture will introduce some basic principles\n",
    "\n",
    "- jupyter notebooks\n",
    "- importing packages\n",
    "- Variables\n",
    "- data types\n",
    "- basic operators\n",
    "- plotting\n",
    "- reading errors\n",
    "\n",
    "### jupyter notebooks\n",
    "\n",
    "If you can read this, you have followed the instructions on how to open a jupyter notebook.\n",
    "\n",
    "Now double click (or click + enter) into this textbox. Can you figure out how to add another textbox below, for your comments on this lecture?\n",
    "\n"
   ]
  },
  {
   "cell_type": "markdown",
   "metadata": {},
   "source": [
    "#### What is a jupyter notebook?\n",
    "\n",
    "https://jupyter.org/:\n",
    "\n",
    "*\"The Jupyter Notebook is an open-source web application that allows you to create and share documents that contain live code, equations, visualizations and narrative text.\"*\n",
    "\n",
    "- formerly known as ipython notebooks\n",
    "- used to be exclusively for python, now also available for many more languages\n",
    "- JSON document\n",
    "\n",
    "Potential revolution for scientific publishing, or just quite useful for teaching?\n",
    "\n",
    "\n",
    "\n",
    "# Packages\n",
    "\n",
    "You can do everything with pure python, but a lot of things do require a lot of work. For example, try to calculate the square root of 2. Easiest way you maybe remember from school:\n",
    "$1 * 1 = 1; 2 * 2 = 4$\n",
    "OK, it's not those two. Maybe $1.5 * 1.5*$? Nope, that's 2.25. So, it must be smaller than 1.5. Maybe 1.3? Nope...\n"
   ]
  },
  {
   "cell_type": "code",
   "execution_count": 1,
   "metadata": {},
   "outputs": [
    {
     "data": {
      "text/plain": [
       "2"
      ]
     },
     "execution_count": 1,
     "metadata": {},
     "output_type": "execute_result"
    }
   ],
   "source": [
    "1*1"
   ]
  },
  {
   "cell_type": "code",
   "execution_count": null,
   "metadata": {},
   "outputs": [],
   "source": [
    "2*2"
   ]
  },
  {
   "cell_type": "markdown",
   "metadata": {},
   "source": [
    "What you probably want, is something like your calculator, where you simply press $\\sqrt 2$ and are presented with 1.414213... \n",
    "Luckily, such a thing already exists with `np.sqrt(2)`."
   ]
  },
  {
   "cell_type": "code",
   "execution_count": 3,
   "metadata": {},
   "outputs": [
    {
     "ename": "NameError",
     "evalue": "name 'np' is not defined",
     "output_type": "error",
     "traceback": [
      "\u001b[1;31m---------------------------------------------------------------------------\u001b[0m",
      "\u001b[1;31mNameError\u001b[0m                                 Traceback (most recent call last)",
      "\u001b[1;32m<ipython-input-3-bbf78ff053fc>\u001b[0m in \u001b[0;36m<module>\u001b[1;34m()\u001b[0m\n\u001b[1;32m----> 1\u001b[1;33m \u001b[0mnp\u001b[0m\u001b[1;33m.\u001b[0m\u001b[0msqrt\u001b[0m\u001b[1;33m(\u001b[0m\u001b[1;36m2\u001b[0m\u001b[1;33m)\u001b[0m\u001b[1;33m\u001b[0m\u001b[0m\n\u001b[0m",
      "\u001b[1;31mNameError\u001b[0m: name 'np' is not defined"
     ]
    }
   ],
   "source": [
    "np.sqrt(2)"
   ]
  },
  {
   "cell_type": "markdown",
   "metadata": {},
   "source": [
    "What happened here?\n",
    "We are asking to python to run a function it does not know!\n",
    "We need to import it first."
   ]
  },
  {
   "cell_type": "code",
   "execution_count": 9,
   "metadata": {},
   "outputs": [],
   "source": [
    "import numpy as np\n"
   ]
  },
  {
   "cell_type": "markdown",
   "metadata": {},
   "source": [
    "You could also give it another name, e.g. `import numpy as calc` or just import that specific function, e.g. `from numpy import sqrt as wurzel`, but unless you know what you are doing and have a good reason for that, you shouldn't!\n",
    "Most well known packages have a standard way they are imported, e.g. `import pandas as pd`.\n",
    "\n",
    "## What's a package?\n",
    "\n",
    "In the most simple terms, a package is a collection of functions. \n",
    "These can be either python functions or written in another language.\n",
    "Generally, they tend to be packed together under a common theme or use case.\n",
    "E.g. [NumPy](https://docs.scipy.org/doc/numpy/about.html) is a package with lots of functions for numerical operations (done in C) which is now the de-facto standard for much of scientific computation.\n",
    "Numpy is now also a part of [ScyPy](https://scipy.org/about.html) which has a few more functions for scientific computation.\n",
    "[Pandas](http://pandas.pydata.org/) is another widely used package which makes working with data frames much easier.\n",
    "And [Matplotlib](http://matplotlib.org/) is generally used to plot whatever the output of the above.\n",
    "\n",
    "And then there's about 172 536 more packages available on https://pypi.org/ for about any use case you can think of.\n",
    "So most of the issues you might face ar already solved.\n",
    "But: **Think before you install!**\n",
    "\n",
    "## Installing packages\n",
    "\n",
    "Anaconda (what we are using here) comes with the most common packages installed already.\n",
    "For things it does not yet have, there's an inbuilt package manager. \n",
    "You can search or install with `conda search PACKAGENAME` or `conda install PACKAGENAME`.\n",
    "If it's not on conda, pip will probably have it, with the same syntax.\n",
    "And if it's not on pip, the project will have an installation on how to install it from source.\n",
    "\n",
    "## Importing packages\n",
    "\n"
   ]
  },
  {
   "cell_type": "code",
   "execution_count": 7,
   "metadata": {},
   "outputs": [],
   "source": [
    "# See if you can import pandas and matplotlib in the standard way\n",
    "import matplotlib.pyplot as plt \n",
    "import pandas as pd "
   ]
  },
  {
   "cell_type": "markdown",
   "metadata": {},
   "source": [
    "Python will throw an error if you mistype something (e.g. `imp0rt`) or try to import a module that does not exist, but it will not care if you use a weird name!\n",
    "\n",
    "If you did the imports correctly, running the two cells below should give you some results:"
   ]
  },
  {
   "cell_type": "code",
   "execution_count": 5,
   "metadata": {
    "scrolled": true
   },
   "outputs": [
    {
     "data": {
      "image/png": "[encoded data removed]",
      "text/plain": [
       "<Figure size 432x288 with 1 Axes>"
      ]
     },
     "metadata": {
      "needs_background": "light"
     },
     "output_type": "display_data"
    }
   ],
   "source": [
    "plt.plot([0,1,2,3],[4,5,6,4])\n",
    "plt.show()"
   ]
  },
  {
   "cell_type": "code",
   "execution_count": 10,
   "metadata": {},
   "outputs": [
    {
     "name": "stdout",
     "output_type": "stream",
     "text": [
      "                   A         B         C         D\n",
      "2019-01-01  1.404668 -0.932166  1.386888 -0.453975\n",
      "2019-01-02 -0.999996  0.626157  2.102936 -1.121349\n",
      "2019-01-03 -0.582509 -0.674263  0.044244  1.220669\n",
      "2019-01-04  1.423813 -0.603711 -2.397415  0.988546\n",
      "2019-01-05  0.413796  0.237925 -0.316548 -0.133671\n",
      "2019-01-06 -1.820207 -1.580433  0.963832 -2.249333\n",
      "2019-01-07 -0.439711  0.211776  0.842453  0.644036\n",
      "2019-01-08  0.031406 -0.234306 -0.040396 -0.173052\n",
      "2019-01-09 -0.541796  2.539715 -0.598174  1.399919\n",
      "2019-01-10 -1.778739 -1.968846  0.200538  0.147897\n",
      "2019-01-11 -0.736256 -0.869626  1.329750 -0.741845\n",
      "2019-01-12 -0.218112  0.110309 -1.280337  0.619159\n"
     ]
    }
   ],
   "source": [
    "dates = pd.date_range('20190101', periods=12)\n",
    "myfirstdataframe = pd.DataFrame(np.random.randn(12, 4), index=dates, columns=list('ABCD'))\n",
    "print(myfirstdataframe)"
   ]
  },
  {
   "cell_type": "markdown",
   "metadata": {},
   "source": [
    "# Variables and datatypes\n",
    "\n"
   ]
  },
  {
   "cell_type": "code",
   "execution_count": 11,
   "metadata": {},
   "outputs": [],
   "source": [
    "a = 1\n",
    "b = 2\n",
    "c = 'Hallo'\n",
    "d = [1,2]\n",
    "#e = dict\n",
    "f = 0.6"
   ]
  },
  {
   "cell_type": "markdown",
   "metadata": {},
   "source": [
    "What can we do with that? What are these?"
   ]
  },
  {
   "cell_type": "code",
   "execution_count": 17,
   "metadata": {},
   "outputs": [
    {
     "name": "stdout",
     "output_type": "stream",
     "text": [
      "Variable           Type             Data/Info\n",
      "---------------------------------------------\n",
      "a                  int              1\n",
      "b                  int              2\n",
      "c                  str              Hallo\n",
      "d                  list             n=2\n",
      "dates              DatetimeIndex    DatetimeIndex(['2019-01-0<...>atetime64[ns]', freq='D')\n",
      "f                  float            0.5\n",
      "myfirstdataframe   DataFrame                           A     <...>10309 -1.280337  0.619159\n",
      "np                 module           <module 'numpy' from 'C:\\<...>ges\\\\numpy\\\\__init__.py'>\n",
      "pd                 module           <module 'pandas' from 'C:<...>es\\\\pandas\\\\__init__.py'>\n",
      "plt                module           <module 'matplotlib.pyplo<...>\\\\matplotlib\\\\pyplot.py'>\n"
     ]
    }
   ],
   "source": [
    "whos"
   ]
  },
  {
   "cell_type": "markdown",
   "metadata": {},
   "source": [
    "## Most common types:\n",
    "\n",
    "- integer\n",
    "- float\n",
    "- string\n",
    "- list\n",
    "- dict\n",
    "- dataframe\n",
    "- ndarray\n",
    "\n",
    "What do these types mean?\n",
    "\n",
    "The type defines what you can do with a variable, i.e. what you can store in it and what operations you can do.\n",
    "Float and integer can be easily switched back and forth and you can easily turn a number into a string:"
   ]
  },
  {
   "cell_type": "code",
   "execution_count": 40,
   "metadata": {},
   "outputs": [],
   "source": [
    "a_f = float(a)\n",
    "f_i = int(f)"
   ]
  },
  {
   "cell_type": "code",
   "execution_count": 42,
   "metadata": {},
   "outputs": [
    {
     "name": "stdout",
     "output_type": "stream",
     "text": [
      "1.0 1\n",
      "0.5 0\n"
     ]
    }
   ],
   "source": [
    "print(a_f, a)\n",
    "print (f, f_i)"
   ]
  },
  {
   "cell_type": "markdown",
   "metadata": {},
   "source": [
    "What's the problem with that?"
   ]
  },
  {
   "cell_type": "code",
   "execution_count": 22,
   "metadata": {},
   "outputs": [
    {
     "name": "stdout",
     "output_type": "stream",
     "text": [
      "1\n"
     ]
    }
   ],
   "source": [
    "# show round()"
   ]
  },
  {
   "cell_type": "code",
   "execution_count": 25,
   "metadata": {},
   "outputs": [
    {
     "name": "stdout",
     "output_type": "stream",
     "text": [
      "2\n"
     ]
    }
   ],
   "source": [
    "r_test = round(fl_test)\n",
    "print(r_test)"
   ]
  },
  {
   "cell_type": "code",
   "execution_count": null,
   "metadata": {},
   "outputs": [],
   "source": []
  }
 ],
 "metadata": {
  "kernelspec": {
   "display_name": "Python 3",
   "language": "python",
   "name": "python3"
  },
  "language_info": {
   "codemirror_mode": {
    "name": "ipython",
    "version": 3
   },
   "file_extension": ".py",
   "mimetype": "text/x-python",
   "name": "python",
   "nbconvert_exporter": "python",
   "pygments_lexer": "ipython3",
   "version": "3.7.0"
  }
 },
 "nbformat": 4,
 "nbformat_minor": 2
}

