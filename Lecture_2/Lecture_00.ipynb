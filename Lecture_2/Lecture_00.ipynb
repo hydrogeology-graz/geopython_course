{
 "cells": [
  {
   "cell_type": "markdown",
   "metadata": {},
   "source": [
    "<img src=\"../NAWI_Graz_Logo.png\" align=\"right\" width=150>\n",
    "\n",
    "# Notebook 1: Basics of programming (1)\n",
    "\n",
    "*Developed by Johannes Haas and Raoul Collenteur*\n",
    "\n",
    "*Parts based on [Exploratory computing with Python by Mark Bakker](http://mbakker7.github.io/exploratory_computing_with_python/)*\n",
    "\n"
   ]
  },
  {
   "cell_type": "markdown",
   "metadata": {},
   "source": [
    "## This lecture will introduce some basic principles\n",
    "\n",
    "- jupyter notebooks\n",
    "- importing packages\n",
    "- Variables\n",
    "- data types\n",
    "- basic operators\n",
    "- plotting\n",
    "- reading errors\n",
    "\n",
    "### jupyter notebooks\n",
    "\n",
    "If you can read this, you have followed the instructions on how to open a jupyter notebook.\n",
    "\n",
    "Now double click (or click + enter) into this textbox. Can you figure out how to add another textbox below, for your comments on this lecture?\n",
    "\n"
   ]
  },
  {
   "cell_type": "markdown",
   "metadata": {},
   "source": [
    "#### What is a jupyter notebook?\n",
    "\n",
    "https://jupyter.org/:\n",
    "\n",
    "*\"The Jupyter Notebook is an open-source web application that allows you to create and share documents that contain live code, equations, visualizations and narrative text.\"*\n",
    "\n",
    "- formerly known as ipython notebooks (see filename)\n",
    "- used to be exclusively for python, now also available for many more languages\n",
    "- JSON document\n",
    "\n",
    "Potential revolution for scientific publishing, or just quite useful for teaching?\n",
    "\n",
    "\n",
    "\n",
    "# Packages\n",
    "\n",
    "You can do everything with pure python, but a lot of things do require a lot of work. For example, try to calculate the square root of 2. Easiest way you maybe remember from school:\n",
    "$1 * 1 = 1; 2 * 2 = 4$\n",
    "OK, it's not those two. Maybe $1.5 * 1.5*$? Nope, that's 2.25. So, it must be smaller than 1.5. Maybe 1.3? Nope...\n"
   ]
  },
  {
   "cell_type": "code",
   "execution_count": 1,
   "metadata": {},
   "outputs": [
    {
     "data": {
      "text/plain": [
       "2"
      ]
     },
     "execution_count": 1,
     "metadata": {},
     "output_type": "execute_result"
    }
   ],
   "source": [
    "1*1"
   ]
  },
  {
   "cell_type": "code",
   "execution_count": null,
   "metadata": {},
   "outputs": [],
   "source": [
    "2*2"
   ]
  },
  {
   "cell_type": "markdown",
   "metadata": {},
   "source": [
    "What you probably want, is something like your calculator, where you simply press $\\sqrt 2$ and are presented with 1.414213... \n",
    "Luckily, such a thing already exists with `np.sqrt(2)`."
   ]
  },
  {
   "cell_type": "code",
   "execution_count": 3,
   "metadata": {},
   "outputs": [
    {
     "ename": "NameError",
     "evalue": "name 'np' is not defined",
     "output_type": "error",
     "traceback": [
      "\u001b[1;31m---------------------------------------------------------------------------\u001b[0m",
      "\u001b[1;31mNameError\u001b[0m                                 Traceback (most recent call last)",
      "\u001b[1;32m<ipython-input-3-bbf78ff053fc>\u001b[0m in \u001b[0;36m<module>\u001b[1;34m()\u001b[0m\n\u001b[1;32m----> 1\u001b[1;33m \u001b[0mnp\u001b[0m\u001b[1;33m.\u001b[0m\u001b[0msqrt\u001b[0m\u001b[1;33m(\u001b[0m\u001b[1;36m2\u001b[0m\u001b[1;33m)\u001b[0m\u001b[1;33m\u001b[0m\u001b[0m\n\u001b[0m",
      "\u001b[1;31mNameError\u001b[0m: name 'np' is not defined"
     ]
    }
   ],
   "source": [
    "np.sqrt(2)"
   ]
  },
  {
   "cell_type": "markdown",
   "metadata": {},
   "source": [
    "What happened here?\n",
    "We are asking to python to run a function it does not know!\n",
    "We need to import it first."
   ]
  },
  {
   "cell_type": "code",
   "execution_count": 24,
   "metadata": {},
   "outputs": [],
   "source": [
    "import numpy as np\n"
   ]
  },
  {
   "cell_type": "markdown",
   "metadata": {},
   "source": [
    "You could also give it another name, e.g. `import numpy as calc` or just import that specific function, e.g. `from numpy import sqrt as wurzel`, but unless you know what you are doing and have a good reason for that, you shouldn't!\n",
    "Most well known packages have a standard way they are imported, e.g. `import pandas as pd`.\n",
    "\n",
    "## What's a package?\n",
    "\n",
    "In the most simple terms, a package is a collection of functions. \n",
    "These can be either python functions or written in another language.\n",
    "Generally, they tend to be packed together under a common theme or use case.\n",
    "E.g. [NumPy](https://docs.scipy.org/doc/numpy/about.html) is a package with lots of functions for numerical operations (done in C) which is now the de-facto standard for much of scientific computation.\n",
    "Numpy is now also a part of [ScyPy](https://scipy.org/about.html) which has a few more functions for scientific computation.\n",
    "[Pandas](http://pandas.pydata.org/) is another widely used package which makes working with data frames much easier.\n",
    "And [Matplotlib](http://matplotlib.org/) is generally used to plot whatever the output of the above.\n",
    "\n",
    "And then there's about 172 536 more packages available on https://pypi.org/ for about any use case you can think of.\n",
    "So most of the issues you might face ar already solved.\n",
    "But: **Think before you install!**\n",
    "\n",
    "## Installing packages\n",
    "\n",
    "Anaconda (what we are using here) comes with the most common packages installed already.\n",
    "For things it does not yet have, there's an inbuilt package manager. \n",
    "You can search or install with `conda search PACKAGENAME` or `conda install PACKAGENAME`.\n",
    "If it's not on conda, pip will probably have it, with the same syntax.\n",
    "And if it's not on pip, the project will have an installation on how to install it from source.\n",
    "\n",
    "## Importing packages\n",
    "\n"
   ]
  },
  {
   "cell_type": "code",
   "execution_count": 25,
   "metadata": {},
   "outputs": [],
   "source": [
    "# See if you can import pandas and matplotlib in the standard way\n",
    "import matplotlib.pyplot as plt \n",
    "import pandas as pd "
   ]
  },
  {
   "cell_type": "markdown",
   "metadata": {},
   "source": [
    "Python will throw an error if you mistype something (e.g. `imp0rt`) or try to import a module that does not exist, but it will not care if you use a weird name!\n",
    "\n",
    "If you did the imports correctly, running the two cells below should give you some results:"
   ]
  },
  {
   "cell_type": "code",
   "execution_count": 5,
   "metadata": {
    "scrolled": true
   },
   "outputs": [
    {
     "data": {
      "image/png": "[encoded data removed]",
      "text/plain": [
       "<Figure size 432x288 with 1 Axes>"
      ]
     },
     "metadata": {
      "needs_background": "light"
     },
     "output_type": "display_data"
    }
   ],
   "source": [
    "plt.plot([0,1,2,3],[4,5,6,4])\n",
    "plt.show()"
   ]
  },
  {
   "cell_type": "code",
   "execution_count": 10,
   "metadata": {},
   "outputs": [
    {
     "name": "stdout",
     "output_type": "stream",
     "text": [
      "                   A         B         C         D\n",
      "2019-01-01  1.404668 -0.932166  1.386888 -0.453975\n",
      "2019-01-02 -0.999996  0.626157  2.102936 -1.121349\n",
      "2019-01-03 -0.582509 -0.674263  0.044244  1.220669\n",
      "2019-01-04  1.423813 -0.603711 -2.397415  0.988546\n",
      "2019-01-05  0.413796  0.237925 -0.316548 -0.133671\n",
      "2019-01-06 -1.820207 -1.580433  0.963832 -2.249333\n",
      "2019-01-07 -0.439711  0.211776  0.842453  0.644036\n",
      "2019-01-08  0.031406 -0.234306 -0.040396 -0.173052\n",
      "2019-01-09 -0.541796  2.539715 -0.598174  1.399919\n",
      "2019-01-10 -1.778739 -1.968846  0.200538  0.147897\n",
      "2019-01-11 -0.736256 -0.869626  1.329750 -0.741845\n",
      "2019-01-12 -0.218112  0.110309 -1.280337  0.619159\n"
     ]
    }
   ],
   "source": [
    "dates = pd.date_range('20190101', periods=12)\n",
    "myfirstdataframe = pd.DataFrame(np.random.randn(12, 4), index=dates, columns=list('ABCD'))\n",
    "print(myfirstdataframe)"
   ]
  },
  {
   "cell_type": "markdown",
   "metadata": {},
   "source": [
    "# Variables and datatypes\n",
    "\n"
   ]
  },
  {
   "cell_type": "code",
   "execution_count": 26,
   "metadata": {},
   "outputs": [],
   "source": [
    "a = 1\n",
    "b = 2.1\n",
    "c = 'Hallo'\n",
    "d = [1,2]\n",
    "e = {'var1':0.111, 'var2':0.222, 'var3':0.333}\n"
   ]
  },
  {
   "cell_type": "markdown",
   "metadata": {},
   "source": [
    "What can we do with that? What are these?"
   ]
  },
  {
   "cell_type": "code",
   "execution_count": 19,
   "metadata": {},
   "outputs": [
    {
     "data": {
      "text/plain": [
       "0.333"
      ]
     },
     "execution_count": 19,
     "metadata": {},
     "output_type": "execute_result"
    }
   ],
   "source": [
    "#play around with some standard math operators such as + and - and calculate the sum of all entries of e\n",
    "e['var1']+e['var2']"
   ]
  },
  {
   "cell_type": "markdown",
   "metadata": {},
   "source": [
    "## Most common types:\n",
    "\n",
    "- integer\n",
    "- float\n",
    "- string\n",
    "- list\n",
    "- dict\n",
    "- dataframe\n",
    "- ndarray\n",
    "\n",
    "What do these types mean?\n",
    "\n",
    "The type defines what you can do with a variable, i.e. what you can store in it and what operations you can do.\n",
    "Float and integer can be easily switched back and forth and you can easily turn a number into a string:"
   ]
  },
  {
   "cell_type": "code",
   "execution_count": 40,
   "metadata": {},
   "outputs": [],
   "source": [
    "a_f = float(a)\n",
    "f_i = int(f)"
   ]
  },
  {
   "cell_type": "code",
   "execution_count": 42,
   "metadata": {},
   "outputs": [
    {
     "name": "stdout",
     "output_type": "stream",
     "text": [
      "1.0 1\n",
      "0.5 0\n"
     ]
    }
   ],
   "source": [
    "print(a_f, a)\n",
    "print (f, f_i)"
   ]
  },
  {
   "cell_type": "markdown",
   "metadata": {},
   "source": [
    "What's the problem with that?"
   ]
  },
  {
   "cell_type": "code",
   "execution_count": 22,
   "metadata": {},
   "outputs": [
    {
     "name": "stdout",
     "output_type": "stream",
     "text": [
      "1\n"
     ]
    }
   ],
   "source": [
    "# show round()"
   ]
  },
  {
   "cell_type": "code",
   "execution_count": 25,
   "metadata": {},
   "outputs": [
    {
     "name": "stdout",
     "output_type": "stream",
     "text": [
      "2\n"
     ]
    }
   ],
   "source": [
    "r_test = round(fl_test)\n",
    "print(r_test)"
   ]
  },
  {
   "cell_type": "markdown",
   "metadata": {},
   "source": [
    "# Calculations and printing of results\n",
    "\n",
    "So far, you did some very easy operations and got the result immidiately from running the cell.\n",
    "Suppose you are not using a jupyter notebook or ipython, but you want to write `mymegacalculator.py` and run it in terminal/cmd.\n",
    "Saving the lines `import numpy as np` `np.sqrt(2)` as a `.py` file and running it, will not result in any output.\n",
    "\n",
    "How do we get our results?"
   ]
  },
  {
   "cell_type": "code",
   "execution_count": 29,
   "metadata": {},
   "outputs": [],
   "source": [
    "print?\n"
   ]
  },
  {
   "cell_type": "markdown",
   "metadata": {},
   "source": [
    "*Remember, print in python 2 works a bit different than in 3!*\n",
    "Write a line that prints `The square root of 2 is 1.414`"
   ]
  },
  {
   "cell_type": "code",
   "execution_count": 30,
   "metadata": {},
   "outputs": [
    {
     "name": "stdout",
     "output_type": "stream",
     "text": [
      "the square root of 2 is 1.4142135623730951\n"
     ]
    }
   ],
   "source": [
    "print('the square root of 2 is', np.sqrt(2))\n",
    "#todo: limit the decimals"
   ]
  },
  {
   "cell_type": "markdown",
   "metadata": {},
   "source": [
    "You can also use print for longer \"sentences\" by using the newline character `\\n` at the end of a string.\n",
    "Write a statement that prints\n",
    "\n",
    "    Earlier we have set a = 1,\n",
    "    b as 2.1 and c  as Hallo."
   ]
  },
  {
   "cell_type": "code",
   "execution_count": 37,
   "metadata": {},
   "outputs": [
    {
     "name": "stdout",
     "output_type": "stream",
     "text": [
      "Earlier we have set a = 1 \n",
      " and b as 2.1 and c as Hallo .\n"
     ]
    }
   ],
   "source": [
    "print('Earlier we have set a =', a,'\\n','and b as', b, 'and c as', c, '.')"
   ]
  },
  {
   "cell_type": "markdown",
   "metadata": {},
   "source": [
    "## User input\n",
    "\n",
    "Python can not only output results, but it also can receive user input. If we really want to make our  `mymegacalculator.py` app useable, it would be much better if it would ask us for the number we want to do something with, instead of just being able to output the result of `np.sqrt(2)`.\n",
    "\n",
    "So similar to `print()` we can use `input()` to ask for user input."
   ]
  },
  {
   "cell_type": "code",
   "execution_count": 44,
   "metadata": {},
   "outputs": [
    {
     "name": "stdout",
     "output_type": "stream",
     "text": [
      "write something!4\n"
     ]
    }
   ],
   "source": [
    "intest = input('write something!')"
   ]
  },
  {
   "cell_type": "markdown",
   "metadata": {},
   "source": [
    "Now use this to write a function that asks the user for a number, and prints out the square root of that number.\n",
    "However, there is a pitfall with `input()`.\n",
    "Play around with your test and what we discussed above for types to figure it out."
   ]
  },
  {
   "cell_type": "code",
   "execution_count": 47,
   "metadata": {},
   "outputs": [
    {
     "name": "stdout",
     "output_type": "stream",
     "text": [
      "what number do you want to root?4\n",
      "the square root of 4.0 is 2.0\n"
     ]
    }
   ],
   "source": [
    "datain = float(input('what number do you want to root?'))\n",
    "dataout = np.sqrt(datain)\n",
    "print('the square root of', datain, 'is', dataout)"
   ]
  },
  {
   "cell_type": "markdown",
   "metadata": {},
   "source": [
    "As with most things, there is not single correct way. Your little script is likely different from my example here. With a short thing like this, it does not really matter, but for bigger projects, there are of course many *wrong* ways that will add up.\n",
    "So if you are going to write something bigger, please remember the intro from the first lecture!"
   ]
  },
  {
   "cell_type": "code",
   "execution_count": 46,
   "metadata": {},
   "outputs": [
    {
     "data": {
      "text/plain": [
       "str"
      ]
     },
     "execution_count": 46,
     "metadata": {},
     "output_type": "execute_result"
    }
   ],
   "source": [
    "type(intest)"
   ]
  },
  {
   "cell_type": "markdown",
   "metadata": {},
   "source": [
    "# Reading errors\n",
    "\n",
    "Unless you always write perfect code on the first try, you will get errors thrown at you.\n",
    "Luckily, python tries to be helpful with them.\n",
    "Lets analyse a few errors we already have received in our short python career:\n",
    "\n",
    "    np.sqrt(2)\n",
    "    np.sqrt(2)\n",
    "    \n",
    "    ---------------------------------------------------------------------------\n",
    "    NameError                                 Traceback (most recent call last)\n",
    "    <ipython-input-3-bbf78ff053fc> in <module>()\n",
    "    ----> 1 np.sqrt(2)\n",
    "    \n",
    "    NameError: name 'np' is not defined\n",
    "\n"
   ]
  },
  {
   "cell_type": "code",
   "execution_count": 48,
   "metadata": {},
   "outputs": [
    {
     "ename": "ModuleNotFoundError",
     "evalue": "No module named 'numpi'",
     "output_type": "error",
     "traceback": [
      "\u001b[0;31m---------------------------------------------------------------------------\u001b[0m",
      "\u001b[0;31mModuleNotFoundError\u001b[0m                       Traceback (most recent call last)",
      "\u001b[0;32m<ipython-input-48-80b342cda547>\u001b[0m in \u001b[0;36m<module>\u001b[0;34m\u001b[0m\n\u001b[0;32m----> 1\u001b[0;31m \u001b[0;32mimport\u001b[0m \u001b[0mnumpi\u001b[0m \u001b[0;32mas\u001b[0m \u001b[0mnp\u001b[0m\u001b[0;34m\u001b[0m\u001b[0;34m\u001b[0m\u001b[0m\n\u001b[0m",
      "\u001b[0;31mModuleNotFoundError\u001b[0m: No module named 'numpi'"
     ]
    }
   ],
   "source": [
    "import numpi as np"
   ]
  },
  {
   "cell_type": "code",
   "execution_count": 50,
   "metadata": {},
   "outputs": [
    {
     "ename": "TypeError",
     "evalue": "unsupported operand type(s) for /: 'str' and 'float'",
     "output_type": "error",
     "traceback": [
      "\u001b[0;31m---------------------------------------------------------------------------\u001b[0m",
      "\u001b[0;31mTypeError\u001b[0m                                 Traceback (most recent call last)",
      "\u001b[0;32m<ipython-input-50-90b9c40f605f>\u001b[0m in \u001b[0;36m<module>\u001b[0;34m\u001b[0m\n\u001b[1;32m      1\u001b[0m \u001b[0mb\u001b[0m \u001b[0;34m=\u001b[0m \u001b[0;36m2.1\u001b[0m\u001b[0;34m\u001b[0m\u001b[0;34m\u001b[0m\u001b[0m\n\u001b[1;32m      2\u001b[0m \u001b[0mc\u001b[0m \u001b[0;34m=\u001b[0m \u001b[0;34m'Hallo'\u001b[0m\u001b[0;34m\u001b[0m\u001b[0;34m\u001b[0m\u001b[0m\n\u001b[0;32m----> 3\u001b[0;31m \u001b[0md\u001b[0m \u001b[0;34m=\u001b[0m \u001b[0mc\u001b[0m\u001b[0;34m/\u001b[0m\u001b[0mb\u001b[0m\u001b[0;34m\u001b[0m\u001b[0;34m\u001b[0m\u001b[0m\n\u001b[0m",
      "\u001b[0;31mTypeError\u001b[0m: unsupported operand type(s) for /: 'str' and 'float'"
     ]
    }
   ],
   "source": [
    "b = 2.1\n",
    "c = 'Hallo'\n",
    "d = c/b"
   ]
  },
  {
   "cell_type": "code",
   "execution_count": 51,
   "metadata": {},
   "outputs": [
    {
     "ename": "ValueError",
     "evalue": "could not convert string to float: 'Hallo'",
     "output_type": "error",
     "traceback": [
      "\u001b[0;31m---------------------------------------------------------------------------\u001b[0m",
      "\u001b[0;31mValueError\u001b[0m                                Traceback (most recent call last)",
      "\u001b[0;32m<ipython-input-51-b91b5674e50b>\u001b[0m in \u001b[0;36m<module>\u001b[0;34m\u001b[0m\n\u001b[0;32m----> 1\u001b[0;31m \u001b[0md\u001b[0m \u001b[0;34m=\u001b[0m \u001b[0mfloat\u001b[0m\u001b[0;34m(\u001b[0m\u001b[0mc\u001b[0m\u001b[0;34m)\u001b[0m\u001b[0;34m\u001b[0m\u001b[0;34m\u001b[0m\u001b[0m\n\u001b[0m",
      "\u001b[0;31mValueError\u001b[0m: could not convert string to float: 'Hallo'"
     ]
    }
   ],
   "source": [
    "d = float(c)"
   ]
  },
  {
   "cell_type": "code",
   "execution_count": 54,
   "metadata": {},
   "outputs": [
    {
     "ename": "TypeError",
     "evalue": "ufunc 'sqrt' not supported for the input types, and the inputs could not be safely coerced to any supported types according to the casting rule ''safe''",
     "output_type": "error",
     "traceback": [
      "\u001b[0;31m---------------------------------------------------------------------------\u001b[0m",
      "\u001b[0;31mTypeError\u001b[0m                                 Traceback (most recent call last)",
      "\u001b[0;32m<ipython-input-54-0c0dba76891b>\u001b[0m in \u001b[0;36m<module>\u001b[0;34m\u001b[0m\n\u001b[0;32m----> 1\u001b[0;31m \u001b[0mnp\u001b[0m\u001b[0;34m.\u001b[0m\u001b[0msqrt\u001b[0m\u001b[0;34m(\u001b[0m\u001b[0mc\u001b[0m\u001b[0;34m)\u001b[0m\u001b[0;34m\u001b[0m\u001b[0;34m\u001b[0m\u001b[0m\n\u001b[0m",
      "\u001b[0;31mTypeError\u001b[0m: ufunc 'sqrt' not supported for the input types, and the inputs could not be safely coerced to any supported types according to the casting rule ''safe''"
     ]
    }
   ],
   "source": [
    "np.sqrt(c)"
   ]
  },
  {
   "cell_type": "code",
   "execution_count": 58,
   "metadata": {
    "scrolled": true
   },
   "outputs": [
    {
     "ename": "SyntaxError",
     "evalue": "Missing parentheses in call to 'print'. Did you mean print('Hello')? (<ipython-input-58-fbd027aad335>, line 3)",
     "output_type": "error",
     "traceback": [
      "\u001b[0;36m  File \u001b[0;32m\"<ipython-input-58-fbd027aad335>\"\u001b[0;36m, line \u001b[0;32m3\u001b[0m\n\u001b[0;31m    print 'Hello'\u001b[0m\n\u001b[0m                ^\u001b[0m\n\u001b[0;31mSyntaxError\u001b[0m\u001b[0;31m:\u001b[0m Missing parentheses in call to 'print'. Did you mean print('Hello')?\n"
     ]
    }
   ],
   "source": [
    "j = 2\n",
    "k = 3\n",
    "print 'Hello'"
   ]
  },
  {
   "cell_type": "markdown",
   "metadata": {},
   "source": [
    "There's two types of errors, exceptions and syntax errors, and they are always structured quite similarly.\n",
    "You get the type, a traceback and a verbose description of the type.\n",
    "With larger programms, this can easily seem quite overwhelming, but once you understand the structure, it becomes quite readable.\n",
    "For the full, official explanation, please look [here](https://docs.python.org/3/tutorial/errors.html) and [here](https://docs.python.org/3/library/exceptions.html#bltin-exceptions).\n",
    "In short, an exception \"works\" like this:\n",
    "\n",
    "    ---------------------------------------------------------------------------\n",
    "    TypeError                                 Traceback (most recent call last)\n",
    "\n",
    "This part marks the beginning of the error message and gives you a first info about the type of error and tells you that it now shows a traceback. \n",
    "The [TypeError](https://docs.python.org/3/library/exceptions.html#TypeError) is *\\[an\\] exception \\[that\\] may be raised by user code to indicate that an attempted operation on an object is not supported, and is not meant to be.*\n",
    "So apparently, we did try to do something we are not supposed to.\n",
    "The following traceback tells us what exactly we did do wrong:\n",
    "\n",
    "    <ipython-input-50-90b9c40f605f> in <module>\n",
    "           1 b = 2.1\n",
    "           2 c = 'Hallo'\n",
    "     ----> 3 d = c/b\n",
    "     \n",
    "In case of a long statement, it shows the lines preceding the error, with line numbers in front and an arrow pointing to the offending line.\n",
    "For this small test case, this seems very obivous, but with larger programs, it is very helpful to know what line you need to look at.\n",
    "After this small code snippet, we get some additional information about the error:\n",
    "\n",
    "    TypeError: unsupported operand type(s) for /: 'str' and 'float'\n",
    "    \n",
    "Again, it tells us that we are suffering from a type error (error messages can be quite long, and it almost always is the bottom that's the most important, so it makes sense to repeat it!) and gives us some more information about it.\n",
    "Our TypeError in this case is quite easy. We tried to divide a string by a float, which obviously isn't going to work.\n",
    "So now we have to figure out what to do with this error. \n",
    "Was it a small typo and we fat-fingered `c` instead of `x`, which we might have assigned to `x = 32141` at some point?\n",
    "Or do we want to split `Hallo` in two parts, so that we would get `d = ['Hal','lo']`?\n",
    "\n",
    "For the first, it's a really easy fix.\n",
    "For the second, we will figure out how to to that in the **Working with text** section.\n",
    "\n",
    "A syntax error works a bit different:\n",
    "\n",
    "      File \"<ipython-input-58-fbd027aad335>\", line 3\n",
    "        print 'Hello'\n",
    "                    ^\n",
    "    SyntaxError: Missing parentheses in call to 'print'. Did you mean print('Hello')?\n",
    "\n",
    "But again, we get all the information we need to fix it.\n",
    "We do get the line number of the error, and we get an arrow pointing at the offender.\n",
    "However, you have to know that the error points at the statement that could not be executed, so the actual error occured before it.\n",
    "So in this example, `'Hello'` is fine, the problem lies in `print`.\n",
    "So a further info and the type of error is given in the last line of the error message, which is this special case (remember python 2 vs 3) is completely self explaining.\n",
    "\n",
    "\n",
    "## Exercise\n",
    "\n",
    "Fix the errors in the little script below.\n",
    "You should be able to solve all the issues with what you have learned so far.\n",
    "Remeber, you can add a new code box below the following line, to try out parts, or to get the `type()` info for some variables."
   ]
  },
  {
   "cell_type": "code",
   "execution_count": 59,
   "metadata": {},
   "outputs": [
    {
     "ename": "SyntaxError",
     "evalue": "invalid syntax (<ipython-input-59-c590a2e110ae>, line 1)",
     "output_type": "error",
     "traceback": [
      "\u001b[0;36m  File \u001b[0;32m\"<ipython-input-59-c590a2e110ae>\"\u001b[0;36m, line \u001b[0;32m1\u001b[0m\n\u001b[0;31m    print'This is a little error exercise', \\n 'Please correct the errors')\u001b[0m\n\u001b[0m                                         ^\u001b[0m\n\u001b[0;31mSyntaxError\u001b[0m\u001b[0;31m:\u001b[0m invalid syntax\n"
     ]
    }
   ],
   "source": [
    "print'This is a little error exercise', \\n 'Please correct the errors!')\n",
    "err_count = input('How many errors did you have to fix?')\n",
    "peop_count = input('How many people are in this course?')\n",
    "err_total = err_count * peop_count\n",
    "err_price = 1,2\n",
    "err_sum = err_total * err_price\n",
    "prinf('There's been a total of', err_total, 'errors fixed,')\n",
    "print('if each error was worth', err_price, 'Euros, that would make', err_sum, 'Euros')"
   ]
  },
  {
   "cell_type": "code",
   "execution_count": 69,
   "metadata": {},
   "outputs": [
    {
     "name": "stdout",
     "output_type": "stream",
     "text": [
      "This is a little error exercise \n",
      " Please correct the errors\n",
      "How many errors did you have to fix?6\n",
      "How many people are in this course?10\n",
      "there's been a total of 60.0 errors fixed\n",
      "if each error was worth 1.2 Euros, that would make 72.0 Euros\n"
     ]
    }
   ],
   "source": [
    "print('This is a little error exercise', '\\n', 'Please correct the errors')\n",
    "err_count = float(input('How many errors did you have to fix?'))\n",
    "peop_count = float(input('How many people are in this course?'))\n",
    "err_total = err_count * peop_count\n",
    "err_price = 1.2\n",
    "err_sum = err_total * err_price\n",
    "print('there\\'s been a total of', err_total, 'errors fixed')\n",
    "print('if each error was worth', err_price, 'Euros, that would make', err_sum, 'Euros')"
   ]
  },
  {
   "cell_type": "code",
   "execution_count": 67,
   "metadata": {},
   "outputs": [
    {
     "data": {
      "text/plain": [
       "(1, 2)"
      ]
     },
     "execution_count": 67,
     "metadata": {},
     "output_type": "execute_result"
    }
   ],
   "source": [
    "err_price"
   ]
  },
  {
   "cell_type": "code",
   "execution_count": null,
   "metadata": {},
   "outputs": [],
   "source": []
  },
  {
   "cell_type": "code",
   "execution_count": null,
   "metadata": {},
   "outputs": [],
   "source": []
  },
  {
   "cell_type": "code",
   "execution_count": null,
   "metadata": {},
   "outputs": [],
   "source": []
  }
 ],
 "metadata": {
  "kernelspec": {
   "display_name": "Python 3",
   "language": "python",
   "name": "python3"
  },
  "language_info": {
   "codemirror_mode": {
    "name": "ipython",
    "version": 3
   },
   "file_extension": ".py",
   "mimetype": "text/x-python",
   "name": "python",
   "nbconvert_exporter": "python",
   "pygments_lexer": "ipython3",
   "version": "3.7.2"
  }
 },
 "nbformat": 4,
 "nbformat_minor": 2
}
